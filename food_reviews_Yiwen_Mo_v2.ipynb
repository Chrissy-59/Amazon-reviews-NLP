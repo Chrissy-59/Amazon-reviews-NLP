{
 "cells": [
  {
   "cell_type": "code",
   "execution_count": null,
   "metadata": {
    "colab": {
     "base_uri": "https://localhost:8080/"
    },
    "id": "k6BQVbWdBrPQ",
    "outputId": "248aa469-b42f-4d55-b611-ee476206832f"
   },
   "outputs": [
    {
     "name": "stdout",
     "output_type": "stream",
     "text": [
      "Drive already mounted at /content/drive; to attempt to forcibly remount, call drive.mount(\"/content/drive\", force_remount=True).\n"
     ]
    }
   ],
   "source": [
    "from google.colab import drive\n",
    "drive.mount('/content/drive')"
   ]
  },
  {
   "cell_type": "code",
   "execution_count": null,
   "metadata": {
    "colab": {
     "base_uri": "https://localhost:8080/"
    },
    "id": "r31JYd4XBlTL",
    "outputId": "c1f6dff0-d6bf-46b2-a4ba-ea9b225d15a7"
   },
   "outputs": [
    {
     "name": "stdout",
     "output_type": "stream",
     "text": [
      "orginal wd: /content\n",
      "current wd: /content/drive/MyDrive/MIS 695 PROJECT\n"
     ]
    }
   ],
   "source": [
    "import os\n",
    "print('orginal wd:',os.getcwd())\n",
    "os.chdir('/content/drive/MyDrive/MIS 695 PROJECT')\n",
    "print('current wd:',os.getcwd())"
   ]
  },
  {
   "cell_type": "code",
   "execution_count": 4,
   "metadata": {
    "colab": {
     "base_uri": "https://localhost:8080/"
    },
    "id": "cpFRd9OpBfyU",
    "outputId": "e4e4cd9a-65ff-4b2b-db54-aa4e16739e53"
   },
   "outputs": [
    {
     "name": "stderr",
     "output_type": "stream",
     "text": [
      "[nltk_data] Downloading package stopwords to\n",
      "[nltk_data]     /Users/chrissymo/nltk_data...\n",
      "[nltk_data]   Package stopwords is already up-to-date!\n",
      "[nltk_data] Downloading package vader_lexicon to\n",
      "[nltk_data]     /Users/chrissymo/nltk_data...\n",
      "[nltk_data]   Package vader_lexicon is already up-to-date!\n"
     ]
    }
   ],
   "source": [
    "import pandas as pd\n",
    "import numpy as np\n",
    "import re\n",
    "import nltk\n",
    "nltk.download(\"stopwords\")\n",
    "from nltk.corpus import stopwords\n",
    "\n",
    "import matplotlib.pyplot as plt\n",
    "import plotly.express as ex\n",
    "import plotly.graph_objs as go\n",
    "import plotly.offline as pyo\n",
    "from plotly.subplots import make_subplots\n",
    "plt.rc('figure',figsize=(17,13))\n",
    "\n",
    "\n",
    "nltk.download('vader_lexicon')\n",
    "from nltk.sentiment.vader import SentimentIntensityAnalyzer as SIA\n",
    "from wordcloud import WordCloud,STOPWORDS\n"
   ]
  },
  {
   "cell_type": "code",
   "execution_count": null,
   "metadata": {
    "id": "US0rD8a9BfyW"
   },
   "outputs": [],
   "source": [
    "df = pd.read_csv('/content/drive/MyDrive/MIS 695 PROJECT/Food_Reviews.csv')"
   ]
  },
  {
   "cell_type": "code",
   "execution_count": null,
   "metadata": {
    "colab": {
     "base_uri": "https://localhost:8080/",
     "height": 206
    },
    "id": "AyStBkoJBfyW",
    "outputId": "59757ed8-c21d-42b7-df82-e1c8ddb05253"
   },
   "outputs": [
    {
     "data": {
      "text/html": [
       "<div>\n",
       "<style scoped>\n",
       "    .dataframe tbody tr th:only-of-type {\n",
       "        vertical-align: middle;\n",
       "    }\n",
       "\n",
       "    .dataframe tbody tr th {\n",
       "        vertical-align: top;\n",
       "    }\n",
       "\n",
       "    .dataframe thead th {\n",
       "        text-align: right;\n",
       "    }\n",
       "</style>\n",
       "<table border=\"1\" class=\"dataframe\">\n",
       "  <thead>\n",
       "    <tr style=\"text-align: right;\">\n",
       "      <th></th>\n",
       "      <th>Id</th>\n",
       "      <th>ProductId</th>\n",
       "      <th>UserId</th>\n",
       "      <th>ProfileName</th>\n",
       "      <th>HelpfulnessNumerator</th>\n",
       "      <th>HelpfulnessDenominator</th>\n",
       "      <th>Score</th>\n",
       "      <th>Time</th>\n",
       "      <th>Summary</th>\n",
       "      <th>Text</th>\n",
       "    </tr>\n",
       "  </thead>\n",
       "  <tbody>\n",
       "    <tr>\n",
       "      <th>0</th>\n",
       "      <td>1</td>\n",
       "      <td>B001E4KFG0</td>\n",
       "      <td>A3SGXH7AUHU8GW</td>\n",
       "      <td>delmartian</td>\n",
       "      <td>1</td>\n",
       "      <td>1</td>\n",
       "      <td>5</td>\n",
       "      <td>1303862400</td>\n",
       "      <td>Good Quality Dog Food</td>\n",
       "      <td>I have bought several of the Vitality canned d...</td>\n",
       "    </tr>\n",
       "    <tr>\n",
       "      <th>1</th>\n",
       "      <td>2</td>\n",
       "      <td>B00813GRG4</td>\n",
       "      <td>A1D87F6ZCVE5NK</td>\n",
       "      <td>dll pa</td>\n",
       "      <td>0</td>\n",
       "      <td>0</td>\n",
       "      <td>1</td>\n",
       "      <td>1346976000</td>\n",
       "      <td>Not as Advertised</td>\n",
       "      <td>Product arrived labeled as Jumbo Salted Peanut...</td>\n",
       "    </tr>\n",
       "    <tr>\n",
       "      <th>2</th>\n",
       "      <td>3</td>\n",
       "      <td>B000LQOCH0</td>\n",
       "      <td>ABXLMWJIXXAIN</td>\n",
       "      <td>Natalia Corres \"Natalia Corres\"</td>\n",
       "      <td>1</td>\n",
       "      <td>1</td>\n",
       "      <td>4</td>\n",
       "      <td>1219017600</td>\n",
       "      <td>\"Delight\" says it all</td>\n",
       "      <td>This is a confection that has been around a fe...</td>\n",
       "    </tr>\n",
       "    <tr>\n",
       "      <th>3</th>\n",
       "      <td>4</td>\n",
       "      <td>B000UA0QIQ</td>\n",
       "      <td>A395BORC6FGVXV</td>\n",
       "      <td>Karl</td>\n",
       "      <td>3</td>\n",
       "      <td>3</td>\n",
       "      <td>2</td>\n",
       "      <td>1307923200</td>\n",
       "      <td>Cough Medicine</td>\n",
       "      <td>If you are looking for the secret ingredient i...</td>\n",
       "    </tr>\n",
       "    <tr>\n",
       "      <th>4</th>\n",
       "      <td>5</td>\n",
       "      <td>B006K2ZZ7K</td>\n",
       "      <td>A1UQRSCLF8GW1T</td>\n",
       "      <td>Michael D. Bigham \"M. Wassir\"</td>\n",
       "      <td>0</td>\n",
       "      <td>0</td>\n",
       "      <td>5</td>\n",
       "      <td>1350777600</td>\n",
       "      <td>Great taffy</td>\n",
       "      <td>Great taffy at a great price.  There was a wid...</td>\n",
       "    </tr>\n",
       "  </tbody>\n",
       "</table>\n",
       "</div>"
      ],
      "text/plain": [
       "   Id  ...                                               Text\n",
       "0   1  ...  I have bought several of the Vitality canned d...\n",
       "1   2  ...  Product arrived labeled as Jumbo Salted Peanut...\n",
       "2   3  ...  This is a confection that has been around a fe...\n",
       "3   4  ...  If you are looking for the secret ingredient i...\n",
       "4   5  ...  Great taffy at a great price.  There was a wid...\n",
       "\n",
       "[5 rows x 10 columns]"
      ]
     },
     "execution_count": 34,
     "metadata": {},
     "output_type": "execute_result"
    }
   ],
   "source": [
    "df.head()"
   ]
  },
  {
   "cell_type": "code",
   "execution_count": null,
   "metadata": {
    "colab": {
     "base_uri": "https://localhost:8080/",
     "height": 293
    },
    "id": "3t98gro2Hxtw",
    "outputId": "ae222a94-4e87-4d59-8997-6368dd6134ad"
   },
   "outputs": [
    {
     "data": {
      "text/html": [
       "<div>\n",
       "<style scoped>\n",
       "    .dataframe tbody tr th:only-of-type {\n",
       "        vertical-align: middle;\n",
       "    }\n",
       "\n",
       "    .dataframe tbody tr th {\n",
       "        vertical-align: top;\n",
       "    }\n",
       "\n",
       "    .dataframe thead th {\n",
       "        text-align: right;\n",
       "    }\n",
       "</style>\n",
       "<table border=\"1\" class=\"dataframe\">\n",
       "  <thead>\n",
       "    <tr style=\"text-align: right;\">\n",
       "      <th></th>\n",
       "      <th>Id</th>\n",
       "      <th>ProductId</th>\n",
       "      <th>UserId</th>\n",
       "      <th>ProfileName</th>\n",
       "      <th>HelpfulnessNumerator</th>\n",
       "      <th>HelpfulnessDenominator</th>\n",
       "      <th>Score</th>\n",
       "      <th>Time</th>\n",
       "      <th>Summary</th>\n",
       "      <th>Text</th>\n",
       "      <th>date</th>\n",
       "    </tr>\n",
       "  </thead>\n",
       "  <tbody>\n",
       "    <tr>\n",
       "      <th>0</th>\n",
       "      <td>451855</td>\n",
       "      <td>B00004CXX9</td>\n",
       "      <td>AJH6LUC1UT1ON</td>\n",
       "      <td>The Phantom of the Opera</td>\n",
       "      <td>0</td>\n",
       "      <td>0</td>\n",
       "      <td>5</td>\n",
       "      <td>946857600</td>\n",
       "      <td>FANTASTIC!</td>\n",
       "      <td>Beetlejuice is an excellent and funny movie. K...</td>\n",
       "      <td>00-01-03</td>\n",
       "    </tr>\n",
       "    <tr>\n",
       "      <th>1</th>\n",
       "      <td>451949</td>\n",
       "      <td>B00004CXX9</td>\n",
       "      <td>A1048CYU0OV4O8</td>\n",
       "      <td>Judy L. Eans</td>\n",
       "      <td>2</td>\n",
       "      <td>2</td>\n",
       "      <td>5</td>\n",
       "      <td>947376000</td>\n",
       "      <td>GREAT</td>\n",
       "      <td>THIS IS ONE MOVIE THAT SHOULD BE IN YOUR MOVIE...</td>\n",
       "      <td>00-01-09</td>\n",
       "    </tr>\n",
       "    <tr>\n",
       "      <th>2</th>\n",
       "      <td>374422</td>\n",
       "      <td>B00004CI84</td>\n",
       "      <td>A1048CYU0OV4O8</td>\n",
       "      <td>Judy L. Eans</td>\n",
       "      <td>2</td>\n",
       "      <td>2</td>\n",
       "      <td>5</td>\n",
       "      <td>947376000</td>\n",
       "      <td>GREAT</td>\n",
       "      <td>THIS IS ONE MOVIE THAT SHOULD BE IN YOUR MOVIE...</td>\n",
       "      <td>00-01-09</td>\n",
       "    </tr>\n",
       "    <tr>\n",
       "      <th>3</th>\n",
       "      <td>230348</td>\n",
       "      <td>B00004RYGX</td>\n",
       "      <td>A1048CYU0OV4O8</td>\n",
       "      <td>Judy L. Eans</td>\n",
       "      <td>2</td>\n",
       "      <td>2</td>\n",
       "      <td>5</td>\n",
       "      <td>947376000</td>\n",
       "      <td>GREAT</td>\n",
       "      <td>THIS IS ONE MOVIE THAT SHOULD BE IN YOUR MOVIE...</td>\n",
       "      <td>00-01-09</td>\n",
       "    </tr>\n",
       "    <tr>\n",
       "      <th>4</th>\n",
       "      <td>374343</td>\n",
       "      <td>B00004CI84</td>\n",
       "      <td>A1B2IZU1JLZA6</td>\n",
       "      <td>Wes</td>\n",
       "      <td>19</td>\n",
       "      <td>23</td>\n",
       "      <td>1</td>\n",
       "      <td>948240000</td>\n",
       "      <td>WARNING: CLAMSHELL EDITION IS EDITED TV VERSION</td>\n",
       "      <td>I, myself always enjoyed this movie, it's very...</td>\n",
       "      <td>00-01-19</td>\n",
       "    </tr>\n",
       "  </tbody>\n",
       "</table>\n",
       "</div>"
      ],
      "text/plain": [
       "       Id  ...      date\n",
       "0  451855  ...  00-01-03\n",
       "1  451949  ...  00-01-09\n",
       "2  374422  ...  00-01-09\n",
       "3  230348  ...  00-01-09\n",
       "4  374343  ...  00-01-19\n",
       "\n",
       "[5 rows x 11 columns]"
      ]
     },
     "execution_count": 39,
     "metadata": {},
     "output_type": "execute_result"
    }
   ],
   "source": [
    "from datetime import datetime\n",
    "df['date'] = df['Time'].apply(lambda x : datetime.fromtimestamp(x).strftime('%y-%m-%d'))\n",
    "df = df.sort_values(by='date')\n",
    "df = df.reset_index().drop(columns=['index'])\n",
    "df.head()"
   ]
  },
  {
   "cell_type": "code",
   "execution_count": null,
   "metadata": {
    "colab": {
     "base_uri": "https://localhost:8080/",
     "height": 206
    },
    "id": "ssm-t8nzMFiO",
    "outputId": "42a73cc0-5ac2-4586-d498-7d247ee3f161"
   },
   "outputs": [
    {
     "data": {
      "text/html": [
       "<div>\n",
       "<style scoped>\n",
       "    .dataframe tbody tr th:only-of-type {\n",
       "        vertical-align: middle;\n",
       "    }\n",
       "\n",
       "    .dataframe tbody tr th {\n",
       "        vertical-align: top;\n",
       "    }\n",
       "\n",
       "    .dataframe thead th {\n",
       "        text-align: right;\n",
       "    }\n",
       "</style>\n",
       "<table border=\"1\" class=\"dataframe\">\n",
       "  <thead>\n",
       "    <tr style=\"text-align: right;\">\n",
       "      <th></th>\n",
       "      <th>date</th>\n",
       "      <th>ProductId</th>\n",
       "      <th>Score</th>\n",
       "      <th>Text</th>\n",
       "    </tr>\n",
       "  </thead>\n",
       "  <tbody>\n",
       "    <tr>\n",
       "      <th>0</th>\n",
       "      <td>00-01-03</td>\n",
       "      <td>B00004CXX9</td>\n",
       "      <td>5</td>\n",
       "      <td>Beetlejuice is an excellent and funny movie. K...</td>\n",
       "    </tr>\n",
       "    <tr>\n",
       "      <th>1</th>\n",
       "      <td>00-01-09</td>\n",
       "      <td>B00004CXX9</td>\n",
       "      <td>5</td>\n",
       "      <td>THIS IS ONE MOVIE THAT SHOULD BE IN YOUR MOVIE...</td>\n",
       "    </tr>\n",
       "    <tr>\n",
       "      <th>2</th>\n",
       "      <td>00-01-09</td>\n",
       "      <td>B00004CI84</td>\n",
       "      <td>5</td>\n",
       "      <td>THIS IS ONE MOVIE THAT SHOULD BE IN YOUR MOVIE...</td>\n",
       "    </tr>\n",
       "    <tr>\n",
       "      <th>3</th>\n",
       "      <td>00-01-09</td>\n",
       "      <td>B00004RYGX</td>\n",
       "      <td>5</td>\n",
       "      <td>THIS IS ONE MOVIE THAT SHOULD BE IN YOUR MOVIE...</td>\n",
       "    </tr>\n",
       "    <tr>\n",
       "      <th>4</th>\n",
       "      <td>00-01-19</td>\n",
       "      <td>B00004CI84</td>\n",
       "      <td>1</td>\n",
       "      <td>I, myself always enjoyed this movie, it's very...</td>\n",
       "    </tr>\n",
       "  </tbody>\n",
       "</table>\n",
       "</div>"
      ],
      "text/plain": [
       "       date  ...                                               Text\n",
       "0  00-01-03  ...  Beetlejuice is an excellent and funny movie. K...\n",
       "1  00-01-09  ...  THIS IS ONE MOVIE THAT SHOULD BE IN YOUR MOVIE...\n",
       "2  00-01-09  ...  THIS IS ONE MOVIE THAT SHOULD BE IN YOUR MOVIE...\n",
       "3  00-01-09  ...  THIS IS ONE MOVIE THAT SHOULD BE IN YOUR MOVIE...\n",
       "4  00-01-19  ...  I, myself always enjoyed this movie, it's very...\n",
       "\n",
       "[5 rows x 4 columns]"
      ]
     },
     "execution_count": 60,
     "metadata": {},
     "output_type": "execute_result"
    }
   ],
   "source": [
    "df2 = df[[\"date\",\"ProductId\",\"Score\",\"Text\"]]\n",
    "df2.head()"
   ]
  },
  {
   "cell_type": "code",
   "execution_count": null,
   "metadata": {
    "id": "ivN0iQFcE2Rf"
   },
   "outputs": [],
   "source": [
    "def clean_words(text):\n",
    "    # convert to lowercase\n",
    "    lowercase_text = text.lower()\n",
    "    # remove non letters\n",
    "    clean_text = re.sub(r\"[^a-zA-Z0-9]\", \" \", lowercase_text)\n",
    "    # return text\n",
    "    return clean_text"
   ]
  },
  {
   "cell_type": "code",
   "execution_count": null,
   "metadata": {
    "colab": {
     "base_uri": "https://localhost:8080/"
    },
    "id": "jaTQw4PbOBG9",
    "outputId": "533c641f-ba82-4d3a-e6a7-2dba92f41738"
   },
   "outputs": [
    {
     "name": "stderr",
     "output_type": "stream",
     "text": [
      "/usr/local/lib/python3.7/dist-packages/ipykernel_launcher.py:1: SettingWithCopyWarning:\n",
      "\n",
      "\n",
      "A value is trying to be set on a copy of a slice from a DataFrame.\n",
      "Try using .loc[row_indexer,col_indexer] = value instead\n",
      "\n",
      "See the caveats in the documentation: https://pandas.pydata.org/pandas-docs/stable/user_guide/indexing.html#returning-a-view-versus-a-copy\n",
      "\n"
     ]
    }
   ],
   "source": [
    "df2['clean_text'] = df2.Text.apply(lambda x : clean_words(x))\n",
    "df2.head()"
   ]
  },
  {
   "cell_type": "code",
   "execution_count": null,
   "metadata": {
    "colab": {
     "base_uri": "https://localhost:8080/",
     "height": 1000
    },
    "id": "ljJ1MVXFOUgL",
    "outputId": "0e78e64f-f2ee-4063-884f-a03789bb1040"
   },
   "outputs": [
    {
     "name": "stderr",
     "output_type": "stream",
     "text": [
      "/usr/local/lib/python3.7/dist-packages/pandas/core/generic.py:5170: SettingWithCopyWarning:\n",
      "\n",
      "\n",
      "A value is trying to be set on a copy of a slice from a DataFrame.\n",
      "Try using .loc[row_indexer,col_indexer] = value instead\n",
      "\n",
      "See the caveats in the documentation: https://pandas.pydata.org/pandas-docs/stable/user_guide/indexing.html#returning-a-view-versus-a-copy\n",
      "\n",
      "/usr/local/lib/python3.7/dist-packages/ipykernel_launcher.py:3: SettingWithCopyWarning:\n",
      "\n",
      "\n",
      "A value is trying to be set on a copy of a slice from a DataFrame.\n",
      "Try using .loc[row_indexer,col_indexer] = value instead\n",
      "\n",
      "See the caveats in the documentation: https://pandas.pydata.org/pandas-docs/stable/user_guide/indexing.html#returning-a-view-versus-a-copy\n",
      "\n",
      "/usr/local/lib/python3.7/dist-packages/ipykernel_launcher.py:4: SettingWithCopyWarning:\n",
      "\n",
      "\n",
      "A value is trying to be set on a copy of a slice from a DataFrame.\n",
      "Try using .loc[row_indexer,col_indexer] = value instead\n",
      "\n",
      "See the caveats in the documentation: https://pandas.pydata.org/pandas-docs/stable/user_guide/indexing.html#returning-a-view-versus-a-copy\n",
      "\n",
      "/usr/local/lib/python3.7/dist-packages/ipykernel_launcher.py:5: SettingWithCopyWarning:\n",
      "\n",
      "\n",
      "A value is trying to be set on a copy of a slice from a DataFrame.\n",
      "Try using .loc[row_indexer,col_indexer] = value instead\n",
      "\n",
      "See the caveats in the documentation: https://pandas.pydata.org/pandas-docs/stable/user_guide/indexing.html#returning-a-view-versus-a-copy\n",
      "\n",
      "/usr/local/lib/python3.7/dist-packages/ipykernel_launcher.py:6: SettingWithCopyWarning:\n",
      "\n",
      "\n",
      "A value is trying to be set on a copy of a slice from a DataFrame.\n",
      "Try using .loc[row_indexer,col_indexer] = value instead\n",
      "\n",
      "See the caveats in the documentation: https://pandas.pydata.org/pandas-docs/stable/user_guide/indexing.html#returning-a-view-versus-a-copy\n",
      "\n",
      "/usr/local/lib/python3.7/dist-packages/ipykernel_launcher.py:7: SettingWithCopyWarning:\n",
      "\n",
      "\n",
      "A value is trying to be set on a copy of a slice from a DataFrame.\n",
      "Try using .loc[row_indexer,col_indexer] = value instead\n",
      "\n",
      "See the caveats in the documentation: https://pandas.pydata.org/pandas-docs/stable/user_guide/indexing.html#returning-a-view-versus-a-copy\n",
      "\n",
      "/usr/local/lib/python3.7/dist-packages/pandas/core/frame.py:4174: SettingWithCopyWarning:\n",
      "\n",
      "\n",
      "A value is trying to be set on a copy of a slice from a DataFrame\n",
      "\n",
      "See the caveats in the documentation: https://pandas.pydata.org/pandas-docs/stable/user_guide/indexing.html#returning-a-view-versus-a-copy\n",
      "\n"
     ]
    },
    {
     "data": {
      "text/html": [
       "<div>\n",
       "<style scoped>\n",
       "    .dataframe tbody tr th:only-of-type {\n",
       "        vertical-align: middle;\n",
       "    }\n",
       "\n",
       "    .dataframe tbody tr th {\n",
       "        vertical-align: top;\n",
       "    }\n",
       "\n",
       "    .dataframe thead th {\n",
       "        text-align: right;\n",
       "    }\n",
       "</style>\n",
       "<table border=\"1\" class=\"dataframe\">\n",
       "  <thead>\n",
       "    <tr style=\"text-align: right;\">\n",
       "      <th></th>\n",
       "      <th>date</th>\n",
       "      <th>ProductId</th>\n",
       "      <th>Score</th>\n",
       "      <th>Text</th>\n",
       "      <th>clean_text</th>\n",
       "      <th>Positive Sentiment</th>\n",
       "      <th>Neutral Sentiment</th>\n",
       "      <th>Negative Sentiment</th>\n",
       "      <th>Compound</th>\n",
       "    </tr>\n",
       "  </thead>\n",
       "  <tbody>\n",
       "    <tr>\n",
       "      <th>0</th>\n",
       "      <td>00-01-03</td>\n",
       "      <td>B00004CXX9</td>\n",
       "      <td>5</td>\n",
       "      <td>Beetlejuice is an excellent and funny movie. K...</td>\n",
       "      <td>beetlejuice is an excellent and funny movie  k...</td>\n",
       "      <td>0.498</td>\n",
       "      <td>0.502</td>\n",
       "      <td>0.000</td>\n",
       "      <td>0.9829</td>\n",
       "    </tr>\n",
       "    <tr>\n",
       "      <th>1</th>\n",
       "      <td>00-01-09</td>\n",
       "      <td>B00004CXX9</td>\n",
       "      <td>5</td>\n",
       "      <td>THIS IS ONE MOVIE THAT SHOULD BE IN YOUR MOVIE...</td>\n",
       "      <td>this is one movie that should be in your movie...</td>\n",
       "      <td>0.142</td>\n",
       "      <td>0.858</td>\n",
       "      <td>0.000</td>\n",
       "      <td>0.4215</td>\n",
       "    </tr>\n",
       "    <tr>\n",
       "      <th>2</th>\n",
       "      <td>00-01-09</td>\n",
       "      <td>B00004CI84</td>\n",
       "      <td>5</td>\n",
       "      <td>THIS IS ONE MOVIE THAT SHOULD BE IN YOUR MOVIE...</td>\n",
       "      <td>this is one movie that should be in your movie...</td>\n",
       "      <td>0.142</td>\n",
       "      <td>0.858</td>\n",
       "      <td>0.000</td>\n",
       "      <td>0.4215</td>\n",
       "    </tr>\n",
       "    <tr>\n",
       "      <th>3</th>\n",
       "      <td>00-01-09</td>\n",
       "      <td>B00004RYGX</td>\n",
       "      <td>5</td>\n",
       "      <td>THIS IS ONE MOVIE THAT SHOULD BE IN YOUR MOVIE...</td>\n",
       "      <td>this is one movie that should be in your movie...</td>\n",
       "      <td>0.142</td>\n",
       "      <td>0.858</td>\n",
       "      <td>0.000</td>\n",
       "      <td>0.4215</td>\n",
       "    </tr>\n",
       "    <tr>\n",
       "      <th>4</th>\n",
       "      <td>00-01-19</td>\n",
       "      <td>B00004CI84</td>\n",
       "      <td>1</td>\n",
       "      <td>I, myself always enjoyed this movie, it's very...</td>\n",
       "      <td>i  myself always enjoyed this movie  it s very...</td>\n",
       "      <td>0.162</td>\n",
       "      <td>0.743</td>\n",
       "      <td>0.095</td>\n",
       "      <td>0.6236</td>\n",
       "    </tr>\n",
       "  </tbody>\n",
       "</table>\n",
       "</div>"
      ],
      "text/plain": [
       "       date   ProductId  Score  ... Neutral Sentiment Negative Sentiment  Compound\n",
       "0  00-01-03  B00004CXX9      5  ...             0.502              0.000    0.9829\n",
       "1  00-01-09  B00004CXX9      5  ...             0.858              0.000    0.4215\n",
       "2  00-01-09  B00004CI84      5  ...             0.858              0.000    0.4215\n",
       "3  00-01-09  B00004RYGX      5  ...             0.858              0.000    0.4215\n",
       "4  00-01-19  B00004CI84      1  ...             0.743              0.095    0.6236\n",
       "\n",
       "[5 rows x 9 columns]"
      ]
     },
     "execution_count": 71,
     "metadata": {},
     "output_type": "execute_result"
    }
   ],
   "source": [
    "df2.clean_text = df2.clean_text.astype(str)\n",
    "sid = SIA()\n",
    "df2['sentiments']           = df2['clean_text'].apply(lambda x: sid.polarity_scores(' '.join(re.findall(r'\\w+',x.lower()))))\n",
    "df2['Positive Sentiment']   = df2['sentiments'].apply(lambda x: x['pos']) \n",
    "df2['Neutral Sentiment']    = df2['sentiments'].apply(lambda x: x['neu'])\n",
    "df2['Negative Sentiment']   = df2['sentiments'].apply(lambda x: x['neg'])\n",
    "df2['Compound']             = df2['sentiments'].apply(lambda x: x['compound'])\n",
    "df2.drop(columns=['sentiments'],inplace=True)\n",
    "\n",
    "df2.head()"
   ]
  },
  {
   "cell_type": "code",
   "execution_count": null,
   "metadata": {
    "id": "uBnFE3dyFO2C"
   },
   "outputs": [],
   "source": [
    "df2.to_csv('food_reviews_sentiment_score.csv',index=False)"
   ]
  },
  {
   "cell_type": "code",
   "execution_count": null,
   "metadata": {
    "colab": {
     "base_uri": "https://localhost:8080/"
    },
    "id": "qwDR6GMTBfyY",
    "outputId": "7fd53a2b-c955-4c23-e391-e58ddc0b4838"
   },
   "outputs": [
    {
     "data": {
      "text/plain": [
       "568454"
      ]
     },
     "execution_count": 75,
     "metadata": {},
     "output_type": "execute_result"
    }
   ],
   "source": [
    "len(df2)"
   ]
  },
  {
   "cell_type": "code",
   "execution_count": null,
   "metadata": {
    "id": "A_GdLb5HxiTM"
   },
   "outputs": [],
   "source": [
    "df2 = pd.read_csv('food_reviews_sentiment_score.csv')"
   ]
  },
  {
   "cell_type": "code",
   "execution_count": null,
   "metadata": {
    "colab": {
     "base_uri": "https://localhost:8080/",
     "height": 351
    },
    "id": "K0ojHicOTjAu",
    "outputId": "af8ab063-2327-4b6e-81c6-67be349e0a23"
   },
   "outputs": [
    {
     "data": {
      "text/plain": [
       "<matplotlib.axes._subplots.AxesSubplot at 0x7f78a4e218d0>"
      ]
     },
     "execution_count": 10,
     "metadata": {},
     "output_type": "execute_result"
    },
    {
     "data": {
      "image/png": "[encoded data removed]",
      "text/plain": [
       "<Figure size 720x360 with 1 Axes>"
      ]
     },
     "metadata": {},
     "output_type": "display_data"
    }
   ],
   "source": [
    "df_compound = df2.groupby(by='Compound').count()\n",
    "counts = df_compound['ProductId']\n",
    "counts.to_frame().plot(figsize = (10,5))"
   ]
  },
  {
   "cell_type": "code",
   "execution_count": null,
   "metadata": {
    "id": "WVsfXfi3cnuT"
   },
   "outputs": [],
   "source": [
    "df3 = df2.sample(n = 100000)"
   ]
  },
  {
   "cell_type": "code",
   "execution_count": null,
   "metadata": {
    "colab": {
     "base_uri": "https://localhost:8080/"
    },
    "id": "XXP_yENZcvyC",
    "outputId": "687b6ccb-3eef-454c-d39b-91f5de8f1cad"
   },
   "outputs": [
    {
     "data": {
      "text/plain": [
       "Positive    88875\n",
       "Negative     9958\n",
       "Neutral      1167\n",
       "Name: Polarity, dtype: int64"
      ]
     },
     "execution_count": 113,
     "metadata": {},
     "output_type": "execute_result"
    }
   ],
   "source": [
    "df3.Polarity.value_counts()"
   ]
  },
  {
   "cell_type": "code",
   "execution_count": null,
   "metadata": {
    "colab": {
     "base_uri": "https://localhost:8080/",
     "height": 458
    },
    "id": "42IPNIOsZJZc",
    "outputId": "fe54fa54-6a4b-40ce-d0df-b2c52e09671d"
   },
   "outputs": [
    {
     "data": {
      "text/plain": [
       "<seaborn.axisgrid.JointGrid at 0x7f10069c4e90>"
      ]
     },
     "execution_count": 114,
     "metadata": {},
     "output_type": "execute_result"
    },
    {
     "data": {
      "image/png": "[encoded data removed]",
      "text/plain": [
       "<Figure size 432x432 with 3 Axes>"
      ]
     },
     "metadata": {},
     "output_type": "display_data"
    }
   ],
   "source": [
    "sns.jointplot(data=df3, x='Positive Sentiment', y='Negative Sentiment', kind=\"kde\")"
   ]
  },
  {
   "cell_type": "code",
   "execution_count": null,
   "metadata": {
    "colab": {
     "base_uri": "https://localhost:8080/",
     "height": 458
    },
    "id": "O93o2tH9VwEA",
    "outputId": "11d280dc-38cd-4333-9183-ce1691343bad"
   },
   "outputs": [
    {
     "data": {
      "text/plain": [
       "<seaborn.axisgrid.JointGrid at 0x7f10a226ca10>"
      ]
     },
     "execution_count": 115,
     "metadata": {},
     "output_type": "execute_result"
    },
    {
     "data": {
      "image/png": "[encoded data removed]",
      "text/plain": [
       "<Figure size 432x432 with 3 Axes>"
      ]
     },
     "metadata": {},
     "output_type": "display_data"
    }
   ],
   "source": [
    "sns.jointplot(data=df3, x='Positive Sentiment', y='Compound', kind=\"kde\")"
   ]
  },
  {
   "cell_type": "code",
   "execution_count": null,
   "metadata": {
    "id": "05nnjOE-ffvN"
   },
   "outputs": [],
   "source": [
    "polarity2 = []\n",
    "for i in range(len(df2)):\n",
    "    if df2['Negative Sentiment'][i] > 0.06:\n",
    "      re = 'Negative'\n",
    "    elif df2['Positive Sentiment'][i] > 0.3:\n",
    "      re = 'Positive'\n",
    "    else:\n",
    "      re = 'Neutral' \n",
    "    polarity2.append(re)"
   ]
  },
  {
   "cell_type": "code",
   "execution_count": null,
   "metadata": {
    "id": "6bcSRNN9xUsi"
   },
   "outputs": [],
   "source": [
    "df2['Polarity2'] = polarity2"
   ]
  },
  {
   "cell_type": "code",
   "execution_count": null,
   "metadata": {
    "colab": {
     "base_uri": "https://localhost:8080/"
    },
    "id": "5j1UsLmWxZhp",
    "outputId": "34af8514-a24a-49a8-a41c-efa9050114f4"
   },
   "outputs": [
    {
     "data": {
      "text/plain": [
       "Neutral     325791\n",
       "Negative    160868\n",
       "Positive     81795\n",
       "Name: Polarity2, dtype: int64"
      ]
     },
     "execution_count": 16,
     "metadata": {},
     "output_type": "execute_result"
    }
   ],
   "source": [
    "df2['Polarity2'].value_counts()"
   ]
  },
  {
   "cell_type": "code",
   "execution_count": null,
   "metadata": {
    "id": "zA_O9zVMBfyc",
    "scrolled": true
   },
   "outputs": [],
   "source": [
    "polarity = []\n",
    "for i in range(len(df2)):\n",
    "    if df2['Compound'][i] > 0.05:\n",
    "      re = 'Positive'\n",
    "    elif df2['Compound'][i] < -0.05:\n",
    "      re = 'Negative'\n",
    "    else:\n",
    "      re = 'Neutral' \n",
    "    polarity.append(re)"
   ]
  },
  {
   "cell_type": "code",
   "execution_count": null,
   "metadata": {
    "colab": {
     "base_uri": "https://localhost:8080/"
    },
    "id": "L2y0qNFjBfyc",
    "outputId": "00e3de63-eebf-4d13-f926-887e190d01ca"
   },
   "outputs": [
    {
     "data": {
      "text/plain": [
       "Positive    502817\n",
       "Negative     54015\n",
       "Neutral      11622\n",
       "Name: Polarity, dtype: int64"
      ]
     },
     "execution_count": 18,
     "metadata": {},
     "output_type": "execute_result"
    }
   ],
   "source": [
    "df2['Polarity'] = polarity\n",
    "df2['Polarity'].value_counts()"
   ]
  },
  {
   "cell_type": "code",
   "execution_count": null,
   "metadata": {
    "id": "YV-kCGqxBfyc"
   },
   "outputs": [],
   "source": [
    "df2.to_csv('food_reviews_polarity.csv',index=False)"
   ]
  },
  {
   "cell_type": "code",
   "execution_count": 5,
   "metadata": {
    "colab": {
     "base_uri": "https://localhost:8080/",
     "height": 606
    },
    "id": "zyaVoB-G0sEk",
    "outputId": "8e668530-3ac4-43a3-e370-58cd9fe94059"
   },
   "outputs": [
    {
     "data": {
      "text/html": [
       "<div>\n",
       "<style scoped>\n",
       "    .dataframe tbody tr th:only-of-type {\n",
       "        vertical-align: middle;\n",
       "    }\n",
       "\n",
       "    .dataframe tbody tr th {\n",
       "        vertical-align: top;\n",
       "    }\n",
       "\n",
       "    .dataframe thead th {\n",
       "        text-align: right;\n",
       "    }\n",
       "</style>\n",
       "<table border=\"1\" class=\"dataframe\">\n",
       "  <thead>\n",
       "    <tr style=\"text-align: right;\">\n",
       "      <th></th>\n",
       "      <th>date</th>\n",
       "      <th>ProductId</th>\n",
       "      <th>Score</th>\n",
       "      <th>Text</th>\n",
       "      <th>clean_text</th>\n",
       "      <th>Positive Sentiment</th>\n",
       "      <th>Neutral Sentiment</th>\n",
       "      <th>Negative Sentiment</th>\n",
       "      <th>Compound</th>\n",
       "      <th>Polarity</th>\n",
       "    </tr>\n",
       "  </thead>\n",
       "  <tbody>\n",
       "    <tr>\n",
       "      <th>0</th>\n",
       "      <td>00-01-03</td>\n",
       "      <td>B00004CXX9</td>\n",
       "      <td>5</td>\n",
       "      <td>Beetlejuice is an excellent and funny movie. K...</td>\n",
       "      <td>beetlejuice is an excellent and funny movie  k...</td>\n",
       "      <td>0.498</td>\n",
       "      <td>0.502</td>\n",
       "      <td>0.000</td>\n",
       "      <td>0.9829</td>\n",
       "      <td>Positive</td>\n",
       "    </tr>\n",
       "    <tr>\n",
       "      <th>1</th>\n",
       "      <td>00-01-09</td>\n",
       "      <td>B00004CXX9</td>\n",
       "      <td>5</td>\n",
       "      <td>THIS IS ONE MOVIE THAT SHOULD BE IN YOUR MOVIE...</td>\n",
       "      <td>this is one movie that should be in your movie...</td>\n",
       "      <td>0.142</td>\n",
       "      <td>0.858</td>\n",
       "      <td>0.000</td>\n",
       "      <td>0.4215</td>\n",
       "      <td>Positive</td>\n",
       "    </tr>\n",
       "    <tr>\n",
       "      <th>2</th>\n",
       "      <td>00-01-19</td>\n",
       "      <td>B00004CI84</td>\n",
       "      <td>1</td>\n",
       "      <td>I, myself always enjoyed this movie, it's very...</td>\n",
       "      <td>i  myself always enjoyed this movie  it s very...</td>\n",
       "      <td>0.162</td>\n",
       "      <td>0.743</td>\n",
       "      <td>0.095</td>\n",
       "      <td>0.6236</td>\n",
       "      <td>Positive</td>\n",
       "    </tr>\n",
       "    <tr>\n",
       "      <th>3</th>\n",
       "      <td>00-01-24</td>\n",
       "      <td>B00002N8SM</td>\n",
       "      <td>5</td>\n",
       "      <td>I bought a few of these after my apartment was...</td>\n",
       "      <td>i bought a few of these after my apartment was...</td>\n",
       "      <td>0.052</td>\n",
       "      <td>0.832</td>\n",
       "      <td>0.116</td>\n",
       "      <td>-0.6592</td>\n",
       "      <td>Negative</td>\n",
       "    </tr>\n",
       "    <tr>\n",
       "      <th>4</th>\n",
       "      <td>00-02-26</td>\n",
       "      <td>B00004RYGX</td>\n",
       "      <td>4</td>\n",
       "      <td>What happens when you say his name three times...</td>\n",
       "      <td>what happens when you say his name three times...</td>\n",
       "      <td>0.114</td>\n",
       "      <td>0.825</td>\n",
       "      <td>0.061</td>\n",
       "      <td>0.9398</td>\n",
       "      <td>Positive</td>\n",
       "    </tr>\n",
       "    <tr>\n",
       "      <th>...</th>\n",
       "      <td>...</td>\n",
       "      <td>...</td>\n",
       "      <td>...</td>\n",
       "      <td>...</td>\n",
       "      <td>...</td>\n",
       "      <td>...</td>\n",
       "      <td>...</td>\n",
       "      <td>...</td>\n",
       "      <td>...</td>\n",
       "      <td>...</td>\n",
       "    </tr>\n",
       "    <tr>\n",
       "      <th>393574</th>\n",
       "      <td>12-10-26</td>\n",
       "      <td>B000LNC3YM</td>\n",
       "      <td>5</td>\n",
       "      <td>The tea leaves arrived in perfect condition wi...</td>\n",
       "      <td>the tea leaves arrived in perfect condition wi...</td>\n",
       "      <td>0.113</td>\n",
       "      <td>0.786</td>\n",
       "      <td>0.101</td>\n",
       "      <td>-0.3506</td>\n",
       "      <td>Negative</td>\n",
       "    </tr>\n",
       "    <tr>\n",
       "      <th>393575</th>\n",
       "      <td>99-10-08</td>\n",
       "      <td>0006641040</td>\n",
       "      <td>5</td>\n",
       "      <td>this witty little book makes my son laugh at l...</td>\n",
       "      <td>this witty little book makes my son laugh at l...</td>\n",
       "      <td>0.100</td>\n",
       "      <td>0.875</td>\n",
       "      <td>0.024</td>\n",
       "      <td>0.7845</td>\n",
       "      <td>Positive</td>\n",
       "    </tr>\n",
       "    <tr>\n",
       "      <th>393576</th>\n",
       "      <td>99-10-25</td>\n",
       "      <td>0006641040</td>\n",
       "      <td>5</td>\n",
       "      <td>I can remember seeing the show when it aired o...</td>\n",
       "      <td>i can remember seeing the show when it aired o...</td>\n",
       "      <td>0.000</td>\n",
       "      <td>1.000</td>\n",
       "      <td>0.000</td>\n",
       "      <td>0.0000</td>\n",
       "      <td>Neutral</td>\n",
       "    </tr>\n",
       "    <tr>\n",
       "      <th>393577</th>\n",
       "      <td>99-12-02</td>\n",
       "      <td>B00004CXX9</td>\n",
       "      <td>5</td>\n",
       "      <td>Beetlejuice is a well written movie ..... ever...</td>\n",
       "      <td>beetlejuice is a well written movie       ever...</td>\n",
       "      <td>0.339</td>\n",
       "      <td>0.661</td>\n",
       "      <td>0.000</td>\n",
       "      <td>0.8957</td>\n",
       "      <td>Positive</td>\n",
       "    </tr>\n",
       "    <tr>\n",
       "      <th>393578</th>\n",
       "      <td>99-12-06</td>\n",
       "      <td>B00004CI84</td>\n",
       "      <td>5</td>\n",
       "      <td>A twist of rumplestiskin captured on film, sta...</td>\n",
       "      <td>a twist of rumplestiskin captured on film  sta...</td>\n",
       "      <td>0.249</td>\n",
       "      <td>0.751</td>\n",
       "      <td>0.000</td>\n",
       "      <td>0.8822</td>\n",
       "      <td>Positive</td>\n",
       "    </tr>\n",
       "  </tbody>\n",
       "</table>\n",
       "<p>393579 rows × 10 columns</p>\n",
       "</div>"
      ],
      "text/plain": [
       "            date   ProductId  Score  \\\n",
       "0       00-01-03  B00004CXX9      5   \n",
       "1       00-01-09  B00004CXX9      5   \n",
       "2       00-01-19  B00004CI84      1   \n",
       "3       00-01-24  B00002N8SM      5   \n",
       "4       00-02-26  B00004RYGX      4   \n",
       "...          ...         ...    ...   \n",
       "393574  12-10-26  B000LNC3YM      5   \n",
       "393575  99-10-08  0006641040      5   \n",
       "393576  99-10-25  0006641040      5   \n",
       "393577  99-12-02  B00004CXX9      5   \n",
       "393578  99-12-06  B00004CI84      5   \n",
       "\n",
       "                                                     Text  \\\n",
       "0       Beetlejuice is an excellent and funny movie. K...   \n",
       "1       THIS IS ONE MOVIE THAT SHOULD BE IN YOUR MOVIE...   \n",
       "2       I, myself always enjoyed this movie, it's very...   \n",
       "3       I bought a few of these after my apartment was...   \n",
       "4       What happens when you say his name three times...   \n",
       "...                                                   ...   \n",
       "393574  The tea leaves arrived in perfect condition wi...   \n",
       "393575  this witty little book makes my son laugh at l...   \n",
       "393576  I can remember seeing the show when it aired o...   \n",
       "393577  Beetlejuice is a well written movie ..... ever...   \n",
       "393578  A twist of rumplestiskin captured on film, sta...   \n",
       "\n",
       "                                               clean_text  Positive Sentiment  \\\n",
       "0       beetlejuice is an excellent and funny movie  k...               0.498   \n",
       "1       this is one movie that should be in your movie...               0.142   \n",
       "2       i  myself always enjoyed this movie  it s very...               0.162   \n",
       "3       i bought a few of these after my apartment was...               0.052   \n",
       "4       what happens when you say his name three times...               0.114   \n",
       "...                                                   ...                 ...   \n",
       "393574  the tea leaves arrived in perfect condition wi...               0.113   \n",
       "393575  this witty little book makes my son laugh at l...               0.100   \n",
       "393576  i can remember seeing the show when it aired o...               0.000   \n",
       "393577  beetlejuice is a well written movie       ever...               0.339   \n",
       "393578  a twist of rumplestiskin captured on film  sta...               0.249   \n",
       "\n",
       "        Neutral Sentiment  Negative Sentiment  Compound  Polarity  \n",
       "0                   0.502               0.000    0.9829  Positive  \n",
       "1                   0.858               0.000    0.4215  Positive  \n",
       "2                   0.743               0.095    0.6236  Positive  \n",
       "3                   0.832               0.116   -0.6592  Negative  \n",
       "4                   0.825               0.061    0.9398  Positive  \n",
       "...                   ...                 ...       ...       ...  \n",
       "393574              0.786               0.101   -0.3506  Negative  \n",
       "393575              0.875               0.024    0.7845  Positive  \n",
       "393576              1.000               0.000    0.0000   Neutral  \n",
       "393577              0.661               0.000    0.8957  Positive  \n",
       "393578              0.751               0.000    0.8822  Positive  \n",
       "\n",
       "[393579 rows x 10 columns]"
      ]
     },
     "execution_count": 5,
     "metadata": {},
     "output_type": "execute_result"
    }
   ],
   "source": [
    "df2 = pd.read_csv('food_reviews_polarity.csv')\n",
    "df2"
   ]
  },
  {
   "cell_type": "code",
   "execution_count": null,
   "metadata": {
    "colab": {
     "base_uri": "https://localhost:8080/"
    },
    "id": "DVv3ZNfL2Vyj",
    "outputId": "902146e0-02ee-4c27-b022-590896958410"
   },
   "outputs": [
    {
     "data": {
      "text/plain": [
       "393579"
      ]
     },
     "execution_count": 33,
     "metadata": {},
     "output_type": "execute_result"
    }
   ],
   "source": [
    "#df2 = df2.drop_duplicates(subset = ['Text'])\n",
    "#len(df2)"
   ]
  },
  {
   "cell_type": "code",
   "execution_count": null,
   "metadata": {
    "colab": {
     "base_uri": "https://localhost:8080/"
    },
    "id": "pZZPFAx5Bfyc",
    "outputId": "71ee93ce-da14-4f1e-e1a6-616d7bc48f6c"
   },
   "outputs": [
    {
     "data": {
      "text/plain": [
       "Positive    349220\n",
       "Negative     39426\n",
       "Neutral       4933\n",
       "Name: Polarity, dtype: int64"
      ]
     },
     "execution_count": 34,
     "metadata": {},
     "output_type": "execute_result"
    }
   ],
   "source": [
    "df2['Polarity'].value_counts()"
   ]
  },
  {
   "cell_type": "code",
   "execution_count": 6,
   "metadata": {
    "id": "2r1nWrtmBfyc"
   },
   "outputs": [],
   "source": [
    "df_polarity = df2['Polarity'].value_counts().to_frame()"
   ]
  },
  {
   "cell_type": "code",
   "execution_count": 9,
   "metadata": {
    "colab": {
     "base_uri": "https://localhost:8080/",
     "height": 667
    },
    "id": "Zz-JBJ9FBfyc",
    "outputId": "8e2fc71c-accc-442c-bc58-8528fcf9aa81"
   },
   "outputs": [
    {
     "data": {
      "application/vnd.plotly.v1+json": {
       "config": {
        "plotlyServerURL": "https://plot.ly"
       },
       "data": [
        {
         "name": "Positive Sentiment Trend",
         "text": [
          349220,
          39426,
          4933
         ],
         "textposition": "outside",
         "type": "bar",
         "x": [
          "Positive",
          "Negative",
          "Neutral"
         ],
         "xaxis": "x",
         "y": [
          349220,
          39426,
          4933
         ],
         "yaxis": "y"
        }
       ],
       "layout": {
        "font": {
         "size": 15
        },
        "height": 650,
        "template": {
         "data": {
          "bar": [
           {
            "error_x": {
             "color": "#2a3f5f"
            },
            "error_y": {
             "color": "#2a3f5f"
            },
            "marker": {
             "line": {
              "color": "#E5ECF6",
              "width": 0.5
             }
            },
            "type": "bar"
           }
          ],
          "barpolar": [
           {
            "marker": {
             "line": {
              "color": "#E5ECF6",
              "width": 0.5
             }
            },
            "type": "barpolar"
           }
          ],
          "carpet": [
           {
            "aaxis": {
             "endlinecolor": "#2a3f5f",
             "gridcolor": "white",
             "linecolor": "white",
             "minorgridcolor": "white",
             "startlinecolor": "#2a3f5f"
            },
            "baxis": {
             "endlinecolor": "#2a3f5f",
             "gridcolor": "white",
             "linecolor": "white",
             "minorgridcolor": "white",
             "startlinecolor": "#2a3f5f"
            },
            "type": "carpet"
           }
          ],
          "choropleth": [
           {
            "colorbar": {
             "outlinewidth": 0,
             "ticks": ""
            },
            "type": "choropleth"
           }
          ],
          "contour": [
           {
            "colorbar": {
             "outlinewidth": 0,
             "ticks": ""
            },
            "colorscale": [
             [
              0,
              "#0d0887"
             ],
             [
              0.1111111111111111,
              "#46039f"
             ],
             [
              0.2222222222222222,
              "#7201a8"
             ],
             [
              0.3333333333333333,
              "#9c179e"
             ],
             [
              0.4444444444444444,
              "#bd3786"
             ],
             [
              0.5555555555555556,
              "#d8576b"
             ],
             [
              0.6666666666666666,
              "#ed7953"
             ],
             [
              0.7777777777777778,
              "#fb9f3a"
             ],
             [
              0.8888888888888888,
              "#fdca26"
             ],
             [
              1,
              "#f0f921"
             ]
            ],
            "type": "contour"
           }
          ],
          "contourcarpet": [
           {
            "colorbar": {
             "outlinewidth": 0,
             "ticks": ""
            },
            "type": "contourcarpet"
           }
          ],
          "heatmap": [
           {
            "colorbar": {
             "outlinewidth": 0,
             "ticks": ""
            },
            "colorscale": [
             [
              0,
              "#0d0887"
             ],
             [
              0.1111111111111111,
              "#46039f"
             ],
             [
              0.2222222222222222,
              "#7201a8"
             ],
             [
              0.3333333333333333,
              "#9c179e"
             ],
             [
              0.4444444444444444,
              "#bd3786"
             ],
             [
              0.5555555555555556,
              "#d8576b"
             ],
             [
              0.6666666666666666,
              "#ed7953"
             ],
             [
              0.7777777777777778,
              "#fb9f3a"
             ],
             [
              0.8888888888888888,
              "#fdca26"
             ],
             [
              1,
              "#f0f921"
             ]
            ],
            "type": "heatmap"
           }
          ],
          "heatmapgl": [
           {
            "colorbar": {
             "outlinewidth": 0,
             "ticks": ""
            },
            "colorscale": [
             [
              0,
              "#0d0887"
             ],
             [
              0.1111111111111111,
              "#46039f"
             ],
             [
              0.2222222222222222,
              "#7201a8"
             ],
             [
              0.3333333333333333,
              "#9c179e"
             ],
             [
              0.4444444444444444,
              "#bd3786"
             ],
             [
              0.5555555555555556,
              "#d8576b"
             ],
             [
              0.6666666666666666,
              "#ed7953"
             ],
             [
              0.7777777777777778,
              "#fb9f3a"
             ],
             [
              0.8888888888888888,
              "#fdca26"
             ],
             [
              1,
              "#f0f921"
             ]
            ],
            "type": "heatmapgl"
           }
          ],
          "histogram": [
           {
            "marker": {
             "colorbar": {
              "outlinewidth": 0,
              "ticks": ""
             }
            },
            "type": "histogram"
           }
          ],
          "histogram2d": [
           {
            "colorbar": {
             "outlinewidth": 0,
             "ticks": ""
            },
            "colorscale": [
             [
              0,
              "#0d0887"
             ],
             [
              0.1111111111111111,
              "#46039f"
             ],
             [
              0.2222222222222222,
              "#7201a8"
             ],
             [
              0.3333333333333333,
              "#9c179e"
             ],
             [
              0.4444444444444444,
              "#bd3786"
             ],
             [
              0.5555555555555556,
              "#d8576b"
             ],
             [
              0.6666666666666666,
              "#ed7953"
             ],
             [
              0.7777777777777778,
              "#fb9f3a"
             ],
             [
              0.8888888888888888,
              "#fdca26"
             ],
             [
              1,
              "#f0f921"
             ]
            ],
            "type": "histogram2d"
           }
          ],
          "histogram2dcontour": [
           {
            "colorbar": {
             "outlinewidth": 0,
             "ticks": ""
            },
            "colorscale": [
             [
              0,
              "#0d0887"
             ],
             [
              0.1111111111111111,
              "#46039f"
             ],
             [
              0.2222222222222222,
              "#7201a8"
             ],
             [
              0.3333333333333333,
              "#9c179e"
             ],
             [
              0.4444444444444444,
              "#bd3786"
             ],
             [
              0.5555555555555556,
              "#d8576b"
             ],
             [
              0.6666666666666666,
              "#ed7953"
             ],
             [
              0.7777777777777778,
              "#fb9f3a"
             ],
             [
              0.8888888888888888,
              "#fdca26"
             ],
             [
              1,
              "#f0f921"
             ]
            ],
            "type": "histogram2dcontour"
           }
          ],
          "mesh3d": [
           {
            "colorbar": {
             "outlinewidth": 0,
             "ticks": ""
            },
            "type": "mesh3d"
           }
          ],
          "parcoords": [
           {
            "line": {
             "colorbar": {
              "outlinewidth": 0,
              "ticks": ""
             }
            },
            "type": "parcoords"
           }
          ],
          "pie": [
           {
            "automargin": true,
            "type": "pie"
           }
          ],
          "scatter": [
           {
            "marker": {
             "colorbar": {
              "outlinewidth": 0,
              "ticks": ""
             }
            },
            "type": "scatter"
           }
          ],
          "scatter3d": [
           {
            "line": {
             "colorbar": {
              "outlinewidth": 0,
              "ticks": ""
             }
            },
            "marker": {
             "colorbar": {
              "outlinewidth": 0,
              "ticks": ""
             }
            },
            "type": "scatter3d"
           }
          ],
          "scattercarpet": [
           {
            "marker": {
             "colorbar": {
              "outlinewidth": 0,
              "ticks": ""
             }
            },
            "type": "scattercarpet"
           }
          ],
          "scattergeo": [
           {
            "marker": {
             "colorbar": {
              "outlinewidth": 0,
              "ticks": ""
             }
            },
            "type": "scattergeo"
           }
          ],
          "scattergl": [
           {
            "marker": {
             "colorbar": {
              "outlinewidth": 0,
              "ticks": ""
             }
            },
            "type": "scattergl"
           }
          ],
          "scattermapbox": [
           {
            "marker": {
             "colorbar": {
              "outlinewidth": 0,
              "ticks": ""
             }
            },
            "type": "scattermapbox"
           }
          ],
          "scatterpolar": [
           {
            "marker": {
             "colorbar": {
              "outlinewidth": 0,
              "ticks": ""
             }
            },
            "type": "scatterpolar"
           }
          ],
          "scatterpolargl": [
           {
            "marker": {
             "colorbar": {
              "outlinewidth": 0,
              "ticks": ""
             }
            },
            "type": "scatterpolargl"
           }
          ],
          "scatterternary": [
           {
            "marker": {
             "colorbar": {
              "outlinewidth": 0,
              "ticks": ""
             }
            },
            "type": "scatterternary"
           }
          ],
          "surface": [
           {
            "colorbar": {
             "outlinewidth": 0,
             "ticks": ""
            },
            "colorscale": [
             [
              0,
              "#0d0887"
             ],
             [
              0.1111111111111111,
              "#46039f"
             ],
             [
              0.2222222222222222,
              "#7201a8"
             ],
             [
              0.3333333333333333,
              "#9c179e"
             ],
             [
              0.4444444444444444,
              "#bd3786"
             ],
             [
              0.5555555555555556,
              "#d8576b"
             ],
             [
              0.6666666666666666,
              "#ed7953"
             ],
             [
              0.7777777777777778,
              "#fb9f3a"
             ],
             [
              0.8888888888888888,
              "#fdca26"
             ],
             [
              1,
              "#f0f921"
             ]
            ],
            "type": "surface"
           }
          ],
          "table": [
           {
            "cells": {
             "fill": {
              "color": "#EBF0F8"
             },
             "line": {
              "color": "white"
             }
            },
            "header": {
             "fill": {
              "color": "#C8D4E3"
             },
             "line": {
              "color": "white"
             }
            },
            "type": "table"
           }
          ]
         },
         "layout": {
          "annotationdefaults": {
           "arrowcolor": "#2a3f5f",
           "arrowhead": 0,
           "arrowwidth": 1
          },
          "autotypenumbers": "strict",
          "coloraxis": {
           "colorbar": {
            "outlinewidth": 0,
            "ticks": ""
           }
          },
          "colorscale": {
           "diverging": [
            [
             0,
             "#8e0152"
            ],
            [
             0.1,
             "#c51b7d"
            ],
            [
             0.2,
             "#de77ae"
            ],
            [
             0.3,
             "#f1b6da"
            ],
            [
             0.4,
             "#fde0ef"
            ],
            [
             0.5,
             "#f7f7f7"
            ],
            [
             0.6,
             "#e6f5d0"
            ],
            [
             0.7,
             "#b8e186"
            ],
            [
             0.8,
             "#7fbc41"
            ],
            [
             0.9,
             "#4d9221"
            ],
            [
             1,
             "#276419"
            ]
           ],
           "sequential": [
            [
             0,
             "#0d0887"
            ],
            [
             0.1111111111111111,
             "#46039f"
            ],
            [
             0.2222222222222222,
             "#7201a8"
            ],
            [
             0.3333333333333333,
             "#9c179e"
            ],
            [
             0.4444444444444444,
             "#bd3786"
            ],
            [
             0.5555555555555556,
             "#d8576b"
            ],
            [
             0.6666666666666666,
             "#ed7953"
            ],
            [
             0.7777777777777778,
             "#fb9f3a"
            ],
            [
             0.8888888888888888,
             "#fdca26"
            ],
            [
             1,
             "#f0f921"
            ]
           ],
           "sequentialminus": [
            [
             0,
             "#0d0887"
            ],
            [
             0.1111111111111111,
             "#46039f"
            ],
            [
             0.2222222222222222,
             "#7201a8"
            ],
            [
             0.3333333333333333,
             "#9c179e"
            ],
            [
             0.4444444444444444,
             "#bd3786"
            ],
            [
             0.5555555555555556,
             "#d8576b"
            ],
            [
             0.6666666666666666,
             "#ed7953"
            ],
            [
             0.7777777777777778,
             "#fb9f3a"
            ],
            [
             0.8888888888888888,
             "#fdca26"
            ],
            [
             1,
             "#f0f921"
            ]
           ]
          },
          "colorway": [
           "#636efa",
           "#EF553B",
           "#00cc96",
           "#ab63fa",
           "#FFA15A",
           "#19d3f3",
           "#FF6692",
           "#B6E880",
           "#FF97FF",
           "#FECB52"
          ],
          "font": {
           "color": "#2a3f5f"
          },
          "geo": {
           "bgcolor": "white",
           "lakecolor": "white",
           "landcolor": "#E5ECF6",
           "showlakes": true,
           "showland": true,
           "subunitcolor": "white"
          },
          "hoverlabel": {
           "align": "left"
          },
          "hovermode": "closest",
          "mapbox": {
           "style": "light"
          },
          "paper_bgcolor": "white",
          "plot_bgcolor": "#E5ECF6",
          "polar": {
           "angularaxis": {
            "gridcolor": "white",
            "linecolor": "white",
            "ticks": ""
           },
           "bgcolor": "#E5ECF6",
           "radialaxis": {
            "gridcolor": "white",
            "linecolor": "white",
            "ticks": ""
           }
          },
          "scene": {
           "xaxis": {
            "backgroundcolor": "#E5ECF6",
            "gridcolor": "white",
            "gridwidth": 2,
            "linecolor": "white",
            "showbackground": true,
            "ticks": "",
            "zerolinecolor": "white"
           },
           "yaxis": {
            "backgroundcolor": "#E5ECF6",
            "gridcolor": "white",
            "gridwidth": 2,
            "linecolor": "white",
            "showbackground": true,
            "ticks": "",
            "zerolinecolor": "white"
           },
           "zaxis": {
            "backgroundcolor": "#E5ECF6",
            "gridcolor": "white",
            "gridwidth": 2,
            "linecolor": "white",
            "showbackground": true,
            "ticks": "",
            "zerolinecolor": "white"
           }
          },
          "shapedefaults": {
           "line": {
            "color": "#2a3f5f"
           }
          },
          "ternary": {
           "aaxis": {
            "gridcolor": "white",
            "linecolor": "white",
            "ticks": ""
           },
           "baxis": {
            "gridcolor": "white",
            "linecolor": "white",
            "ticks": ""
           },
           "bgcolor": "#E5ECF6",
           "caxis": {
            "gridcolor": "white",
            "linecolor": "white",
            "ticks": ""
           }
          },
          "title": {
           "x": 0.05
          },
          "xaxis": {
           "automargin": true,
           "gridcolor": "white",
           "linecolor": "white",
           "ticks": "",
           "title": {
            "standoff": 15
           },
           "zerolinecolor": "white",
           "zerolinewidth": 2
          },
          "yaxis": {
           "automargin": true,
           "gridcolor": "white",
           "linecolor": "white",
           "ticks": "",
           "title": {
            "standoff": 15
           },
           "zerolinecolor": "white",
           "zerolinewidth": 2
          }
         }
        },
        "title": {
         "text": "Distribution of 3 Polarity Categories"
        },
        "width": 900,
        "xaxis": {
         "anchor": "y",
         "domain": [
          0,
          1
         ],
         "title": {
          "text": "Sentiment Polarity"
         }
        },
        "yaxis": {
         "anchor": "x",
         "domain": [
          0,
          1
         ],
         "title": {
          "text": "Review Counts"
         }
        }
       }
      },
      "text/html": [
       "<div>                            <div id=\"42142e6c-d392-4c62-b1b2-f2480040c3f4\" class=\"plotly-graph-div\" style=\"height:650px; width:900px;\"></div>            <script type=\"text/javascript\">                require([\"plotly\"], function(Plotly) {                    window.PLOTLYENV=window.PLOTLYENV || {};                                    if (document.getElementById(\"42142e6c-d392-4c62-b1b2-f2480040c3f4\")) {                    Plotly.newPlot(                        \"42142e6c-d392-4c62-b1b2-f2480040c3f4\",                        [{\"name\": \"Positive Sentiment Trend\", \"text\": [349220.0, 39426.0, 4933.0], \"textposition\": \"outside\", \"type\": \"bar\", \"x\": [\"Positive\", \"Negative\", \"Neutral\"], \"xaxis\": \"x\", \"y\": [349220, 39426, 4933], \"yaxis\": \"y\"}],                        {\"font\": {\"size\": 15}, \"height\": 650, \"template\": {\"data\": {\"bar\": [{\"error_x\": {\"color\": \"#2a3f5f\"}, \"error_y\": {\"color\": \"#2a3f5f\"}, \"marker\": {\"line\": {\"color\": \"#E5ECF6\", \"width\": 0.5}}, \"type\": \"bar\"}], \"barpolar\": [{\"marker\": {\"line\": {\"color\": \"#E5ECF6\", \"width\": 0.5}}, \"type\": \"barpolar\"}], \"carpet\": [{\"aaxis\": {\"endlinecolor\": \"#2a3f5f\", \"gridcolor\": \"white\", \"linecolor\": \"white\", \"minorgridcolor\": \"white\", \"startlinecolor\": \"#2a3f5f\"}, \"baxis\": {\"endlinecolor\": \"#2a3f5f\", \"gridcolor\": \"white\", \"linecolor\": \"white\", \"minorgridcolor\": \"white\", \"startlinecolor\": \"#2a3f5f\"}, \"type\": \"carpet\"}], \"choropleth\": [{\"colorbar\": {\"outlinewidth\": 0, \"ticks\": \"\"}, \"type\": \"choropleth\"}], \"contour\": [{\"colorbar\": {\"outlinewidth\": 0, \"ticks\": \"\"}, \"colorscale\": [[0.0, \"#0d0887\"], [0.1111111111111111, \"#46039f\"], [0.2222222222222222, \"#7201a8\"], [0.3333333333333333, \"#9c179e\"], [0.4444444444444444, \"#bd3786\"], [0.5555555555555556, \"#d8576b\"], [0.6666666666666666, \"#ed7953\"], [0.7777777777777778, \"#fb9f3a\"], [0.8888888888888888, \"#fdca26\"], [1.0, \"#f0f921\"]], \"type\": \"contour\"}], \"contourcarpet\": [{\"colorbar\": {\"outlinewidth\": 0, \"ticks\": \"\"}, \"type\": \"contourcarpet\"}], \"heatmap\": [{\"colorbar\": {\"outlinewidth\": 0, \"ticks\": \"\"}, \"colorscale\": [[0.0, \"#0d0887\"], [0.1111111111111111, \"#46039f\"], [0.2222222222222222, \"#7201a8\"], [0.3333333333333333, \"#9c179e\"], [0.4444444444444444, \"#bd3786\"], [0.5555555555555556, \"#d8576b\"], [0.6666666666666666, \"#ed7953\"], [0.7777777777777778, \"#fb9f3a\"], [0.8888888888888888, \"#fdca26\"], [1.0, \"#f0f921\"]], \"type\": \"heatmap\"}], \"heatmapgl\": [{\"colorbar\": {\"outlinewidth\": 0, \"ticks\": \"\"}, \"colorscale\": [[0.0, \"#0d0887\"], [0.1111111111111111, \"#46039f\"], [0.2222222222222222, \"#7201a8\"], [0.3333333333333333, \"#9c179e\"], [0.4444444444444444, \"#bd3786\"], [0.5555555555555556, \"#d8576b\"], [0.6666666666666666, \"#ed7953\"], [0.7777777777777778, \"#fb9f3a\"], [0.8888888888888888, \"#fdca26\"], [1.0, \"#f0f921\"]], \"type\": \"heatmapgl\"}], \"histogram\": [{\"marker\": {\"colorbar\": {\"outlinewidth\": 0, \"ticks\": \"\"}}, \"type\": \"histogram\"}], \"histogram2d\": [{\"colorbar\": {\"outlinewidth\": 0, \"ticks\": \"\"}, \"colorscale\": [[0.0, \"#0d0887\"], [0.1111111111111111, \"#46039f\"], [0.2222222222222222, \"#7201a8\"], [0.3333333333333333, \"#9c179e\"], [0.4444444444444444, \"#bd3786\"], [0.5555555555555556, \"#d8576b\"], [0.6666666666666666, \"#ed7953\"], [0.7777777777777778, \"#fb9f3a\"], [0.8888888888888888, \"#fdca26\"], [1.0, \"#f0f921\"]], \"type\": \"histogram2d\"}], \"histogram2dcontour\": [{\"colorbar\": {\"outlinewidth\": 0, \"ticks\": \"\"}, \"colorscale\": [[0.0, \"#0d0887\"], [0.1111111111111111, \"#46039f\"], [0.2222222222222222, \"#7201a8\"], [0.3333333333333333, \"#9c179e\"], [0.4444444444444444, \"#bd3786\"], [0.5555555555555556, \"#d8576b\"], [0.6666666666666666, \"#ed7953\"], [0.7777777777777778, \"#fb9f3a\"], [0.8888888888888888, \"#fdca26\"], [1.0, \"#f0f921\"]], \"type\": \"histogram2dcontour\"}], \"mesh3d\": [{\"colorbar\": {\"outlinewidth\": 0, \"ticks\": \"\"}, \"type\": \"mesh3d\"}], \"parcoords\": [{\"line\": {\"colorbar\": {\"outlinewidth\": 0, \"ticks\": \"\"}}, \"type\": \"parcoords\"}], \"pie\": [{\"automargin\": true, \"type\": \"pie\"}], \"scatter\": [{\"marker\": {\"colorbar\": {\"outlinewidth\": 0, \"ticks\": \"\"}}, \"type\": \"scatter\"}], \"scatter3d\": [{\"line\": {\"colorbar\": {\"outlinewidth\": 0, \"ticks\": \"\"}}, \"marker\": {\"colorbar\": {\"outlinewidth\": 0, \"ticks\": \"\"}}, \"type\": \"scatter3d\"}], \"scattercarpet\": [{\"marker\": {\"colorbar\": {\"outlinewidth\": 0, \"ticks\": \"\"}}, \"type\": \"scattercarpet\"}], \"scattergeo\": [{\"marker\": {\"colorbar\": {\"outlinewidth\": 0, \"ticks\": \"\"}}, \"type\": \"scattergeo\"}], \"scattergl\": [{\"marker\": {\"colorbar\": {\"outlinewidth\": 0, \"ticks\": \"\"}}, \"type\": \"scattergl\"}], \"scattermapbox\": [{\"marker\": {\"colorbar\": {\"outlinewidth\": 0, \"ticks\": \"\"}}, \"type\": \"scattermapbox\"}], \"scatterpolar\": [{\"marker\": {\"colorbar\": {\"outlinewidth\": 0, \"ticks\": \"\"}}, \"type\": \"scatterpolar\"}], \"scatterpolargl\": [{\"marker\": {\"colorbar\": {\"outlinewidth\": 0, \"ticks\": \"\"}}, \"type\": \"scatterpolargl\"}], \"scatterternary\": [{\"marker\": {\"colorbar\": {\"outlinewidth\": 0, \"ticks\": \"\"}}, \"type\": \"scatterternary\"}], \"surface\": [{\"colorbar\": {\"outlinewidth\": 0, \"ticks\": \"\"}, \"colorscale\": [[0.0, \"#0d0887\"], [0.1111111111111111, \"#46039f\"], [0.2222222222222222, \"#7201a8\"], [0.3333333333333333, \"#9c179e\"], [0.4444444444444444, \"#bd3786\"], [0.5555555555555556, \"#d8576b\"], [0.6666666666666666, \"#ed7953\"], [0.7777777777777778, \"#fb9f3a\"], [0.8888888888888888, \"#fdca26\"], [1.0, \"#f0f921\"]], \"type\": \"surface\"}], \"table\": [{\"cells\": {\"fill\": {\"color\": \"#EBF0F8\"}, \"line\": {\"color\": \"white\"}}, \"header\": {\"fill\": {\"color\": \"#C8D4E3\"}, \"line\": {\"color\": \"white\"}}, \"type\": \"table\"}]}, \"layout\": {\"annotationdefaults\": {\"arrowcolor\": \"#2a3f5f\", \"arrowhead\": 0, \"arrowwidth\": 1}, \"autotypenumbers\": \"strict\", \"coloraxis\": {\"colorbar\": {\"outlinewidth\": 0, \"ticks\": \"\"}}, \"colorscale\": {\"diverging\": [[0, \"#8e0152\"], [0.1, \"#c51b7d\"], [0.2, \"#de77ae\"], [0.3, \"#f1b6da\"], [0.4, \"#fde0ef\"], [0.5, \"#f7f7f7\"], [0.6, \"#e6f5d0\"], [0.7, \"#b8e186\"], [0.8, \"#7fbc41\"], [0.9, \"#4d9221\"], [1, \"#276419\"]], \"sequential\": [[0.0, \"#0d0887\"], [0.1111111111111111, \"#46039f\"], [0.2222222222222222, \"#7201a8\"], [0.3333333333333333, \"#9c179e\"], [0.4444444444444444, \"#bd3786\"], [0.5555555555555556, \"#d8576b\"], [0.6666666666666666, \"#ed7953\"], [0.7777777777777778, \"#fb9f3a\"], [0.8888888888888888, \"#fdca26\"], [1.0, \"#f0f921\"]], \"sequentialminus\": [[0.0, \"#0d0887\"], [0.1111111111111111, \"#46039f\"], [0.2222222222222222, \"#7201a8\"], [0.3333333333333333, \"#9c179e\"], [0.4444444444444444, \"#bd3786\"], [0.5555555555555556, \"#d8576b\"], [0.6666666666666666, \"#ed7953\"], [0.7777777777777778, \"#fb9f3a\"], [0.8888888888888888, \"#fdca26\"], [1.0, \"#f0f921\"]]}, \"colorway\": [\"#636efa\", \"#EF553B\", \"#00cc96\", \"#ab63fa\", \"#FFA15A\", \"#19d3f3\", \"#FF6692\", \"#B6E880\", \"#FF97FF\", \"#FECB52\"], \"font\": {\"color\": \"#2a3f5f\"}, \"geo\": {\"bgcolor\": \"white\", \"lakecolor\": \"white\", \"landcolor\": \"#E5ECF6\", \"showlakes\": true, \"showland\": true, \"subunitcolor\": \"white\"}, \"hoverlabel\": {\"align\": \"left\"}, \"hovermode\": \"closest\", \"mapbox\": {\"style\": \"light\"}, \"paper_bgcolor\": \"white\", \"plot_bgcolor\": \"#E5ECF6\", \"polar\": {\"angularaxis\": {\"gridcolor\": \"white\", \"linecolor\": \"white\", \"ticks\": \"\"}, \"bgcolor\": \"#E5ECF6\", \"radialaxis\": {\"gridcolor\": \"white\", \"linecolor\": \"white\", \"ticks\": \"\"}}, \"scene\": {\"xaxis\": {\"backgroundcolor\": \"#E5ECF6\", \"gridcolor\": \"white\", \"gridwidth\": 2, \"linecolor\": \"white\", \"showbackground\": true, \"ticks\": \"\", \"zerolinecolor\": \"white\"}, \"yaxis\": {\"backgroundcolor\": \"#E5ECF6\", \"gridcolor\": \"white\", \"gridwidth\": 2, \"linecolor\": \"white\", \"showbackground\": true, \"ticks\": \"\", \"zerolinecolor\": \"white\"}, \"zaxis\": {\"backgroundcolor\": \"#E5ECF6\", \"gridcolor\": \"white\", \"gridwidth\": 2, \"linecolor\": \"white\", \"showbackground\": true, \"ticks\": \"\", \"zerolinecolor\": \"white\"}}, \"shapedefaults\": {\"line\": {\"color\": \"#2a3f5f\"}}, \"ternary\": {\"aaxis\": {\"gridcolor\": \"white\", \"linecolor\": \"white\", \"ticks\": \"\"}, \"baxis\": {\"gridcolor\": \"white\", \"linecolor\": \"white\", \"ticks\": \"\"}, \"bgcolor\": \"#E5ECF6\", \"caxis\": {\"gridcolor\": \"white\", \"linecolor\": \"white\", \"ticks\": \"\"}}, \"title\": {\"x\": 0.05}, \"xaxis\": {\"automargin\": true, \"gridcolor\": \"white\", \"linecolor\": \"white\", \"ticks\": \"\", \"title\": {\"standoff\": 15}, \"zerolinecolor\": \"white\", \"zerolinewidth\": 2}, \"yaxis\": {\"automargin\": true, \"gridcolor\": \"white\", \"linecolor\": \"white\", \"ticks\": \"\", \"title\": {\"standoff\": 15}, \"zerolinecolor\": \"white\", \"zerolinewidth\": 2}}}, \"title\": {\"text\": \"Distribution of 3 Polarity Categories\"}, \"width\": 900, \"xaxis\": {\"anchor\": \"y\", \"domain\": [0.0, 1.0], \"title\": {\"text\": \"Sentiment Polarity\"}}, \"yaxis\": {\"anchor\": \"x\", \"domain\": [0.0, 1.0], \"title\": {\"text\": \"Review Counts\"}}},                        {\"responsive\": true}                    ).then(function(){\n",
       "                            \n",
       "var gd = document.getElementById('42142e6c-d392-4c62-b1b2-f2480040c3f4');\n",
       "var x = new MutationObserver(function (mutations, observer) {{\n",
       "        var display = window.getComputedStyle(gd).display;\n",
       "        if (!display || display === 'none') {{\n",
       "            console.log([gd, 'removed!']);\n",
       "            Plotly.purge(gd);\n",
       "            observer.disconnect();\n",
       "        }}\n",
       "}});\n",
       "\n",
       "// Listen for the removal of the full notebook cells\n",
       "var notebookContainer = gd.closest('#notebook-container');\n",
       "if (notebookContainer) {{\n",
       "    x.observe(notebookContainer, {childList: true});\n",
       "}}\n",
       "\n",
       "// Listen for the clearing of the current output cell\n",
       "var outputEl = gd.closest('.output');\n",
       "if (outputEl) {{\n",
       "    x.observe(outputEl, {childList: true});\n",
       "}}\n",
       "\n",
       "                        })                };                });            </script>        </div>"
      ]
     },
     "metadata": {},
     "output_type": "display_data"
    }
   ],
   "source": [
    "fig = make_subplots(rows=1, cols=1)\n",
    "\n",
    "fig.add_trace(go.Bar(y=df_polarity['Polarity'],x=df_polarity.index,name='Positive Sentiment Trend',text = df_polarity['Polarity']),\n",
    "    row=1, col=1)\n",
    "\n",
    "fig.update_yaxes(title_text=\"Review Counts\")\n",
    "fig.update_xaxes(title_text=\"Sentiment Polarity\")\n",
    "#fig.update_traces(texttemplate='%{text:.2s}', textposition='outside')\n",
    "fig.update_traces(textposition='outside')\n",
    "fig.update_layout(height=650, width=900, title_text=\"Distribution of 3 Polarity Categories\",font = dict(size = 15))"
   ]
  },
  {
   "cell_type": "code",
   "execution_count": null,
   "metadata": {
    "id": "gjNm78UeVBHw"
   },
   "outputs": [],
   "source": []
  },
  {
   "cell_type": "code",
   "execution_count": null,
   "metadata": {
    "id": "VuBqxSYxSq4g"
   },
   "outputs": [],
   "source": []
  },
  {
   "cell_type": "code",
   "execution_count": 10,
   "metadata": {
    "id": "zWjyLQuBBfyd"
   },
   "outputs": [],
   "source": [
    "pos = df2[df2['Polarity'] == 'Positive']\n",
    "neu = df2[df2['Polarity'] == 'Neutral']\n",
    "neg = df2[df2['Polarity'] == 'Negative']"
   ]
  },
  {
   "cell_type": "code",
   "execution_count": 11,
   "metadata": {
    "id": "5vH6_IsEBfyd"
   },
   "outputs": [],
   "source": [
    "#from nltk.corpus import stopwords\n",
    "stop_words = stopwords.words('english')\n",
    "stop_words.extend(['br'])"
   ]
  },
  {
   "cell_type": "code",
   "execution_count": 12,
   "metadata": {
    "id": "6IX_M4-iBfyd"
   },
   "outputs": [],
   "source": [
    "Positive_text = ' '.join(pos.clean_text)\n",
    "Negative_text = ' '.join(neg.clean_text)"
   ]
  },
  {
   "cell_type": "code",
   "execution_count": 14,
   "metadata": {
    "colab": {
     "base_uri": "https://localhost:8080/",
     "height": 336
    },
    "id": "R7e95t9iBfyd",
    "outputId": "bf1b84ab-82b9-4f4e-84f7-16bbd8d49bbd",
    "scrolled": true
   },
   "outputs": [
    {
     "data": {
      "image/png": "[encoded data removed]",
      "text/plain": [
       "<Figure size 1224x936 with 2 Axes>"
      ]
     },
     "metadata": {
      "needs_background": "light"
     },
     "output_type": "display_data"
    }
   ],
   "source": [
    "pwc = WordCloud(stopwords=stop_words,width=600,height=400,collocations = False,random_state=11).generate(Positive_text)\n",
    "nwc = WordCloud(stopwords=stop_words,width=600,height=400,collocations = False,random_state=29).generate(Negative_text)\n",
    "\n",
    "plt.subplot(1,2,1)\n",
    "plt.title('Common Words Among Positive Reviews',fontsize=16,fontweight='bold')\n",
    "plt.imshow(pwc)\n",
    "plt.axis('off')\n",
    "plt.subplot(1,2,2)\n",
    "plt.title('Common Words Among Negative Reviews',fontsize=16,fontweight='bold')\n",
    "plt.imshow(nwc)\n",
    "plt.axis('off')\n",
    "\n",
    "plt.show()"
   ]
  },
  {
   "cell_type": "code",
   "execution_count": null,
   "metadata": {
    "colab": {
     "base_uri": "https://localhost:8080/",
     "height": 69
    },
    "id": "mz4l4hgqz75e",
    "outputId": "98bd9da7-8089-4432-e70c-3902774e6f62"
   },
   "outputs": [
    {
     "data": {
      "application/vnd.google.colaboratory.intrinsic+json": {
       "type": "string"
      },
      "text/plain": [
       "'I bought a few of these after my apartment was infested with fruit flies. After only a few hours, the trap had &quot;attracted&quot; many flies and within a few days they were practically gone. This may not be a long term  solution, but if flies are driving you crazy, consider buying this. One  caution- the surface is very sticky, so try to avoid touching it.'"
      ]
     },
     "execution_count": 41,
     "metadata": {},
     "output_type": "execute_result"
    }
   ],
   "source": [
    "neg[neg.Score == 5].iloc[0].Text\n",
    "#key finding: the score may not be accurate"
   ]
  },
  {
   "cell_type": "code",
   "execution_count": null,
   "metadata": {
    "colab": {
     "base_uri": "https://localhost:8080/",
     "height": 69
    },
    "id": "3D29roB-1ixR",
    "outputId": "7270ba79-760e-4eba-fae9-121eaa7bade8"
   },
   "outputs": [
    {
     "data": {
      "application/vnd.google.colaboratory.intrinsic+json": {
       "type": "string"
      },
      "text/plain": [
       "\"Twenty four ropes per box, that's a lot of ropes!  At $18 per box, that makes out to 75 cents a rope.  Willie Wonka also has a tropical, limited edition, nerds rope candy and also a christmas edition which is quite clever and has a mostly cherry taste.  Unfortunately, Amazon doesn't sell those varieties.  Don't be surprised if you open a package and find the rope broken in one or more places.  Whad d'ya expect?  It's a nerds rope, and that's its disclaimer!\""
      ]
     },
     "execution_count": 46,
     "metadata": {},
     "output_type": "execute_result"
    }
   ],
   "source": [
    "neg[neg.Score == 5].iloc[23].Text"
   ]
  },
  {
   "cell_type": "code",
   "execution_count": null,
   "metadata": {},
   "outputs": [],
   "source": []
  },
  {
   "cell_type": "markdown",
   "metadata": {
    "id": "S5k9R5VzBfyf"
   },
   "source": [
    "# topic modelling"
   ]
  },
  {
   "cell_type": "code",
   "execution_count": null,
   "metadata": {
    "colab": {
     "base_uri": "https://localhost:8080/"
    },
    "id": "BVeFy3oYBfyf",
    "outputId": "f34dfeff-5cf4-4e7a-e2ce-5647ad3091bb"
   },
   "outputs": [
    {
     "name": "stdout",
     "output_type": "stream",
     "text": [
      "Requirement already satisfied: pyLDAvis in /usr/local/lib/python3.7/dist-packages (3.3.1)\n",
      "Requirement already satisfied: pandas>=1.2.0 in /usr/local/lib/python3.7/dist-packages (from pyLDAvis) (1.3.4)\n",
      "Requirement already satisfied: numpy>=1.20.0 in /usr/local/lib/python3.7/dist-packages (from pyLDAvis) (1.21.3)\n",
      "Requirement already satisfied: future in /usr/local/lib/python3.7/dist-packages (from pyLDAvis) (0.16.0)\n",
      "Requirement already satisfied: sklearn in /usr/local/lib/python3.7/dist-packages (from pyLDAvis) (0.0)\n",
      "Requirement already satisfied: funcy in /usr/local/lib/python3.7/dist-packages (from pyLDAvis) (1.16)\n",
      "Requirement already satisfied: gensim in /usr/local/lib/python3.7/dist-packages (from pyLDAvis) (3.6.0)\n",
      "Requirement already satisfied: jinja2 in /usr/local/lib/python3.7/dist-packages (from pyLDAvis) (2.11.3)\n",
      "Requirement already satisfied: scikit-learn in /usr/local/lib/python3.7/dist-packages (from pyLDAvis) (0.22.2.post1)\n",
      "Requirement already satisfied: setuptools in /usr/local/lib/python3.7/dist-packages (from pyLDAvis) (57.4.0)\n",
      "Requirement already satisfied: joblib in /usr/local/lib/python3.7/dist-packages (from pyLDAvis) (1.0.1)\n",
      "Requirement already satisfied: scipy in /usr/local/lib/python3.7/dist-packages (from pyLDAvis) (1.4.1)\n",
      "Requirement already satisfied: numexpr in /usr/local/lib/python3.7/dist-packages (from pyLDAvis) (2.7.3)\n",
      "Requirement already satisfied: python-dateutil>=2.7.3 in /usr/local/lib/python3.7/dist-packages (from pandas>=1.2.0->pyLDAvis) (2.8.2)\n",
      "Requirement already satisfied: pytz>=2017.3 in /usr/local/lib/python3.7/dist-packages (from pandas>=1.2.0->pyLDAvis) (2018.9)\n",
      "Requirement already satisfied: six>=1.5 in /usr/local/lib/python3.7/dist-packages (from python-dateutil>=2.7.3->pandas>=1.2.0->pyLDAvis) (1.15.0)\n",
      "Requirement already satisfied: smart-open>=1.2.1 in /usr/local/lib/python3.7/dist-packages (from gensim->pyLDAvis) (5.2.1)\n",
      "Requirement already satisfied: MarkupSafe>=0.23 in /usr/local/lib/python3.7/dist-packages (from jinja2->pyLDAvis) (2.0.1)\n"
     ]
    }
   ],
   "source": [
    "!pip install pyLDAvis"
   ]
  },
  {
   "cell_type": "code",
   "execution_count": 25,
   "metadata": {
    "colab": {
     "base_uri": "https://localhost:8080/"
    },
    "id": "LGZ7M1VPBfyf",
    "outputId": "57175cc2-766e-41b1-f9c4-9d12df2a2cdd"
   },
   "outputs": [],
   "source": [
    "import re\n",
    "import numpy as np\n",
    "import pandas as pd\n",
    "from pprint import pprint\n",
    "\n",
    "# Gensim\n",
    "import gensim\n",
    "import gensim.corpora as corpora\n",
    "from gensim.utils import simple_preprocess\n",
    "from gensim.models import CoherenceModel\n",
    "\n",
    "# spacy for lemmatization\n",
    "import spacy\n",
    "\n",
    "# Plotting tools\n",
    "import pyLDAvis\n",
    "#import pyLDAvis.gensim_models as gensimvis\n",
    "import pyLDAvis.gensim \n",
    "import matplotlib.pyplot as plt\n",
    "%matplotlib inline\n",
    "\n",
    "# Enable logging for gensim - optional\n",
    "import logging\n",
    "logging.basicConfig(format='%(asctime)s : %(levelname)s : %(message)s', level=logging.ERROR)\n",
    "\n",
    "import warnings\n",
    "warnings.filterwarnings(\"ignore\",category=DeprecationWarning)"
   ]
  },
  {
   "cell_type": "code",
   "execution_count": 4,
   "metadata": {
    "id": "dgyKpqwSp17X"
   },
   "outputs": [],
   "source": [
    "df2 = pd.read_csv('food_reviews_polarity.csv')"
   ]
  },
  {
   "cell_type": "code",
   "execution_count": 9,
   "metadata": {},
   "outputs": [
    {
     "data": {
      "text/plain": [
       "393579"
      ]
     },
     "execution_count": 9,
     "metadata": {},
     "output_type": "execute_result"
    }
   ],
   "source": [
    "df2 = df2.drop_duplicates(subset = ['Text'])\n",
    "len(df2)"
   ]
  },
  {
   "cell_type": "code",
   "execution_count": 10,
   "metadata": {},
   "outputs": [],
   "source": [
    "df2.to_csv('food_reviews_polarity.csv',index=False)"
   ]
  },
  {
   "cell_type": "code",
   "execution_count": 11,
   "metadata": {
    "id": "i7BYKUeSq1YT"
   },
   "outputs": [],
   "source": [
    "pos = df2[df2['Polarity'] == 'Positive']\n",
    "neu = df2[df2['Polarity'] == 'Neutral']\n",
    "neg = df2[df2['Polarity'] == 'Negative']"
   ]
  },
  {
   "cell_type": "code",
   "execution_count": 49,
   "metadata": {
    "id": "hXGelImMBfyg"
   },
   "outputs": [],
   "source": [
    "from nltk.corpus import stopwords\n",
    "stop_words_tm = stopwords.words('english')\n",
    "stop_words_tm.extend(['br'])"
   ]
  },
  {
   "cell_type": "code",
   "execution_count": 105,
   "metadata": {
    "id": "bK8uK9hrBfyg"
   },
   "outputs": [],
   "source": [
    "data = pos.clean_text\n",
    "#data = neu.clean_text\n",
    "#data = neg.clean_text"
   ]
  },
  {
   "cell_type": "code",
   "execution_count": 106,
   "metadata": {
    "colab": {
     "base_uri": "https://localhost:8080/"
    },
    "id": "ky32LaQOBfyg",
    "outputId": "4394e385-24ea-4e43-a02e-eb4a7094cf11"
   },
   "outputs": [
    {
     "data": {
      "text/plain": [
       "349220"
      ]
     },
     "execution_count": 106,
     "metadata": {},
     "output_type": "execute_result"
    }
   ],
   "source": [
    "len(data)"
   ]
  },
  {
   "cell_type": "code",
   "execution_count": 107,
   "metadata": {
    "colab": {
     "base_uri": "https://localhost:8080/"
    },
    "id": "rQpYpb7OBfyg",
    "outputId": "a6ab1fdb-e4a7-497f-d7d4-1e74dd3c7082"
   },
   "outputs": [
    {
     "name": "stdout",
     "output_type": "stream",
     "text": [
      "[[(0, 1), (1, 2), (2, 1), (3, 1), (4, 1), (5, 2), (6, 1), (7, 1), (8, 1), (9, 1), (10, 1), (11, 1), (12, 1), (13, 1), (14, 1)]]\n"
     ]
    }
   ],
   "source": [
    "def sent_to_words(sentences):\n",
    "    for sentence in sentences:\n",
    "        yield(gensim.utils.simple_preprocess(str(sentence), deacc=True))  # deacc=True removes punctuations\n",
    "\n",
    "data_words = list(sent_to_words(data))\n",
    "\n",
    "# Build the bigram and trigram models\n",
    "bigram = gensim.models.Phrases(data_words, min_count=5, threshold=100) # higher threshold fewer phrases.\n",
    "trigram = gensim.models.Phrases(bigram[data_words], threshold=100)  \n",
    "\n",
    "# Faster way to get a sentence clubbed as a trigram/bigram\n",
    "bigram_mod = gensim.models.phrases.Phraser(bigram)\n",
    "trigram_mod = gensim.models.phrases.Phraser(trigram)\n",
    "\n",
    "# Define functions for stopwords, bigrams, trigrams and lemmatization\n",
    "def remove_stopwords(texts):\n",
    "    return [[word for word in simple_preprocess(str(doc)) if word not in stop_words_tm] for doc in texts]\n",
    "\n",
    "def make_bigrams(texts):\n",
    "    return [bigram_mod[doc] for doc in texts]\n",
    "\n",
    "def make_trigrams(texts):\n",
    "    return [trigram_mod[bigram_mod[doc]] for doc in texts]\n",
    "\n",
    "def lemmatization(texts, allowed_postags=['NOUN', 'ADJ', 'VERB', 'ADV']):\n",
    "    \"\"\"https://spacy.io/api/annotation\"\"\"\n",
    "    texts_out = []\n",
    "    for sent in texts:\n",
    "        doc = nlp(\" \".join(sent)) \n",
    "        texts_out.append([token.lemma_ for token in doc if token.pos_ in allowed_postags])\n",
    "    return texts_out\n",
    "\n",
    "# Remove Stop Words\n",
    "data_words_nostops = remove_stopwords(data_words)\n",
    "\n",
    "# Form Bigrams\n",
    "data_words_bigrams = make_bigrams(data_words_nostops)\n",
    "\n",
    "# Initialize spacy 'en' model, keeping only tagger component (for efficiency)\n",
    "# python3 -m spacy download en\n",
    "nlp = spacy.load('en', disable=['parser', 'ner'])\n",
    "\n",
    "# Do lemmatization keeping only noun, adj, vb, adv\n",
    "data_lemmatized = lemmatization(data_words_bigrams, allowed_postags=['NOUN', 'ADJ', 'VERB', 'ADV'])\n",
    "\n",
    "# Create Dictionary\n",
    "#id2word = corpora.Dictionary(data_lemmatized)\n",
    "id2word = corpora.Dictionary(data_lemmatized)\n",
    "id2word.filter_extremes(no_below=2, no_above=1.0) #filtering out words with very low frequencies from the dictionary\n",
    "\n",
    "# Create Corpus\n",
    "texts = data_lemmatized\n",
    "\n",
    "# Term Document Frequency\n",
    "corpus = [id2word.doc2bow(text) for text in texts]\n",
    "\n",
    "# View\n",
    "print(corpus[:1])"
   ]
  },
  {
   "cell_type": "code",
   "execution_count": 111,
   "metadata": {
    "id": "-4CqsdDYBfyg"
   },
   "outputs": [],
   "source": [
    "##look for the optimal topic number function\n",
    "\n",
    "def compute_coherence_values(dictionary, corpus, texts, limit, start=2, step=3):\n",
    "    coherence_values = []\n",
    "    model_list = []\n",
    "    for num_topics in range(start, limit, step):\n",
    "        model = gensim.models.ldamodel.LdaModel(corpus=corpus, \n",
    "                                                num_topics=num_topics, \n",
    "                                                id2word=dictionary,\n",
    "                                                random_state=100,\n",
    "                                                update_every=1,\n",
    "                                                chunksize=20000,\n",
    "                                                passes=10,\n",
    "                                                alpha='auto',\n",
    "                                                per_word_topics=True)\n",
    "        model_list.append(model)\n",
    "        coherencemodel = CoherenceModel(model=model, texts=texts, dictionary=dictionary, coherence='c_v')\n",
    "        coherence_values.append(coherencemodel.get_coherence())\n",
    "\n",
    "    return model_list, coherence_values\n"
   ]
  },
  {
   "cell_type": "markdown",
   "metadata": {
    "id": "OS8oma7XBfyg"
   },
   "source": [
    "# negative topics"
   ]
  },
  {
   "cell_type": "code",
   "execution_count": 29,
   "metadata": {
    "id": "UxR5pZtQBfyg",
    "scrolled": true
   },
   "outputs": [],
   "source": [
    "model_list, coherence_values = compute_coherence_values(dictionary=id2word, corpus=corpus, texts=data_lemmatized, start=2, limit=12, step=3)"
   ]
  },
  {
   "cell_type": "code",
   "execution_count": 30,
   "metadata": {
    "id": "viXpeXh1Bfyg",
    "outputId": "519a7f8b-82b2-43cb-d0e2-6eac753dd946"
   },
   "outputs": [
    {
     "data": {
      "image/png": "[encoded data removed]",
      "text/plain": [
       "<Figure size 432x288 with 1 Axes>"
      ]
     },
     "metadata": {
      "needs_background": "light"
     },
     "output_type": "display_data"
    }
   ],
   "source": [
    "# DO NOT COVER THIS PART\n",
    "# chunksize=1000,passes=10\n",
    "limit=12; start=2; step=3;\n",
    "x = range(start, limit, step)\n",
    "plt.plot(x, coherence_values)\n",
    "plt.xlabel(\"Num Topics\")\n",
    "plt.ylabel(\"Coherence score\")\n",
    "#plt.legend((\"coherence_values\"), loc='best')\n",
    "plt.rcParams['font.size'] = '16'\n",
    "plt.show()"
   ]
  },
  {
   "cell_type": "code",
   "execution_count": 31,
   "metadata": {
    "id": "vRVDEfA8Bfyh",
    "outputId": "3b976b92-b1e0-40ff-8f4a-5ed67d3ca915"
   },
   "outputs": [
    {
     "name": "stdout",
     "output_type": "stream",
     "text": [
      "Num Topics = 2  has Coherence Value of 0.444\n",
      "Num Topics = 5  has Coherence Value of 0.5334\n",
      "Num Topics = 8  has Coherence Value of 0.5307\n",
      "Num Topics = 11  has Coherence Value of 0.4418\n"
     ]
    }
   ],
   "source": [
    "# chunksize=10000,passes=10\n",
    "for m, cv in zip(x, coherence_values):\n",
    "    print(\"Num Topics =\", m, \" has Coherence Value of\", round(cv, 4))"
   ]
  },
  {
   "cell_type": "code",
   "execution_count": null,
   "metadata": {
    "id": "vLR2A4TsBfyh"
   },
   "outputs": [],
   "source": []
  },
  {
   "cell_type": "code",
   "execution_count": 32,
   "metadata": {
    "id": "C292GM3sBfyh"
   },
   "outputs": [],
   "source": [
    "# Build LDA model\n",
    "lda_model = gensim.models.ldamodel.LdaModel(corpus=corpus,\n",
    "                                           id2word=id2word,\n",
    "                                           num_topics=5, \n",
    "                                           random_state=100,\n",
    "                                           update_every=1,\n",
    "                                           chunksize=1000,\n",
    "                                           passes=10,\n",
    "                                           alpha='auto',\n",
    "                                           per_word_topics=True)"
   ]
  },
  {
   "cell_type": "code",
   "execution_count": 33,
   "metadata": {
    "colab": {
     "base_uri": "https://localhost:8080/"
    },
    "id": "G5YZQLGqBfyh",
    "outputId": "6180c629-c0f9-4c55-b97a-5f146661520e"
   },
   "outputs": [
    {
     "name": "stdout",
     "output_type": "stream",
     "text": [
      "\n",
      "Perplexity:  -7.337972465024712\n",
      "\n",
      "Coherence Score:  0.533436439683219\n"
     ]
    }
   ],
   "source": [
    "# Compute Perplexity\n",
    "print('\\nPerplexity: ', lda_model.log_perplexity(corpus))  # a measure of how good the model is. lower the better.\n",
    "\n",
    "# Compute Coherence Score\n",
    "coherence_model_lda = CoherenceModel(model=lda_model, texts=data_lemmatized, dictionary=id2word, coherence='c_v')\n",
    "coherence_lda = coherence_model_lda.get_coherence()\n",
    "print('\\nCoherence Score: ', coherence_lda)"
   ]
  },
  {
   "cell_type": "code",
   "execution_count": null,
   "metadata": {
    "colab": {
     "base_uri": "https://localhost:8080/"
    },
    "collapsed": true,
    "id": "sf3IwYvbBfyh",
    "outputId": "5e404d0d-bca5-4d1a-a648-2e1799216d5c"
   },
   "outputs": [
    {
     "name": "stdout",
     "output_type": "stream",
     "text": [
      "[(0,\n",
      "  '0.056*\"sugar\" + 0.028*\"add\" + 0.027*\"salt\" + 0.025*\"low\" + 0.017*\"snack\" + '\n",
      "  '0.017*\"calorie\" + 0.015*\"soup\" + 0.015*\"protein\" + 0.014*\"cook\" + '\n",
      "  '0.013*\"fat\"'),\n",
      " (1,\n",
      "  '0.033*\"order\" + 0.027*\"bag\" + 0.024*\"buy\" + 0.022*\"box\" + 0.022*\"product\" + '\n",
      "  '0.019*\"purchase\" + 0.018*\"package\" + 0.017*\"price\" + 0.015*\"get\" + '\n",
      "  '0.014*\"receive\"'),\n",
      " (2,\n",
      "  '0.044*\"bottle\" + 0.040*\"hot\" + 0.032*\"sauce\" + 0.023*\"plastic\" + '\n",
      "  '0.018*\"water\" + 0.016*\"cup\" + 0.015*\"pod\" + 0.014*\"seal\" + 0.013*\"mess\" + '\n",
      "  '0.013*\"leak\"'),\n",
      " (3,\n",
      "  '0.026*\"use\" + 0.018*\"take\" + 0.016*\"go\" + 0.016*\"day\" + 0.014*\"time\" + '\n",
      "  '0.014*\"work\" + 0.013*\"get\" + 0.012*\"problem\" + 0.010*\"br\" + 0.009*\"need\"'),\n",
      " (4,\n",
      "  '0.036*\"trap\" + 0.031*\"baby\" + 0.026*\"formula\" + 0.024*\"set\" + 0.022*\"plant\" '\n",
      "  '+ 0.013*\"catch\" + 0.013*\"dead\" + 0.010*\"tree\" + 0.010*\"grow\" + '\n",
      "  '0.009*\"instruction\"'),\n",
      " (5,\n",
      "  '0.114*\"product\" + 0.024*\"chocolate\" + 0.022*\"ingredient\" + 0.015*\"bar\" + '\n",
      "  '0.015*\"cookie\" + 0.015*\"oil\" + 0.015*\"contain\" + 0.011*\"list\" + '\n",
      "  '0.010*\"read\" + 0.010*\"organic\"'),\n",
      " (6,\n",
      "  '0.044*\"taste\" + 0.024*\"try\" + 0.024*\"flavor\" + 0.021*\"coffee\" + '\n",
      "  '0.021*\"good\" + 0.020*\"bad\" + 0.018*\"make\" + 0.017*\"would\" + 0.015*\"buy\" + '\n",
      "  '0.015*\"tea\"'),\n",
      " (7,\n",
      "  '0.091*\"food\" + 0.074*\"eat\" + 0.062*\"dog\" + 0.025*\"cat\" + 0.019*\"treat\" + '\n",
      "  '0.016*\"chew\" + 0.013*\"chicken\" + 0.011*\"feed\" + 0.011*\"corn\" + '\n",
      "  '0.011*\"cereal\"')]\n"
     ]
    }
   ],
   "source": [
    "pprint(lda_model.print_topics())"
   ]
  },
  {
   "cell_type": "code",
   "execution_count": 35,
   "metadata": {
    "colab": {
     "base_uri": "https://localhost:8080/",
     "height": 929
    },
    "id": "-aWzQFq0Bfyh",
    "outputId": "12000c5b-2161-4228-f5b3-bc9c51a84532"
   },
   "outputs": [
    {
     "data": {
      "text/html": [
       "\n",
       "<link rel=\"stylesheet\" type=\"text/css\" href=\"https://cdn.rawgit.com/bmabey/pyLDAvis/files/ldavis.v1.0.0.css\">\n",
       "\n",
       "\n",
       "<div id=\"ldavis_el201361406002436487688092957764\"></div>\n",
       "<script type=\"text/javascript\">\n",
       "\n",
       "var ldavis_el201361406002436487688092957764_data = {\"mdsDat\": {\"x\": [0.10608617753093966, 0.2118042460596505, 0.04102444607172674, 0.025797022029250233, -0.3847118916915673], \"y\": [-0.07006301128388942, -0.00781597607182405, -0.2302628324387732, 0.333927953681126, -0.025786133886639286], \"topics\": [1, 2, 3, 4, 5], \"cluster\": [1, 1, 1, 1, 1], \"Freq\": [54.091625180524495, 18.61252780757514, 12.442197133994684, 8.822392806055541, 6.03125707185015]}, \"tinfo\": {\"Term\": [\"coffee\", \"br\", \"product\", \"tea\", \"food\", \"order\", \"dog\", \"bag\", \"taste\", \"cup\", \"box\", \"day\", \"purchase\", \"buy\", \"package\", \"price\", \"ingredient\", \"drink\", \"try\", \"year\", \"problem\", \"receive\", \"flavor\", \"take\", \"open\", \"bad\", \"pack\", \"month\", \"store\", \"cat\", \"taste\", \"bad\", \"eat\", \"really\", \"little\", \"smell\", \"stuff\", \"hot\", \"lot\", \"dry\", \"mix\", \"bit\", \"sauce\", \"maybe\", \"horrible\", \"awful\", \"terrible\", \"chew\", \"sweet\", \"texture\", \"kind\", \"like\", \"minute\", \"absolutely\", \"hate\", \"pretty\", \"powder\", \"mouth\", \"snack\", \"bite\", \"try\", \"thing\", \"well\", \"ever\", \"make\", \"add\", \"brand\", \"regular\", \"much\", \"good\", \"think\", \"even\", \"flavor\", \"hard\", \"love\", \"use\", \"water\", \"great\", \"put\", \"go\", \"would\", \"first\", \"could\", \"br\", \"get\", \"give\", \"find\", \"want\", \"buy\", \"say\", \"review\", \"look\", \"know\", \"also\", \"time\", \"product\", \"order\", \"box\", \"package\", \"price\", \"receive\", \"pack\", \"item\", \"arrive\", \"pay\", \"return\", \"candy\", \"cookie\", \"send\", \"ship\", \"packaging\", \"disappointed\", \"plastic\", \"picture\", \"shipping\", \"seller\", \"stale\", \"bag\", \"seal\", \"refund\", \"shipment\", \"date\", \"leak\", \"broken\", \"dollar\", \"melt\", \"open\", \"purchase\", \"store\", \"cost\", \"break\", \"local\", \"container\", \"disappoint\", \"product\", \"money\", \"sell\", \"company\", \"buy\", \"can\", \"come\", \"would\", \"time\", \"get\", \"dog\", \"day\", \"month\", \"cat\", \"week\", \"treat\", \"hair\", \"baby\", \"sick\", \"formula\", \"feed\", \"plant\", \"later\", \"pet\", \"pain\", \"switch\", \"night\", \"die\", \"ago\", \"skin\", \"shampoo\", \"vet\", \"gas\", \"expire\", \"death\", \"supply\", \"apply\", \"fly\", \"bug\", \"walk\", \"hour\", \"stop\", \"food\", \"dead\", \"cause\", \"start\", \"year\", \"problem\", \"help\", \"work\", \"take\", \"change\", \"last\", \"old\", \"back\", \"issue\", \"go\", \"give\", \"time\", \"get\", \"see\", \"ingredient\", \"oil\", \"contain\", \"list\", \"organic\", \"ounce\", \"corn\", \"meat\", \"peanut\", \"label\", \"nut\", \"dent\", \"almond\", \"sodium\", \"soy\", \"tuna\", \"claim\", \"allergy\", \"cancer\", \"source\", \"information\", \"decaf\", \"wheat\", \"protein\", \"consumer\", \"solid\", \"msg\", \"country\", \"pumpkin\", \"reduce\", \"natural\", \"fat\", \"exactly\", \"grain\", \"chicken\", \"health\", \"br\", \"salt\", \"include\", \"high\", \"product\", \"process\", \"read\", \"can\", \"food\", \"low\", \"company\", \"people\", \"coffee\", \"tea\", \"cup\", \"trap\", \"weak\", \"bean\", \"blend\", \"pod\", \"set\", \"brew\", \"machine\", \"ground\", \"instant\", \"roast\", \"maker\", \"hole\", \"ginger\", \"starbuck\", \"pot\", \"spray\", \"bitterness\", \"aroma\", \"caffeine\", \"filter\", \"gopher\", \"yard\", \"dirt\", \"grind\", \"iced\", \"espresso\", \"dig\", \"green\", \"catch\", \"strong\", \"bitter\", \"drink\", \"smooth\", \"work\", \"black\", \"use\", \"flavor\"], \"Freq\": [7872.0, 16346.0, 17220.0, 5595.0, 7523.0, 7248.0, 5513.0, 6215.0, 16735.0, 3502.0, 4823.0, 3564.0, 4417.0, 11165.0, 4017.0, 3999.0, 2639.0, 3728.0, 9857.0, 3003.0, 3942.0, 3086.0, 8191.0, 3979.0, 2984.0, 7971.0, 2849.0, 2228.0, 2858.0, 2185.0, 16734.41180679584, 7970.541221184648, 6714.0224861875295, 5193.390809353977, 3854.0105945024284, 2753.812687717423, 2689.897779464371, 2396.4800632899446, 2282.204328070058, 2189.5584657388695, 2122.3087727170837, 2030.4722351195037, 1978.5634691995563, 1881.2844409651277, 1734.3229924954185, 1527.5903014851617, 1431.8774075871827, 1389.6561300294788, 1326.044478165368, 1164.2685852710115, 1167.893238768589, 1154.9775491635792, 993.2563903491779, 1033.1771353543838, 940.700504881219, 933.3986087903228, 931.6578431528268, 908.4372055916996, 863.5092538152352, 845.8967144653076, 9840.195853598849, 3103.315232182437, 4669.460515447975, 2388.799836362601, 9521.063622871605, 2689.185644705169, 3511.3030641689415, 1468.2591505334437, 4858.642205965768, 8003.246165327428, 4989.276478384823, 5617.542058941107, 7868.0997337008175, 2394.666590084076, 2945.7562303237687, 9713.115154338402, 3658.9750201684483, 2541.0148689283405, 2615.3070628810183, 5920.910874641237, 7621.8590961991795, 3679.09674725946, 3727.2636251997633, 10450.732326007896, 6680.00688272474, 4353.236587455651, 4822.057059343997, 3296.2182484174036, 6995.632582016147, 3925.6521796858137, 3016.7342017701826, 3496.902083942875, 3352.166833227887, 3321.9595382904163, 3565.5294485501295, 3880.941832859658, 7247.305368229552, 4822.900878947573, 4017.048341161775, 3998.864253829055, 3085.52423405339, 2848.5074523334442, 2604.650920912815, 2034.5931192510498, 1904.8402596968604, 1878.488094528212, 1686.617468272407, 1533.6701751635335, 1465.6202342766926, 1408.6715249836473, 1256.2211332871075, 2105.3691461898197, 1359.368643117747, 1174.7291998612168, 1103.1332499609769, 927.4670460380484, 927.2761650406861, 6209.4820260652805, 790.596412247817, 715.9792488229263, 697.0789759881028, 663.8081127382615, 654.078984655105, 617.0330551950301, 595.3542676610019, 553.990406434195, 2978.2149076610613, 4380.597336445216, 2787.1622701059528, 1348.8460609047552, 1377.7617324171792, 1115.2239068419, 1036.4158111405225, 1743.3465880660865, 9238.250976902953, 2049.756502075112, 1186.9050660193627, 1631.340163893865, 4169.012418978636, 1735.8363624994677, 1919.1399441840579, 2315.556305739715, 1943.0241962124096, 1667.5578734317849, 5513.002271923077, 3563.9377503671644, 2228.0007955866495, 2184.2536946298274, 1945.8778287298096, 1445.4332610261667, 1414.8411187818435, 1045.4178356275038, 903.5787681169273, 871.9869137977854, 847.6177580439709, 771.4028127185129, 694.6799129392464, 691.9828680626541, 623.5347123874913, 613.7943590769005, 586.2221775563455, 579.7066953205971, 524.1279100855045, 516.0883943535323, 513.0119148497683, 457.3136949862681, 326.7945462806718, 326.53495460542365, 317.49538652903607, 299.62245375180225, 296.1432992074187, 285.7527587516395, 262.2748541387266, 257.44789172219976, 951.7298423547395, 1243.805694912208, 6600.067813150285, 431.1160325011897, 1096.7455987652793, 1636.0573250330262, 2421.825027095638, 2699.5732158028763, 920.6328761368965, 1712.7602169600125, 1890.4004098075447, 886.651784818249, 1119.6467634254304, 1124.7226330518722, 1120.792519211111, 756.3547300783554, 1210.882842038995, 1084.7788614841172, 1047.5139643964958, 1025.7170426312396, 837.4380486302467, 2638.920649345314, 1657.0110061933428, 1598.5588380403199, 1177.73467030627, 1132.7376409811848, 997.6874888676768, 940.0455224150242, 748.2133082145932, 663.1889370401669, 658.6751629453101, 634.2865958586991, 594.4290151518181, 519.1315038432084, 510.92400137690714, 447.54456190624734, 427.8725847421678, 488.8316974298927, 391.3728533754371, 364.8494844291248, 361.15799991587375, 356.3046070260672, 357.9595851449923, 318.1179768480471, 745.5194720071378, 299.0441447213077, 285.77700743146653, 274.59607920131043, 263.66395382803995, 259.28017874335575, 237.91522263610796, 760.325220447444, 636.152279500237, 530.0457748609615, 358.0857961364943, 938.4729879890759, 639.2450399159688, 5437.331843776762, 958.4882995842535, 683.1154111528916, 964.8856599311804, 4055.404726730473, 465.33102261766027, 707.8702820576987, 783.7203132870494, 908.373729417734, 581.7832576889971, 569.6356367451115, 545.3080157423342, 7871.851442788778, 5594.569113419789, 3501.9548635864753, 1223.2701227934865, 1126.6253964995642, 1126.864102019513, 852.1079786557734, 825.9104107160076, 788.2515470041504, 713.7737093728483, 677.5625834233562, 773.5702338464588, 460.6341588226707, 421.87888595367986, 404.61311380554196, 364.8564719401379, 354.85241464762333, 349.72074079774546, 340.2237842864157, 316.7981165704225, 285.03909928134635, 282.88728579865693, 248.1067930216882, 240.67647342415512, 231.71459202802293, 234.35333376212256, 215.54239201729555, 209.9838291706104, 206.4295877696203, 204.0889475323445, 206.69230899141027, 1059.0231751327467, 417.29891347412035, 657.056472911137, 793.1514759289813, 804.0689875950976, 349.6867955268738, 517.5220453195803, 323.1693041304381, 386.1640405241033, 323.0335890241543], \"Total\": [7872.0, 16346.0, 17220.0, 5595.0, 7523.0, 7248.0, 5513.0, 6215.0, 16735.0, 3502.0, 4823.0, 3564.0, 4417.0, 11165.0, 4017.0, 3999.0, 2639.0, 3728.0, 9857.0, 3003.0, 3942.0, 3086.0, 8191.0, 3979.0, 2984.0, 7971.0, 2849.0, 2228.0, 2858.0, 2185.0, 16735.212935507778, 7971.3577260331185, 6714.827209599188, 5194.195811537689, 3854.817329197157, 2754.6171018730593, 2690.7013855247897, 2397.2821547357007, 2283.020479245236, 2190.3682999420917, 2123.111083964775, 2031.276438369694, 1979.361123981301, 1882.0939643229729, 1735.125435279085, 1528.393983310828, 1432.6901221453256, 1390.4575557089138, 1326.844495560231, 1165.0663417289695, 1168.698679818005, 1155.7836262202331, 994.0608032617474, 1034.0298866247329, 941.5033687483103, 934.2054311498264, 932.4633079973006, 909.2356294191726, 864.3106728239401, 846.6968734305938, 9857.052775712882, 3110.686247192701, 4707.385101480424, 2393.0995493438586, 9673.105397961099, 2701.5552354846877, 3539.8306532867573, 1471.8629069205087, 4930.691750725393, 8236.429515803944, 5086.534880261669, 5767.8772957753035, 8191.738255025672, 2429.881505563512, 3012.045893139709, 10549.653745202679, 3958.3842092081927, 2642.809949817784, 2743.667041969983, 7293.572328833856, 9943.720625302454, 4140.222184936565, 4266.02087083987, 16346.286602267426, 9383.60514006399, 5438.63238780592, 6360.710729728057, 3743.876164384021, 11165.252717584217, 5338.534382365264, 3353.8010746639147, 4636.314382006922, 4298.358653387505, 4269.108693852841, 6556.75353625836, 17220.614686547677, 7248.118026093002, 4823.712396055485, 4017.863622569618, 3999.6795853517788, 3086.3363661315157, 2849.322749875038, 2605.462064362026, 2035.404503084469, 1905.6537948511084, 1879.30378863769, 1687.4286956012927, 1534.480919269361, 1466.4297476801426, 1409.4801759659108, 1257.0367105082364, 2106.7788532433133, 1360.30377796295, 1175.5427256499138, 1103.9417334343013, 928.2761787704449, 928.08667893264, 6215.508945999287, 791.4093213132036, 716.7898809144293, 697.8883268633818, 664.619554493258, 654.8889647031883, 617.8404875557538, 596.171222283588, 554.8015360544184, 2984.1531903595715, 4417.292231516104, 2858.701106897264, 1378.055765119573, 1410.380841307468, 1137.8058617482807, 1085.3820279124698, 1958.9557177690717, 17220.614686547677, 2869.990924547691, 1318.2875882794958, 2201.8980191339674, 11165.252717584217, 2784.6474581428265, 4089.8419679877115, 9943.720625302454, 6556.75353625836, 9383.60514006399, 5513.8089460807405, 3564.8235043361365, 2228.81311090937, 2185.0579423378513, 1946.6903633826462, 1446.2400084454998, 1415.65396686916, 1046.2307278945002, 904.3886990533505, 872.793530166485, 848.4239298933622, 772.2127433000403, 695.494491624967, 692.8057130094089, 624.3439278443327, 614.6032737022523, 587.0293414022675, 580.51632640742, 524.939696412832, 516.90427050024, 513.8289979729158, 458.1166993926157, 327.6003305852514, 327.3532055957755, 318.3074596323928, 300.4457468009414, 296.9631163573473, 286.5613768430329, 263.08854675389614, 258.2614441410882, 961.5879673934345, 1260.9001881598865, 7523.826526392897, 438.9506050769716, 1219.4931975801214, 1912.3830247972382, 3003.5399296125383, 3942.0634995658643, 1165.4867724157223, 3178.8108652902383, 3979.482044632633, 1234.4839624621236, 2172.0249268569632, 2256.788839780869, 2504.544868255267, 1210.4713784103346, 7293.572328833856, 5438.63238780592, 6556.75353625836, 9383.60514006399, 3510.0283838552778, 2639.7184866749376, 1657.8126959027686, 1599.3609107849209, 1178.5330633354909, 1133.5402824527362, 998.494627473855, 940.8465755841676, 749.0140298736683, 663.9909710546218, 659.4761660541097, 635.0869402067053, 595.233046697248, 519.9340454670875, 511.72089224395927, 448.34097546762257, 428.6737065040189, 489.7794886291975, 392.17655656738145, 365.6494210973005, 361.963776669592, 357.1067095387226, 358.80366735703177, 318.9147586565309, 747.5159257791062, 299.8456491462994, 286.595384530847, 275.3901980585637, 264.47056416176713, 260.0910896485591, 238.72249169754585, 812.1190821971823, 679.856481627881, 572.4416375176235, 372.43196406579614, 1128.8904409444306, 744.1698602116963, 16346.286602267426, 1469.2740800005104, 955.6481217854471, 1634.4902088685837, 17220.614686547677, 637.1303799605533, 1821.0404928468756, 2784.6474581428265, 7523.826526392897, 1636.5819294533612, 2201.8980191339674, 1947.012721555669, 7872.657944630866, 5595.377448865915, 3502.7645948415366, 1224.07459718365, 1127.4333702982033, 1127.6790806929585, 852.9242573247485, 826.7160073583832, 789.072088289778, 714.5778480250484, 678.3719950628172, 774.7610164353702, 461.444928640717, 422.69157205384647, 405.4297729834901, 365.674052019464, 355.66390170190795, 350.5330808180449, 341.03893256533314, 317.6166578879623, 285.8530332124017, 283.6978408620545, 248.91818333480063, 241.48815057143986, 232.51687180604145, 235.1658938801331, 216.355200124183, 210.80695427007885, 207.24108173196186, 204.89455863577956, 207.51058563469815, 1082.5252513254316, 473.5010949591952, 1099.3768357592437, 1843.9443339239892, 3728.0203519830507, 581.7544530899333, 3178.8108652902383, 917.8608500332075, 10549.653745202679, 8191.738255025672], \"Category\": [\"Default\", \"Default\", \"Default\", \"Default\", \"Default\", \"Default\", \"Default\", \"Default\", \"Default\", \"Default\", \"Default\", \"Default\", \"Default\", \"Default\", \"Default\", \"Default\", \"Default\", \"Default\", \"Default\", \"Default\", \"Default\", \"Default\", \"Default\", \"Default\", \"Default\", \"Default\", \"Default\", \"Default\", \"Default\", \"Default\", \"Topic1\", \"Topic1\", \"Topic1\", \"Topic1\", \"Topic1\", \"Topic1\", \"Topic1\", \"Topic1\", \"Topic1\", \"Topic1\", \"Topic1\", \"Topic1\", \"Topic1\", \"Topic1\", \"Topic1\", \"Topic1\", \"Topic1\", \"Topic1\", \"Topic1\", \"Topic1\", \"Topic1\", \"Topic1\", \"Topic1\", \"Topic1\", \"Topic1\", \"Topic1\", \"Topic1\", \"Topic1\", \"Topic1\", \"Topic1\", \"Topic1\", \"Topic1\", \"Topic1\", \"Topic1\", \"Topic1\", \"Topic1\", \"Topic1\", \"Topic1\", \"Topic1\", \"Topic1\", \"Topic1\", \"Topic1\", \"Topic1\", \"Topic1\", \"Topic1\", \"Topic1\", \"Topic1\", \"Topic1\", \"Topic1\", \"Topic1\", \"Topic1\", \"Topic1\", \"Topic1\", \"Topic1\", \"Topic1\", \"Topic1\", \"Topic1\", \"Topic1\", \"Topic1\", \"Topic1\", \"Topic1\", \"Topic1\", \"Topic1\", \"Topic1\", \"Topic1\", \"Topic1\", \"Topic2\", \"Topic2\", \"Topic2\", \"Topic2\", \"Topic2\", \"Topic2\", \"Topic2\", \"Topic2\", \"Topic2\", \"Topic2\", \"Topic2\", \"Topic2\", \"Topic2\", \"Topic2\", \"Topic2\", \"Topic2\", \"Topic2\", \"Topic2\", \"Topic2\", \"Topic2\", \"Topic2\", \"Topic2\", \"Topic2\", \"Topic2\", \"Topic2\", \"Topic2\", \"Topic2\", \"Topic2\", \"Topic2\", \"Topic2\", \"Topic2\", \"Topic2\", \"Topic2\", \"Topic2\", \"Topic2\", \"Topic2\", \"Topic2\", \"Topic2\", \"Topic2\", \"Topic2\", \"Topic2\", \"Topic2\", \"Topic2\", \"Topic2\", \"Topic2\", \"Topic2\", \"Topic2\", \"Topic2\", \"Topic3\", \"Topic3\", \"Topic3\", \"Topic3\", \"Topic3\", \"Topic3\", \"Topic3\", \"Topic3\", \"Topic3\", \"Topic3\", \"Topic3\", \"Topic3\", \"Topic3\", \"Topic3\", \"Topic3\", \"Topic3\", \"Topic3\", \"Topic3\", \"Topic3\", \"Topic3\", \"Topic3\", \"Topic3\", \"Topic3\", \"Topic3\", \"Topic3\", \"Topic3\", \"Topic3\", \"Topic3\", \"Topic3\", \"Topic3\", \"Topic3\", \"Topic3\", \"Topic3\", \"Topic3\", \"Topic3\", \"Topic3\", \"Topic3\", \"Topic3\", \"Topic3\", \"Topic3\", \"Topic3\", \"Topic3\", \"Topic3\", \"Topic3\", \"Topic3\", \"Topic3\", \"Topic3\", \"Topic3\", \"Topic3\", \"Topic3\", \"Topic3\", \"Topic4\", \"Topic4\", \"Topic4\", \"Topic4\", \"Topic4\", \"Topic4\", \"Topic4\", \"Topic4\", \"Topic4\", \"Topic4\", \"Topic4\", \"Topic4\", \"Topic4\", \"Topic4\", \"Topic4\", \"Topic4\", \"Topic4\", \"Topic4\", \"Topic4\", \"Topic4\", \"Topic4\", \"Topic4\", \"Topic4\", \"Topic4\", \"Topic4\", \"Topic4\", \"Topic4\", \"Topic4\", \"Topic4\", \"Topic4\", \"Topic4\", \"Topic4\", \"Topic4\", \"Topic4\", \"Topic4\", \"Topic4\", \"Topic4\", \"Topic4\", \"Topic4\", \"Topic4\", \"Topic4\", \"Topic4\", \"Topic4\", \"Topic4\", \"Topic4\", \"Topic4\", \"Topic4\", \"Topic4\", \"Topic5\", \"Topic5\", \"Topic5\", \"Topic5\", \"Topic5\", \"Topic5\", \"Topic5\", \"Topic5\", \"Topic5\", \"Topic5\", \"Topic5\", \"Topic5\", \"Topic5\", \"Topic5\", \"Topic5\", \"Topic5\", \"Topic5\", \"Topic5\", \"Topic5\", \"Topic5\", \"Topic5\", \"Topic5\", \"Topic5\", \"Topic5\", \"Topic5\", \"Topic5\", \"Topic5\", \"Topic5\", \"Topic5\", \"Topic5\", \"Topic5\", \"Topic5\", \"Topic5\", \"Topic5\", \"Topic5\", \"Topic5\", \"Topic5\", \"Topic5\", \"Topic5\", \"Topic5\", \"Topic5\"], \"logprob\": [30.0, 29.0, 28.0, 27.0, 26.0, 25.0, 24.0, 23.0, 22.0, 21.0, 20.0, 19.0, 18.0, 17.0, 16.0, 15.0, 14.0, 13.0, 12.0, 11.0, 10.0, 9.0, 8.0, 7.0, 6.0, 5.0, 4.0, 3.0, 2.0, 1.0, -3.636699914932251, -4.378399848937988, -4.550000190734863, -4.80679988861084, -5.105100154876709, -5.441199779510498, -5.464700222015381, -5.5802001953125, -5.629000186920166, -5.670499801635742, -5.701700210571289, -5.7459001541137695, -5.7718000411987305, -5.822199821472168, -5.903600215911865, -6.0304999351501465, -6.095200061798096, -6.125100135803223, -6.171999931335449, -6.30210018157959, -6.298999786376953, -6.310100078582764, -6.460899829864502, -6.421500205993652, -6.5152997970581055, -6.523099899291992, -6.525000095367432, -6.55019998550415, -6.600900173187256, -6.621500015258789, -4.167699813842773, -5.321700096130371, -4.913099765777588, -5.583399772644043, -4.200699806213379, -5.464900016784668, -5.198200225830078, -6.070099830627441, -4.8734002113342285, -4.374300003051758, -4.84689998626709, -4.728300094604492, -4.39139986038208, -5.580900192260742, -5.373799800872803, -4.180699825286865, -5.1570000648498535, -5.521599769592285, -5.492800235748291, -4.6757001876831055, -4.4232001304626465, -5.151500225067139, -5.138500213623047, -4.107500076293945, -4.555099964141846, -4.98330020904541, -4.88100004196167, -5.26140022277832, -4.508900165557861, -5.086699962615967, -5.349999904632568, -5.202300071716309, -5.24459981918335, -5.253600120544434, -5.1828999519348145, -5.098100185394287, -3.4066998958587646, -3.813999891281128, -3.996799945831299, -4.001299858093262, -4.2606000900268555, -4.3404998779296875, -4.429999828338623, -4.677000045776367, -4.7428998947143555, -4.756899833679199, -4.86460018157959, -4.959700107574463, -5.005099773406982, -5.0447001457214355, -5.159200191497803, -4.6427998542785645, -5.0802998542785645, -5.22629976272583, -5.2891998291015625, -5.462600231170654, -5.462800025939941, -3.561300039291382, -5.622300148010254, -5.721399784088135, -5.748199939727783, -5.797100067138672, -5.8119001388549805, -5.870200157165527, -5.905900001525879, -5.97790002822876, -4.296000003814697, -3.9102001190185547, -4.362299919128418, -5.088099956512451, -5.06689977645874, -5.278299808502197, -5.351600170135498, -4.831500053405762, -3.1640000343322754, -4.669600009918213, -5.216000080108643, -4.897900104522705, -3.959700107574463, -4.8358001708984375, -4.735499858856201, -4.547699928283691, -4.723100185394287, -4.875999927520752, -3.2774999141693115, -3.71370005607605, -4.183499813079834, -4.2032999992370605, -4.318900108337402, -4.616199970245361, -4.637599945068359, -4.940199851989746, -5.085999965667725, -5.121600151062012, -5.149899959564209, -5.244100093841553, -5.348899841308594, -5.352799892425537, -5.456900119781494, -5.472700119018555, -5.518700122833252, -5.529799938201904, -5.6305999755859375, -5.646100044250488, -5.652100086212158, -5.767000198364258, -6.103000164031982, -6.103799819946289, -6.131899833679199, -6.189799785614014, -6.201499938964844, -6.237199783325195, -6.322999954223633, -6.3414998054504395, -5.03410005569458, -4.76639986038208, -3.0975000858306885, -5.826000213623047, -4.892199993133545, -4.492300033569336, -4.100100040435791, -3.991499900817871, -5.067299842834473, -4.446499824523926, -4.347799777984619, -5.104899883270264, -4.871600151062012, -4.867099761962891, -4.87060022354126, -5.263800144195557, -4.7932000160217285, -4.903200149536133, -4.938199996948242, -4.959199905395508, -5.1620001792907715, -3.6703999042510986, -4.135799884796143, -4.1717000007629395, -4.477200031280518, -4.516200065612793, -4.643099784851074, -4.702600002288818, -4.9309000968933105, -5.051499843597412, -5.058300018310547, -5.096099853515625, -5.160999774932861, -5.29640007019043, -5.312300205230713, -5.444799900054932, -5.489699840545654, -5.356500148773193, -5.57889986038208, -5.649099826812744, -5.659200191497803, -5.672800064086914, -5.668099880218506, -5.786099910736084, -4.934500217437744, -5.8480000495910645, -5.8933000564575195, -5.933300018310547, -5.973899841308594, -5.990600109100342, -6.076600074768066, -4.91480016708374, -5.093100070953369, -5.275599956512451, -5.667799949645996, -4.7042999267578125, -5.0883002281188965, -2.947499990463257, -4.683199882507324, -5.021900177001953, -4.676499843597412, -3.2407000064849854, -5.405799865722656, -4.986299991607666, -4.884500026702881, -4.7368998527526855, -5.182499885559082, -5.20359992980957, -5.247200012207031, -2.197200059890747, -2.5387001037597656, -3.0071001052856445, -4.058899879455566, -4.141200065612793, -4.140999794006348, -4.420499801635742, -4.451700210571289, -4.4984002113342285, -4.597599983215332, -4.649700164794922, -4.517199993133545, -5.035600185394287, -5.123499870300293, -5.165299892425537, -5.268700122833252, -5.296500205993652, -5.311100006103516, -5.338600158691406, -5.409900188446045, -5.515600204467773, -5.523200035095215, -5.654399871826172, -5.684800148010254, -5.722700119018555, -5.711400032043457, -5.795100212097168, -5.821199893951416, -5.8383002281188965, -5.849699974060059, -5.836999893188477, -4.203100204467773, -5.134399890899658, -4.6803998947143555, -4.492199897766113, -4.478499889373779, -5.311200141906738, -4.9191999435424805, -5.389999866485596, -5.211999893188477, -5.390500068664551], \"loglift\": [30.0, 29.0, 28.0, 27.0, 26.0, 25.0, 24.0, 23.0, 22.0, 21.0, 20.0, 19.0, 18.0, 17.0, 16.0, 15.0, 14.0, 13.0, 12.0, 11.0, 10.0, 9.0, 8.0, 7.0, 6.0, 5.0, 4.0, 3.0, 2.0, 1.0, 0.6144, 0.6144, 0.6144, 0.6143, 0.6143, 0.6142, 0.6142, 0.6142, 0.6141, 0.6141, 0.6141, 0.6141, 0.6141, 0.6141, 0.614, 0.614, 0.6139, 0.6139, 0.6139, 0.6138, 0.6138, 0.6138, 0.6137, 0.6137, 0.6136, 0.6136, 0.6136, 0.6136, 0.6136, 0.6135, 0.6128, 0.6121, 0.6064, 0.6127, 0.5986, 0.6099, 0.6064, 0.612, 0.5998, 0.5858, 0.5952, 0.5881, 0.5742, 0.5999, 0.5922, 0.5319, 0.5358, 0.5752, 0.5666, 0.406, 0.3486, 0.4964, 0.4795, 0.1672, 0.2746, 0.3919, 0.3376, 0.4871, 0.147, 0.3071, 0.5086, 0.3324, 0.3659, 0.3636, 0.0053, -0.8755, 1.6812, 1.6812, 1.6811, 1.6811, 1.6811, 1.681, 1.681, 1.6809, 1.6809, 1.6809, 1.6809, 1.6808, 1.6808, 1.6808, 1.6807, 1.6807, 1.6806, 1.6806, 1.6806, 1.6805, 1.6805, 1.6804, 1.6803, 1.6802, 1.6802, 1.6801, 1.6801, 1.68, 1.68, 1.6799, 1.6793, 1.673, 1.656, 1.6599, 1.6579, 1.6613, 1.6352, 1.5647, 1.0586, 1.3447, 1.5764, 1.3814, 0.6962, 1.2087, 0.9247, 0.224, 0.4651, -0.0463, 2.0839, 2.0838, 2.0837, 2.0837, 2.0837, 2.0835, 2.0835, 2.0833, 2.0832, 2.0832, 2.0831, 2.083, 2.0829, 2.0829, 2.0828, 2.0828, 2.0827, 2.0827, 2.0825, 2.0825, 2.0825, 2.0823, 2.0816, 2.0816, 2.0815, 2.0813, 2.0813, 2.0813, 2.081, 2.0809, 2.0738, 2.0704, 1.9531, 2.0661, 1.978, 1.928, 1.8688, 1.7055, 1.8482, 1.4657, 1.3397, 1.7531, 1.4214, 1.3877, 1.28, 1.6138, 0.2884, 0.4719, 0.25, -0.1295, 0.651, 2.4276, 2.4274, 2.4274, 2.4272, 2.4272, 2.4271, 2.427, 2.4268, 2.4267, 2.4267, 2.4266, 2.4265, 2.4263, 2.4263, 2.4261, 2.426, 2.4259, 2.4258, 2.4257, 2.4256, 2.4256, 2.4255, 2.4254, 2.4252, 2.4252, 2.425, 2.425, 2.4248, 2.4248, 2.4245, 2.362, 2.3614, 2.3509, 2.3886, 2.2431, 2.2759, 1.3272, 2.0007, 2.0922, 1.9008, 0.9818, 2.1137, 1.483, 1.1601, 0.3137, 1.3936, 1.0758, 1.1552, 2.8081, 2.8081, 2.808, 2.8076, 2.8075, 2.8075, 2.8073, 2.8072, 2.8072, 2.8071, 2.807, 2.8067, 2.8065, 2.8063, 2.8062, 2.806, 2.8059, 2.8059, 2.8058, 2.8056, 2.8054, 2.8054, 2.8049, 2.8048, 2.8048, 2.8048, 2.8045, 2.8043, 2.8043, 2.8043, 2.8043, 2.7863, 2.6819, 2.2935, 1.9646, 1.2743, 2.2992, 0.993, 1.7643, -0.4994, -0.4249]}, \"token.table\": {\"Topic\": [1, 1, 4, 3, 4, 4, 1, 2, 3, 4, 5, 3, 5, 2, 1, 3, 1, 2, 3, 1, 2, 5, 5, 1, 1, 1, 5, 5, 1, 5, 5, 2, 1, 2, 3, 4, 5, 1, 5, 1, 2, 5, 2, 3, 1, 2, 5, 1, 2, 4, 4, 2, 3, 3, 5, 3, 4, 1, 3, 4, 1, 1, 4, 4, 5, 1, 2, 3, 5, 2, 3, 4, 4, 4, 1, 2, 2, 4, 1, 2, 3, 4, 1, 2, 3, 4, 5, 2, 3, 3, 5, 3, 4, 4, 3, 5, 5, 1, 2, 1, 2, 3, 2, 1, 5, 1, 1, 5, 1, 2, 1, 2, 4, 5, 3, 1, 4, 3, 5, 1, 2, 3, 4, 5, 1, 2, 3, 5, 1, 5, 3, 1, 3, 4, 3, 3, 1, 2, 3, 5, 5, 1, 3, 1, 2, 3, 1, 2, 5, 5, 1, 4, 1, 2, 1, 5, 5, 4, 5, 3, 1, 2, 1, 3, 4, 1, 3, 1, 3, 4, 5, 1, 1, 1, 3, 5, 1, 2, 4, 4, 4, 5, 1, 2, 3, 4, 2, 1, 1, 2, 3, 4, 4, 1, 2, 3, 3, 2, 1, 4, 1, 1, 2, 1, 2, 3, 4, 1, 1, 2, 3, 1, 4, 5, 1, 3, 4, 5, 5, 1, 4, 2, 1, 1, 1, 2, 3, 1, 4, 1, 2, 1, 4, 3, 4, 4, 1, 2, 3, 1, 2, 5, 2, 4, 4, 2, 2, 2, 3, 2, 4, 1, 3, 4, 3, 2, 3, 2, 5, 5, 1, 1, 2, 1, 2, 3, 5, 1, 2, 4, 5, 1, 2, 3, 4, 1, 4, 4, 1, 2, 1, 3, 5, 1, 2, 3, 4, 1, 2, 4, 2, 1, 5, 2, 1, 2, 5, 1, 4, 1, 1, 2, 3, 4, 2, 1, 2, 3, 4, 2, 4, 2, 2, 5, 3, 2, 2, 2, 3, 3, 1, 1, 5, 1, 4, 4, 4, 4, 5, 2, 5, 1, 3, 1, 3, 1, 2, 3, 1, 5, 1, 3, 1, 3, 1, 2, 3, 1, 5, 1, 1, 1, 3, 1, 2, 1, 2, 3, 5, 3, 1, 5, 4, 1, 3, 4, 5, 3, 3, 1, 2, 1, 5, 5, 3, 1, 2, 3, 5, 4, 1, 3, 5, 1, 2, 3, 5, 1, 2, 3], \"Freq\": [0.9990040069072911, 0.9953525897528298, 0.004441885859811811, 0.9982098964523861, 0.996999931414362, 0.9982035308608261, 0.7781483766818592, 0.05410965533218226, 0.06980379778783685, 0.09557030032697127, 0.002342409321739492, 0.9967567812152525, 0.9975401967814278, 0.9998012664883781, 0.9997422239846989, 0.9988236553738228, 0.2411615809545319, 0.31103455556884163, 0.44758631167223556, 0.9999551235755045, 0.998952789537295, 0.000804439353790703, 0.9993978067833438, 0.9993716077508789, 0.9991769505091354, 0.5694315065170958, 0.43005636635053046, 0.9970158329166027, 0.6471569192416362, 0.3519051934596776, 0.9989163664688732, 0.9998523137374301, 0.6393501016035239, 0.000611759737444765, 0.009359923982904904, 0.3326137692487187, 0.018046912254620566, 0.9918553580352812, 0.007909982917968635, 0.022688907182215393, 0.9770410655341504, 0.9991913434951203, 0.9986396366494548, 0.9958624319936116, 0.6265868025523472, 0.37339056315619434, 0.9963113046925718, 0.09516464973872753, 0.623418233760117, 0.28154371847231086, 0.9982239241748241, 0.999745947427343, 0.9995158287030507, 0.1182679419248775, 0.8806737818334628, 0.8995540132382956, 0.10004155844582686, 0.2762287809068743, 0.7185188523882625, 0.004860330455839431, 0.9996709315526855, 0.16830685521709782, 0.8309043694401987, 0.998408490663055, 0.9999164266204001, 0.45918644649343643, 0.46921128371720155, 0.06577271251689798, 0.005868197399277143, 0.7407245866189078, 0.00045415363986444377, 0.258867574722733, 0.9971797184694622, 0.9997743406241286, 0.044224060068802744, 0.9545026298183259, 0.9996865915611449, 0.9991001980491432, 0.0021769801164321476, 0.9789153923556557, 0.0036283001940535793, 0.015238860815025033, 0.8736478589393889, 0.12001816575716853, 0.006094672479856214, 0.9982207314327832, 0.9997817167494891, 0.9990678058009739, 0.999768991554523, 0.981887244293518, 0.015947124617296117, 0.9958924631112863, 0.9977601473169111, 0.9979284639787899, 0.9991105738393004, 0.9975394718629103, 0.9983582547404494, 0.10975235328180344, 0.8897597756752716, 0.0004746582672692649, 0.9991556526018026, 0.9998532872486785, 0.9980354263342304, 0.7840622432345802, 0.21566405869332964, 0.9998318547880275, 0.9998768085055108, 0.9956340537214083, 0.974015172638107, 0.026006101085033116, 0.998286929039378, 0.001671472463858314, 0.9258585771264467, 0.07336992497983162, 0.9989210260057401, 0.0632486431504466, 0.9354915591554428, 0.9995003324653802, 0.9979785733987994, 0.7580913839491892, 0.19809107087846917, 0.03395846929345186, 0.00408759352606365, 0.0058169600178598095, 0.8885996537541785, 0.06690462193256522, 0.042992861747280176, 0.0014491975869869722, 0.9604799073228375, 0.039429970775962955, 0.9980409891618423, 0.0019936663807148354, 0.8772132075145276, 0.12068327157927138, 0.9990908157094913, 0.998167490905217, 0.7118799118559721, 0.17775684026583255, 0.10933963915632147, 0.0010656884908023534, 0.9981333452770127, 0.800385039768446, 0.19949868324115871, 0.8118106920791568, 0.022074230944898538, 0.1660366066724977, 0.971658894748502, 0.028046133285880792, 0.0002428236648128207, 0.9977770567700024, 0.03759075844931149, 0.9612493946323939, 0.9614766283800303, 0.03821689864871431, 0.021246617547109468, 0.9782681731473446, 0.9961720699733415, 0.0012907205948499334, 0.9990177404138485, 0.999538046101332, 0.985644770955437, 0.01440399456511077, 0.9994653564023042, 0.13975303967620348, 0.8586749264720579, 0.20935458537573745, 0.7902277587338287, 0.4074664971294103, 0.0018354346717541004, 0.5903981527475689, 0.9981566862189387, 0.9993513810262923, 0.9994651631919222, 0.009359518115015725, 0.9900290272772189, 0.9940114106643825, 0.04185641041732766, 0.24276718042050044, 0.7146982078758698, 0.9969008996214265, 0.9997278169325386, 0.9990357925440254, 0.03552335128854533, 0.26105532574837964, 0.6245500831195411, 0.07848182261422805, 0.9998226555019372, 0.9994021728354191, 0.7798325524461095, 0.08514878108450957, 0.06839820119903227, 0.06676967259905532, 0.9992779632098627, 0.24585353206453606, 0.23848713410005556, 0.5156478575136337, 0.9992890071295724, 0.9986425718692767, 0.9993219957417152, 0.9995476891127838, 0.999787972002988, 0.019335460239408672, 0.9799562803154849, 0.7542629148643396, 0.24157119377982852, 0.003666705619872397, 0.00043137713174969377, 0.9995530135386375, 0.9780727467366496, 0.013612010392465252, 0.008300006336869056, 0.6440251972915583, 0.3556192265879382, 0.9994516355841271, 0.9842754325830917, 0.006202765040960561, 0.009407526978790184, 0.00010337941734934268, 0.9989399570230684, 0.9994187514844051, 0.9986461804008674, 0.9985552742695727, 0.9989328587765792, 0.9994766717704191, 0.2857151891967155, 0.7142879729917888, 0.9996351821041476, 0.9986410239775119, 0.9985831083992294, 0.9854601028922877, 0.01439960224436148, 0.06279867216273242, 0.9358233498760127, 0.9982465247822048, 0.9982885174644726, 0.9995097782127154, 0.37885688945671114, 0.12274077003451343, 0.49849590717988307, 0.0016755172007096365, 0.9979380447426595, 0.0003351034401419273, 0.999845749463657, 0.9995233672229388, 0.999504626804947, 0.9998867275126863, 0.9997850542848774, 0.9991752742783325, 0.999449137199876, 0.9996569183485086, 0.998507553418915, 0.714941399503434, 0.0046224659450653065, 0.2799159933400658, 0.9988370289183831, 0.9995383190775872, 0.998429521772902, 0.9990415538175579, 0.999133913759973, 0.9969536247444883, 0.9995031354120564, 0.9987096722951581, 0.9998300900516462, 0.09385947233999345, 0.21562311213241736, 0.6849204738323846, 0.0055808334904860965, 0.1695100459762829, 0.0831854855253981, 0.7298349201756625, 0.015695374627433603, 0.22536942325477743, 0.5364500726688055, 0.0026712170754237988, 0.2354735921922501, 0.0013377641405535805, 0.997972048852971, 0.9958049710582804, 0.008149789081906422, 0.9917840546620009, 0.9531039882020091, 0.0459239397756991, 0.0007289514250110969, 0.5282694172802729, 0.03624301615436384, 0.04667661171395343, 0.3887887187468121, 0.999769779272658, 0.9998910144288851, 0.9969735080577945, 0.9988980300427489, 0.9973754981511214, 0.0020382333068483405, 0.9993062384881184, 0.8995763114251892, 0.10018483282693523, 0.9983638849232641, 0.34711018654860015, 0.6520226641442332, 0.999817555282396, 0.7354078327131737, 0.18656805944531865, 0.02266539678000357, 0.055445929313066585, 0.9994827944248567, 0.5427306539064571, 0.1737877684424876, 0.23845961014157724, 0.04501388100641482, 0.9004105102356005, 0.09937133684992726, 0.9986252165038477, 0.9997069428789055, 0.998641330360447, 0.9983866267256496, 0.9996593240727336, 0.9987271217626259, 0.9991469355621047, 0.9995702079716859, 0.998250603541416, 0.9997759754440501, 0.39707474308630647, 0.6016283986156158, 0.9996405542200179, 0.9985912393750467, 0.9979225606447862, 0.9973373670745188, 0.9992394728871995, 0.9980584837959607, 0.9988291191358444, 0.9984792282177739, 0.14432255276333206, 0.8554771605826496, 0.012689346984196931, 0.9865967280213115, 0.023087408418025954, 0.9749182918339141, 0.0017490460922746935, 0.40204594605156396, 0.597611281800628, 0.9997393298533376, 0.9985163817238635, 0.999363530871133, 0.9990184339588394, 0.5239375317227942, 0.0010051559361588377, 0.4749361798350508, 0.9999275219555047, 0.9999325427338256, 0.9995183032711273, 0.9990847373314492, 0.9975290831083856, 0.0022503073096225264, 0.9808248871662801, 0.0190699567158006, 0.5438667139584071, 0.29633567729141475, 0.15983519804498336, 0.9991221146275542, 0.9991425984357654, 0.9982699924509992, 0.0016232032397577223, 0.9984283932189049, 0.9206937246084369, 0.040001312857485885, 0.0026541155450464566, 0.03658887858528329, 0.9975624128216757, 0.9951156311958085, 0.8803709992748358, 0.11939497471961516, 0.9243670666147692, 0.07553587125384421, 0.999615613383797, 0.9996453655929921, 0.9918457698588644, 0.002549185958086608, 0.0042486432634776805, 0.001274592979043304, 0.9971316515410436, 0.2982247262180047, 0.5388807552863313, 0.1629540170684878, 0.7665138922553111, 0.23291080746041729, 0.0006033958742497857, 0.995042249278174, 0.19177371151989478, 0.001664702356943531, 0.8063818217034464], \"Term\": [\"absolutely\", \"add\", \"add\", \"ago\", \"allergy\", \"almond\", \"also\", \"also\", \"also\", \"also\", \"also\", \"apply\", \"aroma\", \"arrive\", \"awful\", \"baby\", \"back\", \"back\", \"back\", \"bad\", \"bag\", \"bag\", \"bean\", \"bit\", \"bite\", \"bitter\", \"bitter\", \"bitterness\", \"black\", \"black\", \"blend\", \"box\", \"br\", \"br\", \"br\", \"br\", \"br\", \"brand\", \"brand\", \"break\", \"break\", \"brew\", \"broken\", \"bug\", \"buy\", \"buy\", \"caffeine\", \"can\", \"can\", \"can\", \"cancer\", \"candy\", \"cat\", \"catch\", \"catch\", \"cause\", \"cause\", \"change\", \"change\", \"change\", \"chew\", \"chicken\", \"chicken\", \"claim\", \"coffee\", \"come\", \"come\", \"come\", \"come\", \"company\", \"company\", \"company\", \"consumer\", \"contain\", \"container\", \"container\", \"cookie\", \"corn\", \"cost\", \"cost\", \"cost\", \"cost\", \"could\", \"could\", \"could\", \"country\", \"cup\", \"date\", \"day\", \"dead\", \"dead\", \"death\", \"decaf\", \"dent\", \"die\", \"dig\", \"dirt\", \"disappoint\", \"disappoint\", \"disappointed\", \"disappointed\", \"dog\", \"dollar\", \"drink\", \"drink\", \"dry\", \"eat\", \"espresso\", \"even\", \"even\", \"ever\", \"ever\", \"exactly\", \"exactly\", \"expire\", \"fat\", \"fat\", \"feed\", \"filter\", \"find\", \"find\", \"find\", \"find\", \"find\", \"first\", \"first\", \"first\", \"first\", \"flavor\", \"flavor\", \"fly\", \"food\", \"food\", \"food\", \"formula\", \"gas\", \"get\", \"get\", \"get\", \"get\", \"ginger\", \"give\", \"give\", \"go\", \"go\", \"go\", \"good\", \"good\", \"good\", \"gopher\", \"grain\", \"grain\", \"great\", \"great\", \"green\", \"green\", \"grind\", \"ground\", \"ground\", \"hair\", \"hard\", \"hard\", \"hate\", \"health\", \"health\", \"help\", \"help\", \"high\", \"high\", \"high\", \"hole\", \"horrible\", \"hot\", \"hour\", \"hour\", \"iced\", \"include\", \"include\", \"include\", \"information\", \"ingredient\", \"instant\", \"issue\", \"issue\", \"issue\", \"issue\", \"item\", \"kind\", \"know\", \"know\", \"know\", \"know\", \"label\", \"last\", \"last\", \"last\", \"later\", \"leak\", \"like\", \"list\", \"little\", \"local\", \"local\", \"look\", \"look\", \"look\", \"look\", \"lot\", \"love\", \"love\", \"love\", \"low\", \"low\", \"machine\", \"make\", \"make\", \"make\", \"make\", \"maker\", \"maybe\", \"meat\", \"melt\", \"minute\", \"mix\", \"money\", \"money\", \"month\", \"mouth\", \"msg\", \"much\", \"much\", \"natural\", \"natural\", \"night\", \"nut\", \"oil\", \"old\", \"old\", \"old\", \"open\", \"open\", \"open\", \"order\", \"organic\", \"ounce\", \"pack\", \"package\", \"packaging\", \"pain\", \"pay\", \"peanut\", \"people\", \"people\", \"people\", \"pet\", \"picture\", \"plant\", \"plastic\", \"pod\", \"pot\", \"powder\", \"pretty\", \"price\", \"problem\", \"problem\", \"problem\", \"problem\", \"process\", \"process\", \"process\", \"process\", \"product\", \"product\", \"product\", \"product\", \"protein\", \"protein\", \"pumpkin\", \"purchase\", \"purchase\", \"put\", \"put\", \"put\", \"read\", \"read\", \"read\", \"read\", \"really\", \"receive\", \"reduce\", \"refund\", \"regular\", \"regular\", \"return\", \"review\", \"review\", \"roast\", \"salt\", \"salt\", \"sauce\", \"say\", \"say\", \"say\", \"say\", \"seal\", \"see\", \"see\", \"see\", \"see\", \"sell\", \"sell\", \"seller\", \"send\", \"set\", \"shampoo\", \"ship\", \"shipment\", \"shipping\", \"sick\", \"skin\", \"smell\", \"smooth\", \"smooth\", \"snack\", \"sodium\", \"solid\", \"source\", \"soy\", \"spray\", \"stale\", \"starbuck\", \"start\", \"start\", \"stop\", \"stop\", \"store\", \"store\", \"store\", \"strong\", \"strong\", \"stuff\", \"supply\", \"sweet\", \"switch\", \"take\", \"take\", \"take\", \"taste\", \"tea\", \"terrible\", \"texture\", \"thing\", \"thing\", \"think\", \"think\", \"time\", \"time\", \"time\", \"trap\", \"treat\", \"try\", \"try\", \"tuna\", \"use\", \"use\", \"use\", \"use\", \"vet\", \"walk\", \"want\", \"want\", \"water\", \"water\", \"weak\", \"week\", \"well\", \"well\", \"well\", \"well\", \"wheat\", \"work\", \"work\", \"work\", \"would\", \"would\", \"would\", \"yard\", \"year\", \"year\", \"year\"]}, \"R\": 30, \"lambda.step\": 0.01, \"plot.opts\": {\"xlab\": \"PC1\", \"ylab\": \"PC2\"}, \"topic.order\": [1, 2, 3, 5, 4]};\n",
       "\n",
       "function LDAvis_load_lib(url, callback){\n",
       "  var s = document.createElement('script');\n",
       "  s.src = url;\n",
       "  s.async = true;\n",
       "  s.onreadystatechange = s.onload = callback;\n",
       "  s.onerror = function(){console.warn(\"failed to load library \" + url);};\n",
       "  document.getElementsByTagName(\"head\")[0].appendChild(s);\n",
       "}\n",
       "\n",
       "if(typeof(LDAvis) !== \"undefined\"){\n",
       "   // already loaded: just create the visualization\n",
       "   !function(LDAvis){\n",
       "       new LDAvis(\"#\" + \"ldavis_el201361406002436487688092957764\", ldavis_el201361406002436487688092957764_data);\n",
       "   }(LDAvis);\n",
       "}else if(typeof define === \"function\" && define.amd){\n",
       "   // require.js is available: use it to load d3/LDAvis\n",
       "   require.config({paths: {d3: \"https://cdnjs.cloudflare.com/ajax/libs/d3/3.5.5/d3.min\"}});\n",
       "   require([\"d3\"], function(d3){\n",
       "      window.d3 = d3;\n",
       "      LDAvis_load_lib(\"https://cdn.rawgit.com/bmabey/pyLDAvis/files/ldavis.v1.0.0.js\", function(){\n",
       "        new LDAvis(\"#\" + \"ldavis_el201361406002436487688092957764\", ldavis_el201361406002436487688092957764_data);\n",
       "      });\n",
       "    });\n",
       "}else{\n",
       "    // require.js not available: dynamically load d3 & LDAvis\n",
       "    LDAvis_load_lib(\"https://cdnjs.cloudflare.com/ajax/libs/d3/3.5.5/d3.min.js\", function(){\n",
       "         LDAvis_load_lib(\"https://cdn.rawgit.com/bmabey/pyLDAvis/files/ldavis.v1.0.0.js\", function(){\n",
       "                 new LDAvis(\"#\" + \"ldavis_el201361406002436487688092957764\", ldavis_el201361406002436487688092957764_data);\n",
       "            })\n",
       "         });\n",
       "}\n",
       "</script>"
      ],
      "text/plain": [
       "PreparedData(topic_coordinates=              x         y  topics  cluster       Freq\n",
       "topic                                                \n",
       "0      0.106086 -0.070063       1        1  54.091625\n",
       "1      0.211804 -0.007816       2        1  18.612528\n",
       "2      0.041024 -0.230263       3        1  12.442197\n",
       "4      0.025797  0.333928       4        1   8.822393\n",
       "3     -0.384712 -0.025786       5        1   6.031257, topic_info=        Term          Freq         Total Category  logprob  loglift\n",
       "286   coffee   7872.000000   7872.000000  Default  30.0000  30.0000\n",
       "658       br  16346.000000  16346.000000  Default  29.0000  29.0000\n",
       "139  product  17220.000000  17220.000000  Default  28.0000  28.0000\n",
       "672      tea   5595.000000   5595.000000  Default  27.0000  27.0000\n",
       "401     food   7523.000000   7523.000000  Default  26.0000  26.0000\n",
       "..       ...           ...           ...      ...      ...      ...\n",
       "832   smooth    349.686796    581.754453   Topic5  -5.3112   2.2992\n",
       "109     work    517.522045   3178.810865   Topic5  -4.9192   0.9930\n",
       "995    black    323.169304    917.860850   Topic5  -5.3900   1.7643\n",
       "141      use    386.164041  10549.653745   Topic5  -5.2120  -0.4994\n",
       "133   flavor    323.033589   8191.738255   Topic5  -5.3905  -0.4249\n",
       "\n",
       "[284 rows x 6 columns], token_table=      Topic      Freq        Term\n",
       "term                             \n",
       "338       1  0.999004  absolutely\n",
       "196       1  0.995353         add\n",
       "196       4  0.004442         add\n",
       "1061      3  0.998210         ago\n",
       "2681      4  0.997000     allergy\n",
       "...     ...       ...         ...\n",
       "178       3  0.000603       would\n",
       "1345      5  0.995042        yard\n",
       "111       1  0.191774        year\n",
       "111       2  0.001665        year\n",
       "111       3  0.806382        year\n",
       "\n",
       "[390 rows x 3 columns], R=30, lambda_step=0.01, plot_opts={'xlab': 'PC1', 'ylab': 'PC2'}, topic_order=[1, 2, 3, 5, 4])"
      ]
     },
     "execution_count": 35,
     "metadata": {},
     "output_type": "execute_result"
    }
   ],
   "source": [
    "# Visualize the topics\n",
    "pyLDAvis.enable_notebook()\n",
    "vis = pyLDAvis.gensim.prepare(lda_model, corpus, id2word)\n",
    "vis"
   ]
  },
  {
   "cell_type": "code",
   "execution_count": 36,
   "metadata": {
    "id": "4kLFWyxyBfyh"
   },
   "outputs": [],
   "source": [
    "def format_topics_sentences(ldamodel=None, corpus=corpus, texts=data):\n",
    "    # Init output\n",
    "    sent_topics_df = pd.DataFrame()\n",
    "\n",
    "    # Get main topic in each document\n",
    "    for i, row_list in enumerate(ldamodel[corpus]):\n",
    "        row = row_list[0] if ldamodel.per_word_topics else row_list            \n",
    "        # print(row)\n",
    "        row = sorted(row, key=lambda x: (x[1]), reverse=True)\n",
    "        # Get the Dominant topic, Perc Contribution and Keywords for each document\n",
    "        for j, (topic_num, prop_topic) in enumerate(row):\n",
    "            if j == 0:  # => dominant topic\n",
    "                wp = ldamodel.show_topic(topic_num)\n",
    "                topic_keywords = \", \".join([word for word, prop in wp])\n",
    "                sent_topics_df = sent_topics_df.append(pd.Series([int(topic_num), round(prop_topic,4), topic_keywords]), ignore_index=True)\n",
    "            else:\n",
    "                break\n",
    "    sent_topics_df.columns = ['Dominant_Topic', 'Perc_Contribution', 'Topic_Keywords']\n",
    "\n",
    "    # Add original text to the end of the output\n",
    "    contents = pd.Series(texts)\n",
    "    sent_topics_df = pd.concat([sent_topics_df, contents], axis=1)\n",
    "    return(sent_topics_df)"
   ]
  },
  {
   "cell_type": "code",
   "execution_count": 37,
   "metadata": {},
   "outputs": [],
   "source": [
    "df_topic_sents_keywords = format_topics_sentences(ldamodel=lda_model, corpus=corpus, texts=data_lemmatized)"
   ]
  },
  {
   "cell_type": "code",
   "execution_count": 38,
   "metadata": {
    "id": "QkhCdiRRBfyh"
   },
   "outputs": [],
   "source": [
    "df_topic_sents_keywords_neg = df_topic_sents_keywords"
   ]
  },
  {
   "cell_type": "code",
   "execution_count": 39,
   "metadata": {
    "id": "ZbDk6iBvBfyh"
   },
   "outputs": [],
   "source": [
    "# Number of Documents for Each Topic\n",
    "topic_counts = df_topic_sents_keywords_neg['Dominant_Topic'].value_counts()\n",
    "\n",
    "# Percentage of Documents for Each Topic\n",
    "topic_contribution = round(topic_counts/topic_counts.sum(), 4)"
   ]
  },
  {
   "cell_type": "code",
   "execution_count": 40,
   "metadata": {
    "id": "K4J1ZMbqBfyh"
   },
   "outputs": [],
   "source": [
    "dict_keyword_prob = {}\n",
    "for i in range(0,5):\n",
    "    wp = lda_model.show_topic(i)\n",
    "    dict_keyword_prob[i] = wp"
   ]
  },
  {
   "cell_type": "code",
   "execution_count": 41,
   "metadata": {
    "id": "vWTWyUHzBfyh"
   },
   "outputs": [],
   "source": [
    "dict_keywords = {}\n",
    "for i in range(0,5):\n",
    "    wp = lda_model.show_topic(i)\n",
    "    topic_keywords = \", \".join([word for word, prop in wp])\n",
    "    \n",
    "    dict_keywords[i] = topic_keywords"
   ]
  },
  {
   "cell_type": "code",
   "execution_count": 42,
   "metadata": {
    "colab": {
     "base_uri": "https://localhost:8080/",
     "height": 297
    },
    "id": "jU5BD7i0Bfyh",
    "outputId": "e98cfa7b-af51-4f28-bb36-19a4fc6a5861"
   },
   "outputs": [
    {
     "data": {
      "text/html": [
       "<div>\n",
       "<style scoped>\n",
       "    .dataframe tbody tr th:only-of-type {\n",
       "        vertical-align: middle;\n",
       "    }\n",
       "\n",
       "    .dataframe tbody tr th {\n",
       "        vertical-align: top;\n",
       "    }\n",
       "\n",
       "    .dataframe thead th {\n",
       "        text-align: right;\n",
       "    }\n",
       "</style>\n",
       "<table border=\"1\" class=\"dataframe\">\n",
       "  <thead>\n",
       "    <tr style=\"text-align: right;\">\n",
       "      <th></th>\n",
       "      <th>Topic</th>\n",
       "      <th>Topic_ counts</th>\n",
       "      <th>percentage_contribution</th>\n",
       "      <th>keywords</th>\n",
       "      <th>keyword_prob</th>\n",
       "    </tr>\n",
       "  </thead>\n",
       "  <tbody>\n",
       "    <tr>\n",
       "      <th>0</th>\n",
       "      <td>0.0</td>\n",
       "      <td>33300</td>\n",
       "      <td>0.8446</td>\n",
       "      <td>taste, br, try, use, make, good, bad, flavor, ...</td>\n",
       "      <td>[(taste, 0.026338713), (br, 0.016448671), (try...</td>\n",
       "    </tr>\n",
       "    <tr>\n",
       "      <th>1</th>\n",
       "      <td>1.0</td>\n",
       "      <td>4507</td>\n",
       "      <td>0.1143</td>\n",
       "      <td>product, order, bag, box, purchase, buy, packa...</td>\n",
       "      <td>[(product, 0.042256985), (order, 0.033150136),...</td>\n",
       "    </tr>\n",
       "    <tr>\n",
       "      <th>2</th>\n",
       "      <td>2.0</td>\n",
       "      <td>817</td>\n",
       "      <td>0.0207</td>\n",
       "      <td>food, dog, day, problem, year, month, cat, wee...</td>\n",
       "      <td>[(food, 0.04516118), (dog, 0.0377229), (day, 0...</td>\n",
       "    </tr>\n",
       "    <tr>\n",
       "      <th>3</th>\n",
       "      <td>4.0</td>\n",
       "      <td>505</td>\n",
       "      <td>0.0128</td>\n",
       "      <td>br, product, ingredient, oil, contain, list, o...</td>\n",
       "      <td>[(br, 0.052470297), (product, 0.03913469), (in...</td>\n",
       "    </tr>\n",
       "    <tr>\n",
       "      <th>4</th>\n",
       "      <td>3.0</td>\n",
       "      <td>297</td>\n",
       "      <td>0.0075</td>\n",
       "      <td>coffee, tea, cup, trap, bean, weak, green, ble...</td>\n",
       "      <td>[(coffee, 0.11111767), (tea, 0.07897195), (cup...</td>\n",
       "    </tr>\n",
       "  </tbody>\n",
       "</table>\n",
       "</div>"
      ],
      "text/plain": [
       "   Topic  Topic_ counts  percentage_contribution  \\\n",
       "0    0.0          33300                   0.8446   \n",
       "1    1.0           4507                   0.1143   \n",
       "2    2.0            817                   0.0207   \n",
       "3    4.0            505                   0.0128   \n",
       "4    3.0            297                   0.0075   \n",
       "\n",
       "                                            keywords  \\\n",
       "0  taste, br, try, use, make, good, bad, flavor, ...   \n",
       "1  product, order, bag, box, purchase, buy, packa...   \n",
       "2  food, dog, day, problem, year, month, cat, wee...   \n",
       "3  br, product, ingredient, oil, contain, list, o...   \n",
       "4  coffee, tea, cup, trap, bean, weak, green, ble...   \n",
       "\n",
       "                                        keyword_prob  \n",
       "0  [(taste, 0.026338713), (br, 0.016448671), (try...  \n",
       "1  [(product, 0.042256985), (order, 0.033150136),...  \n",
       "2  [(food, 0.04516118), (dog, 0.0377229), (day, 0...  \n",
       "3  [(br, 0.052470297), (product, 0.03913469), (in...  \n",
       "4  [(coffee, 0.11111767), (tea, 0.07897195), (cup...  "
      ]
     },
     "execution_count": 42,
     "metadata": {},
     "output_type": "execute_result"
    }
   ],
   "source": [
    "neg_topic_dis = pd.DataFrame({\"Topic_ counts\":topic_counts,'percentage_contribution':topic_contribution},index = topic_counts.index)\n",
    "neg_topic_dis = neg_topic_dis.reset_index()\n",
    "neg_topic_dis = neg_topic_dis.rename(columns={'index':'Topic'})\n",
    "neg_topic_dis['keywords'] = neg_topic_dis['Topic'].apply(lambda x : dict_keywords[x])\n",
    "neg_topic_dis['keyword_prob'] = neg_topic_dis['Topic'].apply(lambda x : dict_keyword_prob[x])\n",
    "neg_topic_dis"
   ]
  },
  {
   "cell_type": "code",
   "execution_count": 43,
   "metadata": {
    "id": "XaNCl8vMBfyh"
   },
   "outputs": [],
   "source": [
    "neg_topic_dis.to_csv('neg_topic_distribution_1104.csv')"
   ]
  },
  {
   "cell_type": "code",
   "execution_count": null,
   "metadata": {
    "id": "Ff_Y5KbMBfyh"
   },
   "outputs": [],
   "source": [
    "#neg_topic_dis = pd.read_csv('/Users/chrissymo/Documents/MSIS/research/with Vivian/COVID-19/vaccine tweets/DATA FOR PAPER/test_6_4/neg_topic_distribution_3categrories_0604.csv')"
   ]
  },
  {
   "cell_type": "code",
   "execution_count": 44,
   "metadata": {
    "colab": {
     "base_uri": "https://localhost:8080/"
    },
    "id": "5aVU1nCPBfyh",
    "outputId": "fde18fde-dd17-4f76-92ba-fa2855ef46c3"
   },
   "outputs": [
    {
     "name": "stdout",
     "output_type": "stream",
     "text": [
      "Topic 0.0 : taste, br, try, use, make, good, bad, flavor, would, buy\n",
      "Topic 1.0 : product, order, bag, box, purchase, buy, package, price, receive, open\n",
      "Topic 2.0 : food, dog, day, problem, year, month, cat, week, take, work\n",
      "Topic 4.0 : br, product, ingredient, oil, contain, list, organic, ounce, high, salt\n",
      "Topic 3.0 : coffee, tea, cup, trap, bean, weak, green, blend, pod, drink\n"
     ]
    }
   ],
   "source": [
    "for i in range(len(neg_topic_dis)):\n",
    "    print('Topic',neg_topic_dis['Topic'][i],':',neg_topic_dis['keywords'][i])"
   ]
  },
  {
   "cell_type": "code",
   "execution_count": null,
   "metadata": {
    "colab": {
     "base_uri": "https://localhost:8080/"
    },
    "id": "NvRiNtFVBfyi",
    "outputId": "e13a8610-6ea4-43a1-9c2f-dd98299e8dab"
   },
   "outputs": [
    {
     "data": {
      "text/plain": [
       "1    16221\n",
       "5     8907\n",
       "2     5872\n",
       "3     4858\n",
       "4     3568\n",
       "Name: Score, dtype: int64"
      ]
     },
     "execution_count": 67,
     "metadata": {},
     "output_type": "execute_result"
    }
   ],
   "source": [
    "neg.Score.value_counts()"
   ]
  },
  {
   "cell_type": "code",
   "execution_count": null,
   "metadata": {
    "colab": {
     "base_uri": "https://localhost:8080/"
    },
    "id": "EV4xY0qEBfyi",
    "outputId": "09a6e0e6-2f61-4cd5-9dbf-6f36b38843fb"
   },
   "outputs": [
    {
     "data": {
      "text/plain": [
       "5    239572\n",
       "4     51929\n",
       "3     24374\n",
       "1     18899\n",
       "2     14446\n",
       "Name: Score, dtype: int64"
      ]
     },
     "execution_count": 68,
     "metadata": {},
     "output_type": "execute_result"
    }
   ],
   "source": [
    "pos.Score.value_counts()"
   ]
  },
  {
   "cell_type": "markdown",
   "metadata": {
    "id": "Dno-W608Bfyi"
   },
   "source": [
    "## positive"
   ]
  },
  {
   "cell_type": "code",
   "execution_count": 112,
   "metadata": {
    "id": "gceVRqNHBfyi"
   },
   "outputs": [],
   "source": [
    "model_list, coherence_values = compute_coherence_values(dictionary=id2word, corpus=corpus, texts=data_lemmatized, start=2, limit=12, step=3)"
   ]
  },
  {
   "cell_type": "code",
   "execution_count": 113,
   "metadata": {
    "id": "gQem0Ez7Bfyi",
    "outputId": "6214f09f-32bc-4a36-a639-55f983dd332f"
   },
   "outputs": [
    {
     "data": {
      "image/png": "[encoded data removed]",
      "text/plain": [
       "<Figure size 432x288 with 1 Axes>"
      ]
     },
     "metadata": {
      "needs_background": "light"
     },
     "output_type": "display_data"
    }
   ],
   "source": [
    "#chunksize=20000\n",
    "limit=12; start=2; step=3;\n",
    "x = range(start, limit, step)\n",
    "plt.plot(x, coherence_values)\n",
    "plt.xlabel(\"Num Topics\")\n",
    "plt.ylabel(\"Coherence score\")\n",
    "plt.rcParams['font.size'] = '16'\n",
    "#plt.legend((\"coherence_values\"))\n",
    "plt.show()"
   ]
  },
  {
   "cell_type": "code",
   "execution_count": 114,
   "metadata": {
    "id": "ZoNH2qK_Bfyi",
    "outputId": "9dc20845-7483-46d2-ecae-819e2d85570e"
   },
   "outputs": [
    {
     "name": "stdout",
     "output_type": "stream",
     "text": [
      "Num Topics = 2  has Coherence Value of 0.3741\n",
      "Num Topics = 5  has Coherence Value of 0.4191\n",
      "Num Topics = 8  has Coherence Value of 0.4601\n",
      "Num Topics = 11  has Coherence Value of 0.474\n"
     ]
    }
   ],
   "source": [
    "# Print the coherence scores\n",
    "for m, cv in zip(x, coherence_values):\n",
    "    print(\"Num Topics =\", m, \" has Coherence Value of\", round(cv, 4))"
   ]
  },
  {
   "cell_type": "code",
   "execution_count": 54,
   "metadata": {},
   "outputs": [
    {
     "data": {
      "image/png": "[encoded data removed]",
      "text/plain": [
       "<Figure size 432x288 with 1 Axes>"
      ]
     },
     "metadata": {
      "needs_background": "light"
     },
     "output_type": "display_data"
    }
   ],
   "source": [
    "#chunksize=30000\n",
    "limit=12; start=2; step=3;\n",
    "x = range(start, limit, step)\n",
    "plt.plot(x, coherence_values)\n",
    "plt.xlabel(\"Num Topics\")\n",
    "plt.ylabel(\"Coherence score\")\n",
    "plt.rcParams['font.size'] = '16'\n",
    "#plt.legend((\"coherence_values\"))\n",
    "plt.show()"
   ]
  },
  {
   "cell_type": "code",
   "execution_count": 58,
   "metadata": {
    "collapsed": true
   },
   "outputs": [
    {
     "data": {
      "image/png": "[encoded data removed]",
      "text/plain": [
       "<Figure size 432x288 with 1 Axes>"
      ]
     },
     "metadata": {
      "needs_background": "light"
     },
     "output_type": "display_data"
    }
   ],
   "source": [
    "#chunksize=10000\n",
    "limit=12; start=2; step=3;\n",
    "x = range(start, limit, step)\n",
    "plt.plot(x, coherence_values)\n",
    "plt.xlabel(\"Num Topics\")\n",
    "plt.ylabel(\"Coherence score\")\n",
    "plt.rcParams['font.size'] = '16'\n",
    "#plt.legend((\"coherence_values\"))\n",
    "plt.show()"
   ]
  },
  {
   "cell_type": "code",
   "execution_count": 115,
   "metadata": {
    "id": "kSZO9izxBfyj"
   },
   "outputs": [],
   "source": [
    "# Build LDA model\n",
    "lda_model = gensim.models.ldamodel.LdaModel(corpus=corpus,\n",
    "                                           id2word=id2word,\n",
    "                                           num_topics=11, \n",
    "                                           random_state=100,\n",
    "                                           update_every=1,\n",
    "                                           chunksize=20000,\n",
    "                                           passes=10,\n",
    "                                           alpha='auto',\n",
    "                                           per_word_topics=True)"
   ]
  },
  {
   "cell_type": "code",
   "execution_count": 109,
   "metadata": {
    "colab": {
     "base_uri": "https://localhost:8080/"
    },
    "id": "xdc-ACY5Bfyj",
    "outputId": "b3092cb0-71cf-4367-8f40-f7eeae6dd6c4"
   },
   "outputs": [
    {
     "name": "stdout",
     "output_type": "stream",
     "text": [
      "\n",
      "Perplexity:  -7.142923630009995\n",
      "\n",
      "Coherence Score:  0.47403954785619534\n"
     ]
    }
   ],
   "source": [
    "# Compute Perplexity\n",
    "print('\\nPerplexity: ', lda_model.log_perplexity(corpus))  # a measure of how good the model is. lower the better.\n",
    "\n",
    "# Compute Coherence Score\n",
    "coherence_model_lda = CoherenceModel(model=lda_model, texts=data_lemmatized, dictionary=id2word, coherence='c_v')\n",
    "coherence_lda = coherence_model_lda.get_coherence()\n",
    "print('\\nCoherence Score: ', coherence_lda)"
   ]
  },
  {
   "cell_type": "code",
   "execution_count": null,
   "metadata": {},
   "outputs": [],
   "source": []
  },
  {
   "cell_type": "code",
   "execution_count": 110,
   "metadata": {
    "colab": {
     "base_uri": "https://localhost:8080/",
     "height": 929
    },
    "id": "YcxPgYuOBfyj",
    "outputId": "449dad47-5d74-4f30-dabc-898a52250bd5"
   },
   "outputs": [
    {
     "data": {
      "text/html": [
       "\n",
       "<link rel=\"stylesheet\" type=\"text/css\" href=\"https://cdn.rawgit.com/bmabey/pyLDAvis/files/ldavis.v1.0.0.css\">\n",
       "\n",
       "\n",
       "<div id=\"ldavis_el201361405981282991366944415691\"></div>\n",
       "<script type=\"text/javascript\">\n",
       "\n",
       "var ldavis_el201361405981282991366944415691_data = {\"mdsDat\": {\"x\": [0.12069311098046773, 0.23019357088030032, 0.12180396814729103, -0.06572541496618134, -0.07754703175677785, -0.10059775140396061, -0.09585242890717025, 0.13457659232205654, -0.12501793911874906, -0.05112194789998516, -0.09140472827729161], \"y\": [0.007484216871627948, -0.11624457411713002, 0.043704427893810134, -0.0012758874826744797, -0.061777481730577, 0.020711084534459964, -0.11888950998330652, 0.08556438732358257, -0.13601810590187224, 0.07747773341408391, 0.1992637091779956], \"topics\": [1, 2, 3, 4, 5, 6, 7, 8, 9, 10, 11], \"cluster\": [1, 1, 1, 1, 1, 1, 1, 1, 1, 1, 1], \"Freq\": [19.312451403571927, 11.928158309483107, 11.634415757370904, 11.138691762679436, 8.078519507311555, 6.993492661918975, 6.936180511626831, 6.678676725291243, 6.148522353076931, 6.016676299062408, 5.134214708606681]}, \"tinfo\": {\"Term\": [\"coffee\", \"tea\", \"food\", \"br\", \"dog\", \"order\", \"taste\", \"chocolate\", \"flavor\", \"price\", \"drink\", \"product\", \"water\", \"store\", \"use\", \"cup\", \"eat\", \"make\", \"cat\", \"free\", \"sauce\", \"bar\", \"mix\", \"sugar\", \"snack\", \"oil\", \"add\", \"salt\", \"bottle\", \"hair\", \"arrive\", \"grocery\", \"shipping\", \"ship\", \"delivery\", \"seller\", \"locally\", \"shipment\", \"service\", \"charge\", \"vendor\", \"subscribe\", \"dent\", \"promptly\", \"store\", \"refund\", \"discount\", \"local\", \"expire\", \"retail\", \"recieve\", \"pricing\", \"prompt\", \"cancel\", \"walmart\", \"warehouse\", \"order\", \"retailer\", \"locate\", \"packing\", \"gift\", \"price\", \"online\", \"bulk\", \"ordering\", \"subscription\", \"deliver\", \"sale\", \"pay\", \"send\", \"purchase\", \"deal\", \"item\", \"thank\", \"receive\", \"sell\", \"save\", \"buy\", \"reasonable\", \"cheap\", \"find\", \"box\", \"money\", \"cost\", \"available\", \"product\", \"great\", \"pack\", \"good\", \"time\", \"package\", \"get\", \"love\", \"year\", \"well\", \"would\", \"go\", \"come\", \"bag\", \"much\", \"brand\", \"use\", \"make\", \"try\", \"www\", \"href_http\", \"information\", \"consumer\", \"info\", \"study\", \"com_gp\", \"production\", \"pro\", \"crash\", \"side_effect\", \"lather\", \"rain\", \"squirrel\", \"monster\", \"marketing\", \"antler\", \"alert\", \"gmo\", \"orgain\", \"impact\", \"listing\", \"advertising\", \"contacted\", \"ant\", \"bacteria\", \"statement\", \"cramp\", \"performance\", \"labeling\", \"con\", \"positive\", \"energy\", \"update\", \"regard\", \"detail\", \"edit\", \"description\", \"br\", \"read\", \"claim\", \"review\", \"label\", \"effect\", \"rating\", \"post\", \"clearly\", \"amazon\", \"write\", \"support\", \"lead\", \"negative\", \"ounce\", \"product\", \"star\", \"list\", \"increase\", \"may\", \"note\", \"test\", \"experience\", \"people\", \"contain\", \"say\", \"level\", \"body\", \"company\", \"help\", \"notice\", \"feel\", \"see\", \"know\", \"ingredient\", \"give\", \"take\", \"would\", \"however\", \"bad\", \"pack\", \"seem\", \"use\", \"think\", \"also\", \"look\", \"chew\", \"gum\", \"toy\", \"training\", \"rawhide\", \"scalp\", \"busy\", \"greenie\", \"reward\", \"spit\", \"chewer\", \"choke\", \"durable\", \"pill_pocket\", \"diaper\", \"nylabone\", \"yorkie\", \"chewing\", \"constipation\", \"occupy\", \"rubber\", \"crate\", \"similac\", \"critter\", \"pug\", \"pill\", \"rope\", \"massage\", \"breastfeed\", \"goat\", \"drawer\", \"trap\", \"tear\", \"ball\", \"lid\", \"hole\", \"bone\", \"pocket\", \"dental\", \"car\", \"breath\", \"play\", \"tooth\", \"train\", \"treat\", \"break\", \"son\", \"toddler\", \"night\", \"pouch\", \"keep\", \"take\", \"piece\", \"work\", \"last\", \"open\", \"hour\", \"small\", \"day\", \"get\", \"old\", \"long\", \"bag\", \"go\", \"size\", \"time\", \"love\", \"week\", \"dog\", \"give\", \"little\", \"put\", \"easy\", \"month\", \"thing\", \"would\", \"big\", \"eat\", \"make\", \"great\", \"really\", \"use\", \"try\", \"buy\", \"good\", \"chocolate\", \"bar\", \"granola\", \"marshmallow\", \"wafer\", \"fudge\", \"fig\", \"cluster\", \"gummie\", \"cheesecake\", \"oreo\", \"snicker\", \"hershey\", \"pb\", \"haribo\", \"weight_watcher\", \"taffy\", \"apricot\", \"twizzler\", \"brandy\", \"crunchiness\", \"whiskey\", \"waxy\", \"dryness\", \"cherrie\", \"confection\", \"larabar\", \"seltzer\", \"manna\", \"chocoholic\", \"snack\", \"crunchy\", \"snacking\", \"cereal\", \"crunch\", \"peanut\", \"craving\", \"cookie\", \"chewy\", \"almond\", \"nut\", \"candy\", \"fiber\", \"raisin\", \"peanut_butter\", \"satisfy\", \"calorie\", \"gram\", \"caramel\", \"cocoa\", \"fruit\", \"sweet\", \"fat\", \"melt\", \"texture\", \"healthy\", \"eat\", \"protein\", \"chip\", \"taste\", \"soft\", \"flavor\", \"good\", \"kid\", \"dark\", \"really\", \"sugar\", \"love\", \"try\", \"great\", \"little\", \"would\", \"br\", \"well\", \"think\", \"delicious\", \"much\", \"make\", \"bit\", \"also\", \"juice\", \"soda\", \"sprout\", \"concentrate\", \"alcohol\", \"squirt\", \"tap\", \"cane\", \"carbonate\", \"sucralose\", \"splenda\", \"electrolyte\", \"pulp\", \"essentia\", \"sparkle\", \"liter\", \"artificial_sweetener\", \"mio\", \"soil\", \"whey\", \"carbonation\", \"manageable\", \"fructose\", \"alkaline\", \"root_beer\", \"margarita\", \"gatorade\", \"cola\", \"purify\", \"sodastream\", \"plant\", \"stevia\", \"syrup\", \"bottled\", \"lemonade\", \"glass\", \"bottle\", \"sweetener\", \"water\", \"powder\", \"shake\", \"sugar\", \"drink\", \"smoothie\", \"squeeze\", \"wine\", \"sweeten\", \"vitamin\", \"artificial\", \"beverage\", \"milk\", \"packet\", \"dissolve\", \"liquid\", \"taste\", \"add\", \"sweet\", \"flavor\", \"mix\", \"calorie\", \"use\", \"natural\", \"coconut\", \"make\", \"try\", \"well\", \"good\", \"much\", \"br\", \"really\", \"little\", \"product\", \"would\", \"also\", \"great\", \"salt\", \"pepper\", \"popcorn\", \"vinegar\", \"olive\", \"chili\", \"mustard\", \"grill\", \"steak\", \"sausage\", \"dress\", \"pickle\", \"kernel\", \"marinade\", \"dressing\", \"burger\", \"seaweed\", \"popper\", \"popchip\", \"condiment\", \"salsa\", \"wing\", \"hamburger\", \"chipotle\", \"cashews\", \"salad_dressing\", \"taco_bell\", \"rib\", \"tabasco\", \"wasabi\", \"seasoning\", \"garlic\", \"sardine\", \"smoke\", \"sauce\", \"tomato\", \"pork\", \"spicy\", \"cheese\", \"salad\", \"bacon\", \"msg\", \"spice\", \"salty\", \"onion\", \"potato\", \"hot\", \"dip\", \"heat\", \"chip\", \"meat\", \"flavor\", \"fish\", \"chicken\", \"taste\", \"good\", \"use\", \"try\", \"add\", \"make\", \"pop\", \"great\", \"stuff\", \"little\", \"br\", \"well\", \"really\", \"eat\", \"food\", \"love\", \"much\", \"also\", \"coffee\", \"pod\", \"bold\", \"espresso\", \"keurig\", \"cappuccino\", \"creamer\", \"senseo\", \"illy\", \"kcup\", \"folger\", \"tully\", \"colombian\", \"mocha\", \"columbian\", \"green_mountain\", \"crema\", \"dunkin_donut\", \"lavazza\", \"peet\", \"baronet\", \"nespresso\", \"compost\", \"roaster\", \"coffeemaker\", \"donut_shop\", \"carousel\", \"bolder\", \"expresso\", \"coffe\", \"starbuck\", \"bean\", \"machine\", \"roast\", \"cup\", \"maker\", \"decaf\", \"chicory\", \"brewer\", \"grind\", \"blend\", \"latte\", \"brew\", \"vanilla\", \"bitter\", \"filter\", \"weak\", \"french\", \"smooth\", \"strong\", \"dark\", \"rich\", \"ground\", \"instant\", \"flavor\", \"morning\", \"taste\", \"try\", \"good\", \"drink\", \"make\", \"use\", \"great\", \"well\", \"brand\", \"really\", \"would\", \"love\", \"enjoy\", \"br\", \"cat\", \"formula\", \"litter\", \"kitty\", \"wellness\", \"stool\", \"duck\", \"beneful\", \"dandruff\", \"bpa\", \"fur\", \"transition\", \"poop\", \"finicky\", \"adopt\", \"kibble\", \"itch\", \"friskie\", \"kitten\", \"iam\", \"merrick\", \"hairball\", \"pate\", \"flea\", \"instinct\", \"feline\", \"shelter\", \"comb\", \"feral\", \"pellet\", \"feed\", \"vet\", \"food\", \"pet\", \"feeding\", \"senior\", \"dog\", \"filler\", \"baby\", \"switch\", \"wet\", \"human\", \"allergy\", \"vomit\", \"salmon\", \"animal\", \"coat\", \"eat\", \"dry\", \"grain\", \"ingredient\", \"treat\", \"chicken\", \"healthy\", \"old\", \"health\", \"love\", \"brand\", \"seem\", \"natural\", \"can\", \"give\", \"year\", \"try\", \"quality\", \"good\", \"well\", \"also\", \"product\", \"much\", \"make\", \"would\", \"get\", \"tea\", \"matcha\", \"steep\", \"herbal\", \"peppermint\", \"chai\", \"teabag\", \"twining\", \"crystal_light\", \"minty\", \"chamomile\", \"bergamot\", \"relax\", \"rooibos\", \"oolong\", \"grassy\", \"bigelow\", \"celestial_seasoning\", \"tonic\", \"anise\", \"spearmint\", \"soothing\", \"altoid\", \"cardamom\", \"sachet\", \"infusion\", \"teavana\", \"sucrose\", \"scotch\", \"jasmine\", \"mint\", \"ginger\", \"pyramid\", \"leaf\", \"green\", \"lavender\", \"iced\", \"honey\", \"soothe\", \"blackberry\", \"black\", \"floral\", \"cold\", \"drink\", \"tin\", \"strong\", \"ice\", \"brew\", \"caffeine\", \"flavor\", \"hot\", \"bag\", \"taste\", \"drinker\", \"lemon\", \"cinnamon\", \"try\", \"cup\", \"good\", \"enjoy\", \"make\", \"really\", \"love\", \"nice\", \"well\", \"great\", \"favorite\", \"also\", \"find\", \"use\", \"sweet\", \"add\", \"soup\", \"noodle\", \"shampoo\", \"conditioner\", \"rinse\", \"curry\", \"broth\", \"mushroom\", \"raman\", \"lentil\", \"tofu\", \"simmer\", \"lotion\", \"moisturize\", \"caviar\", \"couscous\", \"ghee\", \"clam\", \"cooker\", \"nutiva\", \"curly\", \"brine\", \"wilderness\", \"lobster\", \"tahini\", \"steel_cut\", \"superfood\", \"arsenic\", \"saute\", \"stir_fry\", \"hair\", \"oil\", \"soak\", \"microwave\", \"cook\", \"indian\", \"boil\", \"pasta\", \"preparation\", \"rice\", \"cooking\", \"drain\", \"paste\", \"coconut\", \"prepare\", \"skin\", \"stir\", \"dish\", \"minute\", \"meal\", \"vegetable\", \"use\", \"add\", \"dry\", \"make\", \"water\", \"easy\", \"smell\", \"bowl\", \"well\", \"product\", \"good\", \"br\", \"time\", \"also\", \"great\", \"taste\", \"try\", \"little\", \"gluten\", \"bread\", \"flour\", \"cake\", \"pancake\", \"waffle\", \"mill\", \"muffin\", \"loaf\", \"crust\", \"dough\", \"batter\", \"cupcake\", \"baked_good\", \"bob_re\", \"pudding\", \"rye\", \"fondant\", \"intolerant\", \"bran\", \"cornbread\", \"moisturizer\", \"buckwheat\", \"pamela\", \"frosting\", \"bagel\", \"celiac\", \"yeast\", \"scone\", \"bisquick\", \"chia_seed\", \"wheat\", \"baking\", \"bake\", \"brownie\", \"dairy\", \"toast\", \"cracker\", \"recipe\", \"free\", \"pie\", \"oatmeal\", \"mix\", \"egg\", \"grain\", \"make\", \"butter\", \"homemade\", \"use\", \"whole\", \"soy\", \"family\", \"great\", \"good\", \"taste\", \"try\", \"product\", \"love\", \"eat\", \"add\", \"well\", \"easy\", \"also\", \"texture\", \"find\", \"even\"], \"Freq\": [92784.0, 87419.0, 73113.0, 185972.0, 47766.0, 56788.0, 157351.0, 38972.0, 112465.0, 56621.0, 48909.0, 134609.0, 42400.0, 44170.0, 119143.0, 33480.0, 68171.0, 118403.0, 22909.0, 30858.0, 24499.0, 25587.0, 34093.0, 34511.0, 24990.0, 19191.0, 47580.0, 15834.0, 21957.0, 15175.0, 15120.423593598845, 13352.462174359995, 12565.046756763393, 10532.387175987258, 5073.641101014492, 4809.2398568453045, 3955.7340953972084, 3660.61449376553, 3153.556743633992, 2088.264571051271, 1884.2517818586502, 5348.810058783677, 1628.5016658637771, 1426.08572555542, 44141.03272557202, 1281.4725410940184, 1273.0757074324003, 17730.425881918647, 1229.9937055163787, 1071.2750444351898, 918.9083035606354, 836.0844233988344, 801.330009397807, 735.7020907406217, 654.057945642749, 639.3699129500397, 56700.55765863116, 576.7410695462496, 561.2682517251374, 430.1482829590664, 8058.021043044769, 55150.82945576705, 6539.889359611706, 3751.7072734491167, 2341.4394796963247, 2101.464672648677, 5506.923803186263, 3851.4751812532904, 9858.69530708447, 7120.080585368761, 30002.912506730496, 9561.723381730606, 13189.819653210416, 12315.542790720132, 13958.83983329861, 9778.605256868212, 9866.221060728902, 62668.08895527813, 3512.210366970971, 10728.761818344432, 50650.25461285322, 20849.17457232743, 8068.84593684463, 8934.198491444278, 8408.274947480688, 56005.720656736616, 42880.80210413833, 15906.055408630895, 48012.55822259582, 25267.882057528324, 15617.855660360687, 27177.864404736596, 32103.59344342875, 16328.66534780978, 24349.2889663768, 21793.375999594005, 19294.200479567586, 16030.646342832726, 16230.281830349093, 15064.046014889314, 13340.86561015647, 14251.564686192884, 13768.63016074691, 13553.656740353375, 10593.690057389445, 4011.808312188524, 1823.5818544845565, 1436.1177218804366, 866.2947558127142, 794.4673799163888, 754.1833563158034, 693.0962644633619, 1357.0982688761762, 615.050494718018, 608.8634891026695, 606.7487321722456, 519.5653413437342, 475.8215243737824, 456.64784970744546, 563.6736668337246, 414.75784206851665, 395.734425914329, 371.87685726644287, 364.92729982717367, 398.2629405159434, 348.79006213465163, 338.12089775312194, 328.13184551856426, 317.52233903148084, 316.61643410681825, 305.570631171722, 304.1267319219558, 288.5543811831269, 283.776342751041, 1357.8068734391313, 1935.52825312473, 9422.090984379845, 2372.529579613455, 1116.2709727680897, 653.1766683809216, 479.3423526697818, 3173.9600442853016, 135253.5659029528, 9466.928448412753, 2902.692803672578, 16468.9446578556, 3250.5207658190616, 2710.098813971972, 1555.9506268601651, 1564.3617014610024, 1366.4102465347623, 10857.463974852895, 3139.644726197508, 1100.1004027964575, 1167.8983395084895, 1711.2741874000783, 6814.253172661154, 47778.97067581662, 7564.520573445236, 4906.348833219029, 2041.0293311116877, 11289.843009299959, 3805.8613223742905, 2645.8183034764193, 3980.7003450694965, 6729.168135879665, 5345.791880780653, 13068.816959117337, 2678.8866784181073, 3091.0763149572717, 5382.0804049902545, 6211.475963319462, 4094.5417020025106, 7333.073539591823, 8077.75634584134, 8854.933223608752, 6520.193619299884, 8406.070627874184, 6882.184600493413, 8850.934970153394, 5459.712295561569, 4953.021476147491, 5566.271906290718, 5180.728166573948, 6867.1830498464915, 5429.685541714869, 5539.836128379652, 5020.88356635905, 11105.734437384215, 4494.441080490755, 2854.179797930465, 1623.6986992326765, 1598.0046283799536, 1476.8007190337053, 1321.3376535147802, 1053.6932943322415, 836.444747144344, 773.5338087293197, 678.4081029630183, 637.4100720675527, 493.3090237230556, 477.83602789876306, 468.03060944744595, 405.3843449600646, 391.83047213261125, 369.5228844322943, 344.18944168187767, 335.4249028304806, 296.6041705220199, 279.7154259580509, 268.3164531926811, 264.11674952169926, 261.9562399524926, 2350.335290255082, 250.81431692550674, 249.44974506243648, 246.59857480458118, 238.10613655222957, 1135.5879109521, 1190.130017789339, 1509.8795875033798, 1993.4315846499485, 2162.2771170005, 1145.6082288312348, 4154.877230481937, 1014.3345431345967, 647.2996331257175, 1569.2191660523608, 1343.1606114025114, 1679.8465472357113, 5210.247372408296, 760.4282619324365, 16586.775946728285, 4967.872420687112, 3857.385948011243, 894.8348968609414, 4156.7642370753165, 3034.9168533250154, 14793.710742046886, 16526.767177681653, 7023.991590560012, 16061.010591315515, 10610.166243922657, 8688.150005522186, 4870.455981828847, 11582.31310611239, 15047.106242072266, 25257.132279627178, 8409.773711127293, 11072.904125385097, 16355.791928795716, 18950.970511920466, 8131.378455018183, 17754.777090973825, 25550.70259562591, 6355.529854790673, 13546.043851680814, 13770.666846549984, 13861.947274686918, 8467.36422955384, 8111.109014575002, 6886.2827731002335, 8337.302039381522, 11888.53214960961, 6771.186431903989, 10065.613622061504, 11872.250357666726, 11390.095680843826, 9631.990820725501, 10924.651330705165, 10066.157823259597, 9320.830986559899, 8383.264602591715, 38972.02665393359, 25586.09316496251, 1636.2297479105898, 901.8608590074391, 733.4255728156098, 710.9895360363798, 708.6524630545217, 640.3204792054088, 614.304440252558, 586.2598292129686, 489.6030230784725, 444.3949910240769, 379.70942194780383, 375.5953580921942, 355.3308922821898, 359.01830435431975, 338.698582959202, 332.3624957383769, 311.1068710515308, 281.29894120801777, 280.50036374075665, 254.61123109580993, 252.87531316212213, 227.0969186097229, 226.06007270562802, 220.69375693290976, 214.30806827479776, 193.31077573998232, 188.0235423960608, 184.0003609299292, 24396.824143116442, 5568.8389517359, 484.0061353176341, 14163.136991555055, 3069.148593787284, 4570.117812912986, 1968.333287460554, 19445.56790276084, 3411.999779576244, 6582.205052016674, 3716.5171289950094, 13121.540544315121, 5371.121836191125, 2590.3261585047094, 1354.097529030423, 3466.161901666466, 13425.652761750496, 2994.3683096297136, 2497.774528434925, 3927.8126710899123, 8583.1219642385, 19309.098634413855, 6521.668833216894, 2771.038017892271, 8708.401844228676, 12105.170597633223, 25792.371000700015, 6568.766409616155, 6664.107066290046, 40113.13973367622, 6243.13348440286, 23915.475305995693, 30183.430461536293, 6193.548234241507, 6304.757114963885, 13191.242609496416, 9051.936822610962, 14544.212788437133, 13768.73631599595, 13638.222699598979, 9576.09410170487, 10493.695351853416, 12718.950090917011, 9514.992089918576, 7687.725214461201, 6608.825763313667, 7488.686503320122, 7115.734525522471, 6776.326507747693, 6784.887833066611, 8301.2343950661, 4418.875063759464, 1542.1932909410461, 1459.2985047782895, 1171.980837192967, 956.3692070030249, 910.6663457630337, 847.4263145775966, 792.0152585816332, 783.0514553100522, 756.6944888471359, 750.4994554345878, 720.3749431258433, 713.5546735317339, 703.3404527567461, 667.5286885653765, 647.7369488775752, 624.8998915031327, 598.9141058776687, 554.489476017021, 436.38034796851906, 398.9054566313906, 393.3885990262007, 377.15382616493105, 336.42756404842265, 315.67624564080216, 312.1935862993916, 307.9679069664862, 292.0416102874504, 285.85935918869575, 4489.001580216043, 1126.3343717408713, 8073.215472100284, 1312.4284026585358, 1023.3559922019824, 4934.325981958436, 17869.09799788971, 3880.5730989585063, 31791.993560430987, 7485.243959444966, 3600.8954148415487, 22240.730946501815, 28455.77498900392, 2370.783686660125, 2209.1096902178024, 2817.3606454348433, 3756.1157143110827, 5050.922188763182, 3490.269920071234, 2949.5528111396234, 12314.744874109516, 5448.842090599297, 1740.5524182510967, 2992.4737361887774, 35172.32109891369, 13944.218875776227, 10124.574732753474, 18399.45188705808, 8818.256056649338, 6313.680933847925, 17176.261041189635, 5533.8838666016245, 4845.557256300011, 12001.25363609137, 11099.408184040121, 9702.161064983911, 11792.303072600134, 7908.0139959287, 10156.446911030105, 6967.935271828393, 6288.955001596994, 7083.210895553157, 6212.827709981697, 5750.300179103679, 5997.843016624508, 15833.879318454903, 6803.833090269484, 6289.429843017804, 2677.386580176523, 2339.7846942225187, 1967.0862088245817, 1860.30840677188, 1759.5850112797436, 1463.5153931032307, 1352.4002872134722, 1206.205963769282, 1052.6024911964657, 971.2145956058256, 954.4067833732095, 835.1906721628765, 826.9012205648685, 785.4541525408339, 589.0404633801794, 581.9423360940207, 579.9277940974358, 564.3398010774905, 558.3266171401136, 531.9295109170114, 443.638488144835, 439.1593746846896, 430.2850652473185, 428.9232464455535, 412.02804985041786, 398.3625602974037, 378.04954282322274, 5174.144743909024, 2901.9482447412615, 1607.4414274590197, 2085.1631888830707, 23375.80176722156, 1921.713778246368, 1647.3584142919378, 6653.940793579672, 8968.70848460888, 4516.556139756911, 1411.516378355954, 1273.6092269177063, 8138.1839474385415, 4470.503820845094, 2416.397034401466, 4091.1462670911574, 14125.657885634115, 2395.2560975839137, 4046.617855475279, 5927.230778742595, 4113.938388428318, 20284.738754673595, 2953.255783228601, 4838.122615256569, 18347.685791382955, 15494.47845442903, 13147.554837720676, 11910.29104676691, 7284.785983480698, 9920.211732571373, 3090.619631891184, 8374.088292224322, 4712.0714321861615, 6043.1259992281775, 8700.268282133, 6990.61298590287, 6179.6351908321185, 6219.711559143631, 6130.679431492587, 5974.685046774834, 4910.18469970632, 4542.121764774039, 92783.70958754222, 5424.249850775047, 4914.567863637734, 3142.308583736112, 2081.080080537446, 1963.6545987268169, 1860.5772327383365, 1690.7913211157254, 1047.1258845915847, 924.4863659967796, 487.4918556130545, 442.5360965987491, 404.78910989450213, 388.49538625086785, 371.2244781821007, 361.81044659275545, 352.8046506831859, 319.94579991295126, 298.60829076753964, 295.7325066215806, 294.4110514472287, 269.1900749880628, 261.63769136105924, 259.7067794588179, 259.66139638769016, 250.8552907013131, 233.174545474391, 214.84602579424225, 203.99923628319192, 202.88279389252799, 3720.1468529623353, 11081.556632568225, 5345.534739118353, 7144.4701269958505, 26117.473128097467, 3765.004450772458, 3363.4527765237785, 398.72996354917046, 1054.0122416220693, 2475.9373867519216, 8345.559316823723, 1369.654115493273, 5963.480809691266, 7640.883959966247, 5152.9352969612355, 1890.874942761816, 2469.903016219162, 1887.2105718210255, 5662.17113106303, 10113.61782473214, 7021.107305401319, 4763.25792546192, 2903.7685675661014, 2517.4949970548228, 21866.695820342786, 5295.988012613985, 18308.947918672166, 13599.46349218033, 16399.128051912285, 7566.610030468858, 9549.406817648212, 9441.96382159808, 7581.367747937635, 6847.635921005156, 4857.31143180676, 5338.8247331188, 5304.75469367085, 5349.434809994716, 4280.096043465428, 4498.448388415127, 22908.35549471408, 4796.52387010823, 1463.1332662899842, 1192.4223470374873, 1153.7609950223828, 1040.7519566871104, 959.5329209984219, 788.2909814308758, 754.3118036844998, 728.7454096457985, 725.7389618596392, 656.1723207547191, 572.984664742809, 561.9185567304428, 542.6442553038647, 1382.7005721016417, 474.9040961981331, 474.08600714615255, 455.6206333352262, 452.86077331797793, 391.60482486540457, 390.18648031930246, 384.2239272931473, 375.66322267167743, 328.23891145436755, 319.3218405657983, 259.71501868288857, 259.26495178482173, 240.20800770282827, 284.7024961175314, 7461.25080685922, 2664.5734600156584, 66186.4248580011, 4568.060869132653, 1283.6530184878186, 528.166918221997, 34220.043699409754, 1494.8251236483718, 6206.953298051347, 3484.1218108839785, 1914.540818108707, 1102.5838510799822, 2462.7210754056923, 629.3220557279111, 1774.714078663875, 1529.5458788472888, 2307.127776160753, 18413.505930967654, 6915.099308818981, 3956.5496887618965, 7472.541324707998, 7663.980149552625, 4532.995970474016, 6922.8319239097045, 5241.483040653497, 3089.6826099622745, 12498.617046105584, 6653.162052228955, 4967.126141863982, 3911.559961218515, 3953.0494758405275, 6012.381806225989, 5007.71402601957, 7451.070546244751, 3979.7373748175464, 8257.35458862552, 6264.534285987625, 5126.35154243051, 5088.807069281914, 4422.653091525024, 4640.800496608879, 4307.754529623746, 4165.856035666525, 87418.8882848167, 3051.0967793656605, 2615.67259682967, 2023.662395097361, 1786.0928564638182, 1436.6540915723301, 910.6903573534362, 763.4096825932164, 611.0764626715174, 560.0261699897002, 540.5385748255624, 448.8085065679477, 1173.5242501795465, 399.4460559938052, 389.846683650467, 371.35286272947127, 368.40122671433784, 366.6834473715748, 313.00416858277407, 313.0013711005552, 310.99398971794375, 304.77109490580847, 291.60614358396725, 284.16137534418993, 269.82258795728546, 264.8838209905277, 241.07221601558783, 236.75530429399765, 235.4153311879083, 228.45882797898273, 4529.505840015538, 6604.728922162523, 592.7085702038353, 1654.5771213503187, 12103.771285348288, 524.7062033313283, 3606.1650175477307, 4678.8315995381245, 623.2048006941492, 595.2870972472148, 5745.5093983999805, 530.8923550934252, 3817.8287017378075, 12886.717581674671, 1441.501000913992, 6743.50341382498, 2911.062335114613, 3464.844900573065, 2336.9879192308404, 17681.18056176695, 6415.549646401879, 8765.75070045427, 17154.353365872154, 1628.8516418797687, 2071.5038504137756, 1861.0518518056485, 9349.524279465008, 5088.813892144316, 11015.103439093882, 4641.743832884778, 8088.43399243385, 5570.094737239191, 6659.01510845568, 3828.9538292339917, 5156.241731325314, 5280.137625916295, 3444.3062036570323, 3982.956979026472, 4150.225705993739, 3896.218662883909, 3408.881895087244, 3444.3563078161756, 8418.119583519163, 6618.030270638628, 6505.304994450599, 4429.7286361622855, 2192.0305103092787, 1823.240833424981, 1772.4226427640117, 1357.8787311130086, 1257.1346095039871, 595.9336759276913, 577.3018402070925, 502.8670409756617, 464.1653270005404, 443.41593728500845, 330.51515502513985, 330.4867586289278, 320.44593593180394, 317.28752122679833, 309.8401883825577, 290.3528652606833, 284.83654864604375, 276.70596582244355, 260.93632340751674, 252.407557736026, 241.39512884908768, 240.0987005731074, 234.06632542270458, 233.11173664155532, 226.34360882239378, 224.09961936260015, 14946.446986842224, 17871.965808675617, 1535.525932085205, 3547.954098470437, 9760.811676789259, 1068.5948778098655, 2324.38648077646, 5016.85072648384, 652.1097966854356, 8209.973263839078, 3448.5783154357173, 971.2504789864654, 1133.955455413791, 7683.413373033484, 3072.774115815198, 3288.082047478071, 1811.741396128476, 3919.9042329659433, 5660.447242726797, 5645.444793307083, 2860.1255577302322, 24614.06880057733, 12607.86917212461, 6549.35397455212, 14202.262999037835, 7422.189408432683, 5595.038289104002, 4545.252203549979, 2862.652877851223, 6576.081071248081, 7039.614200495257, 7249.693599740209, 6589.8362038569185, 5025.447275783123, 4830.484401840222, 4535.470768653361, 4314.667255873801, 4134.956556204785, 3850.471571287095, 13844.18999053927, 11792.810412096676, 8633.981743809314, 8101.782038164553, 3953.191215358984, 1923.7123262014866, 1819.100508351919, 1606.4576835495618, 1416.478405004793, 1295.0625355410223, 1228.6557663544743, 1079.5580208580286, 931.0801140844802, 714.7352713050041, 705.3989897650442, 666.1550191611489, 617.3315453426997, 606.8435171286377, 514.8514036950633, 502.09736253706757, 492.40099019217564, 482.57585958405616, 479.95955303853896, 477.23509373576974, 460.5176131390573, 412.63418272519544, 375.7696773773223, 2378.027403117983, 363.0131956348624, 359.0294993450937, 815.2306599354481, 7298.894459828838, 2427.16152847322, 6001.401102161571, 1417.4429239850062, 1861.997057664789, 2219.557604086432, 5822.502077083825, 8239.085694103718, 18621.081530695952, 1678.882934024585, 4432.974418737245, 17410.160027291426, 2599.6913254095075, 4341.928624496881, 24166.08385465656, 3580.806837826325, 1812.1295018125973, 15973.166208743361, 5482.505510547521, 2631.786266270171, 3855.592382101521, 9814.891589251733, 9825.31888177813, 9471.880970633249, 8053.7619350207015, 8727.144570744826, 7117.808113223379, 5830.7972750223835, 5182.014057152773, 5992.37623919923, 4129.110217075077, 4718.213195465143, 3498.1519124355113, 4456.315052856161, 3806.032339891806], \"Total\": [92784.0, 87419.0, 73113.0, 185972.0, 47766.0, 56788.0, 157351.0, 38972.0, 112465.0, 56621.0, 48909.0, 134609.0, 42400.0, 44170.0, 119143.0, 33480.0, 68171.0, 118403.0, 22909.0, 30858.0, 24499.0, 25587.0, 34093.0, 34511.0, 24990.0, 19191.0, 47580.0, 15834.0, 21957.0, 15175.0, 15121.348772211388, 13353.3873495418, 12565.971921923494, 10533.312342236695, 5074.56626941744, 4810.165026917425, 3956.6592744903064, 3661.5396574056913, 3154.4819019631254, 2089.1897386929218, 1885.1769563350767, 5351.701864470089, 1629.4268292885506, 1427.0108954583975, 44170.26352825494, 1282.397717716553, 1274.000894744293, 17743.567617953115, 1230.9188890630614, 1072.20020674579, 919.8334821357832, 837.00959748868, 802.2551748383579, 736.6272560900624, 654.9831175846659, 640.2950859903972, 56788.5546463509, 577.6662474257686, 562.1934588694418, 431.07347313212404, 8082.9534695603425, 56621.6989896014, 6594.503146438115, 3798.419752374909, 2378.012365792366, 2131.351450510143, 5765.924429094302, 3999.624258119543, 10545.509146562938, 7573.3898630334525, 34095.213295804424, 10433.948027225602, 14944.846308201342, 13915.396162441952, 15971.753926116795, 10956.910772828143, 11081.614729463405, 91801.4877883271, 3780.3759232612992, 13723.325942200607, 83836.52142396756, 32297.17478152175, 10001.357810362155, 11571.55976614531, 10733.503669911624, 134609.23204359386, 111600.46266682251, 28449.348058226762, 167375.71268315322, 62653.396279702676, 28925.34589847767, 80733.56572050661, 110293.1807422563, 36258.78334493935, 91318.24896927281, 79344.29227432613, 66084.34789199222, 40850.089429026666, 49792.093931031, 60081.37780800128, 35874.58753758094, 119143.54775729934, 118403.66411621534, 104663.98368279457, 10594.614777955248, 4012.733025068579, 1824.5068114934547, 1437.1486182559074, 867.223754035935, 795.3920898723709, 755.1080634697929, 694.0209799359257, 1358.9729891883628, 615.9752215982202, 609.7882274481145, 607.6736228978108, 520.4900628905839, 476.74626209322236, 457.5725727510501, 564.9251116912484, 415.6826065304181, 396.6591551459567, 372.8016478712118, 365.8520566600788, 399.31344423254643, 349.71480446408856, 339.0456317906316, 329.0565659320357, 318.4470788832176, 317.5411532687926, 306.49534317145014, 305.0514540967429, 289.4791154336133, 284.7010596443044, 1370.5262879113295, 1964.186129357632, 9808.51657211284, 2556.954939611639, 1169.9021943228856, 672.5505908778833, 487.67218847079533, 3564.067781093424, 185972.07266449174, 11342.918763594971, 3275.854156345983, 21148.559236664707, 3748.4977631414386, 3090.4996348176896, 1706.9315802208175, 1731.2507923346373, 1507.8619301422773, 14915.74076025846, 3811.261263643814, 1219.230531833097, 1310.9905890441123, 2096.5550967340578, 11116.142799150133, 134609.23204359386, 13884.451653919708, 8154.933277772761, 2716.4749932191885, 27423.214905418823, 6334.3853177907085, 3922.4086394313085, 7043.526117522778, 15596.896025032864, 11310.931294258588, 44909.229673855305, 4052.7379858610684, 5138.850682310558, 12827.331742435344, 16527.782160369068, 8432.57240004963, 23604.054939369144, 28219.131173268, 33398.50693197981, 25489.104265977978, 50397.614470137654, 34006.40186972987, 79344.29227432613, 21003.661308242532, 18380.244111460346, 28449.348058226762, 25451.04847346655, 119143.54775729934, 43205.11675829541, 55885.036422941186, 38873.25691487629, 11107.181729643853, 4495.42376682348, 2855.1085512953628, 1624.6274748189876, 1598.933384911818, 1477.7298770660855, 1322.2671330514765, 1054.6220559695569, 837.3735375130866, 774.4625946678284, 679.3368564588644, 638.3388633482977, 494.2378172719843, 478.7647819026161, 468.9593756584193, 406.31309524273786, 392.7592506167082, 370.45166315592473, 345.11827351335654, 336.35368210055776, 297.532941285884, 280.64419745634564, 269.2452344576658, 265.04555925886467, 262.8850730781061, 2358.8548639337714, 251.74307884544353, 250.37862899627066, 247.52736080950515, 239.03495677542043, 1147.10479854206, 1208.0434003225873, 1539.9091838865318, 2106.8515703643457, 2303.548641853452, 1213.3563357482271, 4649.644130203095, 1092.9948848494794, 680.1151770751418, 1745.222877076755, 1520.157652277574, 1943.7695511321622, 6928.144023145213, 823.903309393435, 27972.566749731814, 7031.729968182501, 5290.032292726743, 993.50846061795, 6098.564595183326, 4270.423574957809, 29124.00334592081, 34006.40186972987, 11928.576220415549, 33528.256966872104, 20058.4946328419, 15924.714433627749, 8073.1300541848805, 26455.271987138884, 37916.49001369403, 80733.56572050661, 17796.539175223545, 27507.47999541992, 49792.093931031, 66084.34789199222, 18867.89877005631, 62653.396279702676, 110293.1807422563, 13599.779375059135, 47766.93018530154, 50397.614470137654, 53813.29697331785, 22988.40184627561, 25315.296344875653, 18722.569472128216, 29552.1056580645, 79344.29227432613, 18217.217159772536, 68171.67156979977, 118403.66411621534, 111600.46266682251, 65706.82181315843, 119143.54775729934, 104663.98368279457, 91801.4877883271, 167375.71268315322, 38972.94575420833, 25587.012253884637, 1637.1488315220186, 902.7799608290452, 734.3446607511594, 711.9086396113223, 709.571558365691, 641.244610286888, 615.2235287739184, 587.1790097417631, 490.52210566493244, 445.31408566139925, 380.62851012746114, 376.5144739751961, 356.2499741565832, 359.98562452016154, 339.6176717892479, 333.28159126967245, 312.02595376621514, 282.2181371895686, 281.43186163203075, 255.53041455805, 253.79444342292928, 228.0163130292366, 226.97916243104828, 221.61286827489133, 215.22714332187368, 194.23006301105895, 188.94287994672203, 184.91944068226346, 24990.600142095147, 5735.162569871851, 495.11390292631233, 15522.284424397483, 3270.8590921653745, 4955.940972838227, 2100.004592099623, 22764.478018799702, 3752.3114028764267, 7595.27602416458, 4188.711827774021, 16304.61863678964, 6310.033405739858, 2966.6107244014597, 1540.910297576765, 4342.890348681965, 19753.394647578312, 3780.591129982698, 3144.0022814227045, 5386.370019672686, 13554.924779295921, 35719.99370579899, 10260.083337613965, 3746.7418347421585, 15912.487229951763, 25228.996507996948, 68171.67156979977, 12163.825156569097, 12604.331074306407, 157351.8103738957, 11972.182677021636, 112465.57289229604, 167375.71268315322, 13228.372043602209, 13651.044272665515, 65706.82181315843, 34511.698849369954, 110293.1807422563, 104663.98368279457, 111600.46266682251, 53813.29697331785, 79344.29227432613, 185972.07266449174, 91318.24896927281, 43205.11675829541, 18408.127775709687, 60081.37780800128, 118403.66411621534, 29377.861771320255, 55885.036422941186, 8302.162672043696, 4419.803327992133, 1543.1216042101175, 1460.2271431964662, 1172.931902108625, 957.2974983240678, 911.5946621389568, 848.357687923652, 792.9435165287017, 783.9797119808704, 757.6248314668395, 751.4277156710167, 721.3032065548174, 714.4829503153952, 704.2687199184453, 668.4569795285798, 648.665208649724, 625.8281466928375, 599.8424272508381, 555.4177731234145, 437.3085999055148, 399.83416151886075, 394.3168716046701, 378.08210541369317, 337.3558314064379, 316.6045005284057, 313.12184161227555, 308.89617064936306, 292.97008111328233, 286.78761114242474, 4578.384441355009, 1133.0706364617922, 8325.459309936532, 1364.6892718034344, 1059.9650783004236, 5414.868181055048, 21957.24531034176, 4452.378349992299, 42400.99274182454, 9288.114278956045, 4398.963538158146, 34511.698849369954, 48909.86044901134, 2883.2642546712077, 2661.156110401407, 3574.309528713217, 5080.676748407198, 7252.246599574476, 4743.478597628857, 3969.7515162155164, 23551.173893126208, 8799.496391044164, 2114.8628853577075, 4437.994147751547, 157351.8103738957, 47580.365166959906, 35719.99370579899, 112465.57289229604, 34093.49174829345, 19753.394647578312, 119143.54775729934, 16198.06735555841, 13140.127262281972, 118403.66411621534, 104663.98368279457, 91318.24896927281, 167375.71268315322, 60081.37780800128, 185972.07266449174, 65706.82181315843, 53813.29697331785, 134609.23204359386, 79344.29227432613, 55885.036422941186, 111600.46266682251, 15834.802674178802, 6804.755065781988, 6290.35181671448, 2678.308585373341, 2340.7141944057967, 1968.0081776785016, 1861.2303746973093, 1760.506987188364, 1464.4373740104638, 1353.3230167144457, 1207.1279567782747, 1053.5244684963366, 972.1365784935801, 955.3287487125751, 836.1126449208334, 827.8231941534422, 786.3761671524869, 589.9624318542969, 582.8643062019459, 580.8497757057227, 565.2617662597422, 559.248600933856, 532.8514967499921, 444.56044810001964, 440.0813913721099, 431.207126473885, 429.8452043946478, 412.950058787875, 399.28452450555335, 378.9715148384203, 5232.46357777488, 2938.1128021127515, 1620.5559681898546, 2108.5921110819613, 24499.485642883636, 1958.6219762716912, 1719.1524111163988, 7455.152631175236, 10216.684604057771, 5007.52672557817, 1485.3923924049507, 1368.1118093584598, 10962.06918925952, 5904.268556048154, 3051.045773366278, 5803.81772468443, 26846.944201242, 3134.520754120778, 6537.804778719283, 12604.331074306407, 7853.504877748645, 112465.57289229604, 5072.850476951617, 12543.07833284362, 157351.8103738957, 167375.71268315322, 119143.54775729934, 104663.98368279457, 47580.365166959906, 118403.66411621534, 6467.249081296418, 111600.46266682251, 24457.500523220722, 53813.29697331785, 185972.07266449174, 91318.24896927281, 65706.82181315843, 68171.67156979977, 73113.61688880094, 110293.1807422563, 60081.37780800128, 55885.036422941186, 92784.64054288487, 5425.180801699571, 4915.498824814292, 3143.239531135929, 2082.011034174375, 1964.5855552330033, 1861.5082010820295, 1691.7222640275436, 1048.056833626211, 925.417317912867, 488.4227988385493, 443.4670399209423, 405.7200557293703, 389.42636390648465, 372.15542191705975, 362.7413930646332, 353.735593278897, 320.87675261200167, 299.53923189859927, 296.6634621840226, 295.34199394820496, 270.12102839897005, 262.568730768662, 260.63772723875377, 260.59234984000983, 251.78623438026784, 234.105507697503, 215.77702162115602, 204.930187683409, 203.8137543355297, 3750.014801474491, 12968.20539792793, 6102.113328877915, 8353.396658243742, 33480.350373633686, 4385.885987019459, 3954.4413323670515, 410.44871565493855, 1176.0000670297984, 2987.3624544643885, 13677.465967453396, 1720.5448740357851, 9429.16063707349, 12917.464582935474, 8308.35197639175, 2556.394058135809, 3562.7230536899324, 2622.119149083029, 10086.101565194765, 21464.16579145818, 13651.044272665515, 9402.53363050815, 4949.119034807916, 4146.018987092095, 112465.57289229604, 13366.132147308663, 157351.8103738957, 104663.98368279457, 167375.71268315322, 48909.86044901134, 118403.66411621534, 119143.54775729934, 111600.46266682251, 91318.24896927281, 35874.58753758094, 65706.82181315843, 79344.29227432613, 110293.1807422563, 29011.743323246355, 185972.07266449174, 22909.287537176206, 4797.767662426978, 1464.0653127297244, 1193.354389028967, 1154.693038618359, 1041.6839997283985, 960.4649930150124, 789.2230305791711, 755.2440986007747, 729.6776058824508, 726.6710066270747, 657.1044003656964, 573.9167157408191, 562.8506182828437, 543.577089723849, 1385.33870104876, 475.8362217989067, 475.0180459701293, 456.5526721551034, 453.79280938578387, 392.5368680632558, 391.1185174116858, 385.15597894519595, 376.5953009249484, 329.171001464593, 320.25387999088235, 260.6470774308608, 260.1973060411205, 241.14005282736835, 285.88243671746966, 7638.208813164645, 2701.721385802415, 73113.61688880094, 4778.836724229531, 1320.9147540307592, 540.5871690613444, 47766.93018530154, 1756.4009436732033, 8836.426165729605, 4881.766662242821, 2470.5034998006895, 1334.602499893089, 3782.409703578663, 679.4535140243631, 2538.565631627478, 2128.526207865742, 3768.59195662487, 68171.67156979977, 20575.944310551793, 9327.300003620378, 25489.104265977978, 27972.566749731814, 12543.07833284362, 25228.996507996948, 17796.539175223545, 7786.697319142418, 110293.1807422563, 35874.58753758094, 25451.04847346655, 16198.06735555841, 17728.75486682296, 50397.614470137654, 36258.78334493935, 104663.98368279457, 21546.330536895723, 167375.71268315322, 91318.24896927281, 55885.036422941186, 134609.23204359386, 60081.37780800128, 118403.66411621534, 79344.29227432613, 80733.56572050661, 87419.81042434505, 3052.0189311955332, 2616.5947648404876, 2024.5845418255851, 1787.015014417594, 1437.576236441234, 911.612493189257, 764.3318135118693, 611.998646797825, 560.9483293500285, 541.4607067618833, 449.73063852566844, 1176.185479967118, 400.3681891045868, 390.7688150904949, 372.27503915828623, 369.3233580567178, 367.605583714938, 313.92633816299855, 313.9235504789951, 311.9161349839397, 305.69323993503014, 292.5282820996594, 285.0835297665583, 270.7447339615129, 265.8059929322279, 241.9943531540485, 237.67766552833618, 236.33749382854535, 229.3809673897487, 4636.842146955652, 6830.911567874197, 601.5501919536159, 1753.8875854457813, 14186.177923782563, 561.4086254815712, 4720.310984958752, 7018.3523631152875, 695.3283285998247, 668.6827648686043, 9859.797786685987, 587.2995033730836, 8154.574248289154, 48909.86044901134, 2413.318167648472, 21464.16579145818, 7032.664169993156, 9429.16063707349, 5251.699078858284, 112465.57289229604, 26846.944201242, 49792.093931031, 157351.8103738957, 3418.837124036456, 5163.504398750503, 4803.2432608354375, 104663.98368279457, 33480.350373633686, 167375.71268315322, 29011.743323246355, 118403.66411621534, 65706.82181315843, 110293.1807422563, 27615.196258623095, 91318.24896927281, 111600.46266682251, 24796.13250633118, 55885.036422941186, 83836.52142396756, 119143.54775729934, 35719.99370579899, 47580.365166959906, 8419.050522493359, 6618.961188614282, 6506.235930716564, 4430.659560014566, 2192.961454189497, 1824.1717566991658, 1773.3549130021813, 1358.809662870421, 1258.0655337030776, 596.864610572542, 578.2327683675999, 503.79796201831573, 465.0962550098789, 444.34685298125163, 331.44611254028, 331.41767404773424, 321.3768946601525, 318.21846007720853, 310.77110606267314, 291.2838024566065, 285.7674867108333, 277.6369386988288, 261.8674386168533, 253.33849357214046, 242.32606155120803, 241.02966045740146, 234.99732353480408, 234.04281338347624, 227.27453652995322, 225.03054248618386, 15175.085575984273, 19191.158625169566, 1577.0829537154632, 3917.666046891148, 12021.663037319651, 1184.0991551663667, 2821.7527925829168, 6625.73004025458, 711.1128953925573, 11723.379130762598, 4543.233174538988, 1115.4433483403245, 1382.6831204665734, 13140.127262281972, 4496.145641842778, 4911.569461517642, 2547.549905943613, 6799.205168744471, 11166.216674826988, 12147.847685695157, 5226.232861949273, 119143.54775729934, 47580.365166959906, 20575.944310551793, 118403.66411621534, 42400.99274182454, 25315.296344875653, 17773.164309099866, 6953.412323288072, 91318.24896927281, 134609.23204359386, 167375.71268315322, 185972.07266449174, 62653.396279702676, 55885.036422941186, 111600.46266682251, 157351.8103738957, 104663.98368279457, 53813.29697331785, 13845.107739367508, 11793.728168210759, 8634.89949661376, 8102.6998008472465, 3954.108959271923, 1924.6300729010081, 1820.018285742506, 1607.37543113029, 1417.396151099697, 1295.9802949969808, 1229.5735179474932, 1080.4757766834764, 931.9978692102778, 715.6530480587763, 706.3167351846934, 667.0727797197337, 618.2493028167518, 607.7612680030713, 515.7691606880879, 503.0151348543436, 493.31874520761835, 483.49373567428927, 480.877315880631, 478.1528332016965, 461.4353710513662, 413.5519498962601, 376.6874213080589, 2383.9051307564546, 363.93094144672756, 359.9472369179019, 822.8864158757, 7678.113419650954, 2555.3921730639818, 6630.120577973234, 1526.6135715623634, 2140.7446937595187, 2604.3782083586384, 7663.768059676805, 11942.500815492775, 30858.737752027264, 1996.6034438613146, 6400.663796685371, 34093.49174829345, 4245.563045681114, 9327.300003620378, 118403.66411621534, 8072.563943815609, 2849.9249621194076, 119143.54775729934, 19525.946654864958, 5491.54336742789, 13592.148526425279, 111600.46266682251, 167375.71268315322, 157351.8103738957, 104663.98368279457, 134609.23204359386, 110293.1807422563, 68171.67156979977, 47580.365166959906, 91318.24896927281, 25315.296344875653, 55885.036422941186, 15912.487229951763, 83836.52142396756, 45112.888089028056], \"Category\": [\"Default\", \"Default\", \"Default\", \"Default\", \"Default\", \"Default\", \"Default\", \"Default\", \"Default\", \"Default\", \"Default\", \"Default\", \"Default\", \"Default\", \"Default\", \"Default\", \"Default\", \"Default\", \"Default\", \"Default\", \"Default\", \"Default\", \"Default\", \"Default\", \"Default\", \"Default\", \"Default\", \"Default\", \"Default\", \"Default\", \"Topic1\", \"Topic1\", \"Topic1\", \"Topic1\", \"Topic1\", \"Topic1\", \"Topic1\", \"Topic1\", \"Topic1\", \"Topic1\", \"Topic1\", \"Topic1\", \"Topic1\", \"Topic1\", \"Topic1\", \"Topic1\", \"Topic1\", \"Topic1\", \"Topic1\", \"Topic1\", \"Topic1\", \"Topic1\", \"Topic1\", \"Topic1\", \"Topic1\", \"Topic1\", \"Topic1\", \"Topic1\", \"Topic1\", \"Topic1\", \"Topic1\", \"Topic1\", \"Topic1\", \"Topic1\", \"Topic1\", \"Topic1\", \"Topic1\", \"Topic1\", \"Topic1\", \"Topic1\", \"Topic1\", \"Topic1\", \"Topic1\", \"Topic1\", \"Topic1\", \"Topic1\", \"Topic1\", \"Topic1\", \"Topic1\", \"Topic1\", \"Topic1\", \"Topic1\", \"Topic1\", \"Topic1\", \"Topic1\", \"Topic1\", \"Topic1\", \"Topic1\", \"Topic1\", \"Topic1\", \"Topic1\", \"Topic1\", \"Topic1\", \"Topic1\", \"Topic1\", \"Topic1\", \"Topic1\", \"Topic1\", \"Topic1\", \"Topic1\", \"Topic1\", \"Topic1\", \"Topic1\", \"Topic1\", \"Topic2\", \"Topic2\", \"Topic2\", \"Topic2\", \"Topic2\", \"Topic2\", \"Topic2\", \"Topic2\", \"Topic2\", \"Topic2\", \"Topic2\", \"Topic2\", \"Topic2\", \"Topic2\", \"Topic2\", \"Topic2\", \"Topic2\", \"Topic2\", \"Topic2\", \"Topic2\", \"Topic2\", \"Topic2\", \"Topic2\", \"Topic2\", \"Topic2\", \"Topic2\", \"Topic2\", \"Topic2\", \"Topic2\", \"Topic2\", \"Topic2\", \"Topic2\", \"Topic2\", \"Topic2\", \"Topic2\", \"Topic2\", \"Topic2\", \"Topic2\", \"Topic2\", \"Topic2\", \"Topic2\", \"Topic2\", \"Topic2\", \"Topic2\", \"Topic2\", \"Topic2\", \"Topic2\", \"Topic2\", \"Topic2\", \"Topic2\", \"Topic2\", \"Topic2\", \"Topic2\", \"Topic2\", \"Topic2\", \"Topic2\", \"Topic2\", \"Topic2\", \"Topic2\", \"Topic2\", \"Topic2\", \"Topic2\", \"Topic2\", \"Topic2\", \"Topic2\", \"Topic2\", \"Topic2\", \"Topic2\", \"Topic2\", \"Topic2\", \"Topic2\", \"Topic2\", \"Topic2\", \"Topic2\", \"Topic2\", \"Topic2\", \"Topic2\", \"Topic2\", \"Topic2\", \"Topic2\", \"Topic2\", \"Topic2\", \"Topic2\", \"Topic2\", \"Topic3\", \"Topic3\", \"Topic3\", \"Topic3\", \"Topic3\", \"Topic3\", \"Topic3\", \"Topic3\", \"Topic3\", \"Topic3\", \"Topic3\", \"Topic3\", \"Topic3\", \"Topic3\", \"Topic3\", \"Topic3\", \"Topic3\", \"Topic3\", \"Topic3\", \"Topic3\", \"Topic3\", \"Topic3\", \"Topic3\", \"Topic3\", \"Topic3\", \"Topic3\", \"Topic3\", \"Topic3\", \"Topic3\", \"Topic3\", \"Topic3\", \"Topic3\", \"Topic3\", \"Topic3\", \"Topic3\", \"Topic3\", \"Topic3\", \"Topic3\", \"Topic3\", \"Topic3\", \"Topic3\", \"Topic3\", \"Topic3\", \"Topic3\", \"Topic3\", \"Topic3\", \"Topic3\", \"Topic3\", \"Topic3\", \"Topic3\", \"Topic3\", \"Topic3\", \"Topic3\", \"Topic3\", \"Topic3\", \"Topic3\", \"Topic3\", \"Topic3\", \"Topic3\", \"Topic3\", \"Topic3\", \"Topic3\", \"Topic3\", \"Topic3\", \"Topic3\", \"Topic3\", \"Topic3\", \"Topic3\", \"Topic3\", \"Topic3\", \"Topic3\", \"Topic3\", \"Topic3\", \"Topic3\", \"Topic3\", \"Topic3\", \"Topic3\", \"Topic3\", \"Topic3\", \"Topic3\", \"Topic3\", \"Topic3\", \"Topic3\", \"Topic3\", \"Topic3\", \"Topic4\", \"Topic4\", \"Topic4\", \"Topic4\", \"Topic4\", \"Topic4\", \"Topic4\", \"Topic4\", \"Topic4\", \"Topic4\", \"Topic4\", \"Topic4\", \"Topic4\", \"Topic4\", \"Topic4\", \"Topic4\", \"Topic4\", \"Topic4\", \"Topic4\", \"Topic4\", \"Topic4\", \"Topic4\", \"Topic4\", \"Topic4\", \"Topic4\", \"Topic4\", \"Topic4\", \"Topic4\", \"Topic4\", \"Topic4\", \"Topic4\", \"Topic4\", \"Topic4\", \"Topic4\", \"Topic4\", \"Topic4\", \"Topic4\", \"Topic4\", \"Topic4\", \"Topic4\", \"Topic4\", \"Topic4\", \"Topic4\", \"Topic4\", \"Topic4\", \"Topic4\", \"Topic4\", \"Topic4\", \"Topic4\", \"Topic4\", \"Topic4\", \"Topic4\", \"Topic4\", \"Topic4\", \"Topic4\", \"Topic4\", \"Topic4\", \"Topic4\", \"Topic4\", \"Topic4\", \"Topic4\", \"Topic4\", \"Topic4\", \"Topic4\", \"Topic4\", \"Topic4\", \"Topic4\", \"Topic4\", \"Topic4\", \"Topic4\", \"Topic4\", \"Topic4\", \"Topic4\", \"Topic4\", \"Topic4\", \"Topic4\", \"Topic4\", \"Topic4\", \"Topic4\", \"Topic4\", \"Topic5\", \"Topic5\", \"Topic5\", \"Topic5\", \"Topic5\", \"Topic5\", \"Topic5\", \"Topic5\", \"Topic5\", \"Topic5\", \"Topic5\", \"Topic5\", \"Topic5\", \"Topic5\", \"Topic5\", \"Topic5\", \"Topic5\", \"Topic5\", \"Topic5\", \"Topic5\", \"Topic5\", \"Topic5\", \"Topic5\", \"Topic5\", \"Topic5\", \"Topic5\", \"Topic5\", \"Topic5\", \"Topic5\", \"Topic5\", \"Topic5\", \"Topic5\", \"Topic5\", \"Topic5\", \"Topic5\", \"Topic5\", \"Topic5\", \"Topic5\", \"Topic5\", \"Topic5\", \"Topic5\", \"Topic5\", \"Topic5\", \"Topic5\", \"Topic5\", \"Topic5\", \"Topic5\", \"Topic5\", \"Topic5\", \"Topic5\", \"Topic5\", \"Topic5\", \"Topic5\", \"Topic5\", \"Topic5\", \"Topic5\", \"Topic5\", \"Topic5\", \"Topic5\", \"Topic5\", \"Topic5\", \"Topic5\", \"Topic5\", \"Topic5\", \"Topic5\", \"Topic5\", \"Topic5\", \"Topic5\", \"Topic5\", \"Topic5\", \"Topic5\", \"Topic5\", \"Topic5\", \"Topic5\", \"Topic5\", \"Topic6\", \"Topic6\", \"Topic6\", \"Topic6\", \"Topic6\", \"Topic6\", \"Topic6\", \"Topic6\", \"Topic6\", \"Topic6\", \"Topic6\", \"Topic6\", \"Topic6\", \"Topic6\", \"Topic6\", \"Topic6\", \"Topic6\", \"Topic6\", \"Topic6\", \"Topic6\", \"Topic6\", \"Topic6\", \"Topic6\", \"Topic6\", \"Topic6\", \"Topic6\", \"Topic6\", \"Topic6\", \"Topic6\", \"Topic6\", \"Topic6\", \"Topic6\", \"Topic6\", \"Topic6\", \"Topic6\", \"Topic6\", \"Topic6\", \"Topic6\", \"Topic6\", \"Topic6\", \"Topic6\", \"Topic6\", \"Topic6\", \"Topic6\", \"Topic6\", \"Topic6\", \"Topic6\", \"Topic6\", \"Topic6\", \"Topic6\", \"Topic6\", \"Topic6\", \"Topic6\", \"Topic6\", \"Topic6\", \"Topic6\", \"Topic6\", \"Topic6\", \"Topic6\", \"Topic6\", \"Topic6\", \"Topic6\", \"Topic6\", \"Topic6\", \"Topic6\", \"Topic6\", \"Topic6\", \"Topic6\", \"Topic6\", \"Topic6\", \"Topic6\", \"Topic6\", \"Topic7\", \"Topic7\", \"Topic7\", \"Topic7\", \"Topic7\", \"Topic7\", \"Topic7\", \"Topic7\", \"Topic7\", \"Topic7\", \"Topic7\", \"Topic7\", \"Topic7\", \"Topic7\", \"Topic7\", \"Topic7\", \"Topic7\", \"Topic7\", \"Topic7\", \"Topic7\", \"Topic7\", \"Topic7\", \"Topic7\", \"Topic7\", \"Topic7\", \"Topic7\", \"Topic7\", \"Topic7\", \"Topic7\", \"Topic7\", \"Topic7\", \"Topic7\", \"Topic7\", \"Topic7\", \"Topic7\", \"Topic7\", \"Topic7\", \"Topic7\", \"Topic7\", \"Topic7\", \"Topic7\", \"Topic7\", \"Topic7\", \"Topic7\", \"Topic7\", \"Topic7\", \"Topic7\", \"Topic7\", \"Topic7\", \"Topic7\", \"Topic7\", \"Topic7\", \"Topic7\", \"Topic7\", \"Topic7\", \"Topic7\", \"Topic7\", \"Topic7\", \"Topic7\", \"Topic7\", \"Topic7\", \"Topic7\", \"Topic7\", \"Topic7\", \"Topic7\", \"Topic7\", \"Topic7\", \"Topic7\", \"Topic7\", \"Topic7\", \"Topic8\", \"Topic8\", \"Topic8\", \"Topic8\", \"Topic8\", \"Topic8\", \"Topic8\", \"Topic8\", \"Topic8\", \"Topic8\", \"Topic8\", \"Topic8\", \"Topic8\", \"Topic8\", \"Topic8\", \"Topic8\", \"Topic8\", \"Topic8\", \"Topic8\", \"Topic8\", \"Topic8\", \"Topic8\", \"Topic8\", \"Topic8\", \"Topic8\", \"Topic8\", \"Topic8\", \"Topic8\", \"Topic8\", \"Topic8\", \"Topic8\", \"Topic8\", \"Topic8\", \"Topic8\", \"Topic8\", \"Topic8\", \"Topic8\", \"Topic8\", \"Topic8\", \"Topic8\", \"Topic8\", \"Topic8\", \"Topic8\", \"Topic8\", \"Topic8\", \"Topic8\", \"Topic8\", \"Topic8\", \"Topic8\", \"Topic8\", \"Topic8\", \"Topic8\", \"Topic8\", \"Topic8\", \"Topic8\", \"Topic8\", \"Topic8\", \"Topic8\", \"Topic8\", \"Topic8\", \"Topic8\", \"Topic8\", \"Topic8\", \"Topic8\", \"Topic8\", \"Topic8\", \"Topic8\", \"Topic8\", \"Topic8\", \"Topic8\", \"Topic8\", \"Topic8\", \"Topic8\", \"Topic9\", \"Topic9\", \"Topic9\", \"Topic9\", \"Topic9\", \"Topic9\", \"Topic9\", \"Topic9\", \"Topic9\", \"Topic9\", \"Topic9\", \"Topic9\", \"Topic9\", \"Topic9\", \"Topic9\", \"Topic9\", \"Topic9\", \"Topic9\", \"Topic9\", \"Topic9\", \"Topic9\", \"Topic9\", \"Topic9\", \"Topic9\", \"Topic9\", \"Topic9\", \"Topic9\", \"Topic9\", \"Topic9\", \"Topic9\", \"Topic9\", \"Topic9\", \"Topic9\", \"Topic9\", \"Topic9\", \"Topic9\", \"Topic9\", \"Topic9\", \"Topic9\", \"Topic9\", \"Topic9\", \"Topic9\", \"Topic9\", \"Topic9\", \"Topic9\", \"Topic9\", \"Topic9\", \"Topic9\", \"Topic9\", \"Topic9\", \"Topic9\", \"Topic9\", \"Topic9\", \"Topic9\", \"Topic9\", \"Topic9\", \"Topic9\", \"Topic9\", \"Topic9\", \"Topic9\", \"Topic9\", \"Topic9\", \"Topic9\", \"Topic9\", \"Topic9\", \"Topic9\", \"Topic9\", \"Topic9\", \"Topic9\", \"Topic9\", \"Topic9\", \"Topic9\", \"Topic10\", \"Topic10\", \"Topic10\", \"Topic10\", \"Topic10\", \"Topic10\", \"Topic10\", \"Topic10\", \"Topic10\", \"Topic10\", \"Topic10\", \"Topic10\", \"Topic10\", \"Topic10\", \"Topic10\", \"Topic10\", \"Topic10\", \"Topic10\", \"Topic10\", \"Topic10\", \"Topic10\", \"Topic10\", \"Topic10\", \"Topic10\", \"Topic10\", \"Topic10\", \"Topic10\", \"Topic10\", \"Topic10\", \"Topic10\", \"Topic10\", \"Topic10\", \"Topic10\", \"Topic10\", \"Topic10\", \"Topic10\", \"Topic10\", \"Topic10\", \"Topic10\", \"Topic10\", \"Topic10\", \"Topic10\", \"Topic10\", \"Topic10\", \"Topic10\", \"Topic10\", \"Topic10\", \"Topic10\", \"Topic10\", \"Topic10\", \"Topic10\", \"Topic10\", \"Topic10\", \"Topic10\", \"Topic10\", \"Topic10\", \"Topic10\", \"Topic10\", \"Topic10\", \"Topic10\", \"Topic10\", \"Topic10\", \"Topic10\", \"Topic10\", \"Topic10\", \"Topic10\", \"Topic10\", \"Topic10\", \"Topic10\", \"Topic11\", \"Topic11\", \"Topic11\", \"Topic11\", \"Topic11\", \"Topic11\", \"Topic11\", \"Topic11\", \"Topic11\", \"Topic11\", \"Topic11\", \"Topic11\", \"Topic11\", \"Topic11\", \"Topic11\", \"Topic11\", \"Topic11\", \"Topic11\", \"Topic11\", \"Topic11\", \"Topic11\", \"Topic11\", \"Topic11\", \"Topic11\", \"Topic11\", \"Topic11\", \"Topic11\", \"Topic11\", \"Topic11\", \"Topic11\", \"Topic11\", \"Topic11\", \"Topic11\", \"Topic11\", \"Topic11\", \"Topic11\", \"Topic11\", \"Topic11\", \"Topic11\", \"Topic11\", \"Topic11\", \"Topic11\", \"Topic11\", \"Topic11\", \"Topic11\", \"Topic11\", \"Topic11\", \"Topic11\", \"Topic11\", \"Topic11\", \"Topic11\", \"Topic11\", \"Topic11\", \"Topic11\", \"Topic11\", \"Topic11\", \"Topic11\", \"Topic11\", \"Topic11\", \"Topic11\", \"Topic11\", \"Topic11\", \"Topic11\", \"Topic11\", \"Topic11\", \"Topic11\"], \"logprob\": [30.0, 29.0, 28.0, 27.0, 26.0, 25.0, 24.0, 23.0, 22.0, 21.0, 20.0, 19.0, 18.0, 17.0, 16.0, 15.0, 14.0, 13.0, 12.0, 11.0, 10.0, 9.0, 8.0, 7.0, 6.0, 5.0, 4.0, 3.0, 2.0, 1.0, -5.004000186920166, -5.128399848937988, -5.1890997886657715, -5.365600109100342, -6.0960001945495605, -6.149499893188477, -6.344900131225586, -6.422399997711182, -6.571499824523926, -6.983699798583984, -7.08650016784668, -6.0432000160217285, -7.232399940490723, -7.365099906921387, -3.9326999187469482, -7.4720001220703125, -7.478600025177002, -4.844799995422363, -7.513000011444092, -7.651199817657471, -7.804599761962891, -7.899099826812744, -7.941500186920166, -8.027000427246094, -8.144599914550781, -8.1673002243042, -3.682300090789795, -8.270400047302246, -8.297599792480469, -8.563699722290039, -5.633399963378906, -3.7100000381469727, -5.842100143432617, -6.397799968719482, -6.86929988861084, -6.977399826049805, -6.014100074768066, -6.371600151062012, -5.431700229644775, -5.7571001052856445, -4.31879997253418, -5.462299823760986, -5.140600204467773, -5.209199905395508, -5.083899974822998, -5.439899921417236, -5.4309000968933105, -3.582200050354004, -6.463799953460693, -5.347099781036377, -3.795099973678589, -4.682700157165527, -5.631999969482422, -5.530200004577637, -5.590799808502197, -3.6946001052856445, -3.9616000652313232, -4.953400135040283, -3.848599910736084, -4.490499973297119, -4.97160005569458, -4.417699813842773, -4.251100063323975, -4.92710018157959, -4.527599811553955, -4.638500213623047, -4.760300159454346, -4.9456000328063965, -4.933199882507324, -5.007699966430664, -5.129199981689453, -5.063199996948242, -5.097700119018555, -5.113399982452393, -4.877999782562256, -5.848999977111816, -6.637400150299072, -6.876299858093262, -7.381700038909912, -7.468299865722656, -7.520299911499023, -7.604800224304199, -6.9328999519348145, -7.724299907684326, -7.734399795532227, -7.7378997802734375, -7.89300012588501, -7.980899810791016, -8.022100448608398, -7.811500072479248, -8.118300437927246, -8.165200233459473, -8.227399826049805, -8.246299743652344, -8.158900260925293, -8.291500091552734, -8.322600364685059, -8.35260009765625, -8.38539981842041, -8.388299942016602, -8.423800468444824, -8.428500175476074, -8.481100082397461, -8.49779987335205, -6.932300090789795, -6.5777997970581055, -4.995200157165527, -6.374300003051758, -7.128200054168701, -7.664100170135498, -7.973599910736084, -6.083199977874756, -2.3310999870300293, -4.9903998374938965, -6.172599792480469, -4.436699867248535, -6.0594000816345215, -6.241199970245361, -6.79610013961792, -6.7906999588012695, -6.926000118255615, -4.853400230407715, -6.094099998474121, -7.1427998542785645, -7.083000183105469, -6.701000213623047, -5.319200038909912, -3.3715999126434326, -5.214700222015381, -5.64769983291626, -6.524799823760986, -4.814300060272217, -5.901700019836426, -6.265200138092041, -5.856800079345703, -5.3317999839782715, -5.5619001388549805, -4.668000221252441, -6.252799987792969, -6.1097002029418945, -5.555099964141846, -5.411799907684326, -5.82859992980957, -5.245800018310547, -5.149099826812744, -5.057199954986572, -5.36329984664917, -5.109300136566162, -5.309299945831299, -5.057700157165527, -5.540800094604492, -5.638199806213379, -5.521500110626221, -5.593299865722656, -5.311500072479248, -5.546299934387207, -5.526199817657471, -5.624599933624268, -4.805799961090088, -5.710400104522705, -6.1645002365112305, -6.728600025177002, -6.744500160217285, -6.823400020599365, -6.934599876403809, -7.160999774932861, -7.391900062561035, -7.470099925994873, -7.60129976272583, -7.663599967956543, -7.919899940490723, -7.9517998695373535, -7.972499847412109, -8.11620044708252, -8.150199890136719, -8.208800315856934, -8.279800415039062, -8.3056001663208, -8.428600311279297, -8.487299919128418, -8.528900146484375, -8.544599533081055, -8.552900314331055, -6.358699798583984, -8.59630012512207, -8.601799964904785, -8.613300323486328, -8.648300170898438, -7.086100101470947, -7.0391998291015625, -6.801199913024902, -6.523399829864502, -6.4421000480651855, -7.077300071716309, -5.789000034332275, -7.198999881744385, -7.648200035095215, -6.762700080871582, -6.918300151824951, -6.6946001052856445, -5.562600135803223, -7.487199783325195, -4.404699802398682, -5.610300064086914, -5.86329984664917, -7.324399948120117, -5.78849983215332, -6.103099822998047, -4.519100189208984, -4.408299922943115, -5.263899803161621, -4.4369001388549805, -4.851500034332275, -5.051300048828125, -5.630099773406982, -4.763800144195557, -4.502099990844727, -3.9842000007629395, -5.083899974822998, -4.808800220489502, -4.418700218200684, -4.271399974822998, -5.117499828338623, -4.336599826812744, -3.972599983215332, -5.363999843597412, -4.6072001457214355, -4.590700149536133, -4.584099769592285, -5.077099800109863, -5.119999885559082, -5.283699989318848, -5.09250020980835, -4.73769998550415, -5.300600051879883, -4.904200077056885, -4.739099979400635, -4.7804999351501465, -4.948200225830078, -4.822299957275391, -4.904099941253662, -4.980999946594238, -5.086999893188477, -3.5069000720977783, -3.9277000427246094, -6.677299976348877, -7.2729997634887695, -7.479800224304199, -7.510799884796143, -7.514100074768066, -7.615499973297119, -7.6570000648498535, -7.703700065612793, -7.883900165557861, -7.980800151824951, -8.138099670410156, -8.14900016784668, -8.204400062561035, -8.194100379943848, -8.252400398254395, -8.271300315856934, -8.337400436401367, -8.43809986114502, -8.440899848937988, -8.537799835205078, -8.544599533081055, -8.652099609375, -8.656700134277344, -8.680700302124023, -8.710100173950195, -8.813199996948242, -8.840900421142578, -8.862600326538086, -3.9753000736236572, -5.452499866485596, -7.895400047302246, -4.519100189208984, -6.048299789428711, -5.650199890136719, -6.492499828338623, -4.202099800109863, -5.942399978637695, -5.285399913787842, -5.856900215148926, -4.5954999923706055, -5.488699913024902, -6.2179999351501465, -6.866600036621094, -5.926700115203857, -4.5725998878479, -6.072999954223633, -6.254300117492676, -5.801700115203857, -5.019899845123291, -4.209199905395508, -5.294600009918213, -6.1504998207092285, -5.00540018081665, -4.67609977722168, -3.9196999073028564, -5.287399768829346, -5.2729997634887695, -3.4779999256134033, -5.3383002281188965, -3.9951999187469482, -3.762399911880493, -5.346199989318848, -5.328400135040283, -4.590199947357178, -4.966800212860107, -4.492499828338623, -4.547299861907959, -4.5569000244140625, -4.9105000495910645, -4.818999767303467, -4.6265997886657715, -4.916900157928467, -5.130099773406982, -5.281300067901611, -5.156300067901611, -5.207399845123291, -5.25629997253418, -5.255000114440918, -4.732100009918213, -5.362599849700928, -6.415299892425537, -6.470600128173828, -6.689799785614014, -6.893099784851074, -6.9421000480651855, -7.014100074768066, -7.081699848175049, -7.093100070953369, -7.127299785614014, -7.135499954223633, -7.176499843597412, -7.185999870300293, -7.200399875640869, -7.252699851989746, -7.282800197601318, -7.318699836730957, -7.361199855804443, -7.438199996948242, -7.677800178527832, -7.767499923706055, -7.781499862670898, -7.823599815368652, -7.937900066375732, -8.00160026550293, -8.01259994506836, -8.026300430297852, -8.079400062561035, -8.100799560546875, -5.34689998626709, -6.729499816894531, -4.760000228881836, -6.576600074768066, -6.825399875640869, -5.252299785614014, -3.965399980545044, -5.492499828338623, -3.3893001079559326, -4.835599899291992, -5.567299842834473, -3.7465999126434326, -3.500200033187866, -5.985300064086914, -6.0559000968933105, -5.812699794769287, -5.525100231170654, -5.228899955749512, -5.598499774932861, -5.766900062561035, -4.337699890136719, -5.15310001373291, -6.294300079345703, -5.752399921417236, -3.288300037384033, -4.213500022888184, -4.533599853515625, -3.936199903488159, -4.6717000007629395, -5.005799770355225, -4.005000114440918, -5.137599945068359, -5.270500183105469, -4.363500118255615, -4.4415998458862305, -4.576200008392334, -4.381100177764893, -4.780600070953369, -4.530399799346924, -4.907199859619141, -5.009699821472168, -4.8907999992370605, -5.021900177001953, -5.099299907684326, -5.05709981918335, -3.9421000480651855, -4.786799907684326, -4.8653998374938965, -5.719399929046631, -5.8541998863220215, -6.027699947357178, -6.083499908447266, -6.139200210571289, -6.323400020599365, -6.402400016784668, -6.5167999267578125, -6.6529998779296875, -6.733500003814697, -6.750999927520752, -6.884399890899658, -6.894400119781494, -6.945799827575684, -7.233500003814697, -7.245699882507324, -7.249100208282471, -7.276400089263916, -7.287099838256836, -7.3354997634887695, -7.517000198364258, -7.527200222015381, -7.547599792480469, -7.55079984664917, -7.591000080108643, -7.62470006942749, -7.677000045776367, -5.0605998039245605, -5.638899803161621, -6.229599952697754, -5.969399929046631, -3.5525999069213867, -6.05109977722168, -6.205100059509277, -4.809100151062012, -4.510499954223633, -5.196499824523926, -6.359600067138672, -6.462399959564209, -4.607699871063232, -5.2067999839782715, -5.822000026702881, -5.295499801635742, -4.056300163269043, -5.8308000564575195, -5.306399822235107, -4.924699783325195, -5.289899826049805, -3.6944000720977783, -5.621399879455566, -5.127799987792969, -3.794800043106079, -3.9637999534606934, -4.1280999183654785, -4.226900100708008, -4.718500137329102, -4.4096999168396, -5.575900077819824, -4.579100131988525, -5.154200077056885, -4.905399799346924, -4.540900230407715, -4.759699821472168, -4.882999897003174, -4.8765997886657715, -4.890999794006348, -4.916800022125244, -5.11299991607666, -5.190899848937988, -2.165800094604492, -5.005199909210205, -5.103899955749512, -5.55109977722168, -5.963200092315674, -6.021299839019775, -6.075200080871582, -6.170899868011475, -6.650000095367432, -6.774600028991699, -7.4145002365112305, -7.511300086975098, -7.600399971008301, -7.641499996185303, -7.686999797821045, -7.712699890136719, -7.7378997802734375, -7.835700035095215, -7.904699802398682, -7.914400100708008, -7.918799877166748, -8.008399963378906, -8.03689956665039, -8.044300079345703, -8.044400215148926, -8.078900337219238, -8.152000427246094, -8.23390007019043, -8.285699844360352, -8.291199684143066, -5.382299900054932, -4.290800094604492, -5.019800186157227, -4.729700088500977, -3.433500051498413, -5.370299816131592, -5.483099937438965, -7.615499973297119, -6.643499851226807, -5.789400100708008, -4.5742998123168945, -6.381499767303467, -4.910399913787842, -4.662499904632568, -5.05649995803833, -6.059000015258789, -5.791900157928467, -6.060999870300293, -4.962299823760986, -4.382199764251709, -4.747099876403809, -5.1350998878479, -5.630099773406982, -5.772799968719482, -3.6110999584198, -5.029099941253662, -3.7887001037597656, -4.085999965667725, -3.8987998962402344, -4.672299861907959, -4.439599990844727, -4.450900077819824, -4.670400142669678, -4.772200107574463, -5.115600109100342, -5.021100044250488, -5.027500152587891, -5.019100189208984, -5.242099761962891, -5.192299842834473, -3.526700019836426, -5.0903000831604, -6.277599811553955, -6.4822001457214355, -6.515200138092041, -6.618299961090088, -6.69950008392334, -6.896100044250488, -6.940199851989746, -6.974699974060059, -6.978799819946289, -7.079599857330322, -7.215099811553955, -7.234600067138672, -7.269499778747559, -6.334199905395508, -7.402900218963623, -7.404600143432617, -7.444300174713135, -7.450399875640869, -7.595699787139893, -7.599400043487549, -7.614799976348877, -7.63730001449585, -7.772200107574463, -7.799799919128418, -8.006400108337402, -8.008099555969238, -8.084500312805176, -7.9145002365112305, -4.648499965667725, -5.678199768066406, -2.4658000469207764, -5.139100074768066, -6.4085001945495605, -7.296599864959717, -3.1254000663757324, -6.256199836730957, -4.832600116729736, -5.409999847412109, -6.008800029754639, -6.5605998039245605, -5.756999969482422, -7.121300220489502, -6.08459997177124, -6.23330020904541, -5.822199821472168, -3.7451000213623047, -4.7245001792907715, -5.282899856567383, -4.646999835968018, -4.621699810028076, -5.1468000411987305, -4.723400115966797, -5.0015997886657715, -5.530200004577637, -4.132599830627441, -4.7631001472473145, -5.0553998947143555, -5.294300079345703, -5.283699989318848, -4.8643999099731445, -5.0472002029418945, -4.649899959564209, -5.2769999504089355, -4.547100067138672, -4.823299884796143, -5.023799896240234, -5.031199932098389, -5.171500205993652, -5.123300075531006, -5.197800159454346, -5.231299877166748, -2.10479998588562, -5.460000038146973, -5.613999843597412, -5.87060022354126, -5.995500087738037, -6.213200092315674, -6.669099807739258, -6.8454999923706055, -7.0680999755859375, -7.155300140380859, -7.190700054168701, -7.376699924468994, -6.415500164031982, -7.493199825286865, -7.517499923706055, -7.566100120544434, -7.574100017547607, -7.578800201416016, -7.737100124359131, -7.737100124359131, -7.743500232696533, -7.763700008392334, -7.8078999519348145, -7.833700180053711, -7.885499954223633, -7.9039998054504395, -7.998199939727783, -8.016200065612793, -8.021900177001953, -8.051899909973145, -5.064899921417236, -4.687699794769287, -7.098599910736084, -6.072000026702881, -4.081999778747559, -7.220399856567383, -5.292900085449219, -5.03249979019165, -7.048399925231934, -7.094200134277344, -4.827099800109863, -7.208700180053711, -5.235799789428711, -4.0192999839782715, -6.209799766540527, -4.666900157928467, -5.506999969482422, -5.332900047302246, -5.7266998291015625, -3.703000068664551, -4.716800212860107, -4.404699802398682, -3.733299970626831, -6.087600231170654, -5.8471999168396, -5.954400062561035, -4.340199947357178, -4.948500156402588, -4.176300048828125, -5.04040002822876, -4.485099792480469, -4.858099937438965, -4.679500102996826, -5.232900142669678, -4.935299873352051, -4.911600112915039, -5.338799953460693, -5.19350004196167, -5.152400016784668, -5.2154998779296875, -5.349100112915039, -5.338799953460693, -4.423500061035156, -4.664000034332275, -4.68120002746582, -5.065499782562256, -5.769000053405762, -5.953199863433838, -5.981500148773193, -6.247900009155273, -6.324999809265137, -7.071499824523926, -7.1031999588012695, -7.241300106048584, -7.321400165557861, -7.367099761962891, -7.660900115966797, -7.660999774932861, -7.69189977645874, -7.7017998695373535, -7.725500106811523, -7.790500164031982, -7.809700012207031, -7.838600158691406, -7.897299766540527, -7.930600166320801, -7.975200176239014, -7.980500221252441, -8.005999565124512, -8.010100364685059, -8.03950023651123, -8.049500465393066, -3.849400043487549, -3.670599937438965, -6.125, -5.287499904632568, -4.2754998207092285, -6.487500190734863, -5.710400104522705, -4.940999984741211, -6.981400012969971, -4.448500156402588, -5.315899848937988, -6.583000183105469, -6.428100109100342, -4.514800071716309, -5.431300163269043, -5.363500118255615, -5.95959997177124, -5.18779993057251, -4.820300102233887, -4.822999954223633, -5.502999782562256, -3.3505001068115234, -4.019499778747559, -4.674499988555908, -3.900399923324585, -4.5493998527526855, -4.831999778747559, -5.03980016708374, -5.502099990844727, -4.670400142669678, -4.60230016708374, -4.57289981842041, -4.668300151824951, -4.939300060272217, -4.978899955749512, -5.041900157928467, -5.091800212860107, -5.134399890899658, -5.205599784851074, -3.767400026321411, -3.9277000427246094, -4.239500045776367, -4.303199768066406, -5.020699977874756, -5.741000175476074, -5.796899795532227, -5.921199798583984, -6.047100067138672, -6.13670015335083, -6.189300060272217, -6.318699836730957, -6.466599941253662, -6.731100082397461, -6.744200229644775, -6.801499843597412, -6.877600193023682, -6.894700050354004, -7.059100151062012, -7.084199905395508, -7.103700160980225, -7.123899936676025, -7.129300117492676, -7.135000228881836, -7.170599937438965, -7.280399799346924, -7.374000072479248, -5.5289998054504395, -7.408599853515625, -7.419600009918213, -6.5995001792907715, -4.40749979019165, -5.508500099182129, -4.6031999588012695, -6.04640007019043, -5.773600101470947, -5.597899913787842, -4.633500099182129, -4.286300182342529, -3.470900058746338, -5.877099990844727, -4.906199932098389, -3.5381999015808105, -5.439799785614014, -4.9268999099731445, -3.2102999687194824, -5.11959981918335, -5.8007001876831055, -3.624300003051758, -4.693699836730957, -5.427599906921387, -5.0457000732421875, -4.111299991607666, -4.110300064086914, -4.146900177001953, -4.309100151062012, -4.228799819946289, -4.432600021362305, -4.6321001052856445, -4.75, -4.604700088500977, -4.977200031280518, -4.843800067901611, -5.14300012588501, -4.900899887084961, -5.058599948883057], \"loglift\": [30.0, 29.0, 28.0, 27.0, 26.0, 25.0, 24.0, 23.0, 22.0, 21.0, 20.0, 19.0, 18.0, 17.0, 16.0, 15.0, 14.0, 13.0, 12.0, 11.0, 10.0, 9.0, 8.0, 7.0, 6.0, 5.0, 4.0, 3.0, 2.0, 1.0, 1.6444, 1.6444, 1.6443, 1.6443, 1.6442, 1.6442, 1.6442, 1.6442, 1.6441, 1.644, 1.6439, 1.6439, 1.6439, 1.6438, 1.6438, 1.6437, 1.6437, 1.6437, 1.6437, 1.6436, 1.6434, 1.6433, 1.6433, 1.6432, 1.643, 1.643, 1.6429, 1.6428, 1.6428, 1.6423, 1.6413, 1.6181, 1.6361, 1.632, 1.6289, 1.6303, 1.5985, 1.6067, 1.5771, 1.5827, 1.5166, 1.5571, 1.5195, 1.5223, 1.5097, 1.5306, 1.5282, 1.2626, 1.5708, 1.3983, 1.1405, 1.2068, 1.4297, 1.3858, 1.4003, 0.7675, 0.6879, 1.063, 0.3956, 0.7363, 1.0281, 0.5557, 0.4102, 0.8467, 0.3226, 0.3522, 0.4133, 0.709, 0.5234, 0.261, 0.6552, -0.479, -0.5073, -0.3997, 2.1262, 2.126, 2.1258, 2.1256, 2.1252, 2.1251, 2.125, 2.1249, 2.1249, 2.1248, 2.1248, 2.1247, 2.1245, 2.1243, 2.1242, 2.1241, 2.124, 2.1239, 2.1238, 2.1237, 2.1236, 2.1236, 2.1235, 2.1235, 2.1234, 2.1234, 2.1232, 2.1232, 2.1231, 2.123, 2.1169, 2.1116, 2.0861, 2.0514, 2.0793, 2.097, 2.109, 2.0103, 1.8078, 1.9455, 2.0053, 1.8762, 1.9837, 1.9949, 2.0337, 2.0249, 2.0278, 1.8087, 1.9324, 2.0234, 2.0107, 1.9232, 1.6369, 1.0905, 1.519, 1.6182, 1.8404, 1.2388, 1.6168, 1.7325, 1.5556, 1.2856, 1.3768, 0.8919, 1.7123, 1.618, 1.2578, 1.1476, 1.4038, 0.9572, 0.8754, 0.7987, 0.7629, 0.3353, 0.5287, -0.067, 0.779, 0.815, 0.4949, 0.5345, -0.7273, 0.0522, -0.1851, 0.0796, 2.1511, 2.151, 2.1509, 2.1506, 2.1506, 2.1506, 2.1505, 2.1503, 2.1501, 2.15, 2.1498, 2.1497, 2.1493, 2.1493, 2.1492, 2.1489, 2.1488, 2.1487, 2.1485, 2.1484, 2.1481, 2.1479, 2.1477, 2.1477, 2.1477, 2.1476, 2.1475, 2.1475, 2.1474, 2.1473, 2.1411, 2.1363, 2.1315, 2.0959, 2.0879, 2.0937, 2.0387, 2.0765, 2.1017, 2.0449, 2.0274, 2.0053, 1.8662, 2.071, 1.6286, 1.8038, 1.8354, 2.0466, 1.7679, 1.8097, 1.4738, 1.4296, 1.6216, 1.4152, 1.5144, 1.5453, 1.6458, 1.3252, 1.227, 0.9892, 1.4016, 1.2412, 1.0379, 0.9021, 1.3095, 0.8902, 0.6887, 1.3905, 0.891, 0.8538, 0.7948, 1.1524, 1.013, 1.151, 0.8858, 0.253, 1.1615, 0.2383, -0.1487, -0.131, 0.2311, -0.2381, -0.1904, -0.1362, -0.8428, 2.1947, 2.1947, 2.1942, 2.1937, 2.1935, 2.1935, 2.1934, 2.1933, 2.1933, 2.1932, 2.1929, 2.1927, 2.1923, 2.1923, 2.1922, 2.1921, 2.192, 2.192, 2.1918, 2.1915, 2.1914, 2.1911, 2.1911, 2.1907, 2.1907, 2.1906, 2.1905, 2.19, 2.1899, 2.1898, 2.1707, 2.1653, 2.1721, 2.1031, 2.1311, 2.1137, 2.13, 2.0372, 2.0997, 2.0516, 2.0751, 1.9776, 2.0336, 2.0591, 2.0655, 1.9693, 1.8086, 1.9616, 1.9646, 1.879, 1.7378, 1.5796, 1.7416, 1.8931, 1.5919, 1.4604, 1.2228, 1.5786, 1.5574, 0.828, 1.5436, 0.6466, 0.4818, 1.4359, 1.4222, 0.5891, 0.8564, 0.1688, 0.1664, 0.0927, 0.4685, 0.1717, -0.4878, -0.0667, 0.4684, 1.1704, 0.1124, -0.617, 0.7279, 0.0861, 2.5158, 2.5158, 2.5154, 2.5153, 2.5152, 2.515, 2.5149, 2.5149, 2.5148, 2.5148, 2.5147, 2.5147, 2.5147, 2.5147, 2.5146, 2.5146, 2.5145, 2.5145, 2.5144, 2.5143, 2.5138, 2.5136, 2.5136, 2.5135, 2.5132, 2.513, 2.513, 2.513, 2.5128, 2.5127, 2.4962, 2.51, 2.4852, 2.4769, 2.4808, 2.423, 2.3099, 2.3785, 2.228, 2.3002, 2.3158, 2.0766, 1.9743, 2.3203, 2.3298, 2.278, 2.2139, 2.1542, 2.2092, 2.2189, 1.8676, 2.0367, 2.3212, 2.1219, 1.0177, 1.2886, 1.2552, 0.7056, 1.1637, 1.3754, 0.5792, 1.442, 1.5184, 0.2269, 0.2721, 0.274, -0.1368, 0.4881, -0.3915, 0.2721, 0.3692, -0.4287, -0.0312, 0.2419, -0.4076, 2.6601, 2.6601, 2.66, 2.6598, 2.6598, 2.6597, 2.6597, 2.6597, 2.6596, 2.6595, 2.6594, 2.6593, 2.6592, 2.6592, 2.6591, 2.6591, 2.659, 2.6586, 2.6586, 2.6586, 2.6586, 2.6585, 2.6585, 2.6581, 2.6581, 2.658, 2.658, 2.658, 2.6579, 2.6578, 2.649, 2.6478, 2.6521, 2.649, 2.6132, 2.6412, 2.6175, 2.5465, 2.5299, 2.557, 2.6092, 2.5886, 2.3623, 2.382, 2.427, 2.3105, 2.018, 2.3912, 2.1805, 1.9057, 2.0136, 0.9474, 2.1192, 1.7075, 0.5112, 0.2804, 0.4561, 0.4868, 0.7836, 0.1807, 1.9218, 0.0704, 1.0134, 0.4736, -0.4021, 0.0904, 0.2962, 0.2659, 0.1815, -0.2554, 0.1558, 0.1503, 2.6684, 2.6682, 2.6682, 2.6681, 2.668, 2.6679, 2.6679, 2.6679, 2.6675, 2.6674, 2.6665, 2.6663, 2.6661, 2.666, 2.6659, 2.6658, 2.6658, 2.6655, 2.6653, 2.6653, 2.6653, 2.665, 2.6649, 2.6648, 2.6648, 2.6647, 2.6644, 2.6641, 2.6639, 2.6638, 2.6604, 2.5112, 2.536, 2.5121, 2.4201, 2.5158, 2.5065, 2.6395, 2.5589, 2.4806, 2.1744, 2.4403, 2.2103, 2.1434, 2.1907, 2.3669, 2.3021, 2.3395, 2.0911, 1.9159, 2.0035, 1.9884, 2.1352, 2.1695, 1.0307, 1.7426, 0.5173, 0.6277, 0.3454, 0.8022, 0.1508, 0.1333, -0.0208, 0.078, 0.6689, 0.1582, -0.0368, -0.3577, 0.7547, -1.0534, 2.7062, 2.706, 2.7056, 2.7055, 2.7054, 2.7054, 2.7053, 2.7051, 2.705, 2.705, 2.705, 2.7048, 2.7046, 2.7046, 2.7045, 2.7043, 2.7043, 2.7043, 2.7042, 2.7042, 2.7039, 2.7039, 2.7038, 2.7038, 2.7034, 2.7033, 2.7027, 2.7027, 2.7024, 2.7021, 2.6828, 2.6924, 2.6067, 2.6611, 2.6776, 2.683, 2.3727, 2.545, 2.353, 2.369, 2.4513, 2.5153, 2.2772, 2.6296, 2.3483, 2.3758, 2.2156, 1.3973, 1.6158, 1.8487, 1.4792, 1.4116, 1.6885, 1.4131, 1.4839, 1.7819, 0.5287, 1.0213, 1.0723, 1.2853, 1.2055, 0.5801, 0.7265, 0.0639, 1.0173, -0.3029, 0.0268, 0.3173, -0.5691, 0.0973, -0.533, -0.2071, -0.258, 2.7889, 2.7887, 2.7886, 2.7885, 2.7884, 2.7883, 2.7879, 2.7878, 2.7875, 2.7873, 2.7873, 2.7869, 2.7867, 2.7867, 2.7866, 2.7865, 2.7865, 2.7864, 2.786, 2.786, 2.786, 2.7859, 2.7858, 2.7857, 2.7855, 2.7855, 2.7851, 2.7851, 2.785, 2.7849, 2.7655, 2.7553, 2.7742, 2.7307, 2.6302, 2.7213, 2.5197, 2.3835, 2.6794, 2.6727, 2.2489, 2.688, 2.0301, 1.4552, 2.2736, 1.6312, 1.9069, 1.7878, 1.9793, 0.9388, 1.3575, 1.052, 0.5727, 2.0475, 1.8756, 1.8408, 0.3735, 0.905, 0.068, 0.9563, 0.1053, 0.3212, -0.0182, 0.8132, -0.0852, -0.262, 0.815, 0.1477, -0.2167, -0.6314, 0.4396, 0.1633, 2.8105, 2.8105, 2.8105, 2.8104, 2.8102, 2.8101, 2.8101, 2.8099, 2.8099, 2.8091, 2.809, 2.8088, 2.8086, 2.8085, 2.8078, 2.8078, 2.8077, 2.8077, 2.8076, 2.8074, 2.8074, 2.8073, 2.8071, 2.807, 2.8068, 2.8068, 2.8067, 2.8066, 2.8065, 2.8065, 2.7955, 2.7394, 2.7839, 2.7115, 2.6023, 2.708, 2.6167, 2.5325, 2.724, 2.4544, 2.535, 2.6722, 2.6123, 2.274, 2.43, 2.4093, 2.4698, 2.2599, 2.1312, 2.0443, 2.2078, 1.2336, 1.4825, 1.6659, 0.6899, 1.0679, 1.3011, 1.447, 1.9232, 0.1797, -0.1402, -0.3286, -0.5294, 0.2875, 0.3623, -0.3924, -0.7858, -0.4206, 0.1733, 2.9692, 2.9692, 2.9691, 2.9691, 2.969, 2.9688, 2.9687, 2.9687, 2.9686, 2.9685, 2.9685, 2.9684, 2.9683, 2.968, 2.9679, 2.9679, 2.9678, 2.9677, 2.9675, 2.9674, 2.9674, 2.9673, 2.9673, 2.9673, 2.9673, 2.967, 2.9668, 2.9668, 2.9667, 2.9667, 2.9599, 2.9186, 2.9178, 2.8696, 2.895, 2.8297, 2.8094, 2.6945, 2.598, 2.4641, 2.7959, 2.6019, 2.2972, 2.4788, 2.2046, 1.3801, 2.1564, 2.5165, 0.9598, 1.6991, 2.2337, 1.7093, 0.5382, 0.134, 0.1591, 0.4046, 0.2333, 0.2287, 0.5104, 0.752, 0.2454, 1.1559, 0.4974, 1.4544, 0.0347, 0.4967]}, \"token.table\": {\"Topic\": [2, 4, 5, 6, 7, 8, 9, 10, 11, 8, 2, 5, 2, 5, 8, 11, 4, 11, 1, 2, 3, 4, 5, 6, 7, 8, 9, 10, 11, 9, 1, 2, 7, 2, 3, 8, 11, 9, 2, 2, 4, 1, 10, 4, 5, 8, 9, 5, 1, 2, 4, 5, 6, 7, 8, 9, 10, 11, 3, 8, 3, 6, 2, 1, 2, 3, 4, 5, 6, 7, 8, 9, 10, 11, 1, 2, 3, 4, 6, 7, 8, 9, 11, 11, 6, 11, 11, 5, 11, 3, 4, 9, 11, 4, 7, 11, 6, 7, 10, 8, 9, 5, 7, 9, 1, 2, 3, 4, 5, 6, 7, 8, 9, 10, 11, 9, 11, 1, 2, 3, 4, 5, 6, 7, 8, 9, 10, 11, 4, 5, 7, 9, 2, 3, 5, 6, 7, 8, 9, 10, 4, 5, 9, 4, 5, 6, 7, 9, 10, 11, 11, 2, 5, 7, 8, 9, 10, 9, 10, 7, 7, 3, 8, 1, 2, 3, 5, 6, 10, 5, 6, 3, 4, 6, 8, 10, 11, 1, 2, 3, 4, 9, 10, 11, 8, 1, 2, 3, 4, 5, 6, 7, 8, 9, 10, 11, 11, 1, 2, 4, 5, 6, 7, 8, 9, 10, 11, 4, 11, 1, 2, 3, 4, 5, 6, 7, 8, 9, 10, 11, 3, 3, 8, 9, 7, 9, 7, 8, 10, 10, 4, 11, 11, 1, 9, 6, 3, 4, 6, 10, 11, 1, 2, 3, 4, 5, 6, 7, 8, 9, 10, 11, 2, 5, 7, 9, 11, 4, 5, 6, 1, 2, 3, 5, 6, 7, 8, 9, 10, 11, 1, 1, 4, 5, 7, 3, 4, 4, 7, 5, 5, 9, 7, 6, 8, 10, 9, 11, 4, 11, 9, 9, 1, 1, 2, 3, 4, 5, 6, 7, 8, 9, 10, 6, 11, 4, 4, 3, 4, 3, 3, 3, 4, 10, 11, 2, 11, 6, 8, 10, 7, 9, 6, 4, 6, 11, 6, 4, 4, 3, 4, 7, 9, 11, 2, 4, 5, 6, 7, 8, 10, 1, 2, 5, 8, 4, 4, 6, 8, 10, 4, 5, 7, 4, 5, 10, 7, 7, 7, 5, 4, 5, 9, 10, 11, 7, 7, 2, 8, 1, 2, 3, 4, 5, 6, 7, 8, 9, 10, 11, 1, 2, 4, 6, 7, 8, 9, 11, 7, 2, 5, 5, 6, 10, 4, 3, 2, 2, 2, 4, 5, 6, 8, 9, 10, 11, 6, 10, 11, 10, 4, 11, 6, 10, 11, 11, 1, 2, 5, 7, 8, 10, 10, 6, 11, 2, 2, 3, 2, 4, 6, 10, 11, 7, 7, 3, 3, 4, 6, 11, 4, 4, 6, 11, 9, 5, 7, 9, 10, 11, 11, 10, 10, 2, 5, 7, 11, 8, 4, 7, 9, 1, 2, 3, 4, 5, 7, 8, 9, 10, 11, 1, 2, 3, 4, 5, 6, 7, 8, 9, 10, 7, 9, 1, 4, 5, 6, 7, 9, 10, 11, 1, 2, 7, 9, 1, 1, 3, 8, 1, 2, 4, 5, 7, 9, 1, 2, 7, 3, 4, 6, 11, 1, 6, 8, 10, 3, 5, 10, 3, 8, 7, 11, 5, 6, 10, 3, 7, 6, 6, 5, 7, 9, 7, 9, 1, 2, 4, 5, 6, 8, 9, 10, 11, 4, 8, 7, 3, 1, 3, 4, 5, 6, 7, 8, 9, 10, 11, 2, 3, 4, 6, 8, 10, 11, 1, 2, 5, 6, 7, 2, 5, 9, 6, 8, 10, 11, 5, 2, 8, 1, 2, 3, 4, 5, 6, 7, 8, 9, 10, 11, 7, 5, 1, 2, 3, 4, 5, 6, 7, 8, 9, 10, 11, 1, 2, 3, 4, 5, 6, 7, 8, 9, 10, 1, 7, 1, 2, 3, 4, 5, 6, 7, 8, 9, 10, 11, 2, 4, 5, 6, 8, 10, 11, 1, 3, 4, 5, 6, 7, 8, 9, 10, 11, 3, 8, 3, 8, 2, 3, 4, 5, 6, 7, 8, 9, 10, 11, 8, 8, 2, 4, 5, 8, 11, 4, 4, 5, 8, 5, 7, 9, 1, 2, 3, 4, 5, 6, 7, 8, 9, 10, 11, 8, 6, 8, 10, 1, 3, 4, 5, 6, 7, 8, 9, 10, 11, 8, 7, 9, 10, 11, 7, 11, 6, 8, 10, 11, 8, 1, 2, 4, 5, 8, 9, 11, 6, 7, 11, 8, 11, 5, 3, 4, 5, 8, 9, 11, 4, 8, 6, 10, 5, 1, 2, 3, 4, 5, 6, 7, 8, 9, 10, 11, 10, 1, 3, 9, 4, 9, 10, 1, 2, 3, 4, 5, 6, 7, 8, 9, 10, 11, 5, 9, 11, 2, 1, 2, 3, 4, 5, 6, 7, 8, 9, 10, 11, 3, 1, 2, 3, 4, 5, 6, 7, 8, 9, 10, 11, 4, 8, 11, 2, 4, 5, 4, 9, 1, 2, 3, 4, 5, 6, 7, 8, 9, 10, 11, 5, 6, 8, 9, 10, 7, 3, 6, 6, 7, 8, 11, 1, 2, 6, 7, 8, 10, 11, 3, 4, 8, 10, 8, 6, 4, 1, 2, 4, 5, 8, 9, 10, 11, 2, 3, 4, 5, 6, 8, 9, 10, 11, 5, 6, 9, 10, 2, 3, 4, 5, 8, 9, 10, 11, 9, 4, 2, 3, 5, 4, 6, 10, 11, 2, 4, 5, 9, 11, 4, 5, 6, 7, 9, 10, 2, 3, 5, 10, 11, 1, 2, 3, 4, 5, 6, 7, 8, 9, 10, 11, 2, 2, 8, 8, 1, 5, 9, 11, 7, 9, 7, 2, 1, 2, 5, 8, 9, 10, 2, 2, 9, 2, 4, 5, 6, 8, 9, 10, 11, 5, 7, 9, 10, 11, 8, 11, 8, 1, 2, 3, 4, 5, 6, 10, 11, 9, 5, 7, 1, 2, 3, 4, 5, 6, 7, 8, 9, 10, 11, 6, 7, 3, 8, 3, 4, 5, 11, 8, 8, 1, 2, 3, 4, 5, 6, 7, 8, 9, 10, 11, 1, 2, 4, 5, 6, 7, 8, 2, 4, 1, 2, 3, 4, 5, 6, 7, 8, 9, 10, 11, 2, 7, 9, 7, 9, 10, 2, 4, 5, 7, 8, 5, 9, 4, 5, 6, 9, 5, 9, 10, 2, 4, 5, 6, 7, 8, 9, 3, 5, 7, 5, 8, 10, 1, 2, 4, 5, 6, 7, 8, 9, 10, 11, 2, 5, 8, 1, 2, 3, 4, 5, 6, 7, 8, 9, 10, 11, 11, 10, 1, 8, 1, 1, 1, 2, 3, 4, 5, 6, 7, 8, 9, 10, 11, 1, 2, 3, 4, 5, 6, 7, 8, 9, 10, 11, 10, 1, 3, 4, 5, 6, 7, 8, 9, 10, 11, 7, 11, 1, 2, 3, 4, 5, 6, 7, 8, 9, 10, 11, 2, 5, 7, 9, 11, 5, 4, 5, 6, 2, 4, 3, 9, 1, 2, 3, 4, 5, 6, 7, 8, 9, 10, 11, 2, 3, 4, 6, 8, 10, 11, 6, 8, 10, 1, 3, 4, 6, 10, 11, 8, 6, 10, 11, 3, 4, 5, 7, 9, 11, 11, 4, 9, 9, 2, 3, 5, 9, 10, 11, 5, 3, 4, 5, 6, 7, 8, 9, 10, 11, 7, 10, 11, 1, 2, 3, 5, 7, 8, 2, 1, 2, 3, 5, 7, 8, 9, 2, 3, 4, 5, 7, 8, 9, 11, 6, 10, 1, 2, 3, 4, 5, 6, 7, 8, 9, 10, 11, 11, 10, 6, 2, 4, 5, 6, 8, 9, 10, 11, 1, 2, 3, 4, 5, 6, 7, 8, 10, 7, 1, 2, 3, 4, 5, 6, 7, 8, 9, 10, 11, 2, 3, 6, 7, 9, 10, 11, 10, 1, 2, 3, 4, 5, 6, 7, 8, 9, 10, 11, 1, 2, 3, 4, 5, 6, 7, 8, 9, 10, 11, 1, 3, 4, 6, 11, 10, 3, 4, 11, 3, 6, 10, 1, 2, 3, 4, 5, 6, 7, 8, 9, 11, 6, 6, 10, 1, 8, 9, 1, 2, 3, 4, 5, 6, 7, 8, 9, 10, 1, 7, 1, 4, 7, 4, 2, 1, 2, 4, 5, 6, 7, 1, 2, 3, 4, 5, 6, 7, 9, 10, 1, 2, 3, 4, 5, 6, 7, 9, 10, 11, 1, 5, 6, 7, 9, 10, 1, 11, 11, 10, 11, 4, 6, 10, 8, 1, 2, 5, 7, 8, 4, 4, 6, 11, 3, 4, 11, 7, 8, 1, 2, 3, 4, 5, 6, 7, 8, 9, 10, 11, 6, 9, 2, 3, 8, 6, 4, 8, 10, 11, 1, 2, 3, 4, 6, 8, 10, 2, 3, 3, 5, 8, 2, 3, 3, 5, 7, 8, 1, 2, 3, 4, 5, 6, 6, 6, 6, 6, 8, 2, 7, 8, 1, 2, 6, 8, 10, 11, 3, 5, 6, 8, 9, 10, 5, 6, 10, 11, 2, 7, 9, 10, 11, 2, 3, 5, 6, 7, 8, 9, 10, 11, 1, 7, 8, 1, 2, 5, 1, 2, 3, 4, 5, 6, 7, 8, 10, 11, 2, 1, 1, 2, 4, 5, 8, 10, 11, 11, 3, 5, 1, 2, 3, 4, 5, 6, 7, 8, 9, 10, 11, 5, 1, 2, 3, 4, 5, 6, 7, 8, 9, 10, 11, 2, 9, 1, 2, 4, 6, 7, 8, 9, 10, 11, 2, 4, 11, 10, 1, 2, 4, 6, 7, 8, 3, 1, 2, 4, 5, 7, 8, 9, 10, 11, 1, 2, 3, 4, 5, 6, 7, 8, 9, 10, 11, 1, 2, 4, 5, 7, 8, 1, 2, 7, 1, 5, 6, 10, 11, 1, 1, 2, 7, 8, 10, 2, 9, 1, 1, 1, 2, 4, 5, 6, 7, 8, 9, 10, 3, 6, 8, 10, 11, 4, 5, 6, 7, 8, 9, 10, 11, 10, 6, 7, 7, 9, 5, 3, 3, 11, 9, 6, 10, 6, 1, 2, 4, 7, 8, 6, 8, 6, 6, 4, 6, 6, 8, 1, 2, 4, 6, 7, 8, 9, 10, 6, 10, 6, 10, 1, 2, 3, 5, 7, 8, 10, 11, 1, 2, 3, 4, 5, 6, 7, 8, 9, 10, 11, 3, 11, 9, 6, 10, 6, 1, 2, 3, 4, 5, 6, 7, 8, 9, 10, 11, 1, 2, 3, 4, 5, 6, 7, 8, 9, 10, 11, 1, 2, 4, 5, 6, 7, 8, 9, 1, 4, 1, 2, 3, 3, 8, 7, 1, 3, 5, 6, 10, 8, 1, 1, 1, 2, 3, 10, 1, 2, 3, 4, 5, 6, 7, 8, 2, 8, 10, 1, 2, 3, 4, 5, 6, 7, 8, 9, 10, 2, 3, 7, 8, 9, 10, 2, 6, 4, 7, 9, 10, 11, 5, 10, 11, 3, 4, 6, 4, 6, 4, 2, 3, 5, 10, 5, 5, 3, 4, 5, 8, 10, 11, 5, 3, 11, 9, 10, 9, 10, 4, 5, 6, 8, 11, 5, 9, 6, 7, 9, 10, 6, 9, 3, 5, 5, 3, 5, 2, 5, 1, 2, 3, 4, 5, 6, 7, 8, 9, 10, 7, 9, 2, 6, 10, 9, 5, 9, 5, 10, 10, 8, 1, 8, 11, 2, 3, 4, 5, 6, 7, 8, 9, 10, 2, 1, 2, 3, 4, 5, 6, 7, 8, 9, 10, 11, 1, 7, 1, 7, 5, 9, 2, 4, 5, 7, 9, 11, 10, 1, 2, 8, 4, 5, 6, 8, 9, 11, 4, 5, 9, 5, 9, 2, 5, 7, 8, 9, 4, 5, 11, 6, 6, 4, 10, 1, 2, 3, 4, 5, 6, 7, 8, 9, 10, 11, 5, 1, 2, 3, 4, 5, 6, 7, 8, 9, 10, 11, 9, 9, 2, 3, 9, 9, 2, 3, 4, 5, 6, 7, 8, 11, 4, 6, 8, 10, 11, 1, 2, 3, 8, 11, 1, 2, 3, 4, 5, 6, 7, 8, 9, 10, 11, 1, 2, 3, 4, 5, 6, 7, 8, 9, 10, 11, 1, 2, 3, 4, 5, 6, 7, 8, 9, 10, 11, 1, 6, 9, 6, 10, 11, 3, 11, 10, 6, 10, 9, 3, 4, 8, 3, 2, 3, 5, 3, 8, 2, 3, 3, 4, 8, 1, 2, 3, 4, 5, 6, 7, 8, 9, 10, 11, 7, 9, 4, 1, 2, 5, 7, 8, 10, 1, 2, 3, 5, 6, 7, 8, 9, 10, 11, 4, 5, 7, 9, 11, 5, 6, 8, 10, 1, 3, 8, 6, 2, 4, 5, 8, 3, 8, 4, 11, 1, 1, 6, 5, 7, 9, 10, 4, 2, 5, 7, 9, 1, 2, 3, 5, 8, 10, 11, 4, 1, 2, 3, 4, 5, 6, 7, 8, 9, 10, 11, 8, 5, 7, 8, 10, 11, 8, 11, 5, 4, 1, 2, 3, 4, 5, 6, 7, 8, 9, 10, 11, 10, 5, 6, 6, 1, 2, 3, 5, 6, 7, 8, 9, 10, 11, 1, 2, 3, 4, 5, 6, 7, 8, 9, 10, 11, 1, 2, 4, 6, 7, 2, 1, 2, 3, 4, 5, 6, 7, 8, 9, 10, 11, 8, 11, 3], \"Freq\": [0.0001261024369810099, 0.05540100398032368, 0.293062063543867, 0.15310937556777618, 0.031378489735441294, 0.020638765519225288, 0.07238279882709968, 0.26498325424276215, 0.10891047140593221, 0.9989383479643298, 0.9969159555747431, 0.9992054934246825, 0.9983382328696936, 0.9971379089404161, 0.6511721873147888, 0.34871949454657186, 0.8665912837215113, 0.1332407139359115, 0.1048760164642931, 0.09913208176287047, 0.1010646205409192, 0.12140995934315454, 0.10288979605352079, 0.08127399194349416, 0.05548891435860313, 0.09172401644701697, 0.0712713143793345, 0.08642742868495747, 0.08442331439661063, 0.9981940819675021, 0.27186045032400624, 0.7278887568847683, 0.00020112980295240905, 0.2001384800552431, 0.010805598688428618, 0.7188072170998168, 0.07047129579409968, 0.9970580401579113, 0.9985960653657572, 0.9983578660264002, 0.9961546292887342, 0.9999108034453998, 0.9955443477695356, 0.19268559585298545, 0.7357469688478327, 0.03373052006179176, 0.03773601931912953, 0.9989744961794563, 0.783341605739557, 0.03363300662131067, 0.006801134302924318, 0.028136199444974575, 0.031024352368134216, 0.05114825660692398, 0.026925038541714078, 0.018726410888873807, 0.0015838257965714163, 0.018726410888873807, 0.29751847078132965, 0.7024333009280004, 0.0491452631461294, 0.9505905693470509, 0.9982958011482231, 0.08568983036617914, 0.26947411416107, 0.1292148235680479, 0.17420878529047973, 0.13264241678269506, 0.05184914815172617, 0.05767061599247612, 0.06555952101031483, 0.019314215733329265, 0.013655966617086325, 0.0007616873810327034, 0.3259553619592865, 0.001827599380055149, 0.32848588417782437, 0.09276573117005202, 0.008033403868374282, 0.026289314159254836, 0.03998626775483299, 0.17605204577542238, 0.0005824217804571354, 0.99866534326244, 0.09471924267657494, 0.905111744111666, 0.9990874795258013, 0.04969882953336422, 0.9497563722635824, 0.9459612760738257, 0.0004746418846331288, 0.020884242923857668, 0.03180100627041963, 0.9999604387618768, 0.9954561356809952, 0.9995596600185367, 0.055828850468059465, 0.8545515481865125, 0.08952665109587989, 0.9984503359230741, 0.9983753863689081, 0.7431195599900731, 0.01964858497600871, 0.23704254439005382, 0.21298532953583382, 0.009551403953411104, 0.3716813572904976, 0.15353607389477505, 0.06010797315508712, 0.06433474387010238, 0.04632979848666076, 0.030959723159332545, 0.03441799010798139, 0.013833067794595392, 0.0021957250467611734, 0.9964168037903669, 0.9973684006411253, 0.02893335146773007, 0.013853969467489574, 0.1460964052935264, 0.23064987005333995, 0.12808964890949207, 0.11386124783477304, 0.0709037307144491, 0.058989997757148485, 0.0896253110759215, 0.10579394866082947, 0.013241263201114115, 0.0817249921439756, 0.0001203608131722763, 0.6202192702767397, 0.29789301260138384, 0.07170532452041618, 0.00030426587490982825, 0.024949801742605915, 0.1267774478790951, 0.1763727854893971, 0.006186739456499841, 0.5827705724106244, 0.010953571496753817, 0.032900504029475, 0.0762693502501466, 0.8898090862517103, 0.00014622591675674112, 0.05147152269837288, 0.09387703855782781, 0.6102007506258808, 0.18395220327998033, 0.023030581889186726, 0.03743383468972573, 0.9981357723538166, 0.6014963638932213, 0.11461706837046501, 0.09690882860524885, 0.009535206027424085, 0.05215173908876846, 0.12512525460476911, 0.17577726911576189, 0.8236015593246585, 0.9998985200013123, 0.9963989603002295, 0.893616776606624, 0.1062446901669488, 0.014209432722102414, 0.002322695733420587, 0.0020949804654381765, 0.8138088247155386, 0.14669417563426884, 0.0208587185471888, 0.9613910119379735, 0.03737114451893037, 0.09376691179614782, 0.193142580586237, 0.006759271249108816, 0.2920868065306384, 0.41174028906805404, 0.0024448427922308482, 0.6455363399751108, 0.06077931005665224, 0.06793163844334947, 0.15298551757000445, 0.043130707544022706, 0.003808382647462163, 0.0257917296368779, 0.9990713626442854, 0.00466199030627645, 0.7272812420820242, 0.0008710985347367761, 0.0683919892797349, 0.054610350115967266, 0.04678121760623427, 0.024186427217568016, 0.01895983600914736, 0.01691114130708124, 0.03543542804886021, 0.0019035116129433255, 0.9979818999787401, 0.37187884002915556, 0.001365869362223868, 0.047331554633798525, 0.05418877632986121, 0.06177074503445084, 0.135388316169823, 0.18545160952806924, 0.06062787475177373, 0.05142916272047013, 0.030578748782848636, 0.9956837033873894, 0.999938258013041, 0.1352441012813531, 0.05716943082555621, 0.7065117719934408, 0.07878573302825408, 0.00014221251449143336, 0.0005688500579657334, 0.0002844250289828667, 0.0021331877173715002, 0.0011377001159314669, 0.017634351796937734, 0.0004266375434743, 0.9978694847802664, 0.8834610002376083, 0.11380398588317665, 0.001973479523985722, 0.6323998741260946, 0.36747703569460294, 0.8962584523163066, 0.10289115059798207, 0.9977058575065195, 0.9992359606121441, 0.07074481847391864, 0.9281982201624325, 0.9981755931260256, 0.9877791936117946, 0.011847031906324829, 0.9990055918229206, 0.9990416966286136, 0.12127497618027688, 0.14344884822958187, 0.2916049989053849, 0.44360131736626307, 0.6826468885177314, 0.000610011900124353, 0.10153430216176954, 0.05955241174963996, 0.026644448351860132, 0.034716212958862736, 0.038692183379316104, 0.018834117416339398, 0.013028111295512967, 0.006121905140533686, 0.01762498668573577, 0.027800526611997025, 0.24944308124463085, 0.27743402242246346, 0.44499884035778803, 0.999913633620343, 0.6796806442403546, 0.31964126230698636, 0.0006581147307555944, 0.4722835902970812, 0.08246490015697273, 0.0002256221618521826, 0.08432628299225324, 0.06689697098917213, 0.01257843552325918, 0.22297110145041946, 5.640554046304565e-05, 0.051385447361834584, 0.006768664855565478, 0.9991484755894158, 0.1951594251226554, 0.8048026324511265, 0.9983996279600237, 0.9997019446511537, 0.899025574675065, 0.10027372566484155, 0.7945286855420539, 0.20515252288816044, 0.9988101087794599, 0.9970076053711325, 0.9961992551185067, 0.9952777373399884, 0.9975427468797572, 0.9999437984627799, 0.9986540420194978, 0.9983526264513772, 0.9981750882318506, 0.9124301303060135, 0.08748712256976392, 0.9995991611250751, 0.9991491409143269, 0.9994305262605463, 0.7818075621892245, 0.007505469186829167, 0.006339571060719782, 0.00021860589864550973, 0.03978627355348277, 0.001020160860345712, 0.03920332449042808, 0.09880986618777039, 0.000510080430172856, 0.024702466546942598, 0.8778777409295548, 0.12205525063431319, 0.9979920778464447, 0.995686113119103, 0.999893606706668, 9.003183924965497e-05, 0.9980321155165451, 0.9987807770868756, 0.04663792026052247, 0.9093061938794439, 0.02025418251314119, 0.023718713732494286, 0.008506641821946635, 0.9904161549837867, 0.38571073795591815, 0.36139453806411265, 0.2528087536292304, 0.9721068303584036, 0.026799937679053733, 0.9994877167229606, 0.5287071531772429, 0.4702351886076709, 0.0009520536971979164, 0.9987393208225902, 0.9950278852300701, 0.9999757330581502, 0.9979025821155947, 0.407016653922284, 0.0014573486329698148, 0.3874465437081179, 0.20382061595392123, 0.8861810878778928, 0.020757944876230353, 0.09066337688588845, 0.00030526389523868164, 0.0009157916857160449, 0.0012210555809547266, 0.9961709949922047, 0.057034399689290714, 0.9059184880880362, 0.0019895720821845597, 0.03448591609119904, 0.9980590709583802, 0.22607913242033412, 0.09234218084774211, 0.6121649747578766, 0.06899128454141651, 0.7292480809253229, 0.12772980643498527, 0.14295341708566667, 0.046422685855636435, 0.3687939928793675, 0.5846975334899257, 0.9960073630055897, 0.9999930964556082, 0.9977269100939705, 0.9970987965066737, 0.00012263055918704794, 0.3713253332183811, 0.468203474976149, 0.15708974631860842, 0.0033110250980502944, 0.9982252399919549, 0.9968953242408564, 0.998532576298151, 0.9953984687261471, 0.3924348813936482, 0.06095457892022855, 0.20039123816907267, 0.050966840687516404, 0.05831076585862828, 0.042080691230471035, 0.054491924769650105, 0.0169889468958388, 0.04068534544795978, 0.039657195924004116, 0.043059881253285956, 0.5129671651222726, 0.4195728393142965, 0.0020269219290545725, 7.795853573286817e-05, 0.014344370574847744, 0.03321033622220184, 0.005613014572766508, 0.012239490110060303, 0.99783397372948, 0.9908602352090455, 0.008755760546766234, 0.9991596217053055, 0.9985370129398945, 0.999851137284273, 0.9972345095315895, 0.9967597383297837, 0.9992007658489062, 0.9967891054565556, 0.4726401266988176, 0.1579887591490436, 0.1809753721198054, 0.03536401995501815, 0.08681866898956957, 0.02528527426783798, 0.007780084390103994, 0.03315376870782952, 0.09674202282908957, 0.8119508897977157, 0.0912519338293304, 0.9975187330880187, 0.8542256046433753, 0.14575339690459319, 0.1531948665766257, 0.7591509983085949, 0.08760281163433482, 0.9973267887741356, 0.7720653205402812, 0.07777689595771806, 0.04148101117744963, 0.031542852249518985, 0.07691270822485452, 0.00017283754657270678, 0.9957223945530134, 0.24009077332092382, 0.7598090070911627, 0.9965531910022976, 0.9984167843704982, 0.9977045758929477, 0.03142850270342123, 0.937140807883833, 0.0042857049141028945, 0.01142854643760772, 0.015238061916810293, 0.9997269949808795, 0.9979204996814752, 0.9960551715645102, 0.0021401105344974855, 0.938285604338969, 0.055948603973291405, 0.0033630308399246202, 0.9984654842222683, 0.9710274002092387, 0.02876989065083936, 0.999243588038518, 0.998368220578509, 0.013410851290062803, 0.7800694947495996, 0.15199960404260493, 0.054210902208160335, 0.0002986826567942718, 0.9989293224338341, 0.9973142965994242, 0.9993576500157605, 0.002802762990603499, 0.12659146174225802, 0.0004671271651005832, 0.8697907814172858, 0.9983527198649025, 0.46186942728073654, 0.5143196271115069, 0.02373444796811398, 0.21046251900209964, 0.11646647668086114, 0.3968458049404252, 0.026953971731847846, 0.04235624129290376, 0.04109030132898136, 0.05818049084193381, 0.07798717652746975, 0.022813293099851653, 0.006857174804579687, 0.9164316301988085, 0.0156220827988293, 0.02654795665813323, 0.0015334559802531829, 0.01581376479636095, 0.0018209789765506548, 0.0037377989518671334, 0.009104894882753274, 0.00019168199753164786, 0.009200735881519097, 0.8504361848724087, 0.14919933067936994, 0.19214338595950117, 0.3590261910676684, 0.017383625532100756, 0.09300239659673905, 0.05052116170266782, 0.10652903021390495, 0.05562760170272242, 0.1257596659587914, 0.9550940300591187, 0.022719687295758954, 0.021505658203619164, 0.0005202981823456249, 0.9998884102823028, 0.9997380494288676, 0.951309457292874, 0.04705085414740644, 0.09090736200886722, 0.8905554537535325, 0.0014028913890257286, 0.0002805782778051457, 0.01515122700147787, 0.0016834696668308743, 0.025276908875821257, 0.9709306762300753, 0.002973753985390736, 0.9979542457018322, 0.20417794304237036, 0.7640721462288703, 0.031583775564366666, 0.9992143688843376, 0.3893102111652839, 0.034121635432695835, 0.5765379780007227, 0.12341225608858067, 0.8232212178169308, 0.05343135991574565, 0.28358531618948934, 0.7163952103945316, 0.9968773734505263, 0.999533563516844, 0.12013160524860315, 0.008068540651025585, 0.8705058857939825, 0.9903192815894643, 0.009589359240743051, 0.9990655864012253, 0.9986692643298813, 0.5818049722236573, 0.15471317911218777, 0.26348470189226425, 0.5232773411234678, 0.4764778025098541, 0.0001944017703211178, 0.008407876566388344, 0.2915540550390964, 0.005686251781892695, 0.0033048300954590026, 0.3360720604426324, 0.009914490286377007, 0.3182842984582501, 0.02653584164883258, 0.9955428056188844, 0.9995158667745373, 0.9972676343647063, 0.9974955027140242, 0.1477367655131975, 0.320399172480627, 0.0018565850211551558, 0.0806626938978474, 0.005135235164897239, 0.04515056764213496, 0.007544845511502867, 0.007386838275659875, 0.22101262113538503, 0.16310296919892847, 2.9337699281031057e-05, 0.1476566404814293, 0.3783389699281765, 0.09124024476400658, 0.27011219728045294, 0.02709336528603218, 0.08553406225384604, 0.004101115559350319, 0.9822171764644014, 0.0020505577796751597, 0.004101115559350319, 0.0061516733390254786, 0.8768808672452293, 0.0009707168272087409, 0.12166317567682886, 0.25508984046337596, 0.004239720340111512, 0.12836931029782078, 0.6124040491272184, 0.9980999959926394, 0.9605937789602388, 0.03935355536814394, 0.16152080031141147, 0.00027575040599472727, 0.08934313154229163, 0.192611658587317, 0.0532542971577317, 0.08934313154229163, 0.14752646720717907, 0.03898421364750457, 0.16000417307844048, 0.023783472517045226, 0.04336175134267086, 0.9996056517094384, 0.9993240562071047, 0.1773107495182833, 0.08150664157753816, 0.1529274735500233, 0.10234325922314215, 0.06880517145952636, 0.07984414548879315, 0.06712050875626477, 0.07292816175961396, 0.060559190859351165, 0.05229104364465937, 0.08436613485017956, 0.12479544837822594, 0.5651998634740814, 0.002129615160037985, 0.03918491894469893, 0.0029814612240531796, 0.05167866121692178, 0.07794391485739026, 0.010648075800189926, 0.1044931171858638, 0.020870228568372257, 0.999253493409496, 0.9954609533425791, 0.39022528260989703, 0.0016921533748166728, 0.060034658863061086, 0.08799197549046697, 0.003163591092048562, 0.12426291522023306, 0.004046453722387696, 0.001250722059647106, 0.022660140845371095, 0.021041559356416016, 0.28369319188230824, 0.06120807983086467, 0.6356673513644895, 0.060915684545048435, 0.08411237721980289, 0.0957107235571801, 0.04210492115753748, 0.02027273981659212, 0.22394621413569862, 0.04839464378945405, 0.20297520182693518, 0.020567723610517973, 0.12501949645608962, 0.16236402991361834, 0.02129364326735978, 0.13889262767573313, 0.014760366355783485, 0.041780709138228664, 0.02304205138993576, 0.9767996898881292, 0.027253840484517514, 0.9720536439477914, 0.3106669603521939, 0.18170606749632615, 0.16505638586283206, 0.08532432267139213, 0.0002541936127251007, 0.019784736190437004, 0.05333829307015029, 0.07134367397151159, 0.10341443477699513, 0.009066238853861925, 0.9960847313046822, 0.995272237797076, 0.015372343340015433, 0.8511840832909576, 0.003486510860622057, 0.03470663083982866, 0.09508665983514701, 0.9991945021485819, 0.048394417178026256, 0.10020491086273672, 0.8511723962488148, 0.20810563156603043, 0.7397138144574502, 0.05202640789150761, 0.6041519750546324, 0.0208858856529252, 0.023891735558428995, 0.052924428693334725, 0.042869145080875595, 0.043179272452078366, 0.04580342713148644, 0.04106802073273641, 0.04950109963428873, 0.022543874291278482, 0.05315106023382906, 0.9984887317252332, 0.582118478243522, 0.3727687241308839, 0.04494514495073587, 0.04616523853901655, 0.007228878839025511, 0.2126428504739177, 0.16359673033115668, 0.18036630658011377, 0.19443283342308837, 0.018227800270605533, 0.1572125544315007, 0.012848376288304875, 0.007273336888466013, 0.9984192555682817, 0.06810834977769409, 0.904138343298889, 0.027243339911077632, 0.9998958301003836, 0.9970869524478942, 0.9987474226424914, 0.08385578857799751, 0.9052486091703382, 0.001996892045732774, 0.008890272806344541, 0.9998399959145605, 0.21128537571410122, 0.04160896049339049, 0.0007453318468442221, 0.04634019743422772, 0.08901854709917731, 0.007518129933385197, 0.6034271443515765, 0.11364853504243407, 0.719646931627762, 0.16627772241107802, 0.9978568267484446, 0.9990564853093636, 0.9966603721537172, 0.00022132177410399677, 0.6332015957115347, 0.3324253047042031, 0.013353080370941137, 0.020435377142269034, 0.000295095698805329, 0.9987236569964674, 0.9990766018996833, 0.9877088442326709, 0.011912408527961228, 0.9964172361579788, 0.33663817220817605, 0.03623028382180127, 0.3128438558930717, 0.06340609329360708, 0.05422775472541742, 0.03302220057057169, 0.050759556615980035, 0.05160183329970054, 0.03302220057057169, 0.021800102402177855, 0.006440939346098003, 0.9957156389179486, 0.9969128277610017, 0.00012371715410287932, 0.0028454945443662245, 0.02576522887922143, 0.966928049700327, 0.0073196672952333605, 0.1138347530992637, 0.1667936089510913, 0.27324706029805834, 0.08542070979472377, 0.06571739624625439, 0.056709033355010575, 0.05343506886810479, 0.11929136057744003, 0.04103368823588589, 0.009782209042694267, 0.014742761295581826, 0.91119484999885, 0.08864481718675477, 0.9999199905563495, 0.9978496665028457, 0.29196020866444766, 0.0484683605448443, 0.28676987220897415, 0.08841730585810965, 0.05609497737737677, 0.05993855014615306, 0.04569917229017476, 0.04577483317144989, 0.030173559452519365, 0.025119412583341095, 0.021578483339665302, 0.9956702702007189, 0.2868576284475031, 0.004558606429622079, 0.05008492490107718, 0.18033082289027944, 0.0704522765637006, 0.0925701808919587, 0.09797717803325356, 0.049332127509029496, 0.06581002597940655, 0.0433157229551246, 0.05870027283228955, 0.11021410264502947, 0.42423852545367857, 0.4655152078645116, 0.07353347411606298, 0.7919396456960164, 0.13437052104661867, 0.9992982730098213, 0.9965750076578621, 0.3842367583010748, 8.064482695622008e-05, 0.10206050878126074, 0.12220379444765882, 0.05374529689815644, 0.07503553121459855, 0.0679298259061227, 0.018808165753456216, 0.047311631814315774, 0.04063603224960645, 0.08794766406392222, 0.012617915901076754, 0.07394521664932689, 0.02502435835129747, 0.8532248830538157, 0.03517508399238715, 0.9979561387842465, 0.9994101621846084, 0.9997120220527078, 0.07230458415824442, 0.8288247702583944, 0.02945742317558106, 0.06895714970647385, 0.9998961050476943, 0.10466509218243211, 0.15497707664850469, 0.5867710959416658, 0.06768881444230648, 0.056777781666531704, 0.028894031239551723, 0.9996832852924817, 0.9980112451544941, 0.015024626968880317, 0.9849038363021282, 0.9971402084997463, 0.9984019998908034, 0.9964913003585684, 0.006678055903388702, 0.3995275368354279, 0.09888659703094808, 0.07538497721709939, 0.39683062964367477, 0.007705449119294656, 0.0003852724559647328, 0.01476877747864809, 0.02639819621001949, 0.015339492392308623, 0.4798050527361651, 0.08533831297323118, 0.0028934959809781124, 0.2744064750179654, 0.00229894201228398, 0.07079155920584806, 0.042728611883485, 0.03181496037890963, 0.6190151185261887, 0.00015295654028321936, 0.34904682492630656, 0.3757914969918328, 0.34469234557437956, 0.017364701277838675, 0.05112603686332293, 0.09172434542579593, 0.07986552504093049, 0.02371764076973087, 0.015610079894363686, 0.9997112781345955, 0.9983487570932333, 0.05357041298170431, 0.9444875888774329, 0.0016483203994370557, 0.04877321397845846, 0.13298595753838674, 0.18211005794834492, 0.6358062138774585, 0.06981695626671273, 0.19178290435713335, 0.004559474694968995, 0.6666806905549977, 0.06710976816657489, 0.004805016132675247, 0.11573011724203096, 0.5261678906214771, 0.06969135801732859, 0.23898436827321232, 0.0446605763029273, 0.26928836590128513, 0.6032356678653443, 0.0024773538721369376, 0.1238676936068469, 0.001114809242461622, 0.22929335649256744, 0.2599546774188991, 0.06570283055642505, 0.12288333743922686, 0.09122219083051478, 0.038326651157914615, 0.06132264185266338, 0.053038371912940224, 0.04175462492607592, 0.030566099432771655, 0.00595134334750227, 0.9998173252334507, 0.17308524449677315, 0.826463310302774, 0.998252926513188, 0.06441371136885111, 0.48061444685809435, 0.4139256375159505, 0.04095176351926958, 0.23578954936371124, 0.7639327178845846, 0.9989916256520608, 0.9967107437740526, 0.15792525278931754, 0.7513413541794804, 0.04491114414987585, 0.045279268282251886, 0.09712024495435302, 0.902796016140899, 0.9985888831685711, 0.9997222200047365, 0.9969677398039952, 0.2557955717848698, 0.1443361823000822, 0.12519074686587722, 0.05418001298081367, 0.2931840963110938, 0.010278901810987099, 0.04099790989496763, 0.07603248744157633, 0.09261896802583801, 0.60708839198186, 0.025084303840331126, 0.21080463035047503, 0.06439912620546549, 0.9964425740439381, 0.9985087113640881, 0.9982426268522699, 0.8825784974959342, 0.06249646070213818, 0.001739730169438536, 0.011642809595473279, 6.691269882455908e-05, 0.01231193658371887, 0.010036904823683862, 0.019070119164999337, 0.9939795903493499, 0.999859955521275, 0.9984684553817692, 0.1763837182335547, 0.03086800908934508, 0.5079658803868421, 0.0674701199783794, 0.04178683766599884, 0.012566953644827917, 0.028945196509808566, 0.03296250136348306, 0.02657601672430822, 0.05661996327956622, 0.017854688238553327, 0.9988308448434875, 0.9995143953813023, 0.001443690267575659, 0.9983118200285681, 0.37381772932457, 0.46823599907712576, 0.04671776677908682, 0.11112478505705116, 0.9987894668264791, 0.9988650571519923, 0.2277047897826248, 0.265131612560834, 0.16030656732362566, 0.07473387972352813, 0.03820530069199595, 0.046439201703201975, 0.033294901543494904, 0.07673995742444015, 0.03560039382663259, 0.00976091538055696, 0.03209724321459221, 0.001333867676049975, 0.8672807629676937, 0.00266773535209995, 0.07096176036585866, 0.028544768267469465, 0.00026677353520999496, 0.028811541802679457, 0.9975375587109501, 0.9942983802928682, 0.3833787201263406, 0.036293850227825226, 0.5289529545566286, 0.0001495625696201589, 0.0072787117215144, 0.00593264859493297, 0.002343146924049156, 0.007079294962020854, 0.008923899987336148, 0.018894737962013408, 0.0006979586582274082, 0.9988914725398176, 0.7962593831025565, 0.2034239299897042, 0.9981997954151735, 0.9351477269335856, 0.06412441556116015, 0.8909293550700683, 0.01830676756993291, 0.000762781982080538, 0.014492857659530222, 0.07475263424389272, 0.055875873011035415, 0.9436180595230981, 0.028469037430387777, 0.483779969395297, 0.08656911381893426, 0.401277860923561, 0.9651261357027966, 0.03396338307458522, 0.9985514125695731, 0.6610345917615013, 0.0007402403043241895, 0.13891843044483956, 0.10338689583727846, 0.036518521679993345, 0.05847898404161097, 0.0007402403043241895, 0.9385519197287013, 0.058605230880376814, 0.002170564106680623, 0.6741784464758384, 0.011717005085810025, 0.3136552130662991, 0.09810012819853413, 0.6015990361775105, 0.0868186134557027, 0.07345247098865243, 0.023421405607400022, 0.009687387659605246, 0.09368562242960009, 0.0026977535254596886, 0.0004905006409926707, 0.010055263140349747, 0.9979560360185954, 0.9993163665836774, 0.9992723598322686, 0.07250995979552641, 0.001375124814164263, 0.2575943266749326, 0.17794858405995923, 0.11686702643620338, 0.11229566556749515, 0.06240093413464318, 0.04708873350124652, 0.05615712416762706, 0.07154365587205963, 0.02423192915770539, 0.9990149887886928, 0.9947165803614471, 0.9992353500578212, 0.0006763014213589314, 0.9998333759759005, 0.9978771384643255, 0.29446536001657275, 0.07692453108581086, 0.40254505326710005, 0.007488872118939999, 0.02232120136421922, 0.01465056050452825, 0.004980463496576601, 0.02032174521595854, 0.05892942575146475, 0.08575849188630805, 0.011560491911761745, 0.2936723317266284, 0.12916334772244228, 0.11841045400645325, 0.10974125500576354, 0.06438873916536009, 0.04396338603020391, 0.047873529199654465, 0.09078220555915131, 0.03838114216329095, 0.04733331205124353, 0.01633513758290198, 0.997642950253694, 0.2910787392651565, 0.2316643678969603, 0.1318667201555082, 0.00019040161738625362, 0.054173793518231685, 0.048498011971384314, 0.11332522931956114, 0.060375446198812514, 0.004297636506718296, 0.06453708155025492, 0.8760899235843999, 0.12389150434526866, 0.11628863095389917, 0.02600426281553167, 0.10026716730951347, 0.06009949145674679, 0.10135666062007001, 0.0837811910133401, 0.0806478420349178, 0.039196422126301554, 0.06830869686652165, 0.11994561237615485, 0.2040984135109251, 0.009804176425758333, 0.013680246175476744, 0.8584354475111656, 0.024168434910008915, 0.09393769040494031, 0.9979137312437436, 0.9950097090348792, 0.9980906761356936, 0.9986091188877485, 0.9983624171202465, 0.9991360454785362, 0.994493823207686, 0.9996661451915916, 0.03453278557113568, 0.41169498320815395, 0.0635592874873173, 0.13907924410592554, 0.09404440759024173, 0.07147229115039697, 0.06370514930599158, 0.04014846559009544, 0.04911896743856363, 0.03077684374027298, 0.001859738188097064, 0.00032927643673950967, 0.025601242956496875, 0.19633107540593264, 0.0703005192438853, 0.21131315327758032, 0.464691371348633, 0.03136358059943829, 0.5238425472499809, 0.3412489126470464, 0.1347169214852892, 0.07339710397178321, 0.001601391359384361, 0.7395759094756774, 0.024821566070457594, 0.1558687589800778, 0.004270376958358296, 0.9986323117471624, 0.09265720856632421, 0.9056412561799402, 0.0015315241085342845, 0.00016984291390958922, 0.2444039531158989, 0.5229038711991478, 0.0205509925830603, 0.072565384967872, 0.13939857159129537, 0.9994405079605613, 0.023076049735756374, 0.9769579934857605, 0.9983094176407882, 0.011104925115732744, 0.3482826917345536, 8.955584770752213e-05, 0.12331840229325798, 0.5068860980245753, 0.010209366638657524, 0.9986767186851313, 0.023846193461269476, 0.0002346488901477931, 0.25864173916540495, 0.06100871143842621, 0.0013492311183498104, 0.08048456932069303, 0.013873615629988267, 0.049862889156406034, 0.5106546471841348, 0.9963372692794185, 0.9969689152241876, 0.998978816812175, 0.8067904531562616, 0.01839750196811899, 0.06789078171930868, 0.020697189714133868, 0.03699497678371754, 0.04909333405623057, 0.9987486733577416, 0.42157675054965593, 0.026492090241052747, 0.3677913979836476, 0.0005341147226018699, 0.007050314338344682, 0.1761510355140967, 0.0003738803058213089, 0.018629173889331732, 0.2319294741242103, 0.1154410253463408, 0.0015711351472930376, 0.39622532095542506, 0.000673343634554159, 0.13407019923567254, 0.1015252568988882, 0.9312104400278578, 0.06870783466453581, 0.2507266069719504, 0.03090807947071906, 0.11659186682411794, 0.12464760751546314, 0.13162148220487146, 0.08172249337707624, 0.05995202059963923, 0.07361682040871857, 0.050880990275707146, 0.053860282804117865, 0.025482105368697296, 0.9991443000162552, 0.9994041381272556, 0.99933894550936, 0.20212287849738556, 0.15217864859378602, 0.3416456962750555, 0.0023459588829873707, 0.24151029342754193, 0.04290635325463744, 0.01710080554177636, 0.00018520728023584503, 0.02814140209904724, 0.8161006608723699, 0.013355241674124113, 0.06200647920129053, 0.021940754178918186, 0.00047697291693300407, 0.013832214591057117, 0.026710483348248226, 0.017171025009588146, 0.9958499032614585, 0.13329617379961856, 0.0002896955692466581, 0.09244909853583975, 0.19065589651045686, 0.08078885187366178, 0.09860512938233125, 0.13224602736109942, 0.01057388827750302, 0.13865554183068174, 0.09759119488996794, 0.02484139506290093, 0.02738349285205528, 0.6816358071017593, 0.0178730582088265, 0.019348815308637864, 0.17774674402172408, 0.07591950413474009, 0.00016397301109015138, 0.999854782557732, 0.014050297785017159, 0.6008475659525315, 0.0014208166299455552, 0.0727773851561001, 0.04657121175932653, 0.04783415987483369, 0.0604636410299053, 0.014523903328332343, 0.09693126786517456, 0.04230876186948987, 0.0022101592021375304, 0.03628785920630803, 0.48561693937853395, 0.13258113265572674, 0.02122721175793836, 0.08467167148138541, 0.0023717555036802634, 0.030832821547843427, 0.12178964511398153, 0.020752860657202308, 0.0494511022517335, 0.014467708572449608, 0.053477061495309126, 0.021963793114144817, 0.8873849891877857, 0.00023873688167548715, 0.03676547977802502, 0.9955926060914501, 0.996768267481132, 0.3073118761555051, 0.6925844163687617, 0.9959754205986273, 0.06867745849755096, 0.9312621686405392, 0.12283287095748162, 0.02567915005835732, 0.4725637899141905, 0.03365822950756244, 0.0032028699197513507, 0.010620042365491321, 0.00708002824366088, 0.2944954605160847, 0.0011238140069302985, 0.028713447877069125, 0.9996948818409768, 0.79185963746928, 0.20779760354119353, 0.9917350640028804, 0.008188638143143048, 0.9980325577149322, 0.2354202341037493, 0.056578722573347055, 0.5455670829270136, 0.008728570963035783, 0.020031756382794353, 0.008540184539373141, 0.042575331747757274, 0.004081705846023928, 0.020094551857348566, 0.05846258680997349, 0.9984582342886494, 0.0015319988427560801, 0.9844355873313412, 0.00168207703943843, 0.01345661631550744, 0.9989356123630255, 0.9976710349318318, 0.17407117153514232, 0.6129824097366717, 0.0132240114809643, 0.16156683414838016, 0.025278552558850125, 0.01286417443386323, 0.5590989279418804, 0.1956459595702569, 0.02362092792511905, 0.10886013955966325, 0.020351960221196327, 0.038524608639777504, 0.05012417146014846, 0.0036907699882998517, 7.030038072952099e-05, 0.5399416848744398, 0.10962703820827562, 0.09469203962550203, 0.12383602991549772, 0.006499490123984805, 0.002731168722312764, 0.00978380694195585, 0.007156353487579014, 0.09400060450592918, 0.011719825276759835, 0.10671065232274919, 0.6192399835001707, 0.06420821998120692, 0.0010227858050103756, 0.021251216170771137, 0.18762437378579225, 0.9975097675940848, 0.9975889859441442, 0.9997195425610812, 0.7571995794454723, 0.24269023794066563, 0.06726053035826315, 0.1121008839304386, 0.8201445314652733, 0.9969986732430799, 0.9349003317884667, 0.028448128566440814, 9.482709522146939e-05, 0.0020861960948723264, 0.03442223556539339, 0.9986335877881019, 0.9221255912946836, 0.05690140410177261, 0.02078313695915808, 0.04802356121337652, 0.8787013767961055, 0.07268430886348878, 0.9977635864587495, 0.996913288106811, 0.09283898524911459, 0.43143199705890334, 0.03654573314364317, 0.0880303361512668, 0.05763967385286879, 0.08110588145036599, 0.08610687651212769, 0.030711238904921192, 0.03026243165578873, 0.021606863279662717, 0.04379076445106717, 0.9998890385069427, 0.9994320056578121, 0.9983449050101745, 0.043943748681611904, 0.9558811617981104, 0.9995021772042133, 0.14073901398094474, 0.011519563421927862, 0.006511057586307052, 0.840928129800734, 0.0008383230165294308, 0.0005029938099176585, 0.5888380868102723, 0.3157962803266366, 0.03101795161158894, 0.027664659545471218, 0.03537723129754198, 0.003391476144767427, 0.9962461175254316, 0.9984025936503165, 0.9804768597963008, 0.019439171423896364, 0.13530410528697387, 0.8642999881449281, 0.9277262081053946, 0.07136355446964575, 0.999782347954339, 0.9984027024903156, 0.0474699514648134, 0.00015462524907105342, 0.3046117406699752, 0.07854962652809513, 0.09122889695192152, 0.4779466448786261, 0.9985171399367756, 0.9997850968031886, 0.9983686556934279, 0.9580302417343302, 0.04129942147124313, 0.9856499702668963, 0.006109400642150184, 0.008145867522866912, 0.09588443265123052, 0.9033930883525574, 0.704880854993157, 0.24173743328169134, 0.03256477183908743, 0.020676045612119002, 0.7107023335571543, 0.028802763435759462, 0.021075192757872778, 0.10982517114935926, 0.0297394386694427, 0.09952174357884368, 0.8058686376155667, 0.13554958112999313, 0.018625955151301676, 0.039943522318687405, 0.06609358416156197, 0.01406246471522595, 0.0014062464715225952, 0.916872699432732, 0.0014062464715225952, 0.03180501954144671, 0.0031137781369248523, 0.02513263781946488, 0.05026527563892976, 0.03758775036716429, 0.007339619894180009, 0.0796237552156498, 0.6834743010550052, 0.08162546973224434, 0.974025876724902, 0.01933887572326463, 0.006622902644953641, 0.9987938041669903, 0.9985481763036798, 0.0007358497983077964, 0.4160635875395395, 0.35494593702552685, 0.002592689926995309, 0.00806779730864443, 0.05261897636936325, 0.010742205256261367, 3.714455482801302e-05, 0.03780572790395166, 0.05229953319784234, 0.06483210599681394, 0.9985288918268438, 0.99843544189215, 0.999291599341242, 8.221098109585602e-05, 0.5400439348186782, 0.22649125291908334, 0.20495197587196906, 0.0009865317731502722, 0.027376256704920058, 0.9983918100807765, 0.9966332318996176, 0.9981932611099263, 0.8799768970412046, 0.032731867383194495, 0.023375715326528684, 0.0019357555979308571, 0.0020530741190175755, 0.0005865926054335931, 0.038128519353183545, 0.009092185384220693, 0.006247211247867766, 0.005396651969989056, 0.00043994445407519476, 0.9966888048445218, 0.020923594568098593, 0.031189640967415156, 0.3683161646737854, 0.04136868697351717, 0.10927249387747123, 0.1304135894286062, 0.044196199752989954, 0.04232569129887719, 0.03340815099438611, 0.1233230573816206, 0.05520174949463017, 0.013298973397413295, 0.9857864030832606, 0.5330838112007744, 0.061124097105295136, 0.03689723401572485, 0.018332587970077127, 0.04650443834434755, 0.18471822815419486, 0.08117391483459467, 0.03745417339709429, 0.0006961742267117897, 0.9990584586997449, 0.8730501709227643, 0.12640687802935777, 0.9991530379979958, 0.022848015967315314, 0.9115772524395546, 0.005858465632644952, 0.0005858465632644953, 0.0017575396897934858, 0.057412963199920536, 0.9994162452791181, 0.03332475598901305, 0.8346176321375305, 0.0030856255545382454, 0.010667448345689362, 0.016221574343858205, 0.07167467359541696, 0.008198947902058766, 0.022040182532416037, 8.816073012966415e-05, 0.1339739125570842, 0.012921032802563272, 0.14659056296147166, 0.20075541071685762, 0.10604682752445334, 0.09405416103632629, 0.08125488119303334, 0.04859464986876858, 0.08477049789196399, 0.05856317340902647, 0.032477601885359274, 0.9290081386853788, 0.0026452395748444726, 0.043910976942418245, 0.0013226197874222363, 0.01851667702391131, 0.004496907277235604, 0.8739804071971352, 0.12265403092622594, 0.0033183581618631826, 0.9990938771506251, 0.0016746911144485239, 0.1326355362643231, 0.17575883246137258, 0.6898890045970694, 0.9989100747005057, 0.0017095446180931024, 0.9539258968959512, 0.0051286338542793075, 0.03760998159804825, 0.0008547723090465512, 0.0017004120813121353, 0.9981418917302235, 0.9988806132117501, 0.998846656821759, 0.13078905135082006, 0.7787291708953924, 0.019954077971817086, 0.0020805199781041513, 0.006146990844398628, 0.03872604231971136, 0.017306143454229983, 0.0007092681743536879, 0.005532291759958766, 0.9983597075241166, 0.9976993373226204, 0.04913259168498218, 0.70031003078768, 0.2505250378104039, 0.23036344086789945, 0.003616046624888542, 0.05519788818579862, 0.506565590421886, 0.014464186499554168, 0.10731150130919231, 0.06115372968561505, 0.021270862499344362, 0.9995615726908194, 0.1446118326977634, 0.8552209708549849, 0.9975532044209027, 0.9965826727951421, 0.9959810049798593, 0.9970482650452538, 0.9982087990540451, 0.9979792895664258, 0.9972493132161205, 0.9020421153076255, 0.09785269791913583, 0.9972005878387121, 0.9628404448698339, 0.0007500704582211118, 0.025502395579517802, 0.009000845498653341, 0.0020001878885896316, 0.3005634325518067, 0.6992137520045306, 0.9977678195571388, 0.9999493094928104, 0.2427057621781242, 0.7572487527553338, 0.9916349891913967, 0.007404866129618395, 0.00023026139729811335, 0.009440717289222647, 0.7980860030352608, 0.03154581142984153, 0.07713756809486796, 0.00759862611083774, 0.05894691770831702, 0.01657882060546416, 0.9541424804071357, 0.04583769701819017, 0.9990223939901225, 0.9943920839113217, 0.8903034657727839, 0.0010828746796344422, 0.04945127703663953, 0.012904256598977103, 0.012814017042340899, 0.023281805612140508, 0.00875323699371174, 0.0013535933495430526, 0.1944589133107324, 0.2910092222670287, 0.1256311907590922, 0.10550169830141419, 0.060410744510708464, 0.05753828375070795, 0.055489707084661076, 0.03491487187349461, 0.03689664712651822, 0.023180090319073907, 0.014985783654886398, 0.9995060822160985, 0.9974419832426812, 0.9943407463332261, 0.9888267587712972, 0.010893530199065315, 0.9982499887331656, 0.3427107638650953, 0.28625969915233584, 0.16591580978351528, 0.04628065945691392, 0.034763650020851876, 0.022750523255236396, 0.013005361424722363, 0.06757826767560095, 0.011942252861393561, 0.008433994602408509, 0.0003543695211096012, 0.10966149402095154, 0.203567252068273, 0.1935873095812355, 0.08832642012149733, 0.06062618605314519, 0.026560791815895105, 0.04612776566843321, 0.19515895406738312, 0.039055365480768836, 0.03658002541508631, 0.0007465311309201287, 0.8924960878800597, 0.10066706053090356, 9.126660066265055e-05, 0.004015730429156625, 0.0005475996039759033, 0.0001825332013253011, 0.0020078652145783123, 9.126660066265055e-05, 0.9997577989713646, 0.993666979292547, 0.9401338276210369, 0.0359152248754104, 0.02389946949429883, 0.022198085131832405, 0.9767157458006258, 0.9995730599266194, 0.9998472326112172, 0.0934310994930607, 0.8186019203759405, 0.08797526886572868, 0.9998100390564183, 0.9975174191967203, 0.9998754102988636, 0.9998526146222123, 0.9999226544568511, 0.9987073750973955, 0.9953750919299499, 0.998416107093568, 0.2278473110541906, 0.004399006005465881, 0.43094358831859125, 0.2094562859470019, 0.05337107286149568, 0.03418504666898184, 0.030846042110616173, 0.008851012083286772, 0.0451994014824344, 0.2852448715175252, 0.6694397841182176, 0.17750715253590815, 0.03122251022032797, 0.4377955367697803, 0.1185019001703731, 0.059988043244141025, 0.044565786379862804, 0.027518144600967024, 0.05654827516902015, 0.0035153673734751828, 0.04278920286853664, 0.00016879380327699997, 0.24897085983357498, 0.14257449916797266, 0.17543302620589532, 0.1771209642386653, 0.25572261196465496, 0.010907752086864364, 0.9888114391787913, 0.12482523518745553, 0.5613665461726555, 0.1816360848796017, 0.131666332270803, 0.0003965853381650692, 0.8223318400867063, 0.00034682911855196387, 0.17722967958005353, 0.023128696258334115, 0.9762470633470197, 0.0006002256814446569, 0.977552836103723, 0.020197372646771135, 0.9970490813030369, 0.013315723152371865, 0.0012681641097497015, 0.011413476987747313, 0.9739500362877708, 0.9998182434980658, 0.9972536779420587, 0.15928590896463096, 0.5214587989859418, 0.02196758996208597, 0.09655716348354136, 0.17298433008167316, 0.027563896150145893, 0.9985955857529134, 0.7291070803675401, 0.27069778042165343, 0.8959796032681835, 0.10211003504340453, 0.9977322366200264, 0.9998752207875993, 0.058271414534941654, 0.14476804548524566, 0.2092307978145249, 0.10834841140090713, 0.47928238454989514, 0.9981985286545281, 0.9970628804310272, 0.7423780911703692, 0.021984900463511797, 0.1867348184597869, 0.048804654555928674, 0.8925370584868976, 0.10730833285084432, 0.9994026894636185, 0.999175275887368, 0.9992731588961897, 0.16947521351236003, 0.8300903473365927, 0.9984346765720914, 0.9986446237179777, 0.13518718972744637, 0.5448540704784932, 0.053152981363268736, 0.10047209891837383, 0.040765023647168164, 0.03709185013832439, 0.04098109267710015, 0.03817219528798432, 0.005473748758276997, 0.003817219528798432, 0.9919960845320692, 0.007733302809524196, 0.998383847642432, 0.9997013364871548, 0.9957280757254212, 0.9997726950888691, 0.9937597566874811, 0.005295345062277875, 0.28851250304663056, 0.7112716401639382, 0.9954204328230372, 0.9993433711868697, 0.999337483503212, 0.0006339106394981976, 2.2639665696364197e-05, 0.01188026604329897, 0.048546028302421676, 0.023294639300586218, 0.05399697389875885, 0.04179058290525167, 0.471203963772258, 0.009876927063448556, 0.3141980948863069, 0.025204799723234285, 0.9982498067429936, 0.17360727421711444, 0.026985586665872714, 0.1873453910651951, 0.05940917791744402, 0.17111315181314743, 0.19266073389332156, 0.02723091018101701, 0.08136563252285864, 0.01586425397933123, 0.03189205696875866, 0.032546253009143454, 0.9994951392027223, 0.00037371289557028314, 0.9857595280670964, 0.013606390439764778, 0.9987503350330393, 0.9971488043404088, 5.795136335447341e-05, 0.26228787054234665, 0.6444481361834216, 8.692704503171011e-05, 0.040913662528258225, 0.05221417838238054, 0.9957560217290884, 0.06479496529768208, 0.9022083775626619, 0.03280757736591498, 0.5405656047712367, 0.283454697203831, 0.07323629509977499, 0.007166854566338837, 0.09543674694003552, 0.00011198210259904433, 0.06987258146491866, 0.7392715943161535, 0.19072262377325686, 0.871668958682883, 0.1282460642638305, 0.006555004000395688, 0.15178931138416266, 0.09955412325600951, 0.7136760605430805, 0.028268454751706404, 0.02534394705985399, 0.9696762303990581, 0.004804539726986539, 0.9967829344071273, 0.998033700536829, 0.9981812731181103, 0.9945277798734503, 0.08095534513019235, 0.20237365971158147, 0.48599672683134365, 0.02096664042056925, 0.06807541735430268, 0.0075574005443005575, 0.015820550555773152, 0.00932177421223065, 0.02349557601126905, 0.0766914420993613, 0.008792462111851621, 0.9993476682525088, 0.08118114414855933, 0.0050650831287303725, 0.00043215263833584105, 0.2549255703171411, 0.22352459699335592, 0.11660495012038254, 0.1163570978719252, 0.005274804262040413, 0.10901685820607379, 0.027422626976752268, 0.06019632044583951, 0.9999907295115247, 0.9993281211108526, 0.011689001006260854, 0.9805773066363271, 0.007143278392714966, 0.9958910067896687, 0.6745855017246829, 0.011217597156419519, 0.011217597156419519, 0.07469899924615725, 0.03186817373982818, 0.06220667514014461, 0.09381990349005416, 0.040026426217224194, 0.5472431728717496, 0.05781622864515498, 0.0018224680768581462, 0.1731973110283121, 0.21982735630516537, 0.885062836604051, 0.016025415115516677, 0.01746267207654956, 0.02313983707262946, 0.05820890692183187, 0.09735346893005212, 0.1397193163754554, 0.2821118771184722, 0.13728294176198175, 0.09457870895359599, 0.08862312656510479, 0.02930417243428055, 0.034210760197526134, 0.018205132528456045, 0.03339863532636825, 0.0452082844944559, 0.1365810450880683, 0.12567955852028653, 0.15891636257832178, 0.17794188690680715, 0.09820596073693845, 0.08198103062225688, 0.06915847529624607, 0.049762624460150284, 0.04955431579961942, 0.029001194627241073, 0.0232379883525539, 0.40329816898028037, 0.03648644982938582, 0.28338447800557537, 0.01961585601063656, 0.018977422942755794, 0.021275781987126555, 0.03228875240806978, 0.024627555593500577, 0.04561604270008079, 0.08020315415252133, 0.03423597326510612, 0.3364662027929826, 0.06588439192621212, 0.5975175670289175, 0.08639298212443658, 0.06105104070126851, 0.8524107569611076, 0.9008478895522651, 0.09864032757108601, 0.9978680413234274, 0.981302172284719, 0.018380269616154986, 0.9970491862249622, 0.7520051521150081, 0.2064044851294552, 0.04142523582668087, 0.9996117305960714, 0.0024274693124760206, 0.9224383387408879, 0.07403781403051864, 0.9996137731087814, 0.9983192923908564, 0.014072342099183226, 0.9850639469428257, 0.5929738285514692, 0.13302318780008543, 0.2739827227357846, 0.1295001348417823, 0.016022703713270543, 0.0961744398197861, 0.13155432762553496, 0.10604411956683944, 0.1137927258348552, 0.12993008216861426, 0.07118972293832965, 0.08933350013063779, 0.03950738214333554, 0.07695101711787773, 0.9989468441194062, 0.998257545364035, 0.9967119601628273, 0.039891199653088995, 0.928057027223335, 0.005475262697482803, 0.008603984238901548, 0.013688156743707007, 0.004301992119450774, 0.11962040973491869, 0.05763635655695247, 0.0916961111671335, 0.14416223390450206, 0.11035427639592414, 0.07924894111121963, 0.0239291178890158, 0.03270005026152422, 0.20659112862863377, 0.13406517013021724, 0.12022483127622272, 0.03468172853299921, 0.5915247493764442, 0.1194506855500397, 0.13400462520228043, 0.03731177028481451, 0.23688190570564294, 0.17852247013195868, 0.547239297510613, 0.9993756785902131, 0.013324838078856139, 0.9864081522264336, 0.9995114135165427, 0.13223488567753186, 0.008686963292684575, 0.6964738347833299, 0.16257031304881134, 0.07211678060177493, 0.9257439795615597, 0.9981688969457694, 0.9996726264907321, 0.9984990184353281, 0.9979773607220583, 0.9974364436365764, 0.7497937652917315, 0.029857791484000126, 0.045281958648720574, 0.17504307140146047, 0.9968697367357039, 0.009543262130573413, 0.05024246827566591, 0.6932899253681274, 0.2467213944933538, 0.2606659933396593, 0.12279610969738532, 0.46736052289615637, 0.0027206323705408725, 0.11073709054147443, 0.03352995570180102, 0.0022059181382763833, 0.99726204477894, 0.26663892786854754, 0.036038798784976386, 0.07263608396862606, 0.10419604085051665, 0.10624382431231871, 0.07655643947303856, 0.07499048741401346, 0.06860622132721879, 0.056461879834499615, 0.07201189328775591, 0.06561667648726177, 0.9993998070524542, 0.0016191031505612941, 0.021048340957296824, 0.7751456333312196, 0.18376820758870688, 0.01821491044381456, 0.049230843482015646, 0.9506241443789211, 0.9974473753055442, 0.997924260566135, 0.1421185896412658, 0.0420978308775209, 0.09423358736574022, 0.18759653832647089, 0.01951249825344947, 0.050906622739970535, 0.07589900895436251, 0.04921656383612845, 0.0197173538781576, 0.03789829057100422, 0.28080584756867044, 0.9966874895884918, 0.7881242453599548, 0.21150938214132975, 0.9977673597541934, 0.04115931231866665, 0.13457305592885793, 0.47902877909427904, 0.060396816989347804, 0.01297413105697101, 0.06818129562353041, 0.005219478011425119, 0.023174482370727528, 0.10934060794219706, 0.06594437647577679, 0.2746637391969237, 0.11155181735566336, 0.1498406458639116, 0.13225904093665478, 0.07830430925666439, 0.056412375379499405, 0.06686051192766852, 0.054295020807614704, 0.03707891161002843, 0.027223130209946093, 0.01153202043615772, 0.1736957805320029, 0.8238742460279292, 0.0020990426650393103, 0.0002623803331299138, 0.0002623803331299138, 0.9999419725994637, 0.45034605393837746, 0.030254738267524044, 0.1986828937823548, 0.0003033747684072602, 0.0006067495368145204, 0.034308928354421064, 0.02984104540151414, 0.13811825819850537, 0.03858375463652337, 0.0032268043548772224, 0.07576095352861308, 0.0020973989004392187, 0.9975229170488925, 0.9980668803713317], \"Term\": [\"add\", \"add\", \"add\", \"add\", \"add\", \"add\", \"add\", \"add\", \"add\", \"adopt\", \"advertising\", \"alcohol\", \"alert\", \"alkaline\", \"allergy\", \"allergy\", \"almond\", \"almond\", \"also\", \"also\", \"also\", \"also\", \"also\", \"also\", \"also\", \"also\", \"also\", \"also\", \"also\", \"altoid\", \"amazon\", \"amazon\", \"amazon\", \"animal\", \"animal\", \"animal\", \"animal\", \"anise\", \"ant\", \"antler\", \"apricot\", \"arrive\", \"arsenic\", \"artificial\", \"artificial\", \"artificial\", \"artificial\", \"artificial_sweetener\", \"available\", \"available\", \"available\", \"available\", \"available\", \"available\", \"available\", \"available\", \"available\", \"available\", \"baby\", \"baby\", \"bacon\", \"bacon\", \"bacteria\", \"bad\", \"bad\", \"bad\", \"bad\", \"bad\", \"bad\", \"bad\", \"bad\", \"bad\", \"bad\", \"bad\", \"bag\", \"bag\", \"bag\", \"bag\", \"bag\", \"bag\", \"bag\", \"bag\", \"bag\", \"bagel\", \"bake\", \"bake\", \"baked_good\", \"baking\", \"baking\", \"ball\", \"ball\", \"ball\", \"ball\", \"bar\", \"baronet\", \"batter\", \"bean\", \"bean\", \"bean\", \"beneful\", \"bergamot\", \"beverage\", \"beverage\", \"beverage\", \"big\", \"big\", \"big\", \"big\", \"big\", \"big\", \"big\", \"big\", \"big\", \"big\", \"big\", \"bigelow\", \"bisquick\", \"bit\", \"bit\", \"bit\", \"bit\", \"bit\", \"bit\", \"bit\", \"bit\", \"bit\", \"bit\", \"bit\", \"bitter\", \"bitter\", \"bitter\", \"bitter\", \"black\", \"black\", \"black\", \"black\", \"black\", \"black\", \"black\", \"black\", \"blackberry\", \"blackberry\", \"blackberry\", \"blend\", \"blend\", \"blend\", \"blend\", \"blend\", \"blend\", \"blend\", \"bob_re\", \"body\", \"body\", \"body\", \"body\", \"body\", \"body\", \"boil\", \"boil\", \"bold\", \"bolder\", \"bone\", \"bone\", \"bottle\", \"bottle\", \"bottle\", \"bottle\", \"bottle\", \"bottle\", \"bottled\", \"bottled\", \"bowl\", \"bowl\", \"bowl\", \"bowl\", \"bowl\", \"bowl\", \"box\", \"box\", \"box\", \"box\", \"box\", \"box\", \"box\", \"bpa\", \"br\", \"br\", \"br\", \"br\", \"br\", \"br\", \"br\", \"br\", \"br\", \"br\", \"br\", \"bran\", \"brand\", \"brand\", \"brand\", \"brand\", \"brand\", \"brand\", \"brand\", \"brand\", \"brand\", \"brand\", \"brandy\", \"bread\", \"break\", \"break\", \"break\", \"break\", \"break\", \"break\", \"break\", \"break\", \"break\", \"break\", \"break\", \"breastfeed\", \"breath\", \"breath\", \"breath\", \"brew\", \"brew\", \"brewer\", \"brewer\", \"brine\", \"broth\", \"brownie\", \"brownie\", \"buckwheat\", \"bulk\", \"bulk\", \"burger\", \"busy\", \"butter\", \"butter\", \"butter\", \"butter\", \"buy\", \"buy\", \"buy\", \"buy\", \"buy\", \"buy\", \"buy\", \"buy\", \"buy\", \"buy\", \"buy\", \"caffeine\", \"caffeine\", \"caffeine\", \"caffeine\", \"cake\", \"calorie\", \"calorie\", \"calorie\", \"can\", \"can\", \"can\", \"can\", \"can\", \"can\", \"can\", \"can\", \"can\", \"can\", \"cancel\", \"candy\", \"candy\", \"cane\", \"cappuccino\", \"car\", \"car\", \"caramel\", \"caramel\", \"carbonate\", \"carbonation\", \"cardamom\", \"carousel\", \"cashews\", \"cat\", \"caviar\", \"celestial_seasoning\", \"celiac\", \"cereal\", \"cereal\", \"chai\", \"chamomile\", \"charge\", \"cheap\", \"cheap\", \"cheap\", \"cheap\", \"cheap\", \"cheap\", \"cheap\", \"cheap\", \"cheap\", \"cheap\", \"cheese\", \"cheese\", \"cheesecake\", \"cherrie\", \"chew\", \"chew\", \"chewer\", \"chewing\", \"chewy\", \"chewy\", \"chewy\", \"chewy\", \"chia_seed\", \"chia_seed\", \"chicken\", \"chicken\", \"chicken\", \"chicory\", \"chicory\", \"chili\", \"chip\", \"chip\", \"chip\", \"chipotle\", \"chocoholic\", \"chocolate\", \"choke\", \"cinnamon\", \"cinnamon\", \"cinnamon\", \"cinnamon\", \"claim\", \"claim\", \"claim\", \"claim\", \"claim\", \"claim\", \"clam\", \"clearly\", \"clearly\", \"clearly\", \"clearly\", \"cluster\", \"coat\", \"coat\", \"coat\", \"coat\", \"cocoa\", \"cocoa\", \"cocoa\", \"coconut\", \"coconut\", \"coconut\", \"coffe\", \"coffee\", \"coffeemaker\", \"cola\", \"cold\", \"cold\", \"cold\", \"cold\", \"cold\", \"colombian\", \"columbian\", \"com_gp\", \"comb\", \"come\", \"come\", \"come\", \"come\", \"come\", \"come\", \"come\", \"come\", \"come\", \"come\", \"come\", \"company\", \"company\", \"company\", \"company\", \"company\", \"company\", \"company\", \"company\", \"compost\", \"con\", \"con\", \"concentrate\", \"condiment\", \"conditioner\", \"confection\", \"constipation\", \"consumer\", \"contacted\", \"contain\", \"contain\", \"contain\", \"contain\", \"contain\", \"contain\", \"contain\", \"contain\", \"cook\", \"cook\", \"cook\", \"cooker\", \"cookie\", \"cookie\", \"cooking\", \"cooking\", \"cooking\", \"cornbread\", \"cost\", \"cost\", \"cost\", \"cost\", \"cost\", \"cost\", \"couscous\", \"cracker\", \"cracker\", \"cramp\", \"crash\", \"crate\", \"craving\", \"craving\", \"craving\", \"craving\", \"craving\", \"creamer\", \"crema\", \"critter\", \"crunch\", \"crunch\", \"crunch\", \"crunch\", \"crunchiness\", \"crunchy\", \"crunchy\", \"crust\", \"crystal_light\", \"cup\", \"cup\", \"cup\", \"cup\", \"cup\", \"cupcake\", \"curly\", \"curry\", \"dairy\", \"dairy\", \"dairy\", \"dairy\", \"dandruff\", \"dark\", \"dark\", \"dark\", \"day\", \"day\", \"day\", \"day\", \"day\", \"day\", \"day\", \"day\", \"day\", \"day\", \"deal\", \"deal\", \"deal\", \"deal\", \"deal\", \"deal\", \"deal\", \"deal\", \"deal\", \"deal\", \"decaf\", \"decaf\", \"delicious\", \"delicious\", \"delicious\", \"delicious\", \"delicious\", \"delicious\", \"delicious\", \"delicious\", \"deliver\", \"deliver\", \"deliver\", \"deliver\", \"delivery\", \"dent\", \"dental\", \"dental\", \"description\", \"description\", \"description\", \"description\", \"description\", \"description\", \"detail\", \"detail\", \"detail\", \"diaper\", \"dip\", \"dip\", \"dip\", \"discount\", \"dish\", \"dish\", \"dish\", \"dissolve\", \"dissolve\", \"dissolve\", \"dog\", \"dog\", \"donut_shop\", \"dough\", \"drain\", \"drain\", \"drain\", \"drawer\", \"drawer\", \"dress\", \"dressing\", \"drink\", \"drink\", \"drink\", \"drinker\", \"drinker\", \"dry\", \"dry\", \"dry\", \"dry\", \"dry\", \"dry\", \"dry\", \"dry\", \"dry\", \"dryness\", \"duck\", \"dunkin_donut\", \"durable\", \"easy\", \"easy\", \"easy\", \"easy\", \"easy\", \"easy\", \"easy\", \"easy\", \"easy\", \"easy\", \"eat\", \"eat\", \"eat\", \"eat\", \"eat\", \"eat\", \"eat\", \"edit\", \"edit\", \"edit\", \"edit\", \"edit\", \"effect\", \"effect\", \"effect\", \"egg\", \"egg\", \"egg\", \"egg\", \"electrolyte\", \"energy\", \"energy\", \"enjoy\", \"enjoy\", \"enjoy\", \"enjoy\", \"enjoy\", \"enjoy\", \"enjoy\", \"enjoy\", \"enjoy\", \"enjoy\", \"enjoy\", \"espresso\", \"essentia\", \"even\", \"even\", \"even\", \"even\", \"even\", \"even\", \"even\", \"even\", \"even\", \"even\", \"even\", \"experience\", \"experience\", \"experience\", \"experience\", \"experience\", \"experience\", \"experience\", \"experience\", \"experience\", \"experience\", \"expire\", \"expresso\", \"family\", \"family\", \"family\", \"family\", \"family\", \"family\", \"family\", \"family\", \"family\", \"family\", \"family\", \"fat\", \"fat\", \"fat\", \"fat\", \"fat\", \"fat\", \"fat\", \"favorite\", \"favorite\", \"favorite\", \"favorite\", \"favorite\", \"favorite\", \"favorite\", \"favorite\", \"favorite\", \"favorite\", \"feed\", \"feed\", \"feeding\", \"feeding\", \"feel\", \"feel\", \"feel\", \"feel\", \"feel\", \"feel\", \"feel\", \"feel\", \"feel\", \"feel\", \"feline\", \"feral\", \"fiber\", \"fiber\", \"fiber\", \"fiber\", \"fiber\", \"fig\", \"filler\", \"filler\", \"filler\", \"filter\", \"filter\", \"filter\", \"find\", \"find\", \"find\", \"find\", \"find\", \"find\", \"find\", \"find\", \"find\", \"find\", \"find\", \"finicky\", \"fish\", \"fish\", \"fish\", \"flavor\", \"flavor\", \"flavor\", \"flavor\", \"flavor\", \"flavor\", \"flavor\", \"flavor\", \"flavor\", \"flavor\", \"flea\", \"floral\", \"floral\", \"floral\", \"flour\", \"folger\", \"fondant\", \"food\", \"food\", \"food\", \"food\", \"formula\", \"free\", \"free\", \"free\", \"free\", \"free\", \"free\", \"free\", \"french\", \"french\", \"french\", \"friskie\", \"frosting\", \"fructose\", \"fruit\", \"fruit\", \"fruit\", \"fruit\", \"fruit\", \"fruit\", \"fudge\", \"fur\", \"garlic\", \"garlic\", \"gatorade\", \"get\", \"get\", \"get\", \"get\", \"get\", \"get\", \"get\", \"get\", \"get\", \"get\", \"get\", \"ghee\", \"gift\", \"gift\", \"gift\", \"ginger\", \"ginger\", \"ginger\", \"give\", \"give\", \"give\", \"give\", \"give\", \"give\", \"give\", \"give\", \"give\", \"give\", \"give\", \"glass\", \"glass\", \"gluten\", \"gmo\", \"go\", \"go\", \"go\", \"go\", \"go\", \"go\", \"go\", \"go\", \"go\", \"go\", \"go\", \"goat\", \"good\", \"good\", \"good\", \"good\", \"good\", \"good\", \"good\", \"good\", \"good\", \"good\", \"good\", \"grain\", \"grain\", \"grain\", \"gram\", \"gram\", \"gram\", \"granola\", \"grassy\", \"great\", \"great\", \"great\", \"great\", \"great\", \"great\", \"great\", \"great\", \"great\", \"great\", \"great\", \"green\", \"green\", \"green\", \"green\", \"green\", \"green_mountain\", \"greenie\", \"grill\", \"grind\", \"grind\", \"grind\", \"grind\", \"grocery\", \"ground\", \"ground\", \"ground\", \"ground\", \"ground\", \"ground\", \"gum\", \"gummie\", \"hair\", \"hair\", \"hairball\", \"hamburger\", \"haribo\", \"health\", \"health\", \"health\", \"health\", \"health\", \"health\", \"health\", \"health\", \"healthy\", \"healthy\", \"healthy\", \"healthy\", \"healthy\", \"healthy\", \"healthy\", \"healthy\", \"healthy\", \"heat\", \"heat\", \"heat\", \"heat\", \"help\", \"help\", \"help\", \"help\", \"help\", \"help\", \"help\", \"help\", \"herbal\", \"hershey\", \"hole\", \"hole\", \"hole\", \"homemade\", \"homemade\", \"homemade\", \"homemade\", \"honey\", \"honey\", \"honey\", \"honey\", \"honey\", \"hot\", \"hot\", \"hot\", \"hot\", \"hot\", \"hot\", \"hour\", \"hour\", \"hour\", \"hour\", \"hour\", \"however\", \"however\", \"however\", \"however\", \"however\", \"however\", \"however\", \"however\", \"however\", \"however\", \"however\", \"href_http\", \"human\", \"human\", \"iam\", \"ice\", \"ice\", \"ice\", \"ice\", \"iced\", \"iced\", \"illy\", \"impact\", \"increase\", \"increase\", \"increase\", \"increase\", \"indian\", \"indian\", \"info\", \"information\", \"infusion\", \"ingredient\", \"ingredient\", \"ingredient\", \"ingredient\", \"ingredient\", \"ingredient\", \"ingredient\", \"ingredient\", \"instant\", \"instant\", \"instant\", \"instant\", \"instant\", \"instinct\", \"intolerant\", \"itch\", \"item\", \"item\", \"item\", \"item\", \"item\", \"item\", \"item\", \"item\", \"jasmine\", \"juice\", \"kcup\", \"keep\", \"keep\", \"keep\", \"keep\", \"keep\", \"keep\", \"keep\", \"keep\", \"keep\", \"keep\", \"keep\", \"kernel\", \"keurig\", \"kibble\", \"kibble\", \"kid\", \"kid\", \"kid\", \"kid\", \"kitten\", \"kitty\", \"know\", \"know\", \"know\", \"know\", \"know\", \"know\", \"know\", \"know\", \"know\", \"know\", \"know\", \"label\", \"label\", \"label\", \"label\", \"label\", \"label\", \"label\", \"labeling\", \"larabar\", \"last\", \"last\", \"last\", \"last\", \"last\", \"last\", \"last\", \"last\", \"last\", \"last\", \"last\", \"lather\", \"latte\", \"latte\", \"lavazza\", \"lavender\", \"lavender\", \"lead\", \"lead\", \"lead\", \"lead\", \"lead\", \"leaf\", \"leaf\", \"lemon\", \"lemon\", \"lemon\", \"lemon\", \"lemonade\", \"lemonade\", \"lentil\", \"level\", \"level\", \"level\", \"level\", \"level\", \"level\", \"level\", \"lid\", \"lid\", \"lid\", \"liquid\", \"liquid\", \"liquid\", \"list\", \"list\", \"list\", \"list\", \"list\", \"list\", \"list\", \"list\", \"list\", \"list\", \"listing\", \"liter\", \"litter\", \"little\", \"little\", \"little\", \"little\", \"little\", \"little\", \"little\", \"little\", \"little\", \"little\", \"little\", \"loaf\", \"lobster\", \"local\", \"local\", \"locally\", \"locate\", \"long\", \"long\", \"long\", \"long\", \"long\", \"long\", \"long\", \"long\", \"long\", \"long\", \"long\", \"look\", \"look\", \"look\", \"look\", \"look\", \"look\", \"look\", \"look\", \"look\", \"look\", \"look\", \"lotion\", \"love\", \"love\", \"love\", \"love\", \"love\", \"love\", \"love\", \"love\", \"love\", \"love\", \"machine\", \"machine\", \"make\", \"make\", \"make\", \"make\", \"make\", \"make\", \"make\", \"make\", \"make\", \"make\", \"make\", \"maker\", \"maker\", \"maker\", \"maker\", \"maker\", \"manageable\", \"manna\", \"margarita\", \"marinade\", \"marketing\", \"marshmallow\", \"massage\", \"matcha\", \"may\", \"may\", \"may\", \"may\", \"may\", \"may\", \"may\", \"may\", \"may\", \"may\", \"may\", \"meal\", \"meal\", \"meal\", \"meal\", \"meal\", \"meal\", \"meal\", \"meat\", \"meat\", \"meat\", \"melt\", \"melt\", \"melt\", \"melt\", \"melt\", \"melt\", \"merrick\", \"microwave\", \"microwave\", \"microwave\", \"milk\", \"milk\", \"milk\", \"milk\", \"milk\", \"milk\", \"mill\", \"mint\", \"mint\", \"minty\", \"minute\", \"minute\", \"minute\", \"minute\", \"minute\", \"minute\", \"mio\", \"mix\", \"mix\", \"mix\", \"mix\", \"mix\", \"mix\", \"mix\", \"mix\", \"mix\", \"mocha\", \"moisturize\", \"moisturizer\", \"money\", \"money\", \"money\", \"money\", \"money\", \"money\", \"monster\", \"month\", \"month\", \"month\", \"month\", \"month\", \"month\", \"month\", \"morning\", \"morning\", \"morning\", \"morning\", \"morning\", \"morning\", \"morning\", \"morning\", \"msg\", \"msg\", \"much\", \"much\", \"much\", \"much\", \"much\", \"much\", \"much\", \"much\", \"much\", \"much\", \"much\", \"muffin\", \"mushroom\", \"mustard\", \"natural\", \"natural\", \"natural\", \"natural\", \"natural\", \"natural\", \"natural\", \"natural\", \"negative\", \"negative\", \"negative\", \"negative\", \"negative\", \"negative\", \"negative\", \"negative\", \"negative\", \"nespresso\", \"nice\", \"nice\", \"nice\", \"nice\", \"nice\", \"nice\", \"nice\", \"nice\", \"nice\", \"nice\", \"nice\", \"night\", \"night\", \"night\", \"night\", \"night\", \"night\", \"night\", \"noodle\", \"note\", \"note\", \"note\", \"note\", \"note\", \"note\", \"note\", \"note\", \"note\", \"note\", \"note\", \"notice\", \"notice\", \"notice\", \"notice\", \"notice\", \"notice\", \"notice\", \"notice\", \"notice\", \"notice\", \"notice\", \"nut\", \"nut\", \"nut\", \"nut\", \"nut\", \"nutiva\", \"nylabone\", \"oatmeal\", \"oatmeal\", \"occupy\", \"oil\", \"oil\", \"old\", \"old\", \"old\", \"old\", \"old\", \"old\", \"old\", \"old\", \"old\", \"old\", \"olive\", \"onion\", \"onion\", \"online\", \"online\", \"oolong\", \"open\", \"open\", \"open\", \"open\", \"open\", \"open\", \"open\", \"open\", \"open\", \"open\", \"order\", \"order\", \"ordering\", \"ordering\", \"ordering\", \"oreo\", \"orgain\", \"ounce\", \"ounce\", \"ounce\", \"ounce\", \"ounce\", \"ounce\", \"pack\", \"pack\", \"pack\", \"pack\", \"pack\", \"pack\", \"pack\", \"pack\", \"pack\", \"package\", \"package\", \"package\", \"package\", \"package\", \"package\", \"package\", \"package\", \"package\", \"package\", \"packet\", \"packet\", \"packet\", \"packet\", \"packet\", \"packet\", \"packing\", \"pamela\", \"pancake\", \"pasta\", \"pasta\", \"paste\", \"paste\", \"paste\", \"pate\", \"pay\", \"pay\", \"pay\", \"pay\", \"pay\", \"pb\", \"peanut\", \"peanut\", \"peanut\", \"peanut_butter\", \"peanut_butter\", \"peanut_butter\", \"peet\", \"pellet\", \"people\", \"people\", \"people\", \"people\", \"people\", \"people\", \"people\", \"people\", \"people\", \"people\", \"people\", \"pepper\", \"peppermint\", \"performance\", \"pet\", \"pet\", \"pickle\", \"pie\", \"pie\", \"pie\", \"pie\", \"piece\", \"piece\", \"piece\", \"piece\", \"piece\", \"piece\", \"piece\", \"pill\", \"pill\", \"pill_pocket\", \"plant\", \"plant\", \"play\", \"play\", \"pocket\", \"pocket\", \"pod\", \"poop\", \"pop\", \"pop\", \"pop\", \"pop\", \"pop\", \"pop\", \"popchip\", \"popcorn\", \"popper\", \"pork\", \"pork\", \"positive\", \"positive\", \"positive\", \"post\", \"post\", \"potato\", \"potato\", \"potato\", \"potato\", \"pouch\", \"pouch\", \"pouch\", \"pouch\", \"pouch\", \"pouch\", \"powder\", \"powder\", \"powder\", \"powder\", \"preparation\", \"preparation\", \"preparation\", \"preparation\", \"preparation\", \"prepare\", \"prepare\", \"prepare\", \"prepare\", \"prepare\", \"prepare\", \"prepare\", \"prepare\", \"prepare\", \"price\", \"price\", \"price\", \"pricing\", \"pro\", \"pro\", \"product\", \"product\", \"product\", \"product\", \"product\", \"product\", \"product\", \"product\", \"product\", \"product\", \"production\", \"prompt\", \"promptly\", \"protein\", \"protein\", \"protein\", \"protein\", \"protein\", \"protein\", \"pudding\", \"pug\", \"pulp\", \"purchase\", \"purchase\", \"purchase\", \"purchase\", \"purchase\", \"purchase\", \"purchase\", \"purchase\", \"purchase\", \"purchase\", \"purchase\", \"purify\", \"put\", \"put\", \"put\", \"put\", \"put\", \"put\", \"put\", \"put\", \"put\", \"put\", \"put\", \"pyramid\", \"pyramid\", \"quality\", \"quality\", \"quality\", \"quality\", \"quality\", \"quality\", \"quality\", \"quality\", \"quality\", \"rain\", \"raisin\", \"raisin\", \"raman\", \"rating\", \"rating\", \"rating\", \"rating\", \"rating\", \"rating\", \"rawhide\", \"read\", \"read\", \"read\", \"read\", \"read\", \"read\", \"read\", \"read\", \"read\", \"really\", \"really\", \"really\", \"really\", \"really\", \"really\", \"really\", \"really\", \"really\", \"really\", \"really\", \"reasonable\", \"reasonable\", \"reasonable\", \"reasonable\", \"reasonable\", \"reasonable\", \"receive\", \"receive\", \"receive\", \"recieve\", \"recipe\", \"recipe\", \"recipe\", \"recipe\", \"refund\", \"regard\", \"regard\", \"regard\", \"regard\", \"regard\", \"relax\", \"relax\", \"retail\", \"retailer\", \"review\", \"review\", \"review\", \"review\", \"review\", \"review\", \"review\", \"review\", \"review\", \"reward\", \"rib\", \"rice\", \"rice\", \"rice\", \"rich\", \"rich\", \"rich\", \"rich\", \"rich\", \"rich\", \"rich\", \"rich\", \"rinse\", \"roast\", \"roast\", \"roaster\", \"rooibos\", \"root_beer\", \"rope\", \"rubber\", \"rye\", \"sachet\", \"salad\", \"salad\", \"salad_dressing\", \"sale\", \"sale\", \"sale\", \"sale\", \"sale\", \"salmon\", \"salmon\", \"salsa\", \"salt\", \"salty\", \"salty\", \"sardine\", \"sardine\", \"satisfy\", \"satisfy\", \"satisfy\", \"satisfy\", \"satisfy\", \"satisfy\", \"satisfy\", \"satisfy\", \"sauce\", \"sauce\", \"sausage\", \"saute\", \"save\", \"save\", \"save\", \"save\", \"save\", \"save\", \"save\", \"save\", \"say\", \"say\", \"say\", \"say\", \"say\", \"say\", \"say\", \"say\", \"say\", \"say\", \"say\", \"scalp\", \"scone\", \"scotch\", \"seasoning\", \"seasoning\", \"seaweed\", \"see\", \"see\", \"see\", \"see\", \"see\", \"see\", \"see\", \"see\", \"see\", \"see\", \"see\", \"seem\", \"seem\", \"seem\", \"seem\", \"seem\", \"seem\", \"seem\", \"seem\", \"seem\", \"seem\", \"seem\", \"sell\", \"sell\", \"sell\", \"sell\", \"sell\", \"sell\", \"sell\", \"sell\", \"seller\", \"seltzer\", \"send\", \"send\", \"send\", \"senior\", \"senior\", \"senseo\", \"service\", \"shake\", \"shake\", \"shake\", \"shampoo\", \"shelter\", \"ship\", \"shipment\", \"shipping\", \"side_effect\", \"similac\", \"simmer\", \"size\", \"size\", \"size\", \"size\", \"size\", \"size\", \"size\", \"size\", \"skin\", \"skin\", \"skin\", \"small\", \"small\", \"small\", \"small\", \"small\", \"small\", \"small\", \"small\", \"small\", \"small\", \"smell\", \"smell\", \"smell\", \"smell\", \"smell\", \"smell\", \"smoke\", \"smoke\", \"smooth\", \"smooth\", \"smooth\", \"smooth\", \"smooth\", \"smoothie\", \"smoothie\", \"smoothie\", \"snack\", \"snack\", \"snack\", \"snacking\", \"snacking\", \"snicker\", \"soak\", \"soak\", \"soak\", \"soak\", \"soda\", \"sodastream\", \"soft\", \"soft\", \"soft\", \"soft\", \"soft\", \"soft\", \"soil\", \"son\", \"son\", \"soothe\", \"soothe\", \"soothing\", \"soup\", \"soy\", \"soy\", \"soy\", \"soy\", \"soy\", \"sparkle\", \"spearmint\", \"spice\", \"spice\", \"spice\", \"spice\", \"spicy\", \"spicy\", \"spit\", \"splenda\", \"sprout\", \"squeeze\", \"squeeze\", \"squirrel\", \"squirt\", \"star\", \"star\", \"star\", \"star\", \"star\", \"star\", \"star\", \"star\", \"star\", \"star\", \"starbuck\", \"starbuck\", \"statement\", \"steak\", \"steel_cut\", \"steep\", \"stevia\", \"stevia\", \"stir\", \"stir\", \"stir_fry\", \"stool\", \"store\", \"store\", \"store\", \"strong\", \"strong\", \"strong\", \"strong\", \"strong\", \"strong\", \"strong\", \"strong\", \"strong\", \"study\", \"stuff\", \"stuff\", \"stuff\", \"stuff\", \"stuff\", \"stuff\", \"stuff\", \"stuff\", \"stuff\", \"stuff\", \"stuff\", \"subscribe\", \"subscribe\", \"subscription\", \"subscription\", \"sucralose\", \"sucrose\", \"sugar\", \"sugar\", \"sugar\", \"sugar\", \"sugar\", \"sugar\", \"superfood\", \"support\", \"support\", \"support\", \"sweet\", \"sweet\", \"sweet\", \"sweet\", \"sweet\", \"sweet\", \"sweeten\", \"sweeten\", \"sweeten\", \"sweetener\", \"sweetener\", \"switch\", \"switch\", \"switch\", \"switch\", \"switch\", \"syrup\", \"syrup\", \"syrup\", \"tabasco\", \"taco_bell\", \"taffy\", \"tahini\", \"take\", \"take\", \"take\", \"take\", \"take\", \"take\", \"take\", \"take\", \"take\", \"take\", \"take\", \"tap\", \"taste\", \"taste\", \"taste\", \"taste\", \"taste\", \"taste\", \"taste\", \"taste\", \"taste\", \"taste\", \"taste\", \"tea\", \"teabag\", \"tear\", \"tear\", \"tear\", \"teavana\", \"test\", \"test\", \"test\", \"test\", \"test\", \"test\", \"test\", \"test\", \"texture\", \"texture\", \"texture\", \"texture\", \"texture\", \"thank\", \"thank\", \"thank\", \"thank\", \"thank\", \"thing\", \"thing\", \"thing\", \"thing\", \"thing\", \"thing\", \"thing\", \"thing\", \"thing\", \"thing\", \"thing\", \"think\", \"think\", \"think\", \"think\", \"think\", \"think\", \"think\", \"think\", \"think\", \"think\", \"think\", \"time\", \"time\", \"time\", \"time\", \"time\", \"time\", \"time\", \"time\", \"time\", \"time\", \"time\", \"tin\", \"tin\", \"tin\", \"toast\", \"toast\", \"toast\", \"toddler\", \"toddler\", \"tofu\", \"tomato\", \"tomato\", \"tonic\", \"tooth\", \"tooth\", \"tooth\", \"toy\", \"train\", \"train\", \"train\", \"training\", \"transition\", \"trap\", \"trap\", \"treat\", \"treat\", \"treat\", \"try\", \"try\", \"try\", \"try\", \"try\", \"try\", \"try\", \"try\", \"try\", \"try\", \"try\", \"tully\", \"twining\", \"twizzler\", \"update\", \"update\", \"update\", \"update\", \"update\", \"update\", \"use\", \"use\", \"use\", \"use\", \"use\", \"use\", \"use\", \"use\", \"use\", \"use\", \"vanilla\", \"vanilla\", \"vanilla\", \"vanilla\", \"vanilla\", \"vegetable\", \"vegetable\", \"vegetable\", \"vegetable\", \"vendor\", \"vet\", \"vet\", \"vinegar\", \"vitamin\", \"vitamin\", \"vitamin\", \"vitamin\", \"vomit\", \"vomit\", \"wafer\", \"waffle\", \"walmart\", \"warehouse\", \"wasabi\", \"water\", \"water\", \"water\", \"water\", \"waxy\", \"weak\", \"weak\", \"weak\", \"weak\", \"week\", \"week\", \"week\", \"week\", \"week\", \"week\", \"week\", \"weight_watcher\", \"well\", \"well\", \"well\", \"well\", \"well\", \"well\", \"well\", \"well\", \"well\", \"well\", \"well\", \"wellness\", \"wet\", \"wet\", \"wet\", \"wet\", \"wet\", \"wheat\", \"wheat\", \"whey\", \"whiskey\", \"whole\", \"whole\", \"whole\", \"whole\", \"whole\", \"whole\", \"whole\", \"whole\", \"whole\", \"whole\", \"whole\", \"wilderness\", \"wine\", \"wine\", \"wing\", \"work\", \"work\", \"work\", \"work\", \"work\", \"work\", \"work\", \"work\", \"work\", \"work\", \"would\", \"would\", \"would\", \"would\", \"would\", \"would\", \"would\", \"would\", \"would\", \"would\", \"would\", \"write\", \"write\", \"write\", \"write\", \"write\", \"www\", \"year\", \"year\", \"year\", \"year\", \"year\", \"year\", \"year\", \"year\", \"year\", \"year\", \"year\", \"yeast\", \"yeast\", \"yorkie\"]}, \"R\": 30, \"lambda.step\": 0.01, \"plot.opts\": {\"xlab\": \"PC1\", \"ylab\": \"PC2\"}, \"topic.order\": [1, 5, 4, 9, 2, 7, 6, 11, 8, 3, 10]};\n",
       "\n",
       "function LDAvis_load_lib(url, callback){\n",
       "  var s = document.createElement('script');\n",
       "  s.src = url;\n",
       "  s.async = true;\n",
       "  s.onreadystatechange = s.onload = callback;\n",
       "  s.onerror = function(){console.warn(\"failed to load library \" + url);};\n",
       "  document.getElementsByTagName(\"head\")[0].appendChild(s);\n",
       "}\n",
       "\n",
       "if(typeof(LDAvis) !== \"undefined\"){\n",
       "   // already loaded: just create the visualization\n",
       "   !function(LDAvis){\n",
       "       new LDAvis(\"#\" + \"ldavis_el201361405981282991366944415691\", ldavis_el201361405981282991366944415691_data);\n",
       "   }(LDAvis);\n",
       "}else if(typeof define === \"function\" && define.amd){\n",
       "   // require.js is available: use it to load d3/LDAvis\n",
       "   require.config({paths: {d3: \"https://cdnjs.cloudflare.com/ajax/libs/d3/3.5.5/d3.min\"}});\n",
       "   require([\"d3\"], function(d3){\n",
       "      window.d3 = d3;\n",
       "      LDAvis_load_lib(\"https://cdn.rawgit.com/bmabey/pyLDAvis/files/ldavis.v1.0.0.js\", function(){\n",
       "        new LDAvis(\"#\" + \"ldavis_el201361405981282991366944415691\", ldavis_el201361405981282991366944415691_data);\n",
       "      });\n",
       "    });\n",
       "}else{\n",
       "    // require.js not available: dynamically load d3 & LDAvis\n",
       "    LDAvis_load_lib(\"https://cdnjs.cloudflare.com/ajax/libs/d3/3.5.5/d3.min.js\", function(){\n",
       "         LDAvis_load_lib(\"https://cdn.rawgit.com/bmabey/pyLDAvis/files/ldavis.v1.0.0.js\", function(){\n",
       "                 new LDAvis(\"#\" + \"ldavis_el201361405981282991366944415691\", ldavis_el201361405981282991366944415691_data);\n",
       "            })\n",
       "         });\n",
       "}\n",
       "</script>"
      ],
      "text/plain": [
       "PreparedData(topic_coordinates=              x         y  topics  cluster       Freq\n",
       "topic                                                \n",
       "0      0.120693  0.007484       1        1  19.312451\n",
       "4      0.230194 -0.116245       2        1  11.928158\n",
       "3      0.121804  0.043704       3        1  11.634416\n",
       "8     -0.065725 -0.001276       4        1  11.138692\n",
       "1     -0.077547 -0.061777       5        1   8.078520\n",
       "6     -0.100598  0.020711       6        1   6.993493\n",
       "5     -0.095852 -0.118890       7        1   6.936181\n",
       "10     0.134577  0.085564       8        1   6.678677\n",
       "7     -0.125018 -0.136018       9        1   6.148522\n",
       "2     -0.051122  0.077478      10        1   6.016676\n",
       "9     -0.091405  0.199264      11        1   5.134215, topic_info=         Term           Freq          Total Category  logprob  loglift\n",
       "1137   coffee   92784.000000   92784.000000  Default  30.0000  30.0000\n",
       "341       tea   87419.000000   87419.000000  Default  29.0000  29.0000\n",
       "329      food   73113.000000   73113.000000  Default  28.0000  28.0000\n",
       "984        br  185972.000000  185972.000000  Default  27.0000  27.0000\n",
       "50        dog   47766.000000   47766.000000  Default  26.0000  26.0000\n",
       "...       ...            ...            ...      ...      ...      ...\n",
       "138      easy    4129.110217   25315.296345  Topic11  -4.9772   1.1559\n",
       "134      also    4718.213195   55885.036423  Topic11  -4.8438   0.4974\n",
       "1505  texture    3498.151912   15912.487230  Topic11  -5.1430   1.4544\n",
       "51       find    4456.315053   83836.521424  Topic11  -4.9009   0.0347\n",
       "180      even    3806.032340   45112.888089  Topic11  -5.0586   0.4967\n",
       "\n",
       "[850 rows x 6 columns], token_table=      Topic      Freq    Term\n",
       "term                         \n",
       "483       2  0.000126     add\n",
       "483       4  0.055401     add\n",
       "483       5  0.293062     add\n",
       "483       6  0.153109     add\n",
       "483       7  0.031378     add\n",
       "...     ...       ...     ...\n",
       "174      10  0.003227    year\n",
       "174      11  0.075761    year\n",
       "2666      8  0.002097   yeast\n",
       "2666     11  0.997523   yeast\n",
       "6285      3  0.998067  yorkie\n",
       "\n",
       "[2133 rows x 3 columns], R=30, lambda_step=0.01, plot_opts={'xlab': 'PC1', 'ylab': 'PC2'}, topic_order=[1, 5, 4, 9, 2, 7, 6, 11, 8, 3, 10])"
      ]
     },
     "execution_count": 110,
     "metadata": {},
     "output_type": "execute_result"
    }
   ],
   "source": [
    "# Visualize the topics\n",
    "pyLDAvis.enable_notebook()\n",
    "vis = pyLDAvis.gensim.prepare(lda_model, corpus, id2word)\n",
    "vis"
   ]
  },
  {
   "cell_type": "code",
   "execution_count": 116,
   "metadata": {
    "colab": {
     "background_save": true
    },
    "collapsed": true,
    "id": "U6Lnaac-Bfyj",
    "outputId": "f20889d9-6c7f-4e9b-de46-72f537d95d63"
   },
   "outputs": [
    {
     "ename": "KeyError",
     "evalue": "8.0",
     "output_type": "error",
     "traceback": [
      "\u001b[0;31m---------------------------------------------------------------------------\u001b[0m",
      "\u001b[0;31mKeyError\u001b[0m                                  Traceback (most recent call last)",
      "\u001b[0;32m<ipython-input-116-feca6a3f9cfc>\u001b[0m in \u001b[0;36m<module>\u001b[0;34m\u001b[0m\n\u001b[1;32m     51\u001b[0m \u001b[0mpos_topic_dis\u001b[0m \u001b[0;34m=\u001b[0m \u001b[0mpos_topic_dis\u001b[0m\u001b[0;34m.\u001b[0m\u001b[0mreset_index\u001b[0m\u001b[0;34m(\u001b[0m\u001b[0;34m)\u001b[0m\u001b[0;34m\u001b[0m\u001b[0;34m\u001b[0m\u001b[0m\n\u001b[1;32m     52\u001b[0m \u001b[0mpos_topic_dis\u001b[0m \u001b[0;34m=\u001b[0m \u001b[0mpos_topic_dis\u001b[0m\u001b[0;34m.\u001b[0m\u001b[0mrename\u001b[0m\u001b[0;34m(\u001b[0m\u001b[0mcolumns\u001b[0m\u001b[0;34m=\u001b[0m\u001b[0;34m{\u001b[0m\u001b[0;34m'index'\u001b[0m\u001b[0;34m:\u001b[0m\u001b[0;34m'Topic'\u001b[0m\u001b[0;34m}\u001b[0m\u001b[0;34m)\u001b[0m\u001b[0;34m\u001b[0m\u001b[0;34m\u001b[0m\u001b[0m\n\u001b[0;32m---> 53\u001b[0;31m \u001b[0mpos_topic_dis\u001b[0m\u001b[0;34m[\u001b[0m\u001b[0;34m'keywords'\u001b[0m\u001b[0;34m]\u001b[0m \u001b[0;34m=\u001b[0m \u001b[0mpos_topic_dis\u001b[0m\u001b[0;34m[\u001b[0m\u001b[0;34m'Topic'\u001b[0m\u001b[0;34m]\u001b[0m\u001b[0;34m.\u001b[0m\u001b[0mapply\u001b[0m\u001b[0;34m(\u001b[0m\u001b[0;32mlambda\u001b[0m \u001b[0mx\u001b[0m \u001b[0;34m:\u001b[0m \u001b[0mdict_keywords\u001b[0m\u001b[0;34m[\u001b[0m\u001b[0mx\u001b[0m\u001b[0;34m]\u001b[0m\u001b[0;34m)\u001b[0m\u001b[0;34m\u001b[0m\u001b[0;34m\u001b[0m\u001b[0m\n\u001b[0m\u001b[1;32m     54\u001b[0m \u001b[0mpos_topic_dis\u001b[0m\u001b[0;34m[\u001b[0m\u001b[0;34m'keyword_prob'\u001b[0m\u001b[0;34m]\u001b[0m \u001b[0;34m=\u001b[0m \u001b[0mpos_topic_dis\u001b[0m\u001b[0;34m[\u001b[0m\u001b[0;34m'Topic'\u001b[0m\u001b[0;34m]\u001b[0m\u001b[0;34m.\u001b[0m\u001b[0mapply\u001b[0m\u001b[0;34m(\u001b[0m\u001b[0;32mlambda\u001b[0m \u001b[0mx\u001b[0m \u001b[0;34m:\u001b[0m \u001b[0mdict_keyword_prob\u001b[0m\u001b[0;34m[\u001b[0m\u001b[0mx\u001b[0m\u001b[0;34m]\u001b[0m\u001b[0;34m)\u001b[0m\u001b[0;34m\u001b[0m\u001b[0;34m\u001b[0m\u001b[0m\n\u001b[1;32m     55\u001b[0m \u001b[0mpos_topic_dis\u001b[0m\u001b[0;34m\u001b[0m\u001b[0;34m\u001b[0m\u001b[0m\n",
      "\u001b[0;32m~/opt/anaconda3/lib/python3.8/site-packages/pandas/core/series.py\u001b[0m in \u001b[0;36mapply\u001b[0;34m(self, func, convert_dtype, args, **kwds)\u001b[0m\n\u001b[1;32m   4136\u001b[0m             \u001b[0;32melse\u001b[0m\u001b[0;34m:\u001b[0m\u001b[0;34m\u001b[0m\u001b[0;34m\u001b[0m\u001b[0m\n\u001b[1;32m   4137\u001b[0m                 \u001b[0mvalues\u001b[0m \u001b[0;34m=\u001b[0m \u001b[0mself\u001b[0m\u001b[0;34m.\u001b[0m\u001b[0mastype\u001b[0m\u001b[0;34m(\u001b[0m\u001b[0mobject\u001b[0m\u001b[0;34m)\u001b[0m\u001b[0;34m.\u001b[0m\u001b[0m_values\u001b[0m\u001b[0;34m\u001b[0m\u001b[0;34m\u001b[0m\u001b[0m\n\u001b[0;32m-> 4138\u001b[0;31m                 \u001b[0mmapped\u001b[0m \u001b[0;34m=\u001b[0m \u001b[0mlib\u001b[0m\u001b[0;34m.\u001b[0m\u001b[0mmap_infer\u001b[0m\u001b[0;34m(\u001b[0m\u001b[0mvalues\u001b[0m\u001b[0;34m,\u001b[0m \u001b[0mf\u001b[0m\u001b[0;34m,\u001b[0m \u001b[0mconvert\u001b[0m\u001b[0;34m=\u001b[0m\u001b[0mconvert_dtype\u001b[0m\u001b[0;34m)\u001b[0m\u001b[0;34m\u001b[0m\u001b[0;34m\u001b[0m\u001b[0m\n\u001b[0m\u001b[1;32m   4139\u001b[0m \u001b[0;34m\u001b[0m\u001b[0m\n\u001b[1;32m   4140\u001b[0m         \u001b[0;32mif\u001b[0m \u001b[0mlen\u001b[0m\u001b[0;34m(\u001b[0m\u001b[0mmapped\u001b[0m\u001b[0;34m)\u001b[0m \u001b[0;32mand\u001b[0m \u001b[0misinstance\u001b[0m\u001b[0;34m(\u001b[0m\u001b[0mmapped\u001b[0m\u001b[0;34m[\u001b[0m\u001b[0;36m0\u001b[0m\u001b[0;34m]\u001b[0m\u001b[0;34m,\u001b[0m \u001b[0mSeries\u001b[0m\u001b[0;34m)\u001b[0m\u001b[0;34m:\u001b[0m\u001b[0;34m\u001b[0m\u001b[0;34m\u001b[0m\u001b[0m\n",
      "\u001b[0;32mpandas/_libs/lib.pyx\u001b[0m in \u001b[0;36mpandas._libs.lib.map_infer\u001b[0;34m()\u001b[0m\n",
      "\u001b[0;32m<ipython-input-116-feca6a3f9cfc>\u001b[0m in \u001b[0;36m<lambda>\u001b[0;34m(x)\u001b[0m\n\u001b[1;32m     51\u001b[0m \u001b[0mpos_topic_dis\u001b[0m \u001b[0;34m=\u001b[0m \u001b[0mpos_topic_dis\u001b[0m\u001b[0;34m.\u001b[0m\u001b[0mreset_index\u001b[0m\u001b[0;34m(\u001b[0m\u001b[0;34m)\u001b[0m\u001b[0;34m\u001b[0m\u001b[0;34m\u001b[0m\u001b[0m\n\u001b[1;32m     52\u001b[0m \u001b[0mpos_topic_dis\u001b[0m \u001b[0;34m=\u001b[0m \u001b[0mpos_topic_dis\u001b[0m\u001b[0;34m.\u001b[0m\u001b[0mrename\u001b[0m\u001b[0;34m(\u001b[0m\u001b[0mcolumns\u001b[0m\u001b[0;34m=\u001b[0m\u001b[0;34m{\u001b[0m\u001b[0;34m'index'\u001b[0m\u001b[0;34m:\u001b[0m\u001b[0;34m'Topic'\u001b[0m\u001b[0;34m}\u001b[0m\u001b[0;34m)\u001b[0m\u001b[0;34m\u001b[0m\u001b[0;34m\u001b[0m\u001b[0m\n\u001b[0;32m---> 53\u001b[0;31m \u001b[0mpos_topic_dis\u001b[0m\u001b[0;34m[\u001b[0m\u001b[0;34m'keywords'\u001b[0m\u001b[0;34m]\u001b[0m \u001b[0;34m=\u001b[0m \u001b[0mpos_topic_dis\u001b[0m\u001b[0;34m[\u001b[0m\u001b[0;34m'Topic'\u001b[0m\u001b[0;34m]\u001b[0m\u001b[0;34m.\u001b[0m\u001b[0mapply\u001b[0m\u001b[0;34m(\u001b[0m\u001b[0;32mlambda\u001b[0m \u001b[0mx\u001b[0m \u001b[0;34m:\u001b[0m \u001b[0mdict_keywords\u001b[0m\u001b[0;34m[\u001b[0m\u001b[0mx\u001b[0m\u001b[0;34m]\u001b[0m\u001b[0;34m)\u001b[0m\u001b[0;34m\u001b[0m\u001b[0;34m\u001b[0m\u001b[0m\n\u001b[0m\u001b[1;32m     54\u001b[0m \u001b[0mpos_topic_dis\u001b[0m\u001b[0;34m[\u001b[0m\u001b[0;34m'keyword_prob'\u001b[0m\u001b[0;34m]\u001b[0m \u001b[0;34m=\u001b[0m \u001b[0mpos_topic_dis\u001b[0m\u001b[0;34m[\u001b[0m\u001b[0;34m'Topic'\u001b[0m\u001b[0;34m]\u001b[0m\u001b[0;34m.\u001b[0m\u001b[0mapply\u001b[0m\u001b[0;34m(\u001b[0m\u001b[0;32mlambda\u001b[0m \u001b[0mx\u001b[0m \u001b[0;34m:\u001b[0m \u001b[0mdict_keyword_prob\u001b[0m\u001b[0;34m[\u001b[0m\u001b[0mx\u001b[0m\u001b[0;34m]\u001b[0m\u001b[0;34m)\u001b[0m\u001b[0;34m\u001b[0m\u001b[0;34m\u001b[0m\u001b[0m\n\u001b[1;32m     55\u001b[0m \u001b[0mpos_topic_dis\u001b[0m\u001b[0;34m\u001b[0m\u001b[0;34m\u001b[0m\u001b[0m\n",
      "\u001b[0;31mKeyError\u001b[0m: 8.0"
     ]
    }
   ],
   "source": [
    "# FOR TEST\n",
    "\n",
    "def format_topics_sentences(ldamodel=None, corpus=corpus, texts=data):\n",
    "    # Init output\n",
    "    sent_topics_df = pd.DataFrame()\n",
    "\n",
    "    # Get main topic in each document\n",
    "    for i, row_list in enumerate(ldamodel[corpus]):\n",
    "        row = row_list[0] if ldamodel.per_word_topics else row_list            \n",
    "        # print(row)\n",
    "        row = sorted(row, key=lambda x: (x[1]), reverse=True)\n",
    "        # Get the Dominant topic, Perc Contribution and Keywords for each document\n",
    "        for j, (topic_num, prop_topic) in enumerate(row):\n",
    "            if j == 0:  # => dominant topic\n",
    "                wp = ldamodel.show_topic(topic_num)\n",
    "                topic_keywords = \", \".join([word for word, prop in wp])\n",
    "                sent_topics_df = sent_topics_df.append(pd.Series([int(topic_num), round(prop_topic,4), topic_keywords]), ignore_index=True)\n",
    "            else:\n",
    "                break\n",
    "    sent_topics_df.columns = ['Dominant_Topic', 'Perc_Contribution', 'Topic_Keywords']\n",
    "\n",
    "    # Add original text to the end of the output\n",
    "    contents = pd.Series(texts)\n",
    "    sent_topics_df = pd.concat([sent_topics_df, contents], axis=1)\n",
    "    return(sent_topics_df)\n",
    "\n",
    "\n",
    "df_topic_sents_keywords = format_topics_sentences(ldamodel=lda_model, corpus=corpus, texts=data_lemmatized)\n",
    "\n",
    "# Number of Documents for Each Topic\n",
    "topic_counts = df_topic_sents_keywords['Dominant_Topic'].value_counts()\n",
    "\n",
    "# Percentage of Documents for Each Topic\n",
    "topic_contribution = round(topic_counts/topic_counts.sum(), 4)\n",
    "\n",
    "dict_keyword_prob = {}\n",
    "for i in range(0,11):\n",
    "    wp = lda_model.show_topic(i)\n",
    "    dict_keyword_prob[i] = wp\n",
    "    \n",
    "\n",
    "dict_keywords = {}\n",
    "for i in range(0,11):\n",
    "    wp = lda_model.show_topic(i)\n",
    "    topic_keywords = \", \".join([word for word, prop in wp])\n",
    "    \n",
    "    dict_keywords[i] = topic_keywords\n",
    "    \n",
    "    \n",
    "pos_topic_dis = pd.DataFrame({\"Topic_ counts\":topic_counts,'percentage_contribution':topic_contribution},index = topic_counts.index)\n",
    "pos_topic_dis = pos_topic_dis.reset_index()\n",
    "pos_topic_dis = pos_topic_dis.rename(columns={'index':'Topic'})\n",
    "pos_topic_dis['keywords'] = pos_topic_dis['Topic'].apply(lambda x : dict_keywords[x])\n",
    "pos_topic_dis['keyword_prob'] = pos_topic_dis['Topic'].apply(lambda x : dict_keyword_prob[x])\n",
    "pos_topic_dis"
   ]
  },
  {
   "cell_type": "code",
   "execution_count": 117,
   "metadata": {},
   "outputs": [
    {
     "data": {
      "text/html": [
       "<div>\n",
       "<style scoped>\n",
       "    .dataframe tbody tr th:only-of-type {\n",
       "        vertical-align: middle;\n",
       "    }\n",
       "\n",
       "    .dataframe tbody tr th {\n",
       "        vertical-align: top;\n",
       "    }\n",
       "\n",
       "    .dataframe thead th {\n",
       "        text-align: right;\n",
       "    }\n",
       "</style>\n",
       "<table border=\"1\" class=\"dataframe\">\n",
       "  <thead>\n",
       "    <tr style=\"text-align: right;\">\n",
       "      <th></th>\n",
       "      <th>Topic</th>\n",
       "      <th>Topic_ counts</th>\n",
       "      <th>percentage_contribution</th>\n",
       "      <th>keywords</th>\n",
       "      <th>keyword_prob</th>\n",
       "    </tr>\n",
       "  </thead>\n",
       "  <tbody>\n",
       "    <tr>\n",
       "      <th>0</th>\n",
       "      <td>0.0</td>\n",
       "      <td>92632</td>\n",
       "      <td>0.2653</td>\n",
       "      <td>buy, order, product, price, find, good, store,...</td>\n",
       "      <td>[(buy, 0.027814258), (order, 0.025165662), (pr...</td>\n",
       "    </tr>\n",
       "    <tr>\n",
       "      <th>1</th>\n",
       "      <td>8.0</td>\n",
       "      <td>47577</td>\n",
       "      <td>0.1362</td>\n",
       "      <td>taste, chocolate, good, eat, bar, snack, flavo...</td>\n",
       "      <td>[(taste, 0.030868167), (chocolate, 0.02999005)...</td>\n",
       "    </tr>\n",
       "    <tr>\n",
       "      <th>2</th>\n",
       "      <td>3.0</td>\n",
       "      <td>36768</td>\n",
       "      <td>0.1053</td>\n",
       "      <td>love, get, go, time, treat, take, bag, work, d...</td>\n",
       "      <td>[(love, 0.018824203), (get, 0.018607918), (go,...</td>\n",
       "    </tr>\n",
       "    <tr>\n",
       "      <th>3</th>\n",
       "      <td>5.0</td>\n",
       "      <td>28931</td>\n",
       "      <td>0.0828</td>\n",
       "      <td>coffee, cup, flavor, taste, good, try, bean, s...</td>\n",
       "      <td>[(coffee, 0.11465941), (cup, 0.032275215), (fl...</td>\n",
       "    </tr>\n",
       "    <tr>\n",
       "      <th>4</th>\n",
       "      <td>6.0</td>\n",
       "      <td>26806</td>\n",
       "      <td>0.0768</td>\n",
       "      <td>sauce, flavor, taste, salt, good, hot, use, tr...</td>\n",
       "      <td>[(sauce, 0.028650405), (flavor, 0.024861863), ...</td>\n",
       "    </tr>\n",
       "    <tr>\n",
       "      <th>5</th>\n",
       "      <td>1.0</td>\n",
       "      <td>24360</td>\n",
       "      <td>0.0698</td>\n",
       "      <td>taste, water, drink, sugar, flavor, bottle, us...</td>\n",
       "      <td>[(taste, 0.0373188), (water, 0.03373218), (dri...</td>\n",
       "    </tr>\n",
       "    <tr>\n",
       "      <th>6</th>\n",
       "      <td>7.0</td>\n",
       "      <td>22876</td>\n",
       "      <td>0.0655</td>\n",
       "      <td>tea, flavor, taste, drink, green, good, try, b...</td>\n",
       "      <td>[(tea, 0.121868886), (flavor, 0.024648972), (t...</td>\n",
       "    </tr>\n",
       "    <tr>\n",
       "      <th>7</th>\n",
       "      <td>10.0</td>\n",
       "      <td>18848</td>\n",
       "      <td>0.0540</td>\n",
       "      <td>food, dog, cat, eat, love, good, treat, ingred...</td>\n",
       "      <td>[(food, 0.084944814), (dog, 0.043918602), (cat...</td>\n",
       "    </tr>\n",
       "    <tr>\n",
       "      <th>8</th>\n",
       "      <td>9.0</td>\n",
       "      <td>18820</td>\n",
       "      <td>0.0539</td>\n",
       "      <td>make, free, mix, use, gluten, bread, good, gre...</td>\n",
       "      <td>[(make, 0.040345088), (free, 0.031087749), (mi...</td>\n",
       "    </tr>\n",
       "    <tr>\n",
       "      <th>9</th>\n",
       "      <td>2.0</td>\n",
       "      <td>16804</td>\n",
       "      <td>0.0481</td>\n",
       "      <td>use, oil, hair, make, add, cook, soup, rice, c...</td>\n",
       "      <td>[(use, 0.035065915), (oil, 0.02546092), (hair,...</td>\n",
       "    </tr>\n",
       "    <tr>\n",
       "      <th>10</th>\n",
       "      <td>4.0</td>\n",
       "      <td>14798</td>\n",
       "      <td>0.0424</td>\n",
       "      <td>br, product, review, say, may, amazon, www, re...</td>\n",
       "      <td>[(br, 0.09719272), (product, 0.034333795), (re...</td>\n",
       "    </tr>\n",
       "  </tbody>\n",
       "</table>\n",
       "</div>"
      ],
      "text/plain": [
       "    Topic  Topic_ counts  percentage_contribution  \\\n",
       "0     0.0          92632                   0.2653   \n",
       "1     8.0          47577                   0.1362   \n",
       "2     3.0          36768                   0.1053   \n",
       "3     5.0          28931                   0.0828   \n",
       "4     6.0          26806                   0.0768   \n",
       "5     1.0          24360                   0.0698   \n",
       "6     7.0          22876                   0.0655   \n",
       "7    10.0          18848                   0.0540   \n",
       "8     9.0          18820                   0.0539   \n",
       "9     2.0          16804                   0.0481   \n",
       "10    4.0          14798                   0.0424   \n",
       "\n",
       "                                             keywords  \\\n",
       "0   buy, order, product, price, find, good, store,...   \n",
       "1   taste, chocolate, good, eat, bar, snack, flavo...   \n",
       "2   love, get, go, time, treat, take, bag, work, d...   \n",
       "3   coffee, cup, flavor, taste, good, try, bean, s...   \n",
       "4   sauce, flavor, taste, salt, good, hot, use, tr...   \n",
       "5   taste, water, drink, sugar, flavor, bottle, us...   \n",
       "6   tea, flavor, taste, drink, green, good, try, b...   \n",
       "7   food, dog, cat, eat, love, good, treat, ingred...   \n",
       "8   make, free, mix, use, gluten, bread, good, gre...   \n",
       "9   use, oil, hair, make, add, cook, soup, rice, c...   \n",
       "10  br, product, review, say, may, amazon, www, re...   \n",
       "\n",
       "                                         keyword_prob  \n",
       "0   [(buy, 0.027814258), (order, 0.025165662), (pr...  \n",
       "1   [(taste, 0.030868167), (chocolate, 0.02999005)...  \n",
       "2   [(love, 0.018824203), (get, 0.018607918), (go,...  \n",
       "3   [(coffee, 0.11465941), (cup, 0.032275215), (fl...  \n",
       "4   [(sauce, 0.028650405), (flavor, 0.024861863), ...  \n",
       "5   [(taste, 0.0373188), (water, 0.03373218), (dri...  \n",
       "6   [(tea, 0.121868886), (flavor, 0.024648972), (t...  \n",
       "7   [(food, 0.084944814), (dog, 0.043918602), (cat...  \n",
       "8   [(make, 0.040345088), (free, 0.031087749), (mi...  \n",
       "9   [(use, 0.035065915), (oil, 0.02546092), (hair,...  \n",
       "10  [(br, 0.09719272), (product, 0.034333795), (re...  "
      ]
     },
     "execution_count": 117,
     "metadata": {},
     "output_type": "execute_result"
    }
   ],
   "source": [
    "dict_keyword_prob = {}\n",
    "for i in range(0,11):\n",
    "    wp = lda_model.show_topic(i)\n",
    "    dict_keyword_prob[i] = wp\n",
    "    \n",
    "\n",
    "dict_keywords = {}\n",
    "for i in range(0,11):\n",
    "    wp = lda_model.show_topic(i)\n",
    "    topic_keywords = \", \".join([word for word, prop in wp])\n",
    "    \n",
    "    dict_keywords[i] = topic_keywords\n",
    "    \n",
    "    \n",
    "pos_topic_dis = pd.DataFrame({\"Topic_ counts\":topic_counts,'percentage_contribution':topic_contribution},index = topic_counts.index)\n",
    "pos_topic_dis = pos_topic_dis.reset_index()\n",
    "pos_topic_dis = pos_topic_dis.rename(columns={'index':'Topic'})\n",
    "pos_topic_dis['keywords'] = pos_topic_dis['Topic'].apply(lambda x : dict_keywords[x])\n",
    "pos_topic_dis['keyword_prob'] = pos_topic_dis['Topic'].apply(lambda x : dict_keyword_prob[x])\n",
    "pos_topic_dis"
   ]
  },
  {
   "cell_type": "code",
   "execution_count": 118,
   "metadata": {
    "colab": {
     "base_uri": "https://localhost:8080/",
     "height": 164
    },
    "id": "jZX1RwJMBfyl",
    "outputId": "92592b87-aa3e-4dcb-b52d-c4f529763619"
   },
   "outputs": [],
   "source": [
    "pos_topic_dis.to_csv('pos_topic_distribution_1105.csv')"
   ]
  },
  {
   "cell_type": "code",
   "execution_count": null,
   "metadata": {
    "id": "d_nlM5eGBfyl"
   },
   "outputs": [],
   "source": [
    "#pos_topic_dis = pd.read_csv('/Users/chrissymo/Documents/MSIS/research/with Vivian/COVID-19/vaccine tweets/DATA FOR PAPER/test_6_4/pos_topic_distribution_3categrories_0604_v2.csv')"
   ]
  },
  {
   "cell_type": "code",
   "execution_count": 119,
   "metadata": {
    "id": "FkaLxaiZBfyl",
    "outputId": "a8f0e6bc-b8d5-45ca-cbec-0bbbb308176b"
   },
   "outputs": [
    {
     "name": "stdout",
     "output_type": "stream",
     "text": [
      "Topic 0.0 : buy, order, product, price, find, good, store, great, love, purchase\n",
      "Topic 8.0 : taste, chocolate, good, eat, bar, snack, flavor, cookie, sweet, love\n",
      "Topic 3.0 : love, get, go, time, treat, take, bag, work, day, keep\n",
      "Topic 5.0 : coffee, cup, flavor, taste, good, try, bean, strong, make, use\n",
      "Topic 6.0 : sauce, flavor, taste, salt, good, hot, use, try, make, cheese\n",
      "Topic 1.0 : taste, water, drink, sugar, flavor, bottle, use, add, milk, make\n",
      "Topic 7.0 : tea, flavor, taste, drink, green, good, try, bag, make, strong\n",
      "Topic 10.0 : food, dog, cat, eat, love, good, treat, ingredient, feed, try\n",
      "Topic 9.0 : make, free, mix, use, gluten, bread, good, great, taste, product\n",
      "Topic 2.0 : use, oil, hair, make, add, cook, soup, rice, coconut, water\n",
      "Topic 4.0 : br, product, review, say, may, amazon, www, read, energy, know\n"
     ]
    }
   ],
   "source": [
    "for i in range(len(pos_topic_dis)):\n",
    "    print('Topic',pos_topic_dis['Topic'][i],':',pos_topic_dis['keywords'][i])"
   ]
  },
  {
   "cell_type": "markdown",
   "metadata": {
    "id": "AQJjw6_iBfyl"
   },
   "source": [
    "## Product Level sentiment and topics"
   ]
  },
  {
   "cell_type": "code",
   "execution_count": 15,
   "metadata": {
    "id": "7q5ToQRjBfyl",
    "outputId": "6127e497-de30-401e-88ca-751f86248248"
   },
   "outputs": [],
   "source": [
    "product = df2.ProductId.value_counts()[:10].to_frame()"
   ]
  },
  {
   "cell_type": "code",
   "execution_count": 16,
   "metadata": {
    "id": "rfPtYP0MBfyn"
   },
   "outputs": [
    {
     "data": {
      "application/vnd.plotly.v1+json": {
       "config": {
        "plotlyServerURL": "https://plot.ly"
       },
       "data": [
        {
         "name": "Top 10 Product Review Counts",
         "text": [
          909,
          623,
          565,
          541,
          491,
          484,
          483,
          479,
          464,
          452
         ],
         "textposition": "outside",
         "type": "bar",
         "x": [
          "B007JFMH8M",
          "B003B3OOPA",
          "B001EO5Q64",
          "B000NMJWZO",
          "B006MONQMC",
          "B002IEVJRY",
          "B002IEZJMA",
          "B001VJ0B0I",
          "B002LANN56",
          "B0041NYV8E"
         ],
         "xaxis": "x",
         "y": [
          909,
          623,
          565,
          541,
          491,
          484,
          483,
          479,
          464,
          452
         ],
         "yaxis": "y"
        }
       ],
       "layout": {
        "font": {
         "size": 15
        },
        "height": 650,
        "template": {
         "data": {
          "bar": [
           {
            "error_x": {
             "color": "#2a3f5f"
            },
            "error_y": {
             "color": "#2a3f5f"
            },
            "marker": {
             "line": {
              "color": "#E5ECF6",
              "width": 0.5
             }
            },
            "type": "bar"
           }
          ],
          "barpolar": [
           {
            "marker": {
             "line": {
              "color": "#E5ECF6",
              "width": 0.5
             }
            },
            "type": "barpolar"
           }
          ],
          "carpet": [
           {
            "aaxis": {
             "endlinecolor": "#2a3f5f",
             "gridcolor": "white",
             "linecolor": "white",
             "minorgridcolor": "white",
             "startlinecolor": "#2a3f5f"
            },
            "baxis": {
             "endlinecolor": "#2a3f5f",
             "gridcolor": "white",
             "linecolor": "white",
             "minorgridcolor": "white",
             "startlinecolor": "#2a3f5f"
            },
            "type": "carpet"
           }
          ],
          "choropleth": [
           {
            "colorbar": {
             "outlinewidth": 0,
             "ticks": ""
            },
            "type": "choropleth"
           }
          ],
          "contour": [
           {
            "colorbar": {
             "outlinewidth": 0,
             "ticks": ""
            },
            "colorscale": [
             [
              0,
              "#0d0887"
             ],
             [
              0.1111111111111111,
              "#46039f"
             ],
             [
              0.2222222222222222,
              "#7201a8"
             ],
             [
              0.3333333333333333,
              "#9c179e"
             ],
             [
              0.4444444444444444,
              "#bd3786"
             ],
             [
              0.5555555555555556,
              "#d8576b"
             ],
             [
              0.6666666666666666,
              "#ed7953"
             ],
             [
              0.7777777777777778,
              "#fb9f3a"
             ],
             [
              0.8888888888888888,
              "#fdca26"
             ],
             [
              1,
              "#f0f921"
             ]
            ],
            "type": "contour"
           }
          ],
          "contourcarpet": [
           {
            "colorbar": {
             "outlinewidth": 0,
             "ticks": ""
            },
            "type": "contourcarpet"
           }
          ],
          "heatmap": [
           {
            "colorbar": {
             "outlinewidth": 0,
             "ticks": ""
            },
            "colorscale": [
             [
              0,
              "#0d0887"
             ],
             [
              0.1111111111111111,
              "#46039f"
             ],
             [
              0.2222222222222222,
              "#7201a8"
             ],
             [
              0.3333333333333333,
              "#9c179e"
             ],
             [
              0.4444444444444444,
              "#bd3786"
             ],
             [
              0.5555555555555556,
              "#d8576b"
             ],
             [
              0.6666666666666666,
              "#ed7953"
             ],
             [
              0.7777777777777778,
              "#fb9f3a"
             ],
             [
              0.8888888888888888,
              "#fdca26"
             ],
             [
              1,
              "#f0f921"
             ]
            ],
            "type": "heatmap"
           }
          ],
          "heatmapgl": [
           {
            "colorbar": {
             "outlinewidth": 0,
             "ticks": ""
            },
            "colorscale": [
             [
              0,
              "#0d0887"
             ],
             [
              0.1111111111111111,
              "#46039f"
             ],
             [
              0.2222222222222222,
              "#7201a8"
             ],
             [
              0.3333333333333333,
              "#9c179e"
             ],
             [
              0.4444444444444444,
              "#bd3786"
             ],
             [
              0.5555555555555556,
              "#d8576b"
             ],
             [
              0.6666666666666666,
              "#ed7953"
             ],
             [
              0.7777777777777778,
              "#fb9f3a"
             ],
             [
              0.8888888888888888,
              "#fdca26"
             ],
             [
              1,
              "#f0f921"
             ]
            ],
            "type": "heatmapgl"
           }
          ],
          "histogram": [
           {
            "marker": {
             "colorbar": {
              "outlinewidth": 0,
              "ticks": ""
             }
            },
            "type": "histogram"
           }
          ],
          "histogram2d": [
           {
            "colorbar": {
             "outlinewidth": 0,
             "ticks": ""
            },
            "colorscale": [
             [
              0,
              "#0d0887"
             ],
             [
              0.1111111111111111,
              "#46039f"
             ],
             [
              0.2222222222222222,
              "#7201a8"
             ],
             [
              0.3333333333333333,
              "#9c179e"
             ],
             [
              0.4444444444444444,
              "#bd3786"
             ],
             [
              0.5555555555555556,
              "#d8576b"
             ],
             [
              0.6666666666666666,
              "#ed7953"
             ],
             [
              0.7777777777777778,
              "#fb9f3a"
             ],
             [
              0.8888888888888888,
              "#fdca26"
             ],
             [
              1,
              "#f0f921"
             ]
            ],
            "type": "histogram2d"
           }
          ],
          "histogram2dcontour": [
           {
            "colorbar": {
             "outlinewidth": 0,
             "ticks": ""
            },
            "colorscale": [
             [
              0,
              "#0d0887"
             ],
             [
              0.1111111111111111,
              "#46039f"
             ],
             [
              0.2222222222222222,
              "#7201a8"
             ],
             [
              0.3333333333333333,
              "#9c179e"
             ],
             [
              0.4444444444444444,
              "#bd3786"
             ],
             [
              0.5555555555555556,
              "#d8576b"
             ],
             [
              0.6666666666666666,
              "#ed7953"
             ],
             [
              0.7777777777777778,
              "#fb9f3a"
             ],
             [
              0.8888888888888888,
              "#fdca26"
             ],
             [
              1,
              "#f0f921"
             ]
            ],
            "type": "histogram2dcontour"
           }
          ],
          "mesh3d": [
           {
            "colorbar": {
             "outlinewidth": 0,
             "ticks": ""
            },
            "type": "mesh3d"
           }
          ],
          "parcoords": [
           {
            "line": {
             "colorbar": {
              "outlinewidth": 0,
              "ticks": ""
             }
            },
            "type": "parcoords"
           }
          ],
          "pie": [
           {
            "automargin": true,
            "type": "pie"
           }
          ],
          "scatter": [
           {
            "marker": {
             "colorbar": {
              "outlinewidth": 0,
              "ticks": ""
             }
            },
            "type": "scatter"
           }
          ],
          "scatter3d": [
           {
            "line": {
             "colorbar": {
              "outlinewidth": 0,
              "ticks": ""
             }
            },
            "marker": {
             "colorbar": {
              "outlinewidth": 0,
              "ticks": ""
             }
            },
            "type": "scatter3d"
           }
          ],
          "scattercarpet": [
           {
            "marker": {
             "colorbar": {
              "outlinewidth": 0,
              "ticks": ""
             }
            },
            "type": "scattercarpet"
           }
          ],
          "scattergeo": [
           {
            "marker": {
             "colorbar": {
              "outlinewidth": 0,
              "ticks": ""
             }
            },
            "type": "scattergeo"
           }
          ],
          "scattergl": [
           {
            "marker": {
             "colorbar": {
              "outlinewidth": 0,
              "ticks": ""
             }
            },
            "type": "scattergl"
           }
          ],
          "scattermapbox": [
           {
            "marker": {
             "colorbar": {
              "outlinewidth": 0,
              "ticks": ""
             }
            },
            "type": "scattermapbox"
           }
          ],
          "scatterpolar": [
           {
            "marker": {
             "colorbar": {
              "outlinewidth": 0,
              "ticks": ""
             }
            },
            "type": "scatterpolar"
           }
          ],
          "scatterpolargl": [
           {
            "marker": {
             "colorbar": {
              "outlinewidth": 0,
              "ticks": ""
             }
            },
            "type": "scatterpolargl"
           }
          ],
          "scatterternary": [
           {
            "marker": {
             "colorbar": {
              "outlinewidth": 0,
              "ticks": ""
             }
            },
            "type": "scatterternary"
           }
          ],
          "surface": [
           {
            "colorbar": {
             "outlinewidth": 0,
             "ticks": ""
            },
            "colorscale": [
             [
              0,
              "#0d0887"
             ],
             [
              0.1111111111111111,
              "#46039f"
             ],
             [
              0.2222222222222222,
              "#7201a8"
             ],
             [
              0.3333333333333333,
              "#9c179e"
             ],
             [
              0.4444444444444444,
              "#bd3786"
             ],
             [
              0.5555555555555556,
              "#d8576b"
             ],
             [
              0.6666666666666666,
              "#ed7953"
             ],
             [
              0.7777777777777778,
              "#fb9f3a"
             ],
             [
              0.8888888888888888,
              "#fdca26"
             ],
             [
              1,
              "#f0f921"
             ]
            ],
            "type": "surface"
           }
          ],
          "table": [
           {
            "cells": {
             "fill": {
              "color": "#EBF0F8"
             },
             "line": {
              "color": "white"
             }
            },
            "header": {
             "fill": {
              "color": "#C8D4E3"
             },
             "line": {
              "color": "white"
             }
            },
            "type": "table"
           }
          ]
         },
         "layout": {
          "annotationdefaults": {
           "arrowcolor": "#2a3f5f",
           "arrowhead": 0,
           "arrowwidth": 1
          },
          "autotypenumbers": "strict",
          "coloraxis": {
           "colorbar": {
            "outlinewidth": 0,
            "ticks": ""
           }
          },
          "colorscale": {
           "diverging": [
            [
             0,
             "#8e0152"
            ],
            [
             0.1,
             "#c51b7d"
            ],
            [
             0.2,
             "#de77ae"
            ],
            [
             0.3,
             "#f1b6da"
            ],
            [
             0.4,
             "#fde0ef"
            ],
            [
             0.5,
             "#f7f7f7"
            ],
            [
             0.6,
             "#e6f5d0"
            ],
            [
             0.7,
             "#b8e186"
            ],
            [
             0.8,
             "#7fbc41"
            ],
            [
             0.9,
             "#4d9221"
            ],
            [
             1,
             "#276419"
            ]
           ],
           "sequential": [
            [
             0,
             "#0d0887"
            ],
            [
             0.1111111111111111,
             "#46039f"
            ],
            [
             0.2222222222222222,
             "#7201a8"
            ],
            [
             0.3333333333333333,
             "#9c179e"
            ],
            [
             0.4444444444444444,
             "#bd3786"
            ],
            [
             0.5555555555555556,
             "#d8576b"
            ],
            [
             0.6666666666666666,
             "#ed7953"
            ],
            [
             0.7777777777777778,
             "#fb9f3a"
            ],
            [
             0.8888888888888888,
             "#fdca26"
            ],
            [
             1,
             "#f0f921"
            ]
           ],
           "sequentialminus": [
            [
             0,
             "#0d0887"
            ],
            [
             0.1111111111111111,
             "#46039f"
            ],
            [
             0.2222222222222222,
             "#7201a8"
            ],
            [
             0.3333333333333333,
             "#9c179e"
            ],
            [
             0.4444444444444444,
             "#bd3786"
            ],
            [
             0.5555555555555556,
             "#d8576b"
            ],
            [
             0.6666666666666666,
             "#ed7953"
            ],
            [
             0.7777777777777778,
             "#fb9f3a"
            ],
            [
             0.8888888888888888,
             "#fdca26"
            ],
            [
             1,
             "#f0f921"
            ]
           ]
          },
          "colorway": [
           "#636efa",
           "#EF553B",
           "#00cc96",
           "#ab63fa",
           "#FFA15A",
           "#19d3f3",
           "#FF6692",
           "#B6E880",
           "#FF97FF",
           "#FECB52"
          ],
          "font": {
           "color": "#2a3f5f"
          },
          "geo": {
           "bgcolor": "white",
           "lakecolor": "white",
           "landcolor": "#E5ECF6",
           "showlakes": true,
           "showland": true,
           "subunitcolor": "white"
          },
          "hoverlabel": {
           "align": "left"
          },
          "hovermode": "closest",
          "mapbox": {
           "style": "light"
          },
          "paper_bgcolor": "white",
          "plot_bgcolor": "#E5ECF6",
          "polar": {
           "angularaxis": {
            "gridcolor": "white",
            "linecolor": "white",
            "ticks": ""
           },
           "bgcolor": "#E5ECF6",
           "radialaxis": {
            "gridcolor": "white",
            "linecolor": "white",
            "ticks": ""
           }
          },
          "scene": {
           "xaxis": {
            "backgroundcolor": "#E5ECF6",
            "gridcolor": "white",
            "gridwidth": 2,
            "linecolor": "white",
            "showbackground": true,
            "ticks": "",
            "zerolinecolor": "white"
           },
           "yaxis": {
            "backgroundcolor": "#E5ECF6",
            "gridcolor": "white",
            "gridwidth": 2,
            "linecolor": "white",
            "showbackground": true,
            "ticks": "",
            "zerolinecolor": "white"
           },
           "zaxis": {
            "backgroundcolor": "#E5ECF6",
            "gridcolor": "white",
            "gridwidth": 2,
            "linecolor": "white",
            "showbackground": true,
            "ticks": "",
            "zerolinecolor": "white"
           }
          },
          "shapedefaults": {
           "line": {
            "color": "#2a3f5f"
           }
          },
          "ternary": {
           "aaxis": {
            "gridcolor": "white",
            "linecolor": "white",
            "ticks": ""
           },
           "baxis": {
            "gridcolor": "white",
            "linecolor": "white",
            "ticks": ""
           },
           "bgcolor": "#E5ECF6",
           "caxis": {
            "gridcolor": "white",
            "linecolor": "white",
            "ticks": ""
           }
          },
          "title": {
           "x": 0.05
          },
          "xaxis": {
           "automargin": true,
           "gridcolor": "white",
           "linecolor": "white",
           "ticks": "",
           "title": {
            "standoff": 15
           },
           "zerolinecolor": "white",
           "zerolinewidth": 2
          },
          "yaxis": {
           "automargin": true,
           "gridcolor": "white",
           "linecolor": "white",
           "ticks": "",
           "title": {
            "standoff": 15
           },
           "zerolinecolor": "white",
           "zerolinewidth": 2
          }
         }
        },
        "title": {
         "text": "Distribution of Top 10 Products"
        },
        "width": 900,
        "xaxis": {
         "anchor": "y",
         "domain": [
          0,
          1
         ],
         "title": {
          "text": "Product ID"
         }
        },
        "yaxis": {
         "anchor": "x",
         "domain": [
          0,
          1
         ],
         "title": {
          "text": "Review Counts"
         }
        }
       }
      },
      "text/html": [
       "<div>                            <div id=\"8e433058-0b1a-4b69-b315-cca1b5bcd721\" class=\"plotly-graph-div\" style=\"height:650px; width:900px;\"></div>            <script type=\"text/javascript\">                require([\"plotly\"], function(Plotly) {                    window.PLOTLYENV=window.PLOTLYENV || {};                                    if (document.getElementById(\"8e433058-0b1a-4b69-b315-cca1b5bcd721\")) {                    Plotly.newPlot(                        \"8e433058-0b1a-4b69-b315-cca1b5bcd721\",                        [{\"name\": \"Top 10 Product Review Counts\", \"text\": [909.0, 623.0, 565.0, 541.0, 491.0, 484.0, 483.0, 479.0, 464.0, 452.0], \"textposition\": \"outside\", \"type\": \"bar\", \"x\": [\"B007JFMH8M\", \"B003B3OOPA\", \"B001EO5Q64\", \"B000NMJWZO\", \"B006MONQMC\", \"B002IEVJRY\", \"B002IEZJMA\", \"B001VJ0B0I\", \"B002LANN56\", \"B0041NYV8E\"], \"xaxis\": \"x\", \"y\": [909, 623, 565, 541, 491, 484, 483, 479, 464, 452], \"yaxis\": \"y\"}],                        {\"font\": {\"size\": 15}, \"height\": 650, \"template\": {\"data\": {\"bar\": [{\"error_x\": {\"color\": \"#2a3f5f\"}, \"error_y\": {\"color\": \"#2a3f5f\"}, \"marker\": {\"line\": {\"color\": \"#E5ECF6\", \"width\": 0.5}}, \"type\": \"bar\"}], \"barpolar\": [{\"marker\": {\"line\": {\"color\": \"#E5ECF6\", \"width\": 0.5}}, \"type\": \"barpolar\"}], \"carpet\": [{\"aaxis\": {\"endlinecolor\": \"#2a3f5f\", \"gridcolor\": \"white\", \"linecolor\": \"white\", \"minorgridcolor\": \"white\", \"startlinecolor\": \"#2a3f5f\"}, \"baxis\": {\"endlinecolor\": \"#2a3f5f\", \"gridcolor\": \"white\", \"linecolor\": \"white\", \"minorgridcolor\": \"white\", \"startlinecolor\": \"#2a3f5f\"}, \"type\": \"carpet\"}], \"choropleth\": [{\"colorbar\": {\"outlinewidth\": 0, \"ticks\": \"\"}, \"type\": \"choropleth\"}], \"contour\": [{\"colorbar\": {\"outlinewidth\": 0, \"ticks\": \"\"}, \"colorscale\": [[0.0, \"#0d0887\"], [0.1111111111111111, \"#46039f\"], [0.2222222222222222, \"#7201a8\"], [0.3333333333333333, \"#9c179e\"], [0.4444444444444444, \"#bd3786\"], [0.5555555555555556, \"#d8576b\"], [0.6666666666666666, \"#ed7953\"], [0.7777777777777778, \"#fb9f3a\"], [0.8888888888888888, \"#fdca26\"], [1.0, \"#f0f921\"]], \"type\": \"contour\"}], \"contourcarpet\": [{\"colorbar\": {\"outlinewidth\": 0, \"ticks\": \"\"}, \"type\": \"contourcarpet\"}], \"heatmap\": [{\"colorbar\": {\"outlinewidth\": 0, \"ticks\": \"\"}, \"colorscale\": [[0.0, \"#0d0887\"], [0.1111111111111111, \"#46039f\"], [0.2222222222222222, \"#7201a8\"], [0.3333333333333333, \"#9c179e\"], [0.4444444444444444, \"#bd3786\"], [0.5555555555555556, \"#d8576b\"], [0.6666666666666666, \"#ed7953\"], [0.7777777777777778, \"#fb9f3a\"], [0.8888888888888888, \"#fdca26\"], [1.0, \"#f0f921\"]], \"type\": \"heatmap\"}], \"heatmapgl\": [{\"colorbar\": {\"outlinewidth\": 0, \"ticks\": \"\"}, \"colorscale\": [[0.0, \"#0d0887\"], [0.1111111111111111, \"#46039f\"], [0.2222222222222222, \"#7201a8\"], [0.3333333333333333, \"#9c179e\"], [0.4444444444444444, \"#bd3786\"], [0.5555555555555556, \"#d8576b\"], [0.6666666666666666, \"#ed7953\"], [0.7777777777777778, \"#fb9f3a\"], [0.8888888888888888, \"#fdca26\"], [1.0, \"#f0f921\"]], \"type\": \"heatmapgl\"}], \"histogram\": [{\"marker\": {\"colorbar\": {\"outlinewidth\": 0, \"ticks\": \"\"}}, \"type\": \"histogram\"}], \"histogram2d\": [{\"colorbar\": {\"outlinewidth\": 0, \"ticks\": \"\"}, \"colorscale\": [[0.0, \"#0d0887\"], [0.1111111111111111, \"#46039f\"], [0.2222222222222222, \"#7201a8\"], [0.3333333333333333, \"#9c179e\"], [0.4444444444444444, \"#bd3786\"], [0.5555555555555556, \"#d8576b\"], [0.6666666666666666, \"#ed7953\"], [0.7777777777777778, \"#fb9f3a\"], [0.8888888888888888, \"#fdca26\"], [1.0, \"#f0f921\"]], \"type\": \"histogram2d\"}], \"histogram2dcontour\": [{\"colorbar\": {\"outlinewidth\": 0, \"ticks\": \"\"}, \"colorscale\": [[0.0, \"#0d0887\"], [0.1111111111111111, \"#46039f\"], [0.2222222222222222, \"#7201a8\"], [0.3333333333333333, \"#9c179e\"], [0.4444444444444444, \"#bd3786\"], [0.5555555555555556, \"#d8576b\"], [0.6666666666666666, \"#ed7953\"], [0.7777777777777778, \"#fb9f3a\"], [0.8888888888888888, \"#fdca26\"], [1.0, \"#f0f921\"]], \"type\": \"histogram2dcontour\"}], \"mesh3d\": [{\"colorbar\": {\"outlinewidth\": 0, \"ticks\": \"\"}, \"type\": \"mesh3d\"}], \"parcoords\": [{\"line\": {\"colorbar\": {\"outlinewidth\": 0, \"ticks\": \"\"}}, \"type\": \"parcoords\"}], \"pie\": [{\"automargin\": true, \"type\": \"pie\"}], \"scatter\": [{\"marker\": {\"colorbar\": {\"outlinewidth\": 0, \"ticks\": \"\"}}, \"type\": \"scatter\"}], \"scatter3d\": [{\"line\": {\"colorbar\": {\"outlinewidth\": 0, \"ticks\": \"\"}}, \"marker\": {\"colorbar\": {\"outlinewidth\": 0, \"ticks\": \"\"}}, \"type\": \"scatter3d\"}], \"scattercarpet\": [{\"marker\": {\"colorbar\": {\"outlinewidth\": 0, \"ticks\": \"\"}}, \"type\": \"scattercarpet\"}], \"scattergeo\": [{\"marker\": {\"colorbar\": {\"outlinewidth\": 0, \"ticks\": \"\"}}, \"type\": \"scattergeo\"}], \"scattergl\": [{\"marker\": {\"colorbar\": {\"outlinewidth\": 0, \"ticks\": \"\"}}, \"type\": \"scattergl\"}], \"scattermapbox\": [{\"marker\": {\"colorbar\": {\"outlinewidth\": 0, \"ticks\": \"\"}}, \"type\": \"scattermapbox\"}], \"scatterpolar\": [{\"marker\": {\"colorbar\": {\"outlinewidth\": 0, \"ticks\": \"\"}}, \"type\": \"scatterpolar\"}], \"scatterpolargl\": [{\"marker\": {\"colorbar\": {\"outlinewidth\": 0, \"ticks\": \"\"}}, \"type\": \"scatterpolargl\"}], \"scatterternary\": [{\"marker\": {\"colorbar\": {\"outlinewidth\": 0, \"ticks\": \"\"}}, \"type\": \"scatterternary\"}], \"surface\": [{\"colorbar\": {\"outlinewidth\": 0, \"ticks\": \"\"}, \"colorscale\": [[0.0, \"#0d0887\"], [0.1111111111111111, \"#46039f\"], [0.2222222222222222, \"#7201a8\"], [0.3333333333333333, \"#9c179e\"], [0.4444444444444444, \"#bd3786\"], [0.5555555555555556, \"#d8576b\"], [0.6666666666666666, \"#ed7953\"], [0.7777777777777778, \"#fb9f3a\"], [0.8888888888888888, \"#fdca26\"], [1.0, \"#f0f921\"]], \"type\": \"surface\"}], \"table\": [{\"cells\": {\"fill\": {\"color\": \"#EBF0F8\"}, \"line\": {\"color\": \"white\"}}, \"header\": {\"fill\": {\"color\": \"#C8D4E3\"}, \"line\": {\"color\": \"white\"}}, \"type\": \"table\"}]}, \"layout\": {\"annotationdefaults\": {\"arrowcolor\": \"#2a3f5f\", \"arrowhead\": 0, \"arrowwidth\": 1}, \"autotypenumbers\": \"strict\", \"coloraxis\": {\"colorbar\": {\"outlinewidth\": 0, \"ticks\": \"\"}}, \"colorscale\": {\"diverging\": [[0, \"#8e0152\"], [0.1, \"#c51b7d\"], [0.2, \"#de77ae\"], [0.3, \"#f1b6da\"], [0.4, \"#fde0ef\"], [0.5, \"#f7f7f7\"], [0.6, \"#e6f5d0\"], [0.7, \"#b8e186\"], [0.8, \"#7fbc41\"], [0.9, \"#4d9221\"], [1, \"#276419\"]], \"sequential\": [[0.0, \"#0d0887\"], [0.1111111111111111, \"#46039f\"], [0.2222222222222222, \"#7201a8\"], [0.3333333333333333, \"#9c179e\"], [0.4444444444444444, \"#bd3786\"], [0.5555555555555556, \"#d8576b\"], [0.6666666666666666, \"#ed7953\"], [0.7777777777777778, \"#fb9f3a\"], [0.8888888888888888, \"#fdca26\"], [1.0, \"#f0f921\"]], \"sequentialminus\": [[0.0, \"#0d0887\"], [0.1111111111111111, \"#46039f\"], [0.2222222222222222, \"#7201a8\"], [0.3333333333333333, \"#9c179e\"], [0.4444444444444444, \"#bd3786\"], [0.5555555555555556, \"#d8576b\"], [0.6666666666666666, \"#ed7953\"], [0.7777777777777778, \"#fb9f3a\"], [0.8888888888888888, \"#fdca26\"], [1.0, \"#f0f921\"]]}, \"colorway\": [\"#636efa\", \"#EF553B\", \"#00cc96\", \"#ab63fa\", \"#FFA15A\", \"#19d3f3\", \"#FF6692\", \"#B6E880\", \"#FF97FF\", \"#FECB52\"], \"font\": {\"color\": \"#2a3f5f\"}, \"geo\": {\"bgcolor\": \"white\", \"lakecolor\": \"white\", \"landcolor\": \"#E5ECF6\", \"showlakes\": true, \"showland\": true, \"subunitcolor\": \"white\"}, \"hoverlabel\": {\"align\": \"left\"}, \"hovermode\": \"closest\", \"mapbox\": {\"style\": \"light\"}, \"paper_bgcolor\": \"white\", \"plot_bgcolor\": \"#E5ECF6\", \"polar\": {\"angularaxis\": {\"gridcolor\": \"white\", \"linecolor\": \"white\", \"ticks\": \"\"}, \"bgcolor\": \"#E5ECF6\", \"radialaxis\": {\"gridcolor\": \"white\", \"linecolor\": \"white\", \"ticks\": \"\"}}, \"scene\": {\"xaxis\": {\"backgroundcolor\": \"#E5ECF6\", \"gridcolor\": \"white\", \"gridwidth\": 2, \"linecolor\": \"white\", \"showbackground\": true, \"ticks\": \"\", \"zerolinecolor\": \"white\"}, \"yaxis\": {\"backgroundcolor\": \"#E5ECF6\", \"gridcolor\": \"white\", \"gridwidth\": 2, \"linecolor\": \"white\", \"showbackground\": true, \"ticks\": \"\", \"zerolinecolor\": \"white\"}, \"zaxis\": {\"backgroundcolor\": \"#E5ECF6\", \"gridcolor\": \"white\", \"gridwidth\": 2, \"linecolor\": \"white\", \"showbackground\": true, \"ticks\": \"\", \"zerolinecolor\": \"white\"}}, \"shapedefaults\": {\"line\": {\"color\": \"#2a3f5f\"}}, \"ternary\": {\"aaxis\": {\"gridcolor\": \"white\", \"linecolor\": \"white\", \"ticks\": \"\"}, \"baxis\": {\"gridcolor\": \"white\", \"linecolor\": \"white\", \"ticks\": \"\"}, \"bgcolor\": \"#E5ECF6\", \"caxis\": {\"gridcolor\": \"white\", \"linecolor\": \"white\", \"ticks\": \"\"}}, \"title\": {\"x\": 0.05}, \"xaxis\": {\"automargin\": true, \"gridcolor\": \"white\", \"linecolor\": \"white\", \"ticks\": \"\", \"title\": {\"standoff\": 15}, \"zerolinecolor\": \"white\", \"zerolinewidth\": 2}, \"yaxis\": {\"automargin\": true, \"gridcolor\": \"white\", \"linecolor\": \"white\", \"ticks\": \"\", \"title\": {\"standoff\": 15}, \"zerolinecolor\": \"white\", \"zerolinewidth\": 2}}}, \"title\": {\"text\": \"Distribution of Top 10 Products\"}, \"width\": 900, \"xaxis\": {\"anchor\": \"y\", \"domain\": [0.0, 1.0], \"title\": {\"text\": \"Product ID\"}}, \"yaxis\": {\"anchor\": \"x\", \"domain\": [0.0, 1.0], \"title\": {\"text\": \"Review Counts\"}}},                        {\"responsive\": true}                    ).then(function(){\n",
       "                            \n",
       "var gd = document.getElementById('8e433058-0b1a-4b69-b315-cca1b5bcd721');\n",
       "var x = new MutationObserver(function (mutations, observer) {{\n",
       "        var display = window.getComputedStyle(gd).display;\n",
       "        if (!display || display === 'none') {{\n",
       "            console.log([gd, 'removed!']);\n",
       "            Plotly.purge(gd);\n",
       "            observer.disconnect();\n",
       "        }}\n",
       "}});\n",
       "\n",
       "// Listen for the removal of the full notebook cells\n",
       "var notebookContainer = gd.closest('#notebook-container');\n",
       "if (notebookContainer) {{\n",
       "    x.observe(notebookContainer, {childList: true});\n",
       "}}\n",
       "\n",
       "// Listen for the clearing of the current output cell\n",
       "var outputEl = gd.closest('.output');\n",
       "if (outputEl) {{\n",
       "    x.observe(outputEl, {childList: true});\n",
       "}}\n",
       "\n",
       "                        })                };                });            </script>        </div>"
      ]
     },
     "metadata": {},
     "output_type": "display_data"
    }
   ],
   "source": [
    "fig = make_subplots(rows=1, cols=1)\n",
    "\n",
    "fig.add_trace(go.Bar(y=product['ProductId'],x=product.index,name='Top 10 Product Review Counts',text = product['ProductId']),\n",
    "    row=1, col=1)\n",
    "\n",
    "fig.update_yaxes(title_text=\"Review Counts\")\n",
    "fig.update_xaxes(title_text=\"Product ID\")\n",
    "#fig.update_traces(texttemplate='%{text:.2s}', textposition='outside')\n",
    "fig.update_traces(textposition='outside')\n",
    "fig.update_layout(height=650, width=900, title_text=\"Distribution of Top 10 Products\",font = dict(size = 15))"
   ]
  },
  {
   "cell_type": "code",
   "execution_count": 18,
   "metadata": {
    "id": "9q484kJABfyn"
   },
   "outputs": [
    {
     "data": {
      "text/html": [
       "<div>\n",
       "<style scoped>\n",
       "    .dataframe tbody tr th:only-of-type {\n",
       "        vertical-align: middle;\n",
       "    }\n",
       "\n",
       "    .dataframe tbody tr th {\n",
       "        vertical-align: top;\n",
       "    }\n",
       "\n",
       "    .dataframe thead th {\n",
       "        text-align: right;\n",
       "    }\n",
       "</style>\n",
       "<table border=\"1\" class=\"dataframe\">\n",
       "  <thead>\n",
       "    <tr style=\"text-align: right;\">\n",
       "      <th></th>\n",
       "      <th>date</th>\n",
       "      <th>ProductId</th>\n",
       "      <th>Score</th>\n",
       "      <th>Text</th>\n",
       "      <th>clean_text</th>\n",
       "      <th>Positive Sentiment</th>\n",
       "      <th>Neutral Sentiment</th>\n",
       "      <th>Negative Sentiment</th>\n",
       "      <th>Compound</th>\n",
       "      <th>Polarity</th>\n",
       "    </tr>\n",
       "  </thead>\n",
       "  <tbody>\n",
       "    <tr>\n",
       "      <th>338017</th>\n",
       "      <td>12-07-09</td>\n",
       "      <td>B007JFMH8M</td>\n",
       "      <td>5</td>\n",
       "      <td>I got one package (one cookie) in my Mom VoxBo...</td>\n",
       "      <td>i got one package  one cookie  in my mom voxbo...</td>\n",
       "      <td>0.157</td>\n",
       "      <td>0.843</td>\n",
       "      <td>0.0</td>\n",
       "      <td>0.5994</td>\n",
       "      <td>Positive</td>\n",
       "    </tr>\n",
       "    <tr>\n",
       "      <th>338019</th>\n",
       "      <td>12-07-09</td>\n",
       "      <td>B007JFMH8M</td>\n",
       "      <td>5</td>\n",
       "      <td>This is a very tasty cookie!!!!! I really enjo...</td>\n",
       "      <td>this is a very tasty cookie      i really enjo...</td>\n",
       "      <td>0.401</td>\n",
       "      <td>0.599</td>\n",
       "      <td>0.0</td>\n",
       "      <td>0.8932</td>\n",
       "      <td>Positive</td>\n",
       "    </tr>\n",
       "    <tr>\n",
       "      <th>338023</th>\n",
       "      <td>12-07-09</td>\n",
       "      <td>B007JFMH8M</td>\n",
       "      <td>4</td>\n",
       "      <td>I recieved one as a sample but I will now be b...</td>\n",
       "      <td>i recieved one as a sample but i will now be b...</td>\n",
       "      <td>0.211</td>\n",
       "      <td>0.789</td>\n",
       "      <td>0.0</td>\n",
       "      <td>0.7469</td>\n",
       "      <td>Positive</td>\n",
       "    </tr>\n",
       "    <tr>\n",
       "      <th>338028</th>\n",
       "      <td>12-07-09</td>\n",
       "      <td>B007JFMH8M</td>\n",
       "      <td>5</td>\n",
       "      <td>I rec'd this product from influenster and Quak...</td>\n",
       "      <td>i rec d this product from influenster and quak...</td>\n",
       "      <td>0.142</td>\n",
       "      <td>0.858</td>\n",
       "      <td>0.0</td>\n",
       "      <td>0.8720</td>\n",
       "      <td>Positive</td>\n",
       "    </tr>\n",
       "    <tr>\n",
       "      <th>338029</th>\n",
       "      <td>12-07-09</td>\n",
       "      <td>B007JFMH8M</td>\n",
       "      <td>5</td>\n",
       "      <td>These cookies are so delicious.. I received on...</td>\n",
       "      <td>these cookies are so delicious   i received on...</td>\n",
       "      <td>0.288</td>\n",
       "      <td>0.712</td>\n",
       "      <td>0.0</td>\n",
       "      <td>0.9070</td>\n",
       "      <td>Positive</td>\n",
       "    </tr>\n",
       "  </tbody>\n",
       "</table>\n",
       "</div>"
      ],
      "text/plain": [
       "            date   ProductId  Score  \\\n",
       "338017  12-07-09  B007JFMH8M      5   \n",
       "338019  12-07-09  B007JFMH8M      5   \n",
       "338023  12-07-09  B007JFMH8M      4   \n",
       "338028  12-07-09  B007JFMH8M      5   \n",
       "338029  12-07-09  B007JFMH8M      5   \n",
       "\n",
       "                                                     Text  \\\n",
       "338017  I got one package (one cookie) in my Mom VoxBo...   \n",
       "338019  This is a very tasty cookie!!!!! I really enjo...   \n",
       "338023  I recieved one as a sample but I will now be b...   \n",
       "338028  I rec'd this product from influenster and Quak...   \n",
       "338029  These cookies are so delicious.. I received on...   \n",
       "\n",
       "                                               clean_text  Positive Sentiment  \\\n",
       "338017  i got one package  one cookie  in my mom voxbo...               0.157   \n",
       "338019  this is a very tasty cookie      i really enjo...               0.401   \n",
       "338023  i recieved one as a sample but i will now be b...               0.211   \n",
       "338028  i rec d this product from influenster and quak...               0.142   \n",
       "338029  these cookies are so delicious   i received on...               0.288   \n",
       "\n",
       "        Neutral Sentiment  Negative Sentiment  Compound  Polarity  \n",
       "338017              0.843                 0.0    0.5994  Positive  \n",
       "338019              0.599                 0.0    0.8932  Positive  \n",
       "338023              0.789                 0.0    0.7469  Positive  \n",
       "338028              0.858                 0.0    0.8720  Positive  \n",
       "338029              0.712                 0.0    0.9070  Positive  "
      ]
     },
     "execution_count": 18,
     "metadata": {},
     "output_type": "execute_result"
    }
   ],
   "source": [
    "p1 = df2[df2.ProductId == 'B007JFMH8M']\n",
    "p1.head()"
   ]
  },
  {
   "cell_type": "code",
   "execution_count": 19,
   "metadata": {
    "id": "eQcFeMldBfyn"
   },
   "outputs": [
    {
     "data": {
      "text/plain": [
       "Positive    890\n",
       "Negative     18\n",
       "Neutral       1\n",
       "Name: Polarity, dtype: int64"
      ]
     },
     "execution_count": 19,
     "metadata": {},
     "output_type": "execute_result"
    }
   ],
   "source": [
    "p1.Polarity.value_counts()"
   ]
  },
  {
   "cell_type": "code",
   "execution_count": 57,
   "metadata": {
    "id": "OvA4jmJoBfyn"
   },
   "outputs": [],
   "source": [
    "p1_neg = p1[p1.Polarity == 'Negative']\n",
    "p1_pos = p1[p1.Polarity == 'Positive']"
   ]
  },
  {
   "cell_type": "code",
   "execution_count": 64,
   "metadata": {},
   "outputs": [
    {
     "name": "stdout",
     "output_type": "stream",
     "text": [
      "18\n",
      "890\n"
     ]
    }
   ],
   "source": [
    "print(len(p1_neg))\n",
    "print(len(p1_pos))"
   ]
  },
  {
   "cell_type": "code",
   "execution_count": 88,
   "metadata": {},
   "outputs": [],
   "source": [
    "#data = p1_neg.clean_text\n",
    "#data = p1_pos.clean_text\n",
    "\n",
    "#data = p2_pos.clean_text\n",
    "#data = p2_neg.clean_text\n",
    "\n",
    "#data = p3_pos.clean_text\n",
    "data = p3_neg.clean_text\n"
   ]
  },
  {
   "cell_type": "code",
   "execution_count": 89,
   "metadata": {},
   "outputs": [
    {
     "name": "stdout",
     "output_type": "stream",
     "text": [
      "[[(0, 1), (1, 1), (2, 1), (3, 1), (4, 1)]]\n"
     ]
    }
   ],
   "source": [
    "def sent_to_words(sentences):\n",
    "    for sentence in sentences:\n",
    "        yield(gensim.utils.simple_preprocess(str(sentence), deacc=True))  # deacc=True removes punctuations\n",
    "\n",
    "data_words = list(sent_to_words(data))\n",
    "\n",
    "# Build the bigram and trigram models\n",
    "bigram = gensim.models.Phrases(data_words, min_count=5, threshold=100) # higher threshold fewer phrases.\n",
    "trigram = gensim.models.Phrases(bigram[data_words], threshold=100)  \n",
    "\n",
    "# Faster way to get a sentence clubbed as a trigram/bigram\n",
    "bigram_mod = gensim.models.phrases.Phraser(bigram)\n",
    "trigram_mod = gensim.models.phrases.Phraser(trigram)\n",
    "\n",
    "# Define functions for stopwords, bigrams, trigrams and lemmatization\n",
    "def remove_stopwords(texts):\n",
    "    return [[word for word in simple_preprocess(str(doc)) if word not in stop_words_tm] for doc in texts]\n",
    "\n",
    "def make_bigrams(texts):\n",
    "    return [bigram_mod[doc] for doc in texts]\n",
    "\n",
    "def make_trigrams(texts):\n",
    "    return [trigram_mod[bigram_mod[doc]] for doc in texts]\n",
    "\n",
    "def lemmatization(texts, allowed_postags=['NOUN', 'ADJ', 'VERB', 'ADV']):\n",
    "    \"\"\"https://spacy.io/api/annotation\"\"\"\n",
    "    texts_out = []\n",
    "    for sent in texts:\n",
    "        doc = nlp(\" \".join(sent)) \n",
    "        texts_out.append([token.lemma_ for token in doc if token.pos_ in allowed_postags])\n",
    "    return texts_out\n",
    "\n",
    "# Remove Stop Words\n",
    "data_words_nostops = remove_stopwords(data_words)\n",
    "\n",
    "# Form Bigrams\n",
    "data_words_bigrams = make_bigrams(data_words_nostops)\n",
    "\n",
    "# Initialize spacy 'en' model, keeping only tagger component (for efficiency)\n",
    "# python3 -m spacy download en\n",
    "nlp = spacy.load('en', disable=['parser', 'ner'])\n",
    "\n",
    "# Do lemmatization keeping only noun, adj, vb, adv\n",
    "data_lemmatized = lemmatization(data_words_bigrams, allowed_postags=['NOUN', 'ADJ', 'VERB', 'ADV'])\n",
    "\n",
    "# Create Dictionary\n",
    "#id2word = corpora.Dictionary(data_lemmatized)\n",
    "id2word = corpora.Dictionary(data_lemmatized)\n",
    "id2word.filter_extremes(no_below=2, no_above=1.0) #filtering out words with very low frequencies from the dictionary\n",
    "\n",
    "# Create Corpus\n",
    "texts = data_lemmatized\n",
    "\n",
    "# Term Document Frequency\n",
    "corpus = [id2word.doc2bow(text) for text in texts]\n",
    "\n",
    "# View\n",
    "print(corpus[:1])"
   ]
  },
  {
   "cell_type": "code",
   "execution_count": 90,
   "metadata": {},
   "outputs": [],
   "source": [
    "# Build LDA model\n",
    "lda_model = gensim.models.ldamodel.LdaModel(corpus=corpus,\n",
    "                                           id2word=id2word,\n",
    "                                           num_topics=1, \n",
    "                                           random_state=100,\n",
    "                                           update_every=1,\n",
    "                                           chunksize=1,\n",
    "                                           passes=10,\n",
    "                                           alpha='auto',\n",
    "                                           per_word_topics=True)"
   ]
  },
  {
   "cell_type": "code",
   "execution_count": 91,
   "metadata": {},
   "outputs": [
    {
     "name": "stdout",
     "output_type": "stream",
     "text": [
      "\n",
      "Perplexity:  -4.5416128664305715\n",
      "\n",
      "Coherence Score:  0.2632513955968667\n"
     ]
    }
   ],
   "source": [
    "# Compute Perplexity\n",
    "print('\\nPerplexity: ', lda_model.log_perplexity(corpus))  # a measure of how good the model is. lower the better.\n",
    "\n",
    "# Compute Coherence Score\n",
    "coherence_model_lda = CoherenceModel(model=lda_model, texts=data_lemmatized, dictionary=id2word, coherence='c_v')\n",
    "coherence_lda = coherence_model_lda.get_coherence()\n",
    "print('\\nCoherence Score: ', coherence_lda)"
   ]
  },
  {
   "cell_type": "code",
   "execution_count": 56,
   "metadata": {},
   "outputs": [
    {
     "name": "stdout",
     "output_type": "stream",
     "text": [
      "[(0,\n",
      "  '0.101*\"cookie\" + 0.059*\"maybe\" + 0.037*\"soft\" + 0.033*\"would\" + '\n",
      "  '0.029*\"good\" + 0.029*\"dry\" + 0.029*\"give\" + 0.028*\"try\" + 0.028*\"get\" + '\n",
      "  '0.028*\"taste\"')]\n"
     ]
    }
   ],
   "source": [
    "#negative\n",
    "pprint(lda_model.print_topics())"
   ]
  },
  {
   "cell_type": "code",
   "execution_count": 62,
   "metadata": {},
   "outputs": [
    {
     "name": "stdout",
     "output_type": "stream",
     "text": [
      "[(0,\n",
      "  '0.076*\"good\" + 0.045*\"make\" + 0.037*\"love\" + 0.035*\"snack\" + 0.034*\"great\" '\n",
      "  '+ 0.027*\"really\" + 0.027*\"go\" + 0.020*\"cookie\" + 0.019*\"kid\" + '\n",
      "  '0.018*\"also\"'),\n",
      " (1,\n",
      "  '0.034*\"would\" + 0.024*\"dry\" + 0.024*\"raisin\" + 0.024*\"calorie\" + '\n",
      "  '0.021*\"baked\" + 0.021*\"ingredient\" + 0.020*\"enough\" + 0.019*\"think\" + '\n",
      "  '0.018*\"give\" + 0.017*\"pretty\"'),\n",
      " (2,\n",
      "  '0.159*\"cookie\" + 0.053*\"soft\" + 0.049*\"oatmeal\" + 0.036*\"taste\" + '\n",
      "  '0.028*\"raisin\" + 0.024*\"eat\" + 0.021*\"try\" + 0.018*\"well\" + 0.017*\"package\" '\n",
      "  '+ 0.016*\"product\"')]\n"
     ]
    }
   ],
   "source": [
    "#positive\n",
    "pprint(lda_model.print_topics())"
   ]
  },
  {
   "cell_type": "code",
   "execution_count": 65,
   "metadata": {},
   "outputs": [],
   "source": [
    "p2 = df2[df2.ProductId == 'B003B3OOPA']\n",
    "p2_neg = p2[p2.Polarity == 'Negative']\n",
    "p2_pos = p2[p2.Polarity == 'Positive']"
   ]
  },
  {
   "cell_type": "code",
   "execution_count": 66,
   "metadata": {},
   "outputs": [
    {
     "name": "stdout",
     "output_type": "stream",
     "text": [
      "33\n",
      "582\n"
     ]
    }
   ],
   "source": [
    "print(len(p2_neg))\n",
    "print(len(p2_pos))"
   ]
  },
  {
   "cell_type": "code",
   "execution_count": 71,
   "metadata": {},
   "outputs": [
    {
     "name": "stdout",
     "output_type": "stream",
     "text": [
      "[(0,\n",
      "  '0.052*\"make\" + 0.030*\"butter\" + 0.027*\"much\" + 0.017*\"healthy\" + '\n",
      "  '0.014*\"container\" + 0.013*\"amount\" + 0.013*\"add\" + 0.012*\"seem\" + '\n",
      "  '0.012*\"small\" + 0.010*\"consume\"'),\n",
      " (1,\n",
      "  '0.065*\"oil\" + 0.054*\"use\" + 0.050*\"coconut\" + 0.036*\"hair\" + '\n",
      "  '0.027*\"product\" + 0.022*\"skin\" + 0.021*\"great\" + 0.019*\"good\" + '\n",
      "  '0.017*\"love\" + 0.013*\"taste\"'),\n",
      " (2,\n",
      "  '0.046*\"fat\" + 0.024*\"energy\" + 0.024*\"take\" + 0.020*\"thing\" + '\n",
      "  '0.016*\"protein\" + 0.015*\"tablespoon\" + 0.015*\"heal\" + 0.013*\"study\" + '\n",
      "  '0.010*\"couple\" + 0.009*\"seed\"')]\n"
     ]
    }
   ],
   "source": [
    "#positive\n",
    "pprint(lda_model.print_topics())"
   ]
  },
  {
   "cell_type": "code",
   "execution_count": 78,
   "metadata": {},
   "outputs": [
    {
     "name": "stdout",
     "output_type": "stream",
     "text": [
      "[(0,\n",
      "  '0.047*\"use\" + 0.044*\"hair\" + 0.043*\"oil\" + 0.040*\"skin\" + 0.026*\"feel\" + '\n",
      "  '0.026*\"coconut\" + 0.023*\"product\" + 0.018*\"smooth\" + 0.014*\"week\" + '\n",
      "  '0.014*\"dry\"')]\n"
     ]
    }
   ],
   "source": [
    "#negative\n",
    "pprint(lda_model.print_topics())"
   ]
  },
  {
   "cell_type": "code",
   "execution_count": 81,
   "metadata": {},
   "outputs": [],
   "source": [
    "p3 = df2[df2.ProductId == 'B001EO5Q64']\n",
    "p3_neg = p3[p3.Polarity == 'Negative']\n",
    "p3_pos = p3[p3.Polarity == 'Positive']"
   ]
  },
  {
   "cell_type": "code",
   "execution_count": 82,
   "metadata": {},
   "outputs": [
    {
     "name": "stdout",
     "output_type": "stream",
     "text": [
      "21\n",
      "540\n"
     ]
    }
   ],
   "source": [
    "print(len(p3_neg))\n",
    "print(len(p3_pos))"
   ]
  },
  {
   "cell_type": "code",
   "execution_count": 87,
   "metadata": {},
   "outputs": [
    {
     "name": "stdout",
     "output_type": "stream",
     "text": [
      "[(0,\n",
      "  '0.069*\"oil\" + 0.064*\"use\" + 0.049*\"coconut\" + 0.028*\"product\" + '\n",
      "  '0.023*\"skin\" + 0.021*\"great\" + 0.021*\"hair\" + 0.018*\"love\" + 0.016*\"taste\" '\n",
      "  '+ 0.013*\"also\"'),\n",
      " (1,\n",
      "  '0.066*\"good\" + 0.028*\"buy\" + 0.023*\"price\" + 0.019*\"look\" + '\n",
      "  '0.017*\"purchase\" + 0.015*\"nutiva\" + 0.014*\"bake\" + 0.013*\"pack\" + '\n",
      "  '0.012*\"organic\" + 0.011*\"plastic\"'),\n",
      " (2,\n",
      "  '0.018*\"problem\" + 0.017*\"read\" + 0.014*\"mouth\" + 0.013*\"see\" + 0.013*\"base\" '\n",
      "  '+ 0.012*\"increase\" + 0.011*\"people\" + 0.011*\"seed\" + 0.009*\"search\" + '\n",
      "  '0.008*\"green\"')]\n"
     ]
    }
   ],
   "source": [
    "#positive\n",
    "pprint(lda_model.print_topics())"
   ]
  },
  {
   "cell_type": "code",
   "execution_count": 92,
   "metadata": {},
   "outputs": [
    {
     "name": "stdout",
     "output_type": "stream",
     "text": [
      "[(0,\n",
      "  '0.070*\"oil\" + 0.045*\"use\" + 0.041*\"extra\" + 0.037*\"product\" + '\n",
      "  '0.031*\"coconut\" + 0.027*\"order\" + 0.026*\"smell\" + 0.019*\"always\" + '\n",
      "  '0.017*\"tub\" + 0.017*\"plastic\"')]\n"
     ]
    }
   ],
   "source": [
    "#negative\n",
    "pprint(lda_model.print_topics())"
   ]
  },
  {
   "cell_type": "code",
   "execution_count": null,
   "metadata": {},
   "outputs": [],
   "source": []
  }
 ],
 "metadata": {
  "colab": {
   "collapsed_sections": [
    "AQJjw6_iBfyl"
   ],
   "name": "food_reviews_Yiwen_Mo.ipynb",
   "provenance": []
  },
  "kernelspec": {
   "display_name": "Python 3",
   "language": "python",
   "name": "python3"
  },
  "language_info": {
   "codemirror_mode": {
    "name": "ipython",
    "version": 3
   },
   "file_extension": ".py",
   "mimetype": "text/x-python",
   "name": "python",
   "nbconvert_exporter": "python",
   "pygments_lexer": "ipython3",
   "version": "3.8.5"
  }
 },
 "nbformat": 4,
 "nbformat_minor": 1
}
